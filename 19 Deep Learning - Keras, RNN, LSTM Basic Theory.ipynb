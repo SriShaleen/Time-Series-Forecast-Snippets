{
 "cells": [
  {
   "cell_type": "markdown",
   "metadata": {},
   "source": [
    "Neural networks in general tend to be black boxes, so its very difficult to interpret them beyond their performance metrics.\n",
    "It wont tell you how many lags it found useful etc.\n",
    "##### ARIMA based models are much easier to undertand and tweak around(and often perform better)! So, use NN as last resorts!"
   ]
  },
  {
   "cell_type": "raw",
   "metadata": {},
   "source": [
    "To create a Neural Network model with Keras, we define the Sequential model object, then add alyers to it.\n",
    "\n",
    "Then, we fit the model to the training data for a chosen number of epochs.\n",
    "An epoch is one full pass through the training data(i.e. via multiple batches)."
   ]
  },
  {
   "cell_type": "code",
   "execution_count": 1,
   "metadata": {},
   "outputs": [
    {
     "name": "stderr",
     "output_type": "stream",
     "text": [
      "Using TensorFlow backend.\n"
     ]
    }
   ],
   "source": [
    "import keras\n",
    "import matplotlib.pyplot as plt\n",
    "import pandas as pd\n",
    "import numpy as np"
   ]
  },
  {
   "cell_type": "markdown",
   "metadata": {},
   "source": [
    "##### We will create a random linear regression line of the form:\n",
    "y = mx + b + noise"
   ]
  },
  {
   "cell_type": "markdown",
   "metadata": {},
   "source": [
    "##### Creating random datapoints:"
   ]
  },
  {
   "cell_type": "code",
   "execution_count": 2,
   "metadata": {},
   "outputs": [],
   "source": [
    "m = 2\n",
    "b = 3\n",
    "x = np.linspace(0,50,100)"
   ]
  },
  {
   "cell_type": "code",
   "execution_count": 3,
   "metadata": {},
   "outputs": [],
   "source": [
    "np.random.seed(101)\n",
    "noise = np.random.normal(loc=0, scale=4, size=len(x))"
   ]
  },
  {
   "cell_type": "code",
   "execution_count": 4,
   "metadata": {},
   "outputs": [
    {
     "data": {
      "text/plain": [
       "array([ 1.08273994e+01,  2.51253084e+00,  3.63187779e+00,  2.01530302e+00,\n",
       "        2.60447179e+00, -1.27727218e+00, -3.39230793e+00,  2.42386140e+00,\n",
       "       -8.07267298e+00,  2.96048823e+00,  2.11525398e+00, -2.35600213e+00,\n",
       "        7.54781238e-01, -3.03548822e+00, -3.73294887e+00,  3.82022604e+00,\n",
       "        7.63177289e-01,  7.91502930e+00,  1.04238691e+01,  2.73403554e+00,\n",
       "        1.21066179e+00,  6.77489170e+00, -6.82434372e+00, -4.63647766e+00,\n",
       "       -5.39362882e-01,  1.56211137e+00,  6.67618544e-01,  7.38007437e-01,\n",
       "        3.23082366e+00,  2.91838701e-01,  2.55514805e+00,  1.31858520e+00,\n",
       "       -1.98841609e+00, -3.01627880e+00, -3.77362561e+00,  1.93900659e+00,\n",
       "       -4.67093266e-01,  7.60701918e+00,  9.52507835e-01,  7.98660914e+00,\n",
       "       -3.97305400e+00,  7.87198020e-01, -4.54657837e+00,  1.46591842e-03,\n",
       "        4.10393661e+00, -6.26391617e-01, -1.26316576e-01,  2.59930333e+00,\n",
       "        8.61938577e+00, -2.44103542e+00, -3.02130136e+00, -1.38567401e+00,\n",
       "        5.88107085e-01, -1.91779216e+00,  2.23507763e+00,  4.09924111e+00,\n",
       "       -3.70349704e+00,  7.45145655e+00, -4.53526865e+00,  2.44191163e+00,\n",
       "        1.54412125e+00,  8.33607412e+00, -1.50607470e+00,  9.21345374e-01,\n",
       "        2.72483717e+00,  4.14050030e+00, -1.24641926e-01,  7.75972924e+00,\n",
       "       -4.02074767e+00, -2.96715882e+00,  7.48498087e-01, -2.93138059e+00,\n",
       "       -5.53168039e+00,  5.92998198e+00,  3.84583262e+00, -8.56484916e+00,\n",
       "        3.97029381e+00,  4.76896255e+00, -4.18711815e+00,  5.17105831e+00,\n",
       "       -5.87005608e+00, -1.97638143e+00, -6.50138939e-01,  1.94323495e+00,\n",
       "        1.56995524e+00,  8.85962740e-01, -3.42078416e+00,  6.16796163e+00,\n",
       "        2.66527728e+00, -2.15293850e+00, -2.27432544e+00,  5.62935299e+00,\n",
       "        2.56722205e+00, -3.62039961e+00, -1.56462651e+00,  4.11317264e+00,\n",
       "       -7.89042041e+00, -3.46754014e+00,  2.88315040e+00, -4.89232815e+00])"
      ]
     },
     "execution_count": 4,
     "metadata": {},
     "output_type": "execute_result"
    }
   ],
   "source": [
    "noise"
   ]
  },
  {
   "cell_type": "code",
   "execution_count": 5,
   "metadata": {},
   "outputs": [
    {
     "data": {
      "text/plain": [
       "array([ 0.        ,  0.50505051,  1.01010101,  1.51515152,  2.02020202,\n",
       "        2.52525253,  3.03030303,  3.53535354,  4.04040404,  4.54545455,\n",
       "        5.05050505,  5.55555556,  6.06060606,  6.56565657,  7.07070707,\n",
       "        7.57575758,  8.08080808,  8.58585859,  9.09090909,  9.5959596 ,\n",
       "       10.1010101 , 10.60606061, 11.11111111, 11.61616162, 12.12121212,\n",
       "       12.62626263, 13.13131313, 13.63636364, 14.14141414, 14.64646465,\n",
       "       15.15151515, 15.65656566, 16.16161616, 16.66666667, 17.17171717,\n",
       "       17.67676768, 18.18181818, 18.68686869, 19.19191919, 19.6969697 ,\n",
       "       20.2020202 , 20.70707071, 21.21212121, 21.71717172, 22.22222222,\n",
       "       22.72727273, 23.23232323, 23.73737374, 24.24242424, 24.74747475,\n",
       "       25.25252525, 25.75757576, 26.26262626, 26.76767677, 27.27272727,\n",
       "       27.77777778, 28.28282828, 28.78787879, 29.29292929, 29.7979798 ,\n",
       "       30.3030303 , 30.80808081, 31.31313131, 31.81818182, 32.32323232,\n",
       "       32.82828283, 33.33333333, 33.83838384, 34.34343434, 34.84848485,\n",
       "       35.35353535, 35.85858586, 36.36363636, 36.86868687, 37.37373737,\n",
       "       37.87878788, 38.38383838, 38.88888889, 39.39393939, 39.8989899 ,\n",
       "       40.4040404 , 40.90909091, 41.41414141, 41.91919192, 42.42424242,\n",
       "       42.92929293, 43.43434343, 43.93939394, 44.44444444, 44.94949495,\n",
       "       45.45454545, 45.95959596, 46.46464646, 46.96969697, 47.47474747,\n",
       "       47.97979798, 48.48484848, 48.98989899, 49.49494949, 50.        ])"
      ]
     },
     "execution_count": 5,
     "metadata": {},
     "output_type": "execute_result"
    }
   ],
   "source": [
    "x"
   ]
  },
  {
   "cell_type": "code",
   "execution_count": 6,
   "metadata": {},
   "outputs": [],
   "source": [
    "y = m*x + b + noise"
   ]
  },
  {
   "cell_type": "code",
   "execution_count": 7,
   "metadata": {},
   "outputs": [
    {
     "data": {
      "text/plain": [
       "array([ 13.82739936,   6.52263185,   8.65207981,   8.04560605,\n",
       "         9.64487583,   6.77323287,   5.66829813,  12.49456847,\n",
       "         3.0081351 ,  15.05139732,  15.21626408,  11.75510898,\n",
       "        15.87599336,  13.09582491,  13.40846528,  21.97174119,\n",
       "        19.92479345,  28.08674647,  31.6056873 ,  24.92595473,\n",
       "        24.412682  ,  30.98701291,  18.3978785 ,  21.59584557,\n",
       "        26.70306136,  29.81463662,  29.93024481,  31.01073471,\n",
       "        34.51365194,  32.58476799,  35.85817836,  35.63171651,\n",
       "        33.33481623,  33.31705453,  33.56980873,  40.29254194,\n",
       "        38.8965431 ,  47.98075655,  42.33634622,  50.38054854,\n",
       "        39.4309864 ,  45.20133943,  40.87766405,  46.43580935,\n",
       "        51.54838105,  47.82815384,  49.33832989,  53.07405081,\n",
       "        60.10423426,  50.05391407,  50.48374915,  53.1294775 ,\n",
       "        56.11335961,  54.61756138,  59.78053217,  62.65479667,\n",
       "        55.86215953,  68.02721413,  57.05058994,  65.03787123,\n",
       "        65.15018185,  72.95223574,  64.12018793,  67.55770901,\n",
       "        70.37130182,  72.79706596,  69.54202474,  78.43649692,\n",
       "        67.66612102,  69.72981088,  74.45556879,  71.78579113,\n",
       "        70.19559233,  82.66735572,  81.59330737,  70.19272659,\n",
       "        83.73797058,  85.54674033,  77.60076064,  87.96903811,\n",
       "        77.93802473,  82.84180038,  85.17814389,  88.78161879,\n",
       "        89.41844009,  89.7445486 ,  86.44790271,  97.04674951,\n",
       "        94.55416617,  90.7460514 ,  91.63476547, 100.54854491,\n",
       "        98.49651498,  93.31899433,  96.38486844, 103.0727686 ,\n",
       "        92.07927656,  97.51225784, 104.87304938,  98.10767185])"
      ]
     },
     "execution_count": 7,
     "metadata": {},
     "output_type": "execute_result"
    }
   ],
   "source": [
    "y"
   ]
  },
  {
   "cell_type": "code",
   "execution_count": 12,
   "metadata": {},
   "outputs": [
    {
     "data": {
      "text/plain": [
       "[<matplotlib.lines.Line2D at 0x1c2df514f48>]"
      ]
     },
     "execution_count": 12,
     "metadata": {},
     "output_type": "execute_result"
    },
    {
     "data": {
      "image/png": "[encoded data removed]",
      "text/plain": [
       "<Figure size 432x288 with 1 Axes>"
      ]
     },
     "metadata": {
      "needs_background": "light"
     },
     "output_type": "display_data"
    }
   ],
   "source": [
    "%matplotlib inline\n",
    "\n",
    "plt.plot(x,y,'*')"
   ]
  },
  {
   "cell_type": "code",
   "execution_count": 14,
   "metadata": {},
   "outputs": [],
   "source": [
    "from keras.models import Sequential\n",
    "from keras.layers import Dense"
   ]
  },
  {
   "cell_type": "code",
   "execution_count": 16,
   "metadata": {},
   "outputs": [],
   "source": [
    "model = Sequential()\n",
    "\n",
    "model.add(Dense(units=4, input_dim=1, activation='relu'))\n",
    "model.add(Dense(units=4, activation='relu'))\n",
    "model.add(Dense(units=1, activation='linear'))\n",
    "model.compile(loss='mse', optimizer='adam')"
   ]
  },
  {
   "cell_type": "code",
   "execution_count": 17,
   "metadata": {},
   "outputs": [
    {
     "name": "stdout",
     "output_type": "stream",
     "text": [
      "Model: \"sequential_2\"\n",
      "_________________________________________________________________\n",
      "Layer (type)                 Output Shape              Param #   \n",
      "=================================================================\n",
      "dense_1 (Dense)              (None, 4)                 8         \n",
      "_________________________________________________________________\n",
      "dense_2 (Dense)              (None, 4)                 20        \n",
      "_________________________________________________________________\n",
      "dense_3 (Dense)              (None, 1)                 5         \n",
      "=================================================================\n",
      "Total params: 33\n",
      "Trainable params: 33\n",
      "Non-trainable params: 0\n",
      "_________________________________________________________________\n"
     ]
    }
   ],
   "source": [
    "model.summary()"
   ]
  },
  {
   "cell_type": "code",
   "execution_count": 18,
   "metadata": {},
   "outputs": [
    {
     "name": "stdout",
     "output_type": "stream",
     "text": [
      "Epoch 1/200\n",
      "100/100 [==============================] - 0s 719us/step - loss: 3628.1379\n",
      "Epoch 2/200\n",
      "100/100 [==============================] - 0s 44us/step - loss: 3620.4816\n",
      "Epoch 3/200\n",
      "100/100 [==============================] - 0s 79us/step - loss: 3612.4745\n",
      "Epoch 4/200\n",
      "100/100 [==============================] - 0s 70us/step - loss: 3604.3129\n",
      "Epoch 5/200\n",
      "100/100 [==============================] - 0s 40us/step - loss: 3596.3840\n",
      "Epoch 6/200\n",
      "100/100 [==============================] - 0s 70us/step - loss: 3587.4665\n",
      "Epoch 7/200\n",
      "100/100 [==============================] - 0s 40us/step - loss: 3578.6162\n",
      "Epoch 8/200\n",
      "100/100 [==============================] - 0s 60us/step - loss: 3569.8098\n",
      "Epoch 9/200\n",
      "100/100 [==============================] - 0s 59us/step - loss: 3560.6288\n",
      "Epoch 10/200\n",
      "100/100 [==============================] - 0s 40us/step - loss: 3550.9431\n",
      "Epoch 11/200\n",
      "100/100 [==============================] - 0s 50us/step - loss: 3541.3758\n",
      "Epoch 12/200\n",
      "100/100 [==============================] - 0s 49us/step - loss: 3530.7437\n",
      "Epoch 13/200\n",
      "100/100 [==============================] - 0s 130us/step - loss: 3520.0928\n",
      "Epoch 14/200\n",
      "100/100 [==============================] - 0s 40us/step - loss: 3510.0146\n",
      "Epoch 15/200\n",
      "100/100 [==============================] - 0s 89us/step - loss: 3499.4843\n",
      "Epoch 16/200\n",
      "100/100 [==============================] - 0s 50us/step - loss: 3487.9461\n",
      "Epoch 17/200\n",
      "100/100 [==============================] - 0s 126us/step - loss: 3476.8884\n",
      "Epoch 18/200\n",
      "100/100 [==============================] - 0s 50us/step - loss: 3465.2064\n",
      "Epoch 19/200\n",
      "100/100 [==============================] - 0s 80us/step - loss: 3452.6135\n",
      "Epoch 20/200\n",
      "100/100 [==============================] - 0s 50us/step - loss: 3439.4764\n",
      "Epoch 21/200\n",
      "100/100 [==============================] - 0s 120us/step - loss: 3427.1474\n",
      "Epoch 22/200\n",
      "100/100 [==============================] - 0s 40us/step - loss: 3412.7458\n",
      "Epoch 23/200\n",
      "100/100 [==============================] - 0s 80us/step - loss: 3398.3673\n",
      "Epoch 24/200\n",
      "100/100 [==============================] - 0s 80us/step - loss: 3384.2541\n",
      "Epoch 25/200\n",
      "100/100 [==============================] - 0s 90us/step - loss: 3369.3101\n",
      "Epoch 26/200\n",
      "100/100 [==============================] - 0s 40us/step - loss: 3354.1303\n",
      "Epoch 27/200\n",
      "100/100 [==============================] - 0s 70us/step - loss: 3338.7457\n",
      "Epoch 28/200\n",
      "100/100 [==============================] - 0s 50us/step - loss: 3322.6037\n",
      "Epoch 29/200\n",
      "100/100 [==============================] - 0s 60us/step - loss: 3305.7090\n",
      "Epoch 30/200\n",
      "100/100 [==============================] - 0s 40us/step - loss: 3289.8081\n",
      "Epoch 31/200\n",
      "100/100 [==============================] - 0s 50us/step - loss: 3272.7952\n",
      "Epoch 32/200\n",
      "100/100 [==============================] - 0s 90us/step - loss: 3255.3549\n",
      "Epoch 33/200\n",
      "100/100 [==============================] - 0s 40us/step - loss: 3237.1898\n",
      "Epoch 34/200\n",
      "100/100 [==============================] - 0s 90us/step - loss: 3220.0814\n",
      "Epoch 35/200\n",
      "100/100 [==============================] - 0s 50us/step - loss: 3201.7319\n",
      "Epoch 36/200\n",
      "100/100 [==============================] - 0s 100us/step - loss: 3183.0043\n",
      "Epoch 37/200\n",
      "100/100 [==============================] - 0s 40us/step - loss: 3164.5879\n",
      "Epoch 38/200\n",
      "100/100 [==============================] - 0s 90us/step - loss: 3144.9317\n",
      "Epoch 39/200\n",
      "100/100 [==============================] - 0s 40us/step - loss: 3125.9252\n",
      "Epoch 40/200\n",
      "100/100 [==============================] - 0s 50us/step - loss: 3106.7396\n",
      "Epoch 41/200\n",
      "100/100 [==============================] - 0s 70us/step - loss: 3085.6317\n",
      "Epoch 42/200\n",
      "100/100 [==============================] - 0s 30us/step - loss: 3063.7847\n",
      "Epoch 43/200\n",
      "100/100 [==============================] - 0s 80us/step - loss: 3043.0558\n",
      "Epoch 44/200\n",
      "100/100 [==============================] - 0s 40us/step - loss: 3020.6543\n",
      "Epoch 45/200\n",
      "100/100 [==============================] - 0s 80us/step - loss: 2999.1270\n",
      "Epoch 46/200\n",
      "100/100 [==============================] - 0s 30us/step - loss: 2974.8880\n",
      "Epoch 47/200\n",
      "100/100 [==============================] - 0s 40us/step - loss: 2953.2380\n",
      "Epoch 48/200\n",
      "100/100 [==============================] - 0s 50us/step - loss: 2930.1611\n",
      "Epoch 49/200\n",
      "100/100 [==============================] - 0s 50us/step - loss: 2907.3136\n",
      "Epoch 50/200\n",
      "100/100 [==============================] - 0s 70us/step - loss: 2883.3474\n",
      "Epoch 51/200\n",
      "100/100 [==============================] - 0s 44us/step - loss: 2859.7545\n",
      "Epoch 52/200\n",
      "100/100 [==============================] - 0s 40us/step - loss: 2834.4837\n",
      "Epoch 53/200\n",
      "100/100 [==============================] - 0s 80us/step - loss: 2809.2603\n",
      "Epoch 54/200\n",
      "100/100 [==============================] - 0s 60us/step - loss: 2784.0938\n",
      "Epoch 55/200\n",
      "100/100 [==============================] - 0s 50us/step - loss: 2757.0136\n",
      "Epoch 56/200\n",
      "100/100 [==============================] - 0s 40us/step - loss: 2730.8302\n",
      "Epoch 57/200\n",
      "100/100 [==============================] - 0s 30us/step - loss: 2705.1359\n",
      "Epoch 58/200\n",
      "100/100 [==============================] - 0s 90us/step - loss: 2676.3983\n",
      "Epoch 59/200\n",
      "100/100 [==============================] - 0s 70us/step - loss: 2649.8831\n",
      "Epoch 60/200\n",
      "100/100 [==============================] - 0s 50us/step - loss: 2620.6434\n",
      "Epoch 61/200\n",
      "100/100 [==============================] - 0s 30us/step - loss: 2592.4182\n",
      "Epoch 62/200\n",
      "100/100 [==============================] - 0s 40us/step - loss: 2564.0043\n",
      "Epoch 63/200\n",
      "100/100 [==============================] - 0s 120us/step - loss: 2536.9320\n",
      "Epoch 64/200\n",
      "100/100 [==============================] - 0s 50us/step - loss: 2507.8470\n",
      "Epoch 65/200\n",
      "100/100 [==============================] - 0s 60us/step - loss: 2479.0700\n",
      "Epoch 66/200\n",
      "100/100 [==============================] - 0s 40us/step - loss: 2449.3723\n",
      "Epoch 67/200\n",
      "100/100 [==============================] - 0s 90us/step - loss: 2420.1566\n",
      "Epoch 68/200\n",
      "100/100 [==============================] - 0s 40us/step - loss: 2390.9641\n",
      "Epoch 69/200\n",
      "100/100 [==============================] - 0s 40us/step - loss: 2360.9762\n",
      "Epoch 70/200\n",
      "100/100 [==============================] - 0s 50us/step - loss: 2330.9001\n",
      "Epoch 71/200\n",
      "100/100 [==============================] - 0s 60us/step - loss: 2300.4506\n",
      "Epoch 72/200\n",
      "100/100 [==============================] - 0s 40us/step - loss: 2268.3147\n",
      "Epoch 73/200\n",
      "100/100 [==============================] - 0s 50us/step - loss: 2234.9926\n",
      "Epoch 74/200\n",
      "100/100 [==============================] - 0s 60us/step - loss: 2201.7767\n",
      "Epoch 75/200\n",
      "100/100 [==============================] - 0s 50us/step - loss: 2168.0521\n",
      "Epoch 76/200\n",
      "100/100 [==============================] - 0s 40us/step - loss: 2134.5560\n",
      "Epoch 77/200\n",
      "100/100 [==============================] - 0s 40us/step - loss: 2104.0022\n",
      "Epoch 78/200\n",
      "100/100 [==============================] - 0s 90us/step - loss: 2070.3331\n",
      "Epoch 79/200\n",
      "100/100 [==============================] - 0s 40us/step - loss: 2038.6863\n",
      "Epoch 80/200\n",
      "100/100 [==============================] - 0s 40us/step - loss: 2005.5733\n",
      "Epoch 81/200\n",
      "100/100 [==============================] - 0s 40us/step - loss: 1973.8222\n",
      "Epoch 82/200\n",
      "100/100 [==============================] - 0s 110us/step - loss: 1938.8597\n",
      "Epoch 83/200\n",
      "100/100 [==============================] - 0s 40us/step - loss: 1904.2435\n",
      "Epoch 84/200\n",
      "100/100 [==============================] - 0s 60us/step - loss: 1868.4374\n",
      "Epoch 85/200\n",
      "100/100 [==============================] - 0s 40us/step - loss: 1834.2530\n",
      "Epoch 86/200\n",
      "100/100 [==============================] - 0s 60us/step - loss: 1799.3821\n",
      "Epoch 87/200\n",
      "100/100 [==============================] - 0s 80us/step - loss: 1764.6844\n",
      "Epoch 88/200\n",
      "100/100 [==============================] - 0s 30us/step - loss: 1732.0714\n",
      "Epoch 89/200\n",
      "100/100 [==============================] - 0s 63us/step - loss: 1697.2758\n",
      "Epoch 90/200\n",
      "100/100 [==============================] - 0s 50us/step - loss: 1664.7293\n",
      "Epoch 91/200\n",
      "100/100 [==============================] - 0s 40us/step - loss: 1630.1821\n",
      "Epoch 92/200\n",
      "100/100 [==============================] - 0s 90us/step - loss: 1595.8451\n",
      "Epoch 93/200\n",
      "100/100 [==============================] - 0s 60us/step - loss: 1561.5942\n",
      "Epoch 94/200\n",
      "100/100 [==============================] - 0s 80us/step - loss: 1527.9326\n",
      "Epoch 95/200\n"
     ]
    },
    {
     "name": "stdout",
     "output_type": "stream",
     "text": [
      "100/100 [==============================] - 0s 40us/step - loss: 1495.8278\n",
      "Epoch 96/200\n",
      "100/100 [==============================] - 0s 40us/step - loss: 1461.4247\n",
      "Epoch 97/200\n",
      "100/100 [==============================] - 0s 90us/step - loss: 1429.4215\n",
      "Epoch 98/200\n",
      "100/100 [==============================] - 0s 50us/step - loss: 1397.6720\n",
      "Epoch 99/200\n",
      "100/100 [==============================] - 0s 40us/step - loss: 1365.2893\n",
      "Epoch 100/200\n",
      "100/100 [==============================] - 0s 40us/step - loss: 1331.9834\n",
      "Epoch 101/200\n",
      "100/100 [==============================] - 0s 130us/step - loss: 1299.2845\n",
      "Epoch 102/200\n",
      "100/100 [==============================] - 0s 40us/step - loss: 1268.4357\n",
      "Epoch 103/200\n",
      "100/100 [==============================] - 0s 70us/step - loss: 1235.9775\n",
      "Epoch 104/200\n",
      "100/100 [==============================] - 0s 40us/step - loss: 1204.9693\n",
      "Epoch 105/200\n",
      "100/100 [==============================] - 0s 40us/step - loss: 1172.8444\n",
      "Epoch 106/200\n",
      "100/100 [==============================] - 0s 90us/step - loss: 1142.5024\n",
      "Epoch 107/200\n",
      "100/100 [==============================] - 0s 80us/step - loss: 1113.3091\n",
      "Epoch 108/200\n",
      "100/100 [==============================] - 0s 60us/step - loss: 1083.7294\n",
      "Epoch 109/200\n",
      "100/100 [==============================] - 0s 40us/step - loss: 1056.6379\n",
      "Epoch 110/200\n",
      "100/100 [==============================] - 0s 120us/step - loss: 1027.7771\n",
      "Epoch 111/200\n",
      "100/100 [==============================] - 0s 40us/step - loss: 998.9022\n",
      "Epoch 112/200\n",
      "100/100 [==============================] - 0s 50us/step - loss: 971.3980\n",
      "Epoch 113/200\n",
      "100/100 [==============================] - 0s 60us/step - loss: 942.1735\n",
      "Epoch 114/200\n",
      "100/100 [==============================] - 0s 50us/step - loss: 914.1447\n",
      "Epoch 115/200\n",
      "100/100 [==============================] - 0s 70us/step - loss: 886.7325\n",
      "Epoch 116/200\n",
      "100/100 [==============================] - 0s 50us/step - loss: 857.8391\n",
      "Epoch 117/200\n",
      "100/100 [==============================] - 0s 70us/step - loss: 830.0843\n",
      "Epoch 118/200\n",
      "100/100 [==============================] - 0s 40us/step - loss: 803.0142\n",
      "Epoch 119/200\n",
      "100/100 [==============================] - 0s 60us/step - loss: 776.8963\n",
      "Epoch 120/200\n",
      "100/100 [==============================] - 0s 90us/step - loss: 749.1658\n",
      "Epoch 121/200\n",
      "100/100 [==============================] - 0s 40us/step - loss: 721.5126\n",
      "Epoch 122/200\n",
      "100/100 [==============================] - ETA: 0s - loss: 571.575 - 0s 70us/step - loss: 693.7997\n",
      "Epoch 123/200\n",
      "100/100 [==============================] - 0s 40us/step - loss: 668.1475\n",
      "Epoch 124/200\n",
      "100/100 [==============================] - 0s 40us/step - loss: 642.5959\n",
      "Epoch 125/200\n",
      "100/100 [==============================] - 0s 90us/step - loss: 617.8680\n",
      "Epoch 126/200\n",
      "100/100 [==============================] - 0s 40us/step - loss: 592.4256\n",
      "Epoch 127/200\n",
      "100/100 [==============================] - 0s 70us/step - loss: 567.9902\n",
      "Epoch 128/200\n",
      "100/100 [==============================] - 0s 40us/step - loss: 545.0006\n",
      "Epoch 129/200\n",
      "100/100 [==============================] - 0s 40us/step - loss: 522.8085\n",
      "Epoch 130/200\n",
      "100/100 [==============================] - 0s 50us/step - loss: 501.4205\n",
      "Epoch 131/200\n",
      "100/100 [==============================] - 0s 40us/step - loss: 481.5044\n",
      "Epoch 132/200\n",
      "100/100 [==============================] - 0s 44us/step - loss: 462.4428\n",
      "Epoch 133/200\n",
      "100/100 [==============================] - 0s 60us/step - loss: 442.9362\n",
      "Epoch 134/200\n",
      "100/100 [==============================] - 0s 70us/step - loss: 424.2439\n",
      "Epoch 135/200\n",
      "100/100 [==============================] - 0s 60us/step - loss: 405.6279\n",
      "Epoch 136/200\n",
      "100/100 [==============================] - 0s 90us/step - loss: 388.0118\n",
      "Epoch 137/200\n",
      "100/100 [==============================] - 0s 50us/step - loss: 370.9939\n",
      "Epoch 138/200\n",
      "100/100 [==============================] - 0s 120us/step - loss: 353.4820\n",
      "Epoch 139/200\n",
      "100/100 [==============================] - 0s 70us/step - loss: 337.4211\n",
      "Epoch 140/200\n",
      "100/100 [==============================] - 0s 50us/step - loss: 322.4398\n",
      "Epoch 141/200\n",
      "100/100 [==============================] - 0s 70us/step - loss: 308.8633\n",
      "Epoch 142/200\n",
      "100/100 [==============================] - 0s 50us/step - loss: 295.5034\n",
      "Epoch 143/200\n",
      "100/100 [==============================] - 0s 70us/step - loss: 282.9262\n",
      "Epoch 144/200\n",
      "100/100 [==============================] - 0s 50us/step - loss: 270.2070\n",
      "Epoch 145/200\n",
      "100/100 [==============================] - 0s 140us/step - loss: 259.0039\n",
      "Epoch 146/200\n",
      "100/100 [==============================] - 0s 60us/step - loss: 247.2193\n",
      "Epoch 147/200\n",
      "100/100 [==============================] - 0s 50us/step - loss: 235.1319\n",
      "Epoch 148/200\n",
      "100/100 [==============================] - 0s 80us/step - loss: 223.3622\n",
      "Epoch 149/200\n",
      "100/100 [==============================] - 0s 120us/step - loss: 212.4610\n",
      "Epoch 150/200\n",
      "100/100 [==============================] - 0s 70us/step - loss: 201.6151\n",
      "Epoch 151/200\n",
      "100/100 [==============================] - 0s 80us/step - loss: 191.0384\n",
      "Epoch 152/200\n",
      "100/100 [==============================] - 0s 110us/step - loss: 180.9258\n",
      "Epoch 153/200\n",
      "100/100 [==============================] - 0s 70us/step - loss: 171.9335\n",
      "Epoch 154/200\n",
      "100/100 [==============================] - 0s 70us/step - loss: 163.8054\n",
      "Epoch 155/200\n",
      "100/100 [==============================] - 0s 90us/step - loss: 155.6879\n",
      "Epoch 156/200\n",
      "100/100 [==============================] - 0s 70us/step - loss: 148.1624\n",
      "Epoch 157/200\n",
      "100/100 [==============================] - 0s 60us/step - loss: 140.7809\n",
      "Epoch 158/200\n",
      "100/100 [==============================] - 0s 90us/step - loss: 134.2014\n",
      "Epoch 159/200\n",
      "100/100 [==============================] - 0s 120us/step - loss: 127.7592\n",
      "Epoch 160/200\n",
      "100/100 [==============================] - 0s 67us/step - loss: 121.4896\n",
      "Epoch 161/200\n",
      "100/100 [==============================] - 0s 60us/step - loss: 115.0111\n",
      "Epoch 162/200\n",
      "100/100 [==============================] - 0s 50us/step - loss: 108.9971\n",
      "Epoch 163/200\n",
      "100/100 [==============================] - 0s 70us/step - loss: 103.3180\n",
      "Epoch 164/200\n",
      "100/100 [==============================] - 0s 40us/step - loss: 97.7128\n",
      "Epoch 165/200\n",
      "100/100 [==============================] - 0s 60us/step - loss: 92.4196\n",
      "Epoch 166/200\n",
      "100/100 [==============================] - 0s 40us/step - loss: 87.8073\n",
      "Epoch 167/200\n",
      "100/100 [==============================] - 0s 40us/step - loss: 83.0933\n",
      "Epoch 168/200\n",
      "100/100 [==============================] - 0s 100us/step - loss: 78.7071\n",
      "Epoch 169/200\n",
      "100/100 [==============================] - 0s 50us/step - loss: 74.4578\n",
      "Epoch 170/200\n",
      "100/100 [==============================] - 0s 70us/step - loss: 70.4478\n",
      "Epoch 171/200\n",
      "100/100 [==============================] - 0s 30us/step - loss: 66.6992\n",
      "Epoch 172/200\n",
      "100/100 [==============================] - 0s 50us/step - loss: 63.3081\n",
      "Epoch 173/200\n",
      "100/100 [==============================] - ETA: 0s - loss: 69.53 - 0s 110us/step - loss: 59.8132\n",
      "Epoch 174/200\n",
      "100/100 [==============================] - 0s 50us/step - loss: 56.7457\n",
      "Epoch 175/200\n",
      "100/100 [==============================] - 0s 36us/step - loss: 53.7347\n",
      "Epoch 176/200\n",
      "100/100 [==============================] - 0s 40us/step - loss: 50.9388\n",
      "Epoch 177/200\n",
      "100/100 [==============================] - 0s 110us/step - loss: 48.3026\n",
      "Epoch 178/200\n",
      "100/100 [==============================] - 0s 40us/step - loss: 46.0533\n",
      "Epoch 179/200\n",
      "100/100 [==============================] - 0s 70us/step - loss: 43.8753\n",
      "Epoch 180/200\n",
      "100/100 [==============================] - 0s 40us/step - loss: 42.0095\n",
      "Epoch 181/200\n",
      "100/100 [==============================] - 0s 50us/step - loss: 40.0967\n",
      "Epoch 182/200\n",
      "100/100 [==============================] - 0s 90us/step - loss: 38.3500\n",
      "Epoch 183/200\n",
      "100/100 [==============================] - 0s 40us/step - loss: 36.7371\n",
      "Epoch 184/200\n",
      "100/100 [==============================] - 0s 50us/step - loss: 35.2583\n",
      "Epoch 185/200\n",
      "100/100 [==============================] - 0s 50us/step - loss: 33.8358\n",
      "Epoch 186/200\n",
      "100/100 [==============================] - 0s 40us/step - loss: 32.6142\n",
      "Epoch 187/200\n",
      "100/100 [==============================] - 0s 90us/step - loss: 31.4958\n",
      "Epoch 188/200\n"
     ]
    },
    {
     "name": "stdout",
     "output_type": "stream",
     "text": [
      "100/100 [==============================] - 0s 40us/step - loss: 30.4689\n",
      "Epoch 189/200\n",
      "100/100 [==============================] - 0s 70us/step - loss: 29.5177\n",
      "Epoch 190/200\n",
      "100/100 [==============================] - 0s 50us/step - loss: 28.5883\n",
      "Epoch 191/200\n",
      "100/100 [==============================] - 0s 40us/step - loss: 27.7519\n",
      "Epoch 192/200\n",
      "100/100 [==============================] - 0s 110us/step - loss: 26.9592\n",
      "Epoch 193/200\n",
      "100/100 [==============================] - 0s 40us/step - loss: 26.1476\n",
      "Epoch 194/200\n",
      "100/100 [==============================] - 0s 80us/step - loss: 25.4074\n",
      "Epoch 195/200\n",
      "100/100 [==============================] - 0s 30us/step - loss: 24.7287\n",
      "Epoch 196/200\n",
      "100/100 [==============================] - 0s 40us/step - loss: 24.1346\n",
      "Epoch 197/200\n",
      "100/100 [==============================] - 0s 110us/step - loss: 23.5966\n",
      "Epoch 198/200\n",
      "100/100 [==============================] - 0s 40us/step - loss: 23.0942\n",
      "Epoch 199/200\n",
      "100/100 [==============================] - 0s 47us/step - loss: 22.6870\n",
      "Epoch 200/200\n",
      "100/100 [==============================] - 0s 50us/step - loss: 22.3175\n"
     ]
    },
    {
     "data": {
      "text/plain": [
       "<keras.callbacks.callbacks.History at 0x1c2e1fbe788>"
      ]
     },
     "execution_count": 18,
     "metadata": {},
     "output_type": "execute_result"
    }
   ],
   "source": [
    "model.fit(x, y, epochs=200)"
   ]
  },
  {
   "cell_type": "code",
   "execution_count": 22,
   "metadata": {},
   "outputs": [
    {
     "data": {
      "text/plain": [
       "[3628.13794921875,\n",
       " 3620.4816015625,\n",
       " 3612.474462890625,\n",
       " 3604.31287109375,\n",
       " 3596.383955078125,\n",
       " 3587.46646484375,\n",
       " 3578.61615234375,\n",
       " 3569.8098046875,\n",
       " 3560.628828125,\n",
       " 3550.94314453125,\n",
       " 3541.37580078125,\n",
       " 3530.743720703125,\n",
       " 3520.092763671875,\n",
       " 3510.0146484375,\n",
       " 3499.48431640625,\n",
       " 3487.946083984375,\n",
       " 3476.8884375,\n",
       " 3465.2064453125,\n",
       " 3452.6134765625,\n",
       " 3439.47638671875,\n",
       " 3427.147421875,\n",
       " 3412.745810546875,\n",
       " 3398.36732421875,\n",
       " 3384.25408203125,\n",
       " 3369.31013671875,\n",
       " 3354.13029296875,\n",
       " 3338.745732421875,\n",
       " 3322.603671875,\n",
       " 3305.708984375,\n",
       " 3289.80810546875,\n",
       " 3272.795234375,\n",
       " 3255.354912109375,\n",
       " 3237.189765625,\n",
       " 3220.081357421875,\n",
       " 3201.731904296875,\n",
       " 3183.004345703125,\n",
       " 3164.5879296875,\n",
       " 3144.93171875,\n",
       " 3125.9251953125,\n",
       " 3106.739599609375,\n",
       " 3085.63173828125,\n",
       " 3063.7847265625,\n",
       " 3043.05576171875,\n",
       " 3020.65427734375,\n",
       " 2999.1269921875,\n",
       " 2974.8880078125,\n",
       " 2953.2380419921874,\n",
       " 2930.161123046875,\n",
       " 2907.31359375,\n",
       " 2883.34736328125,\n",
       " 2859.75451171875,\n",
       " 2834.4837109375,\n",
       " 2809.26025390625,\n",
       " 2784.093837890625,\n",
       " 2757.013642578125,\n",
       " 2730.83017578125,\n",
       " 2705.135859375,\n",
       " 2676.39830078125,\n",
       " 2649.88310546875,\n",
       " 2620.6433740234374,\n",
       " 2592.4181591796873,\n",
       " 2564.00431640625,\n",
       " 2536.93203125,\n",
       " 2507.846953125,\n",
       " 2479.070048828125,\n",
       " 2449.372333984375,\n",
       " 2420.156611328125,\n",
       " 2390.9641455078126,\n",
       " 2360.9762255859373,\n",
       " 2330.900078125,\n",
       " 2300.4505859375,\n",
       " 2268.31470703125,\n",
       " 2234.99255859375,\n",
       " 2201.776728515625,\n",
       " 2168.052072753906,\n",
       " 2134.55599609375,\n",
       " 2104.0021826171874,\n",
       " 2070.3330859375,\n",
       " 2038.68634765625,\n",
       " 2005.5733203125,\n",
       " 1973.822158203125,\n",
       " 1938.859697265625,\n",
       " 1904.24349609375,\n",
       " 1868.437421875,\n",
       " 1834.253017578125,\n",
       " 1799.3820703125,\n",
       " 1764.6844189453125,\n",
       " 1732.07140625,\n",
       " 1697.2757861328125,\n",
       " 1664.7292919921874,\n",
       " 1630.182119140625,\n",
       " 1595.845087890625,\n",
       " 1561.59421875,\n",
       " 1527.932626953125,\n",
       " 1495.8278125,\n",
       " 1461.42474609375,\n",
       " 1429.421455078125,\n",
       " 1397.671962890625,\n",
       " 1365.2893359375,\n",
       " 1331.98341796875,\n",
       " 1299.2844873046874,\n",
       " 1268.43572265625,\n",
       " 1235.9775244140626,\n",
       " 1204.969306640625,\n",
       " 1172.8444177246095,\n",
       " 1142.5024487304688,\n",
       " 1113.3090795898438,\n",
       " 1083.729375,\n",
       " 1056.637919921875,\n",
       " 1027.7770556640626,\n",
       " 998.902216796875,\n",
       " 971.3980053710937,\n",
       " 942.1735302734374,\n",
       " 914.1446728515625,\n",
       " 886.7324609375,\n",
       " 857.8391284179687,\n",
       " 830.0842919921874,\n",
       " 803.0141943359375,\n",
       " 776.896298828125,\n",
       " 749.165771484375,\n",
       " 721.5126171875,\n",
       " 693.7996899414062,\n",
       " 668.1475439453125,\n",
       " 642.5958959960938,\n",
       " 617.868046875,\n",
       " 592.4256396484375,\n",
       " 567.9902404785156,\n",
       " 545.0006396484375,\n",
       " 522.808466796875,\n",
       " 501.42046447753904,\n",
       " 481.50437255859373,\n",
       " 462.44275390625,\n",
       " 442.936181640625,\n",
       " 424.24388305664064,\n",
       " 405.6278649902344,\n",
       " 388.011806640625,\n",
       " 370.99391845703127,\n",
       " 353.482001953125,\n",
       " 337.4211376953125,\n",
       " 322.4398382568359,\n",
       " 308.86327697753904,\n",
       " 295.5034020996094,\n",
       " 282.92622955322264,\n",
       " 270.20703857421876,\n",
       " 259.0039379882812,\n",
       " 247.21927734375,\n",
       " 235.13190551757813,\n",
       " 223.36221618652343,\n",
       " 212.46097290039063,\n",
       " 201.61514221191408,\n",
       " 191.038427734375,\n",
       " 180.9258139038086,\n",
       " 171.93348358154296,\n",
       " 163.8054443359375,\n",
       " 155.68786804199217,\n",
       " 148.16238006591797,\n",
       " 140.78089126586914,\n",
       " 134.2014176940918,\n",
       " 127.75920959472656,\n",
       " 121.48964233398438,\n",
       " 115.0111083984375,\n",
       " 108.99713745117188,\n",
       " 103.31801177978515,\n",
       " 97.71279342651367,\n",
       " 92.41959167480469,\n",
       " 87.80731994628906,\n",
       " 83.09333557128906,\n",
       " 78.70710388183593,\n",
       " 74.45779663085938,\n",
       " 70.44783081054688,\n",
       " 66.69922149658203,\n",
       " 63.30810592651367,\n",
       " 59.81316436767578,\n",
       " 56.74573852539063,\n",
       " 53.73472732543945,\n",
       " 50.938753051757814,\n",
       " 48.302567901611326,\n",
       " 46.053339080810545,\n",
       " 43.87531387329101,\n",
       " 42.00952133178711,\n",
       " 40.096732482910156,\n",
       " 38.35001518249512,\n",
       " 36.73713684082031,\n",
       " 35.258284912109374,\n",
       " 33.835787048339846,\n",
       " 32.6142155456543,\n",
       " 31.49576354980469,\n",
       " 30.468913116455077,\n",
       " 29.517666473388672,\n",
       " 28.588309783935546,\n",
       " 27.75192169189453,\n",
       " 26.95915731191635,\n",
       " 26.147613220214843,\n",
       " 25.4073811340332,\n",
       " 24.72868682861328,\n",
       " 24.134599685668945,\n",
       " 23.596563110351564,\n",
       " 23.094249267578125,\n",
       " 22.687023162841797,\n",
       " 22.317539978027344]"
      ]
     },
     "execution_count": 22,
     "metadata": {},
     "output_type": "execute_result"
    }
   ],
   "source": [
    "model.history.history['loss']"
   ]
  },
  {
   "cell_type": "code",
   "execution_count": 31,
   "metadata": {},
   "outputs": [
    {
     "data": {
      "image/png": "[encoded data removed]",
      "text/plain": [
       "<Figure size 432x288 with 1 Axes>"
      ]
     },
     "metadata": {
      "needs_background": "light"
     },
     "output_type": "display_data"
    }
   ],
   "source": [
    "loss = model.history.history['loss']\n",
    "epochs = range(len(loss))\n",
    "\n",
    "ax = plt.plot(epochs, loss)"
   ]
  },
  {
   "cell_type": "markdown",
   "metadata": {},
   "source": [
    "#### Thing to note in NN is:\n",
    "The fitted model remains in memory and if we fit the model again, then it will start to fit the model from the place where it lefyt off last time."
   ]
  },
  {
   "cell_type": "code",
   "execution_count": 32,
   "metadata": {},
   "outputs": [
    {
     "name": "stdout",
     "output_type": "stream",
     "text": [
      "Epoch 1/20\n",
      "100/100 [==============================] - 0s 100us/step - loss: 21.9118\n",
      "Epoch 2/20\n",
      "100/100 [==============================] - 0s 50us/step - loss: 21.5430\n",
      "Epoch 3/20\n",
      "100/100 [==============================] - 0s 60us/step - loss: 21.2179\n",
      "Epoch 4/20\n",
      "100/100 [==============================] - 0s 50us/step - loss: 20.8899\n",
      "Epoch 5/20\n",
      "100/100 [==============================] - 0s 100us/step - loss: 20.6647\n",
      "Epoch 6/20\n",
      "100/100 [==============================] - 0s 50us/step - loss: 20.4228\n",
      "Epoch 7/20\n",
      "100/100 [==============================] - 0s 45us/step - loss: 20.2382\n",
      "Epoch 8/20\n",
      "100/100 [==============================] - 0s 50us/step - loss: 20.0663\n",
      "Epoch 9/20\n",
      "100/100 [==============================] - 0s 40us/step - loss: 19.9162\n",
      "Epoch 10/20\n",
      "100/100 [==============================] - 0s 110us/step - loss: 19.7569\n",
      "Epoch 11/20\n",
      "100/100 [==============================] - 0s 94us/step - loss: 19.6131\n",
      "Epoch 12/20\n",
      "100/100 [==============================] - 0s 40us/step - loss: 19.5005\n",
      "Epoch 13/20\n",
      "100/100 [==============================] - 0s 40us/step - loss: 19.3979\n",
      "Epoch 14/20\n",
      "100/100 [==============================] - 0s 100us/step - loss: 19.2738\n",
      "Epoch 15/20\n",
      "100/100 [==============================] - 0s 50us/step - loss: 19.1538\n",
      "Epoch 16/20\n",
      "100/100 [==============================] - 0s 50us/step - loss: 19.0610\n",
      "Epoch 17/20\n",
      "100/100 [==============================] - 0s 40us/step - loss: 18.9726\n",
      "Epoch 18/20\n",
      "100/100 [==============================] - 0s 50us/step - loss: 18.8669\n",
      "Epoch 19/20\n",
      "100/100 [==============================] - 0s 100us/step - loss: 18.8158\n",
      "Epoch 20/20\n",
      "100/100 [==============================] - 0s 40us/step - loss: 18.7143\n"
     ]
    },
    {
     "data": {
      "text/plain": [
       "<keras.callbacks.callbacks.History at 0x1c2e18ee5c8>"
      ]
     },
     "execution_count": 32,
     "metadata": {},
     "output_type": "execute_result"
    }
   ],
   "source": [
    "model.fit(x,y,epochs=20)"
   ]
  },
  {
   "cell_type": "code",
   "execution_count": 33,
   "metadata": {},
   "outputs": [],
   "source": [
    "x_for_predictions=np.linspace(0,50,100)\n",
    "\n",
    "y_pred = model.predict(x_for_predictions)"
   ]
  },
  {
   "cell_type": "code",
   "execution_count": 35,
   "metadata": {},
   "outputs": [
    {
     "data": {
      "text/plain": [
       "[<matplotlib.lines.Line2D at 0x1c2e2d51188>]"
      ]
     },
     "execution_count": 35,
     "metadata": {},
     "output_type": "execute_result"
    },
    {
     "data": {
      "image/png": "[encoded data removed]",
      "text/plain": [
       "<Figure size 432x288 with 1 Axes>"
      ]
     },
     "metadata": {
      "needs_background": "light"
     },
     "output_type": "display_data"
    }
   ],
   "source": [
    "plt.plot(x,y,'*')\n",
    "plt.plot(x_for_predictions, y_pred,'r')"
   ]
  },
  {
   "cell_type": "code",
   "execution_count": 36,
   "metadata": {},
   "outputs": [],
   "source": [
    "from sklearn.metrics import mean_squared_error"
   ]
  },
  {
   "cell_type": "code",
   "execution_count": 37,
   "metadata": {},
   "outputs": [],
   "source": [
    "mse = mean_squared_error(y,y_pred)"
   ]
  },
  {
   "cell_type": "code",
   "execution_count": 38,
   "metadata": {},
   "outputs": [
    {
     "data": {
      "text/plain": [
       "18.69494048540887"
      ]
     },
     "execution_count": 38,
     "metadata": {},
     "output_type": "execute_result"
    }
   ],
   "source": [
    "mse"
   ]
  },
  {
   "cell_type": "markdown",
   "metadata": {},
   "source": [
    "-------------------------"
   ]
  },
  {
   "cell_type": "markdown",
   "metadata": {},
   "source": [
    "### Recurring Neural Networks:"
   ]
  },
  {
   "cell_type": "raw",
   "metadata": {},
   "source": [
    "RNNs are specifically designed to work with sequence based data.\n",
    "Examples:\n",
    "    - Time Series Data (like Sales)\n",
    "    - Sentences (sequence of words - NLP)\n",
    "    - Audio (Sequence of sound)\n",
    "    - Car Trajectory (Sequence of instructions - L,R,F,B) etc. "
   ]
  },
  {
   "cell_type": "markdown",
   "metadata": {},
   "source": [
    "##### Normal Neuron:"
   ]
  },
  {
   "cell_type": "raw",
   "metadata": {},
   "source": [
    "Input -> [Aggregation of Input|Activation Function] -> Output"
   ]
  },
  {
   "cell_type": "markdown",
   "metadata": {},
   "source": [
    "##### Recurrent Neuron:"
   ]
  },
  {
   "cell_type": "markdown",
   "metadata": {},
   "source": [
    "Recurrent Neurons sends the output back to itself.\n",
    "The output goes back to the input of the same neuron!\n",
    "So if we unroll it wrt time:"
   ]
  },
  {
   "cell_type": "raw",
   "metadata": {},
   "source": [
    "Input(t-1) -> [Aggregation of Input|Activation Function] -> Output(t-1) {This output(t-1) acts as self input for Input(t)}"
   ]
  },
  {
   "cell_type": "markdown",
   "metadata": {},
   "source": [
    "##### Its important to note that the neurons are actually receiving inputs from both the previous timesteps as well as inputs from the current timesteps!\n",
    "\n",
    "Cells that are a function of inputs from previous time steps are a.k.a. Memory cells"
   ]
  },
  {
   "cell_type": "raw",
   "metadata": {},
   "source": [
    "Common Issue with RNN is (especially if you are training the network on a really large sequence then) after a while the network will begin to \"forget\" the first inputs, as information is lost at each step going through the RNN."
   ]
  },
  {
   "cell_type": "markdown",
   "metadata": {},
   "source": [
    "##### So, we need some sort of long-term memory for our networks!\n",
    "##### The LSTM(Long Short-Term Memory) cells was created to help address these RNN issues. LSTMs maintains the cell state along with output of a recurrent neuron cell h(t-1)(which is fed as input) and the actual input at time t."
   ]
  },
  {
   "cell_type": "markdown",
   "metadata": {},
   "source": [
    "##### GRU : Gated Recurrent Unit"
   ]
  },
  {
   "cell_type": "raw",
   "metadata": {},
   "source": [
    "It is the variation of the LSTM. It simplifies the things by combining the forget and input gate into a single update gate.\n",
    "It also merges the cell state and the hidden state."
   ]
  },
  {
   "cell_type": "markdown",
   "metadata": {},
   "source": [
    "##### DGRU: Depth Gated recurrent unit Neural networks"
   ]
  },
  {
   "cell_type": "markdown",
   "metadata": {},
   "source": [
    "##### LSTM cell with 'Peepholes':"
   ]
  },
  {
   "cell_type": "raw",
   "metadata": {},
   "source": [
    "It adds peepholes to all the gates, thus making it able to see the previous cell state."
   ]
  },
  {
   "cell_type": "raw",
   "metadata": {},
   "source": [
    "Keras has a API that makes LSTM and RNN easy to work with.!\n",
    "Typically, by research, for text generation LSTMs work best.!"
   ]
  }
 ],
 "metadata": {
  "kernelspec": {
   "display_name": "Python 3",
   "language": "python",
   "name": "python3"
  },
  "language_info": {
   "codemirror_mode": {
    "name": "ipython",
    "version": 3
   },
   "file_extension": ".py",
   "mimetype": "text/x-python",
   "name": "python",
   "nbconvert_exporter": "python",
   "pygments_lexer": "ipython3",
   "version": "3.7.4"
  }
 },
 "nbformat": 4,
 "nbformat_minor": 2
}
