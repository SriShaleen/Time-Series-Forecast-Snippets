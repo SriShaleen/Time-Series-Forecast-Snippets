{
 "cells": [
  {
   "cell_type": "raw",
   "metadata": {},
   "source": [
    "We know, there are different forecasting models like ARMA, ARIMA, Seasonal ARIMA etc.\n",
    "Each model address a different type of time series depended on its underlying attributes."
   ]
  },
  {
   "cell_type": "markdown",
   "metadata": {},
   "source": [
    "### In order to select appropriate model we should know something about the data we are dealing with!"
   ]
  },
  {
   "cell_type": "raw",
   "metadata": {},
   "source": [
    "Statsmodels provides variety of built-in tests to explore the underlying attributes of a time series data.\n",
    "\n",
    "We will now learn how to determine if a time series is stationary, if its independent, and if two series demonstrate casuality."
   ]
  },
  {
   "cell_type": "markdown",
   "metadata": {},
   "source": [
    "--------------------------"
   ]
  },
  {
   "cell_type": "markdown",
   "metadata": {},
   "source": [
    "### Test for Stationarity:"
   ]
  },
  {
   "cell_type": "raw",
   "metadata": {},
   "source": [
    "To determine whether the series is stationary, we can use augmented Dickey-Fuller Test.\n",
    "This augmented Dickey-Fuller performs a test in the form of classic null hypothesis and returns p-value which gives quantitative indication!"
   ]
  },
  {
   "cell_type": "markdown",
   "metadata": {},
   "source": [
    "#### Dickey Fuller Test"
   ]
  },
  {
   "cell_type": "raw",
   "metadata": {},
   "source": [
    "Null Hypothesis: The time series dataset is non-stationary.\n",
    "\n",
    "After the test,\n",
    "If p-value < 0.05, we reject the null hypothesis and say that dataset is stationary.\n",
    "If p-value > 0.05, we fail to reject the null hypothesis."
   ]
  },
  {
   "cell_type": "markdown",
   "metadata": {},
   "source": [
    "#### Granger Causality Tests:"
   ]
  },
  {
   "cell_type": "raw",
   "metadata": {},
   "source": [
    "The Granger causality test is a hypothesis test to determine if one time series is useful in forecasting another.\n",
    "It involves observing changes in one series correlated to changes in another after a consistent amount of time means one time series has causality or causing changes in another time series.\n",
    "Also keep domain knowledge in mind while justifying causality."
   ]
  },
  {
   "cell_type": "markdown",
   "metadata": {},
   "source": [
    "#### Evaluating Forecasts via Statistics"
   ]
  },
  {
   "cell_type": "raw",
   "metadata": {},
   "source": [
    "We are already familiar with MAE, MSE, RMSE.\n",
    "\n",
    "Lets now check upon AIC and BIC"
   ]
  },
  {
   "cell_type": "markdown",
   "metadata": {},
   "source": [
    "##### AIC:"
   ]
  },
  {
   "cell_type": "raw",
   "metadata": {},
   "source": [
    "AIC : Akaike Information Criterion\n",
    "AIC is very useful metric as it evaluates/compares a collection of models(with different parameter values) and estimates the quality of each model relative to the others.\n",
    "Moreover, Penalities are charged for the number of parameters used, in an effort to curb overfitting!"
   ]
  },
  {
   "cell_type": "markdown",
   "metadata": {},
   "source": [
    "##### BIC:"
   ]
  },
  {
   "cell_type": "raw",
   "metadata": {},
   "source": [
    "BIC : Bayesian Information Criterion.\n",
    "Similar functionality to AIC, its just that the maths behind the model comparison utilizes a Bayesian approach."
   ]
  },
  {
   "cell_type": "markdown",
   "metadata": {},
   "source": [
    "### Lets check out their implementations now:"
   ]
  },
  {
   "cell_type": "code",
   "execution_count": 1,
   "metadata": {},
   "outputs": [],
   "source": [
    "import pandas as pd\n",
    "import numpy as np\n",
    "%matplotlib inline\n",
    "\n",
    "import warnings\n",
    "warnings.filterwarnings(\"ignore\")"
   ]
  },
  {
   "cell_type": "code",
   "execution_count": 2,
   "metadata": {},
   "outputs": [],
   "source": [
    "df1 = pd.read_csv('C:\\\\Users\\\\shaleens\\\\Desktop\\\\Projects\\\\TimeSeriesUdacity\\\\TS Udemy Vids\\\\Time Series 2\\\\Airlines.csv', index_col=0, parse_dates=True)\n",
    "df1.index.freq = 'MS'"
   ]
  },
  {
   "cell_type": "code",
   "execution_count": 3,
   "metadata": {},
   "outputs": [
    {
     "data": {
      "text/plain": [
       "DatetimeIndex(['1949-01-01', '1949-02-01', '1949-03-01', '1949-04-01',\n",
       "               '1949-05-01', '1949-06-01', '1949-07-01', '1949-08-01',\n",
       "               '1949-09-01', '1949-10-01',\n",
       "               ...\n",
       "               '1960-03-01', '1960-04-01', '1960-05-01', '1960-06-01',\n",
       "               '1960-07-01', '1960-08-01', '1960-09-01', '1960-10-01',\n",
       "               '1960-11-01', '1960-12-01'],\n",
       "              dtype='datetime64[ns]', name='Month', length=144, freq='MS')"
      ]
     },
     "execution_count": 3,
     "metadata": {},
     "output_type": "execute_result"
    }
   ],
   "source": [
    "df1.index"
   ]
  },
  {
   "cell_type": "code",
   "execution_count": 4,
   "metadata": {},
   "outputs": [],
   "source": [
    "df2 = pd.read_csv('C:\\\\Users\\\\shaleens\\\\Desktop\\\\Projects\\\\TimeSeriesUdacity\\\\TS Udemy Vids\\\\Time Series 2\\\\DailyFemaleBirths.csv', index_col=0, parse_dates=True)\n",
    "df2.index.freq = \"D\""
   ]
  },
  {
   "cell_type": "code",
   "execution_count": 5,
   "metadata": {},
   "outputs": [
    {
     "data": {
      "text/plain": [
       "DatetimeIndex(['1959-01-01', '1959-01-02', '1959-01-03', '1959-01-04',\n",
       "               '1959-01-05', '1959-01-06', '1959-01-07', '1959-01-08',\n",
       "               '1959-01-09', '1959-01-10',\n",
       "               ...\n",
       "               '1959-12-22', '1959-12-23', '1959-12-24', '1959-12-25',\n",
       "               '1959-12-26', '1959-12-27', '1959-12-28', '1959-12-29',\n",
       "               '1959-12-30', '1959-12-31'],\n",
       "              dtype='datetime64[ns]', name='Date', length=365, freq='D')"
      ]
     },
     "execution_count": 5,
     "metadata": {},
     "output_type": "execute_result"
    }
   ],
   "source": [
    "df2.index"
   ]
  },
  {
   "cell_type": "code",
   "execution_count": 6,
   "metadata": {},
   "outputs": [
    {
     "data": {
      "text/plain": [
       "<matplotlib.axes._subplots.AxesSubplot at 0x1e120c5c248>"
      ]
     },
     "execution_count": 6,
     "metadata": {},
     "output_type": "execute_result"
    },
    {
     "data": {
      "image/png": "[encoded data removed]",
      "text/plain": [
       "<Figure size 432x288 with 1 Axes>"
      ]
     },
     "metadata": {
      "needs_background": "light"
     },
     "output_type": "display_data"
    }
   ],
   "source": [
    "df1.plot()"
   ]
  },
  {
   "cell_type": "markdown",
   "metadata": {},
   "source": [
    "### Augmented Dickey-Fuller Test:"
   ]
  },
  {
   "cell_type": "markdown",
   "metadata": {},
   "source": [
    "##### Lets try the augmented dickey fuller test to check if this time series is stationary or not"
   ]
  },
  {
   "cell_type": "code",
   "execution_count": 7,
   "metadata": {},
   "outputs": [],
   "source": [
    "# import augmented dickey fuller from statsmodels:\n",
    "\n",
    "from statsmodels.tsa.stattools import adfuller"
   ]
  },
  {
   "cell_type": "code",
   "execution_count": 8,
   "metadata": {},
   "outputs": [
    {
     "data": {
      "text/plain": [
       "(0.8153688792060543,\n",
       " 0.9918802434376411,\n",
       " 13,\n",
       " 130,\n",
       " {'1%': -3.4816817173418295,\n",
       "  '5%': -2.8840418343195267,\n",
       "  '10%': -2.578770059171598},\n",
       " 996.692930839019)"
      ]
     },
     "execution_count": 8,
     "metadata": {},
     "output_type": "execute_result"
    }
   ],
   "source": [
    "adfuller(df1['Passengers'])"
   ]
  },
  {
   "cell_type": "code",
   "execution_count": 10,
   "metadata": {},
   "outputs": [
    {
     "name": "stdout",
     "output_type": "stream",
     "text": [
      "Help on function adfuller in module statsmodels.tsa.stattools:\n",
      "\n",
      "adfuller(x, maxlag=None, regression='c', autolag='AIC', store=False, regresults=False)\n",
      "    Augmented Dickey-Fuller unit root test\n",
      "    \n",
      "    The Augmented Dickey-Fuller test can be used to test for a unit root in a\n",
      "    univariate process in the presence of serial correlation.\n",
      "    \n",
      "    Parameters\n",
      "    ----------\n",
      "    x : array_like, 1d\n",
      "        data series\n",
      "    maxlag : int\n",
      "        Maximum lag which is included in test, default 12*(nobs/100)^{1/4}\n",
      "    regression : {'c','ct','ctt','nc'}\n",
      "        Constant and trend order to include in regression\n",
      "    \n",
      "        * 'c' : constant only (default)\n",
      "        * 'ct' : constant and trend\n",
      "        * 'ctt' : constant, and linear and quadratic trend\n",
      "        * 'nc' : no constant, no trend\n",
      "    autolag : {'AIC', 'BIC', 't-stat', None}\n",
      "        * if None, then maxlag lags are used\n",
      "        * if 'AIC' (default) or 'BIC', then the number of lags is chosen\n",
      "          to minimize the corresponding information criterion\n",
      "        * 't-stat' based choice of maxlag.  Starts with maxlag and drops a\n",
      "          lag until the t-statistic on the last lag length is significant\n",
      "          using a 5%-sized test\n",
      "    store : bool\n",
      "        If True, then a result instance is returned additionally to\n",
      "        the adf statistic. Default is False\n",
      "    regresults : bool, optional\n",
      "        If True, the full regression results are returned. Default is False\n",
      "    \n",
      "    Returns\n",
      "    -------\n",
      "    adf : float\n",
      "        Test statistic\n",
      "    pvalue : float\n",
      "        MacKinnon's approximate p-value based on MacKinnon (1994, 2010)\n",
      "    usedlag : int\n",
      "        Number of lags used\n",
      "    nobs : int\n",
      "        Number of observations used for the ADF regression and calculation of\n",
      "        the critical values\n",
      "    critical values : dict\n",
      "        Critical values for the test statistic at the 1 %, 5 %, and 10 %\n",
      "        levels. Based on MacKinnon (2010)\n",
      "    icbest : float\n",
      "        The maximized information criterion if autolag is not None.\n",
      "    resstore : ResultStore, optional\n",
      "        A dummy class with results attached as attributes\n",
      "    \n",
      "    Notes\n",
      "    -----\n",
      "    The null hypothesis of the Augmented Dickey-Fuller is that there is a unit\n",
      "    root, with the alternative that there is no unit root. If the pvalue is\n",
      "    above a critical size, then we cannot reject that there is a unit root.\n",
      "    \n",
      "    The p-values are obtained through regression surface approximation from\n",
      "    MacKinnon 1994, but using the updated 2010 tables. If the p-value is close\n",
      "    to significant, then the critical values should be used to judge whether\n",
      "    to reject the null.\n",
      "    \n",
      "    The autolag option and maxlag for it are described in Greene.\n",
      "    \n",
      "    Examples\n",
      "    --------\n",
      "    See example notebook\n",
      "    \n",
      "    References\n",
      "    ----------\n",
      "    .. [*] W. Green.  \"Econometric Analysis,\" 5th ed., Pearson, 2003.\n",
      "    \n",
      "    .. [*] Hamilton, J.D.  \"Time Series Analysis\".  Princeton, 1994.\n",
      "    \n",
      "    .. [*] MacKinnon, J.G. 1994.  \"Approximate asymptotic distribution functions for\n",
      "        unit-root and cointegration tests.  `Journal of Business and Economic\n",
      "        Statistics` 12, 167-76.\n",
      "    \n",
      "    .. [*] MacKinnon, J.G. 2010. \"Critical Values for Cointegration Tests.\"  Queen's\n",
      "        University, Dept of Economics, Working Papers.  Available at\n",
      "        http://ideas.repec.org/p/qed/wpaper/1227.html\n",
      "\n"
     ]
    }
   ],
   "source": [
    "help(adfuller)"
   ]
  },
  {
   "cell_type": "code",
   "execution_count": 11,
   "metadata": {},
   "outputs": [],
   "source": [
    "adfuller_result = adfuller(df1['Passengers'])"
   ]
  },
  {
   "cell_type": "code",
   "execution_count": 12,
   "metadata": {},
   "outputs": [],
   "source": [
    "# Formatting the adfuller results to analyze it properly:"
   ]
  },
  {
   "cell_type": "code",
   "execution_count": 16,
   "metadata": {},
   "outputs": [],
   "source": [
    "adf_stats = pd.Series(adfuller_result[0:4], index=['adf test stats','p-value', '# of lags', '# of observations'])"
   ]
  },
  {
   "cell_type": "code",
   "execution_count": 17,
   "metadata": {},
   "outputs": [
    {
     "data": {
      "text/plain": [
       "adf test stats         0.815369\n",
       "p-value                0.991880\n",
       "# of lags             13.000000\n",
       "# of observations    130.000000\n",
       "dtype: float64"
      ]
     },
     "execution_count": 17,
     "metadata": {},
     "output_type": "execute_result"
    }
   ],
   "source": [
    "adf_stats"
   ]
  },
  {
   "cell_type": "code",
   "execution_count": 18,
   "metadata": {},
   "outputs": [],
   "source": [
    "for key,val in adfuller_result[4].items():\n",
    "    adf_stats[f'critical value ({key})'] = val"
   ]
  },
  {
   "cell_type": "code",
   "execution_count": 19,
   "metadata": {},
   "outputs": [
    {
     "data": {
      "text/plain": [
       "adf test stats            0.815369\n",
       "p-value                   0.991880\n",
       "# of lags                13.000000\n",
       "# of observations       130.000000\n",
       "critical value (1%)      -3.481682\n",
       "critical value (5%)      -2.884042\n",
       "critical value (10%)     -2.578770\n",
       "dtype: float64"
      ]
     },
     "execution_count": 19,
     "metadata": {},
     "output_type": "execute_result"
    }
   ],
   "source": [
    "adf_stats"
   ]
  },
  {
   "cell_type": "markdown",
   "metadata": {},
   "source": [
    "##### We can observe, p-value>0.05, thus, we fail to reject the null hypothesis and can say that our Time Series data is non-stationary!\n"
   ]
  },
  {
   "cell_type": "markdown",
   "metadata": {},
   "source": [
    "### To make it simple for using augmented dicky-fuller, lets create a simple function for it:"
   ]
  },
  {
   "cell_type": "code",
   "execution_count": 23,
   "metadata": {},
   "outputs": [],
   "source": [
    "from statsmodels.tsa.stattools import adfuller\n",
    "\n",
    "def adf_test(series, title=''):\n",
    "    '''\n",
    "    Pass in a time series and an optional title, function returns an ADF report\n",
    "    '''\n",
    "    print(f'Augmented Dickey-fuller test: {title}')\n",
    "    result = adfuller(series.dropna(), autolag='AIC') # dropna() handles differenced data\n",
    "    \n",
    "    labels = ['adf test stats','p-value', '# of lags', '# of observations']\n",
    "    out = pd.Series(result[0:4], index=labels)\n",
    "    \n",
    "    for key,val in result[4].items():\n",
    "        out[f'critical value ({key})'] = val\n",
    "    \n",
    "    print(out.to_string())\n",
    "    \n",
    "    if result[1] <= 0.05:\n",
    "        print(\"Null Hypothesis rejected! Time series is stationary!\")\n",
    "    else:\n",
    "        print(\"Failed to reject Null Hypothesis! Time Series is not stationary!\")"
   ]
  },
  {
   "cell_type": "code",
   "execution_count": 24,
   "metadata": {},
   "outputs": [
    {
     "name": "stdout",
     "output_type": "stream",
     "text": [
      "Augmented Dickey-fuller test: Airline Passengers Dataset\n",
      "adf test stats            0.815369\n",
      "p-value                   0.991880\n",
      "# of lags                13.000000\n",
      "# of observations       130.000000\n",
      "critical value (1%)      -3.481682\n",
      "critical value (5%)      -2.884042\n",
      "critical value (10%)     -2.578770\n",
      "Failed to reject Null Hypothesis! Time Series is not stationary!\n"
     ]
    }
   ],
   "source": [
    "adf_test(df1['Passengers'], 'Airline Passengers Dataset')"
   ]
  },
  {
   "cell_type": "markdown",
   "metadata": {},
   "source": [
    "-----------------------------------------------------------------"
   ]
  },
  {
   "cell_type": "markdown",
   "metadata": {},
   "source": [
    "### Lets check for df2 now on Female Births dataset:"
   ]
  },
  {
   "cell_type": "code",
   "execution_count": 29,
   "metadata": {},
   "outputs": [
    {
     "data": {
      "text/plain": [
       "<matplotlib.axes._subplots.AxesSubplot at 0x1e12e2dc408>"
      ]
     },
     "execution_count": 29,
     "metadata": {},
     "output_type": "execute_result"
    },
    {
     "data": {
      "image/png": "[encoded data removed]",
      "text/plain": [
       "<Figure size 432x288 with 1 Axes>"
      ]
     },
     "metadata": {
      "needs_background": "light"
     },
     "output_type": "display_data"
    }
   ],
   "source": [
    "df2.plot()"
   ]
  },
  {
   "cell_type": "raw",
   "metadata": {},
   "source": [
    "Here, its hard to tell just by seeing the plot if it has seasonality or trend. It is possible, there might be seasonality and we might not able to observe it just by seeing coz of noise."
   ]
  },
  {
   "cell_type": "code",
   "execution_count": 31,
   "metadata": {},
   "outputs": [
    {
     "name": "stdout",
     "output_type": "stream",
     "text": [
      "Augmented Dickey-fuller test: Female Birth Dataset\n",
      "adf test stats           -4.808291\n",
      "p-value                   0.000052\n",
      "# of lags                 6.000000\n",
      "# of observations       358.000000\n",
      "critical value (1%)      -3.448749\n",
      "critical value (5%)      -2.869647\n",
      "critical value (10%)     -2.571089\n",
      "Null Hypothesis rejected! Time series is stationary!\n"
     ]
    }
   ],
   "source": [
    "adf_test(df2['Births'], 'Female Birth Dataset')"
   ]
  },
  {
   "cell_type": "markdown",
   "metadata": {},
   "source": [
    "-------------------------------------"
   ]
  },
  {
   "cell_type": "markdown",
   "metadata": {},
   "source": [
    "### Granger Causality Test:"
   ]
  },
  {
   "cell_type": "markdown",
   "metadata": {},
   "source": [
    "##### Lets now try the Granger Causality:"
   ]
  },
  {
   "cell_type": "raw",
   "metadata": {},
   "source": [
    "We run the test and it will report to us the hypothesis of whether or not there is a causality in between the two time series."
   ]
  },
  {
   "cell_type": "code",
   "execution_count": 32,
   "metadata": {},
   "outputs": [],
   "source": [
    "from statsmodels.tsa.stattools import grangercausalitytests"
   ]
  },
  {
   "cell_type": "raw",
   "metadata": {},
   "source": [
    "Note: We do not have any dummy data to run this test.\n",
    "Lets create a skeleton for the Granger Causality Test:"
   ]
  },
  {
   "cell_type": "raw",
   "metadata": {},
   "source": [
    "grangercausalitytests(mydf[['col1','col2']], maxlag= NumberUptoLagsYouWantToCheck)"
   ]
  },
  {
   "cell_type": "raw",
   "metadata": {},
   "source": [
    "The maxlag which has the lowest p-value(also lesser than 0.05) indicates the best lag value to reflect causality, if its is at all present between the time series! "
   ]
  },
  {
   "cell_type": "markdown",
   "metadata": {},
   "source": [
    "-----"
   ]
  },
  {
   "cell_type": "markdown",
   "metadata": {},
   "source": [
    "### Lets explore the Seasonality with month and quarter plot:"
   ]
  },
  {
   "cell_type": "code",
   "execution_count": 46,
   "metadata": {},
   "outputs": [],
   "source": [
    "df = pd.read_csv(\"C:\\\\Users\\\\shaleens\\\\Desktop\\\\Projects\\\\TimeSeriesUdacity\\\\TS Udemy Vids\\\\Time Series 2\\\\Airlines.csv\", index_col=0, parse_dates=True)"
   ]
  },
  {
   "cell_type": "code",
   "execution_count": 47,
   "metadata": {},
   "outputs": [
    {
     "data": {
      "text/plain": [
       "DatetimeIndex(['1949-01-01', '1949-02-01', '1949-03-01', '1949-04-01',\n",
       "               '1949-05-01', '1949-06-01', '1949-07-01', '1949-08-01',\n",
       "               '1949-09-01', '1949-10-01',\n",
       "               ...\n",
       "               '1960-03-01', '1960-04-01', '1960-05-01', '1960-06-01',\n",
       "               '1960-07-01', '1960-08-01', '1960-09-01', '1960-10-01',\n",
       "               '1960-11-01', '1960-12-01'],\n",
       "              dtype='datetime64[ns]', name='Month', length=144, freq=None)"
      ]
     },
     "execution_count": 47,
     "metadata": {},
     "output_type": "execute_result"
    }
   ],
   "source": [
    "df.index"
   ]
  },
  {
   "cell_type": "code",
   "execution_count": 48,
   "metadata": {},
   "outputs": [],
   "source": [
    "df.index.freq = \"MS\""
   ]
  },
  {
   "cell_type": "code",
   "execution_count": 49,
   "metadata": {},
   "outputs": [
    {
     "data": {
      "text/plain": [
       "DatetimeIndex(['1949-01-01', '1949-02-01', '1949-03-01', '1949-04-01',\n",
       "               '1949-05-01', '1949-06-01', '1949-07-01', '1949-08-01',\n",
       "               '1949-09-01', '1949-10-01',\n",
       "               ...\n",
       "               '1960-03-01', '1960-04-01', '1960-05-01', '1960-06-01',\n",
       "               '1960-07-01', '1960-08-01', '1960-09-01', '1960-10-01',\n",
       "               '1960-11-01', '1960-12-01'],\n",
       "              dtype='datetime64[ns]', name='Month', length=144, freq='MS')"
      ]
     },
     "execution_count": 49,
     "metadata": {},
     "output_type": "execute_result"
    }
   ],
   "source": [
    "df.index"
   ]
  },
  {
   "cell_type": "code",
   "execution_count": 50,
   "metadata": {},
   "outputs": [
    {
     "data": {
      "text/plain": [
       "<matplotlib.axes._subplots.AxesSubplot at 0x1e131027648>"
      ]
     },
     "execution_count": 50,
     "metadata": {},
     "output_type": "execute_result"
    },
    {
     "data": {
      "image/png": "[encoded data removed]",
      "text/plain": [
       "<Figure size 432x288 with 1 Axes>"
      ]
     },
     "metadata": {
      "needs_background": "light"
     },
     "output_type": "display_data"
    }
   ],
   "source": [
    "df.plot()"
   ]
  },
  {
   "cell_type": "code",
   "execution_count": 51,
   "metadata": {},
   "outputs": [],
   "source": [
    "## It may be hard to tell when the seasonality is actually happening?!!\n",
    "## So, to determine seasonality month and details:"
   ]
  },
  {
   "cell_type": "code",
   "execution_count": 52,
   "metadata": {},
   "outputs": [],
   "source": [
    "from statsmodels.graphics.tsaplots import month_plot, quarter_plot"
   ]
  },
  {
   "cell_type": "code",
   "execution_count": 54,
   "metadata": {},
   "outputs": [
    {
     "data": {
      "image/png": "[encoded data removed]",
      "text/plain": [
       "<Figure size 432x288 with 1 Axes>"
      ]
     },
     "metadata": {
      "needs_background": "light"
     },
     "output_type": "display_data"
    }
   ],
   "source": [
    "month_plot(df['Passengers']);\n",
    "# Note that: we were able to call month_plot directly coz our data was already sampled as monthly data"
   ]
  },
  {
   "cell_type": "code",
   "execution_count": 59,
   "metadata": {},
   "outputs": [],
   "source": [
    "df_quarter = df['Passengers'].resample(rule = 'Q').mean()"
   ]
  },
  {
   "cell_type": "code",
   "execution_count": 61,
   "metadata": {},
   "outputs": [
    {
     "data": {
      "image/png": "[encoded data removed]",
      "text/plain": [
       "<Figure size 432x288 with 1 Axes>"
      ]
     },
     "metadata": {
      "needs_background": "light"
     },
     "output_type": "display_data"
    }
   ],
   "source": [
    "quarter_plot(df_quarter);"
   ]
  },
  {
   "cell_type": "code",
   "execution_count": null,
   "metadata": {},
   "outputs": [],
   "source": []
  }
 ],
 "metadata": {
  "kernelspec": {
   "display_name": "Python 3",
   "language": "python",
   "name": "python3"
  },
  "language_info": {
   "codemirror_mode": {
    "name": "ipython",
    "version": 3
   },
   "file_extension": ".py",
   "mimetype": "text/x-python",
   "name": "python",
   "nbconvert_exporter": "python",
   "pygments_lexer": "ipython3",
   "version": "3.7.4"
  }
 },
 "nbformat": 4,
 "nbformat_minor": 2
}
