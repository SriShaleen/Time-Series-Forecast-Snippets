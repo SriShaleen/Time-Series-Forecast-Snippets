{
 "cells": [
  {
   "cell_type": "code",
   "execution_count": 3,
   "metadata": {},
   "outputs": [],
   "source": [
    "import pandas as pd\n",
    "import numpy as np\n",
    "%matplotlib inline\n",
    "\n",
    "from statsmodels.tsa.statespace.sarimax import SARIMAX\n",
    "from statsmodels.graphics.tsaplots import plot_acf,plot_pacf\n",
    "from statsmodels.tsa.seasonal import seasonal_decompose\n",
    "from pmdarima import auto_arima\n",
    "\n",
    "from sklearn.metrics import mean_squared_error\n",
    "\n",
    "import warnings\n",
    "warnings.filterwarnings(\"ignore\")"
   ]
  },
  {
   "cell_type": "code",
   "execution_count": 5,
   "metadata": {},
   "outputs": [],
   "source": [
    "df = pd.read_csv(\"C:\\\\Users\\\\shaleens\\\\Desktop\\\\Projects\\\\TimeSeriesUdacity\\\\TS Udemy Vids\\\\Time Series 2\\\\Hospitality Employees.csv\", index_col=0, parse_dates=True)"
   ]
  },
  {
   "cell_type": "code",
   "execution_count": 6,
   "metadata": {},
   "outputs": [],
   "source": [
    "df.index.freq = \"MS\""
   ]
  },
  {
   "cell_type": "code",
   "execution_count": 7,
   "metadata": {},
   "outputs": [
    {
     "data": {
      "text/html": [
       "<div>\n",
       "<style scoped>\n",
       "    .dataframe tbody tr th:only-of-type {\n",
       "        vertical-align: middle;\n",
       "    }\n",
       "\n",
       "    .dataframe tbody tr th {\n",
       "        vertical-align: top;\n",
       "    }\n",
       "\n",
       "    .dataframe thead th {\n",
       "        text-align: right;\n",
       "    }\n",
       "</style>\n",
       "<table border=\"1\" class=\"dataframe\">\n",
       "  <thead>\n",
       "    <tr style=\"text-align: right;\">\n",
       "      <th></th>\n",
       "      <th>CALEIH</th>\n",
       "    </tr>\n",
       "    <tr>\n",
       "      <th>DATE</th>\n",
       "      <th></th>\n",
       "    </tr>\n",
       "  </thead>\n",
       "  <tbody>\n",
       "    <tr>\n",
       "      <td>1990-01-01</td>\n",
       "      <td>1100.9</td>\n",
       "    </tr>\n",
       "    <tr>\n",
       "      <td>1990-02-01</td>\n",
       "      <td>1102.1</td>\n",
       "    </tr>\n",
       "    <tr>\n",
       "      <td>1990-03-01</td>\n",
       "      <td>1102.8</td>\n",
       "    </tr>\n",
       "    <tr>\n",
       "      <td>1990-04-01</td>\n",
       "      <td>1103.0</td>\n",
       "    </tr>\n",
       "    <tr>\n",
       "      <td>1990-05-01</td>\n",
       "      <td>1098.3</td>\n",
       "    </tr>\n",
       "  </tbody>\n",
       "</table>\n",
       "</div>"
      ],
      "text/plain": [
       "            CALEIH\n",
       "DATE              \n",
       "1990-01-01  1100.9\n",
       "1990-02-01  1102.1\n",
       "1990-03-01  1102.8\n",
       "1990-04-01  1103.0\n",
       "1990-05-01  1098.3"
      ]
     },
     "execution_count": 7,
     "metadata": {},
     "output_type": "execute_result"
    }
   ],
   "source": [
    "df.head()"
   ]
  },
  {
   "cell_type": "code",
   "execution_count": 8,
   "metadata": {},
   "outputs": [
    {
     "data": {
      "text/plain": [
       "348"
      ]
     },
     "execution_count": 8,
     "metadata": {},
     "output_type": "execute_result"
    }
   ],
   "source": [
    "len(df)"
   ]
  },
  {
   "cell_type": "code",
   "execution_count": 10,
   "metadata": {},
   "outputs": [],
   "source": [
    "df.rename(columns={'CALEIH':'Employees'}, inplace=True)"
   ]
  },
  {
   "cell_type": "code",
   "execution_count": 11,
   "metadata": {},
   "outputs": [
    {
     "data": {
      "text/html": [
       "<div>\n",
       "<style scoped>\n",
       "    .dataframe tbody tr th:only-of-type {\n",
       "        vertical-align: middle;\n",
       "    }\n",
       "\n",
       "    .dataframe tbody tr th {\n",
       "        vertical-align: top;\n",
       "    }\n",
       "\n",
       "    .dataframe thead th {\n",
       "        text-align: right;\n",
       "    }\n",
       "</style>\n",
       "<table border=\"1\" class=\"dataframe\">\n",
       "  <thead>\n",
       "    <tr style=\"text-align: right;\">\n",
       "      <th></th>\n",
       "      <th>Employees</th>\n",
       "    </tr>\n",
       "    <tr>\n",
       "      <th>DATE</th>\n",
       "      <th></th>\n",
       "    </tr>\n",
       "  </thead>\n",
       "  <tbody>\n",
       "    <tr>\n",
       "      <td>1990-01-01</td>\n",
       "      <td>1100.9</td>\n",
       "    </tr>\n",
       "    <tr>\n",
       "      <td>1990-02-01</td>\n",
       "      <td>1102.1</td>\n",
       "    </tr>\n",
       "    <tr>\n",
       "      <td>1990-03-01</td>\n",
       "      <td>1102.8</td>\n",
       "    </tr>\n",
       "    <tr>\n",
       "      <td>1990-04-01</td>\n",
       "      <td>1103.0</td>\n",
       "    </tr>\n",
       "    <tr>\n",
       "      <td>1990-05-01</td>\n",
       "      <td>1098.3</td>\n",
       "    </tr>\n",
       "  </tbody>\n",
       "</table>\n",
       "</div>"
      ],
      "text/plain": [
       "            Employees\n",
       "DATE                 \n",
       "1990-01-01     1100.9\n",
       "1990-02-01     1102.1\n",
       "1990-03-01     1102.8\n",
       "1990-04-01     1103.0\n",
       "1990-05-01     1098.3"
      ]
     },
     "execution_count": 11,
     "metadata": {},
     "output_type": "execute_result"
    }
   ],
   "source": [
    "df.head()"
   ]
  },
  {
   "cell_type": "code",
   "execution_count": 45,
   "metadata": {},
   "outputs": [
    {
     "data": {
      "text/plain": [
       "[Text(0, 0.5, '#Employees'), Text(0.5, 0, 'Years')]"
      ]
     },
     "execution_count": 45,
     "metadata": {},
     "output_type": "execute_result"
    },
    {
     "data": {
      "image/png": "[encoded data removed]",
      "text/plain": [
       "<Figure size 864x576 with 1 Axes>"
      ]
     },
     "metadata": {
      "needs_background": "light"
     },
     "output_type": "display_data"
    }
   ],
   "source": [
    "ax = df.plot(figsize = (12,8),title='Graph')\n",
    "ax.set(xlabel = \"Years\", ylabel=\"#Employees\")"
   ]
  },
  {
   "cell_type": "code",
   "execution_count": 47,
   "metadata": {},
   "outputs": [
    {
     "data": {
      "image/png": "[encoded data removed]",
      "text/plain": [
       "<Figure size 432x288 with 4 Axes>"
      ]
     },
     "metadata": {
      "needs_background": "light"
     },
     "output_type": "display_data"
    }
   ],
   "source": [
    "seasonal_decompose(df, model = 'add').plot();"
   ]
  },
  {
   "cell_type": "code",
   "execution_count": 17,
   "metadata": {},
   "outputs": [
    {
     "name": "stdout",
     "output_type": "stream",
     "text": [
      "Performing stepwise search to minimize aic\n",
      "Fit ARIMA: (2, 2, 2)x(1, 0, 1, 12) (constant=True); AIC=2033.339, BIC=2064.111, Time=1.333 seconds\n",
      "Fit ARIMA: (0, 2, 0)x(0, 0, 0, 12) (constant=True); AIC=2254.290, BIC=2261.983, Time=0.010 seconds\n",
      "Fit ARIMA: (1, 2, 0)x(1, 0, 0, 12) (constant=True); AIC=2120.077, BIC=2135.463, Time=0.206 seconds\n",
      "Fit ARIMA: (0, 2, 1)x(0, 0, 1, 12) (constant=True); AIC=2030.246, BIC=2045.631, Time=0.268 seconds\n",
      "Fit ARIMA: (0, 2, 0)x(0, 0, 0, 12) (constant=False); AIC=2252.292, BIC=2256.138, Time=0.009 seconds\n",
      "Fit ARIMA: (0, 2, 1)x(0, 0, 0, 12) (constant=True); AIC=2033.298, BIC=2044.837, Time=0.060 seconds\n",
      "Fit ARIMA: (0, 2, 1)x(1, 0, 1, 12) (constant=True); AIC=2031.707, BIC=2050.940, Time=0.412 seconds\n",
      "Fit ARIMA: (0, 2, 1)x(0, 0, 2, 12) (constant=True); AIC=2031.543, BIC=2050.775, Time=1.008 seconds\n",
      "Fit ARIMA: (0, 2, 1)x(1, 0, 0, 12) (constant=True); AIC=2030.742, BIC=2046.128, Time=0.221 seconds\n",
      "Fit ARIMA: (0, 2, 1)x(1, 0, 2, 12) (constant=True); AIC=2032.790, BIC=2055.868, Time=1.616 seconds\n",
      "Fit ARIMA: (0, 2, 0)x(0, 0, 1, 12) (constant=True); AIC=2249.055, BIC=2260.594, Time=0.129 seconds\n",
      "Fit ARIMA: (1, 2, 1)x(0, 0, 1, 12) (constant=True); AIC=2028.591, BIC=2047.823, Time=0.307 seconds\n",
      "Fit ARIMA: (1, 2, 1)x(0, 0, 0, 12) (constant=True); AIC=2031.792, BIC=2047.178, Time=0.074 seconds\n",
      "Fit ARIMA: (1, 2, 1)x(1, 0, 1, 12) (constant=True); AIC=2030.053, BIC=2053.132, Time=0.742 seconds\n",
      "Fit ARIMA: (1, 2, 1)x(0, 0, 2, 12) (constant=True); AIC=2029.905, BIC=2052.983, Time=1.047 seconds\n",
      "Fit ARIMA: (1, 2, 1)x(1, 0, 0, 12) (constant=True); AIC=2029.090, BIC=2048.323, Time=0.305 seconds\n",
      "Fit ARIMA: (1, 2, 1)x(1, 0, 2, 12) (constant=True); AIC=2031.168, BIC=2058.093, Time=1.906 seconds\n",
      "Fit ARIMA: (1, 2, 0)x(0, 0, 1, 12) (constant=True); AIC=2120.082, BIC=2135.468, Time=0.229 seconds\n",
      "Fit ARIMA: (2, 2, 1)x(0, 0, 1, 12) (constant=True); AIC=2030.435, BIC=2053.513, Time=0.453 seconds\n",
      "Fit ARIMA: (1, 2, 2)x(0, 0, 1, 12) (constant=True); AIC=2029.727, BIC=2052.806, Time=0.474 seconds\n",
      "Fit ARIMA: (0, 2, 2)x(0, 0, 1, 12) (constant=True); AIC=2028.708, BIC=2047.941, Time=0.284 seconds\n",
      "Fit ARIMA: (2, 2, 0)x(0, 0, 1, 12) (constant=True); AIC=2094.459, BIC=2113.691, Time=0.265 seconds\n",
      "Fit ARIMA: (2, 2, 2)x(0, 0, 1, 12) (constant=True); AIC=2031.716, BIC=2058.641, Time=0.918 seconds\n",
      "Total fit time: 12.306 seconds\n"
     ]
    }
   ],
   "source": [
    "stepwise_fit = auto_arima(df['Employees'], seasonal=True, m=12, trace=True, suppress_warnings=True).summary()"
   ]
  },
  {
   "cell_type": "code",
   "execution_count": 18,
   "metadata": {},
   "outputs": [
    {
     "data": {
      "text/html": [
       "<table class=\"simpletable\">\n",
       "<caption>SARIMAX Results</caption>\n",
       "<tr>\n",
       "  <th>Dep. Variable:</th>                  <td>y</td>               <th>  No. Observations:  </th>    <td>348</td>   \n",
       "</tr>\n",
       "<tr>\n",
       "  <th>Model:</th>           <td>SARIMAX(1, 2, 1)x(0, 0, 1, 12)</td> <th>  Log Likelihood     </th> <td>-1009.295</td>\n",
       "</tr>\n",
       "<tr>\n",
       "  <th>Date:</th>                   <td>Tue, 03 Mar 2020</td>        <th>  AIC                </th> <td>2028.591</td> \n",
       "</tr>\n",
       "<tr>\n",
       "  <th>Time:</th>                       <td>16:53:07</td>            <th>  BIC                </th> <td>2047.823</td> \n",
       "</tr>\n",
       "<tr>\n",
       "  <th>Sample:</th>                         <td>0</td>               <th>  HQIC               </th> <td>2036.249</td> \n",
       "</tr>\n",
       "<tr>\n",
       "  <th></th>                             <td> - 348</td>             <th>                     </th>     <td> </td>    \n",
       "</tr>\n",
       "<tr>\n",
       "  <th>Covariance Type:</th>               <td>opg</td>              <th>                     </th>     <td> </td>    \n",
       "</tr>\n",
       "</table>\n",
       "<table class=\"simpletable\">\n",
       "<tr>\n",
       "      <td></td>         <th>coef</th>     <th>std err</th>      <th>z</th>      <th>P>|z|</th>  <th>[0.025</th>    <th>0.975]</th>  \n",
       "</tr>\n",
       "<tr>\n",
       "  <th>intercept</th> <td>    0.0088</td> <td>    0.038</td> <td>    0.234</td> <td> 0.815</td> <td>   -0.065</td> <td>    0.083</td>\n",
       "</tr>\n",
       "<tr>\n",
       "  <th>ar.L1</th>     <td>   -0.1176</td> <td>    0.074</td> <td>   -1.584</td> <td> 0.113</td> <td>   -0.263</td> <td>    0.028</td>\n",
       "</tr>\n",
       "<tr>\n",
       "  <th>ma.L1</th>     <td>   -0.8337</td> <td>    0.030</td> <td>  -27.335</td> <td> 0.000</td> <td>   -0.893</td> <td>   -0.774</td>\n",
       "</tr>\n",
       "<tr>\n",
       "  <th>ma.S.L12</th>  <td>   -0.1317</td> <td>    0.041</td> <td>   -3.226</td> <td> 0.001</td> <td>   -0.212</td> <td>   -0.052</td>\n",
       "</tr>\n",
       "<tr>\n",
       "  <th>sigma2</th>    <td>   19.9156</td> <td>    0.783</td> <td>   25.434</td> <td> 0.000</td> <td>   18.381</td> <td>   21.450</td>\n",
       "</tr>\n",
       "</table>\n",
       "<table class=\"simpletable\">\n",
       "<tr>\n",
       "  <th>Ljung-Box (Q):</th>          <td>33.44</td> <th>  Jarque-Bera (JB):  </th> <td>628.48</td>\n",
       "</tr>\n",
       "<tr>\n",
       "  <th>Prob(Q):</th>                <td>0.76</td>  <th>  Prob(JB):          </th>  <td>0.00</td> \n",
       "</tr>\n",
       "<tr>\n",
       "  <th>Heteroskedasticity (H):</th> <td>0.48</td>  <th>  Skew:              </th>  <td>-0.64</td>\n",
       "</tr>\n",
       "<tr>\n",
       "  <th>Prob(H) (two-sided):</th>    <td>0.00</td>  <th>  Kurtosis:          </th>  <td>9.48</td> \n",
       "</tr>\n",
       "</table><br/><br/>Warnings:<br/>[1] Covariance matrix calculated using the outer product of gradients (complex-step)."
      ],
      "text/plain": [
       "<class 'statsmodels.iolib.summary.Summary'>\n",
       "\"\"\"\n",
       "                                     SARIMAX Results                                      \n",
       "==========================================================================================\n",
       "Dep. Variable:                                  y   No. Observations:                  348\n",
       "Model:             SARIMAX(1, 2, 1)x(0, 0, 1, 12)   Log Likelihood               -1009.295\n",
       "Date:                            Tue, 03 Mar 2020   AIC                           2028.591\n",
       "Time:                                    16:53:07   BIC                           2047.823\n",
       "Sample:                                         0   HQIC                          2036.249\n",
       "                                            - 348                                         \n",
       "Covariance Type:                              opg                                         \n",
       "==============================================================================\n",
       "                 coef    std err          z      P>|z|      [0.025      0.975]\n",
       "------------------------------------------------------------------------------\n",
       "intercept      0.0088      0.038      0.234      0.815      -0.065       0.083\n",
       "ar.L1         -0.1176      0.074     -1.584      0.113      -0.263       0.028\n",
       "ma.L1         -0.8337      0.030    -27.335      0.000      -0.893      -0.774\n",
       "ma.S.L12      -0.1317      0.041     -3.226      0.001      -0.212      -0.052\n",
       "sigma2        19.9156      0.783     25.434      0.000      18.381      21.450\n",
       "===================================================================================\n",
       "Ljung-Box (Q):                       33.44   Jarque-Bera (JB):               628.48\n",
       "Prob(Q):                              0.76   Prob(JB):                         0.00\n",
       "Heteroskedasticity (H):               0.48   Skew:                            -0.64\n",
       "Prob(H) (two-sided):                  0.00   Kurtosis:                         9.48\n",
       "===================================================================================\n",
       "\n",
       "Warnings:\n",
       "[1] Covariance matrix calculated using the outer product of gradients (complex-step).\n",
       "\"\"\""
      ]
     },
     "execution_count": 18,
     "metadata": {},
     "output_type": "execute_result"
    }
   ],
   "source": [
    "stepwise_fit"
   ]
  },
  {
   "cell_type": "code",
   "execution_count": 19,
   "metadata": {},
   "outputs": [],
   "source": [
    "# Train/Test Split:"
   ]
  },
  {
   "cell_type": "code",
   "execution_count": 20,
   "metadata": {},
   "outputs": [],
   "source": [
    "train = df[:-12]\n",
    "test = df[-12:]"
   ]
  },
  {
   "cell_type": "code",
   "execution_count": 21,
   "metadata": {},
   "outputs": [
    {
     "data": {
      "text/html": [
       "<div>\n",
       "<style scoped>\n",
       "    .dataframe tbody tr th:only-of-type {\n",
       "        vertical-align: middle;\n",
       "    }\n",
       "\n",
       "    .dataframe tbody tr th {\n",
       "        vertical-align: top;\n",
       "    }\n",
       "\n",
       "    .dataframe thead th {\n",
       "        text-align: right;\n",
       "    }\n",
       "</style>\n",
       "<table border=\"1\" class=\"dataframe\">\n",
       "  <thead>\n",
       "    <tr style=\"text-align: right;\">\n",
       "      <th></th>\n",
       "      <th>Employees</th>\n",
       "    </tr>\n",
       "    <tr>\n",
       "      <th>DATE</th>\n",
       "      <th></th>\n",
       "    </tr>\n",
       "  </thead>\n",
       "  <tbody>\n",
       "    <tr>\n",
       "      <td>2017-08-01</td>\n",
       "      <td>1957.3</td>\n",
       "    </tr>\n",
       "    <tr>\n",
       "      <td>2017-09-01</td>\n",
       "      <td>1955.3</td>\n",
       "    </tr>\n",
       "    <tr>\n",
       "      <td>2017-10-01</td>\n",
       "      <td>1963.5</td>\n",
       "    </tr>\n",
       "    <tr>\n",
       "      <td>2017-11-01</td>\n",
       "      <td>1967.6</td>\n",
       "    </tr>\n",
       "    <tr>\n",
       "      <td>2017-12-01</td>\n",
       "      <td>1971.7</td>\n",
       "    </tr>\n",
       "  </tbody>\n",
       "</table>\n",
       "</div>"
      ],
      "text/plain": [
       "            Employees\n",
       "DATE                 \n",
       "2017-08-01     1957.3\n",
       "2017-09-01     1955.3\n",
       "2017-10-01     1963.5\n",
       "2017-11-01     1967.6\n",
       "2017-12-01     1971.7"
      ]
     },
     "execution_count": 21,
     "metadata": {},
     "output_type": "execute_result"
    }
   ],
   "source": [
    "train.tail()"
   ]
  },
  {
   "cell_type": "code",
   "execution_count": 22,
   "metadata": {},
   "outputs": [
    {
     "data": {
      "text/html": [
       "<div>\n",
       "<style scoped>\n",
       "    .dataframe tbody tr th:only-of-type {\n",
       "        vertical-align: middle;\n",
       "    }\n",
       "\n",
       "    .dataframe tbody tr th {\n",
       "        vertical-align: top;\n",
       "    }\n",
       "\n",
       "    .dataframe thead th {\n",
       "        text-align: right;\n",
       "    }\n",
       "</style>\n",
       "<table border=\"1\" class=\"dataframe\">\n",
       "  <thead>\n",
       "    <tr style=\"text-align: right;\">\n",
       "      <th></th>\n",
       "      <th>Employees</th>\n",
       "    </tr>\n",
       "    <tr>\n",
       "      <th>DATE</th>\n",
       "      <th></th>\n",
       "    </tr>\n",
       "  </thead>\n",
       "  <tbody>\n",
       "    <tr>\n",
       "      <td>2018-01-01</td>\n",
       "      <td>1972.9</td>\n",
       "    </tr>\n",
       "    <tr>\n",
       "      <td>2018-02-01</td>\n",
       "      <td>1979.3</td>\n",
       "    </tr>\n",
       "    <tr>\n",
       "      <td>2018-03-01</td>\n",
       "      <td>1981.3</td>\n",
       "    </tr>\n",
       "    <tr>\n",
       "      <td>2018-04-01</td>\n",
       "      <td>1984.3</td>\n",
       "    </tr>\n",
       "    <tr>\n",
       "      <td>2018-05-01</td>\n",
       "      <td>1982.5</td>\n",
       "    </tr>\n",
       "  </tbody>\n",
       "</table>\n",
       "</div>"
      ],
      "text/plain": [
       "            Employees\n",
       "DATE                 \n",
       "2018-01-01     1972.9\n",
       "2018-02-01     1979.3\n",
       "2018-03-01     1981.3\n",
       "2018-04-01     1984.3\n",
       "2018-05-01     1982.5"
      ]
     },
     "execution_count": 22,
     "metadata": {},
     "output_type": "execute_result"
    }
   ],
   "source": [
    "test.head()"
   ]
  },
  {
   "cell_type": "code",
   "execution_count": 23,
   "metadata": {},
   "outputs": [],
   "source": [
    "model = SARIMAX(train['Employees'], order=(1,2,1), seasonal_order=(0,0,1,12), enforce_invertibility=False)"
   ]
  },
  {
   "cell_type": "code",
   "execution_count": 24,
   "metadata": {},
   "outputs": [],
   "source": [
    "res = model.fit()"
   ]
  },
  {
   "cell_type": "code",
   "execution_count": 25,
   "metadata": {},
   "outputs": [],
   "source": [
    "start = len(train)\n",
    "end = len(train) + len(test) - 1\n",
    "\n",
    "prediction = res.predict(start=start,end=end,typ=\"levels\")"
   ]
  },
  {
   "cell_type": "code",
   "execution_count": 26,
   "metadata": {},
   "outputs": [
    {
     "data": {
      "text/plain": [
       "2018-01-01    1976.142709\n",
       "2018-02-01    1980.206932\n",
       "2018-03-01    1983.343464\n",
       "2018-04-01    1987.394610\n",
       "2018-05-01    1991.584767\n",
       "2018-06-01    1995.209970\n",
       "2018-07-01    1999.774209\n",
       "2018-08-01    2003.929550\n",
       "2018-09-01    2008.735712\n",
       "2018-10-01    2012.112025\n",
       "2018-11-01    2016.100903\n",
       "2018-12-01    2020.165461\n",
       "Freq: MS, dtype: float64"
      ]
     },
     "execution_count": 26,
     "metadata": {},
     "output_type": "execute_result"
    }
   ],
   "source": [
    "prediction"
   ]
  },
  {
   "cell_type": "code",
   "execution_count": 33,
   "metadata": {},
   "outputs": [
    {
     "data": {
      "text/plain": [
       "<matplotlib.axes._subplots.AxesSubplot at 0x26dbfdb7408>"
      ]
     },
     "execution_count": 33,
     "metadata": {},
     "output_type": "execute_result"
    },
    {
     "data": {
      "image/png": "[encoded data removed]",
      "text/plain": [
       "<Figure size 864x576 with 1 Axes>"
      ]
     },
     "metadata": {
      "needs_background": "light"
     },
     "output_type": "display_data"
    }
   ],
   "source": [
    "test['Employees'].plot(figsize=(12,8), legend=True)\n",
    "prediction.rename(\"SARIMA Pred\").plot(legend=True)"
   ]
  },
  {
   "cell_type": "code",
   "execution_count": 30,
   "metadata": {},
   "outputs": [
    {
     "data": {
      "text/plain": [
       "214.3960189648328"
      ]
     },
     "execution_count": 30,
     "metadata": {},
     "output_type": "execute_result"
    }
   ],
   "source": [
    "mse = mean_squared_error(test, prediction)\n",
    "mse"
   ]
  },
  {
   "cell_type": "code",
   "execution_count": 32,
   "metadata": {},
   "outputs": [
    {
     "data": {
      "text/plain": [
       "14.642268231555956"
      ]
     },
     "execution_count": 32,
     "metadata": {},
     "output_type": "execute_result"
    }
   ],
   "source": [
    "rmse = np.sqrt(mean_squared_error(test, prediction))\n",
    "rmse"
   ]
  },
  {
   "cell_type": "markdown",
   "metadata": {},
   "source": [
    "##### Lets train on whole data:"
   ]
  },
  {
   "cell_type": "code",
   "execution_count": 34,
   "metadata": {},
   "outputs": [],
   "source": [
    "model = SARIMAX(df['Employees'], order=(1,2,1), seasonal_order=(0,0,1,12), enforce_invertibility=False)"
   ]
  },
  {
   "cell_type": "code",
   "execution_count": 35,
   "metadata": {},
   "outputs": [],
   "source": [
    "res = model.fit()"
   ]
  },
  {
   "cell_type": "code",
   "execution_count": 36,
   "metadata": {},
   "outputs": [],
   "source": [
    "final = res.predict(start=len(df), end=len(df)+11, typ=\"levels\")"
   ]
  },
  {
   "cell_type": "code",
   "execution_count": 37,
   "metadata": {},
   "outputs": [
    {
     "data": {
      "text/plain": [
       "2019-01-01    2008.511390\n",
       "2019-02-01    2011.933663\n",
       "2019-03-01    2015.777155\n",
       "2019-04-01    2019.610305\n",
       "2019-05-01    2024.090993\n",
       "2019-06-01    2028.329470\n",
       "2019-07-01    2032.253235\n",
       "2019-08-01    2036.624718\n",
       "2019-09-01    2040.630782\n",
       "2019-10-01    2044.588570\n",
       "2019-11-01    2047.386042\n",
       "2019-12-01    2050.784939\n",
       "Freq: MS, dtype: float64"
      ]
     },
     "execution_count": 37,
     "metadata": {},
     "output_type": "execute_result"
    }
   ],
   "source": [
    "final"
   ]
  },
  {
   "cell_type": "code",
   "execution_count": 40,
   "metadata": {},
   "outputs": [
    {
     "data": {
      "text/plain": [
       "<matplotlib.axes._subplots.AxesSubplot at 0x26dadaa3ec8>"
      ]
     },
     "execution_count": 40,
     "metadata": {},
     "output_type": "execute_result"
    },
    {
     "data": {
      "image/png": "[encoded data removed]",
      "text/plain": [
       "<Figure size 864x576 with 1 Axes>"
      ]
     },
     "metadata": {
      "needs_background": "light"
     },
     "output_type": "display_data"
    }
   ],
   "source": [
    "df['Employees'].plot(figsize=(12,8), legend=True)\n",
    "final.rename('Unseen Prediction').plot(legend=True)"
   ]
  },
  {
   "cell_type": "code",
   "execution_count": null,
   "metadata": {},
   "outputs": [],
   "source": []
  }
 ],
 "metadata": {
  "kernelspec": {
   "display_name": "Python 3",
   "language": "python",
   "name": "python3"
  },
  "language_info": {
   "codemirror_mode": {
    "name": "ipython",
    "version": 3
   },
   "file_extension": ".py",
   "mimetype": "text/x-python",
   "name": "python",
   "nbconvert_exporter": "python",
   "pygments_lexer": "ipython3",
   "version": "3.7.4"
  }
 },
 "nbformat": 4,
 "nbformat_minor": 2
}
