{
 "cells": [
  {
   "cell_type": "raw",
   "metadata": {},
   "source": [
    "ARIMA has 3 components:\n",
    "- AR\n",
    "- I\n",
    "- MA"
   ]
  },
  {
   "cell_type": "raw",
   "metadata": {},
   "source": [
    "As we already discussed,\n",
    "AR : AR part of ARIMA indicates that the evolving variable of interest(i.e. y value we wana forecast) is regressed on its own lagged values, and we need to decide(or via statsmodels) how many lags we need to take into account. \n",
    "p is the order(no. of time lags) of AR model.\n",
    "\n",
    "\n",
    "MA : MA uses the dependency between lagged observation and a residual error. Recall that, when we plotted moving average, it would smooth out the noise from the time series.\n",
    "q is the size of the moving average window aka order of MA model.\n",
    "\n",
    "I  : indicates that data values have been replaced with the difference between their values and previous values to make our TS data stationary so that AR and MA components could work together.\n",
    "d is degree of differencing."
   ]
  },
  {
   "cell_type": "raw",
   "metadata": {},
   "source": [
    "Non - Seasonal ARIMA models are generally denoted by ARIMA(p,d,q) where p,d,q are non-negative integers."
   ]
  },
  {
   "cell_type": "markdown",
   "metadata": {},
   "source": [
    "### Choosing p,d,q for ARIMA:"
   ]
  },
  {
   "cell_type": "markdown",
   "metadata": {},
   "source": [
    "##### We have 2 methods for it:\n",
    "##### - Classical method using ACF and PACF plots\n",
    "##### - Using Grid search."
   ]
  },
  {
   "cell_type": "markdown",
   "metadata": {},
   "source": [
    "### When to use AR term or MA term:"
   ]
  },
  {
   "cell_type": "raw",
   "metadata": {},
   "source": [
    "If the autocorrelation plot (ACF plot) shows positive autocorrelation at the first lag(i.e. lag-1), then it suggests to use the AR terms in relation to the lag\n",
    "\n",
    "If the autocorrelation plot (ACF plot) shows negative autocorrelation at the first lag, then it suggests using MA terms.\n",
    "\n",
    "This will allow us to decide what actual values of p,d,q to provide your ARIMA model."
   ]
  },
  {
   "cell_type": "raw",
   "metadata": {},
   "source": [
    "Lets say we have a partial autocorrelation plot.\n",
    "- Typically, a sharp drop-off after lag 'k' suggests an AR(maxlags=k) model should be used.\n",
    "- If there is a gradual decline, it suggests an MA model."
   ]
  },
  {
   "cell_type": "markdown",
   "metadata": {},
   "source": [
    "### Classical method using ACF and PACF plots"
   ]
  },
  {
   "cell_type": "raw",
   "metadata": {},
   "source": [
    "Identification of AR model is often best done with PACF plot.\n",
    "Identification of MA model is often best done with ACF plot.\n",
    "\n",
    "However, it can be sometimes difficult to read those plots directly, so it is often more effective to perform grid search across various combinations of p,d,q values."
   ]
  },
  {
   "cell_type": "markdown",
   "metadata": {},
   "source": [
    "### Using grid search:"
   ]
  },
  {
   "cell_type": "raw",
   "metadata": {},
   "source": [
    "pmdarima(Pyramid ARIMA) is a seperate library designed to perform grid searches across multiple combinations of p,d,q and P,D,Q.\n",
    "\n",
    "pmdarima library utilizes the Akaike Information Criterion(AIC) as a metric to compare the performance of various ARIMA based models.\n",
    "Reason for using AIC is, it penalizes very high order models if they dont have significant improvement over simpler models. That way, we avoid overfitting the training data.\n",
    "\n",
    "AIM is to minimize the AIC value and select the model with least AIC value.\n",
    "\n",
    "This is by far the most effective way to get good fitting models."
   ]
  },
  {
   "cell_type": "markdown",
   "metadata": {},
   "source": [
    "### Code implementation to determine optimum p,d,q values for ARIMA model using grid Search: "
   ]
  },
  {
   "cell_type": "code",
   "execution_count": 1,
   "metadata": {},
   "outputs": [],
   "source": [
    "import numpy as np\n",
    "import pandas as pd\n",
    "%matplotlib inline\n",
    "\n",
    "# Load a non-stationary dataset:\n",
    "df1 = pd.read_csv(\"C:\\\\Users\\\\Admin\\\\Desktop\\\\Airlines.csv\", index_col=0, parse_dates=True)\n",
    "df1.index.freq = 'MS'\n",
    "\n",
    "# Load a stationary dataset:\n",
    "df2 = pd.read_csv(\"C:\\\\Users\\\\Admin\\\\Desktop\\\\DailyFemaleBirths.csv\", index_col=0, parse_dates=True)\n",
    "df2.index.freq = \"D\""
   ]
  },
  {
   "cell_type": "code",
   "execution_count": 2,
   "metadata": {},
   "outputs": [],
   "source": [
    "from pmdarima import auto_arima"
   ]
  },
  {
   "cell_type": "code",
   "execution_count": 3,
   "metadata": {},
   "outputs": [
    {
     "name": "stdout",
     "output_type": "stream",
     "text": [
      "Help on function auto_arima in module pmdarima.arima.auto:\n",
      "\n",
      "auto_arima(y, exogenous=None, start_p=2, d=None, start_q=2, max_p=5, max_d=2, max_q=5, start_P=1, D=None, start_Q=1, max_P=2, max_D=1, max_Q=2, max_order=5, m=1, seasonal=True, stationary=False, information_criterion='aic', alpha=0.05, test='kpss', seasonal_test='ocsb', stepwise=True, n_jobs=1, start_params=None, trend=None, method='lbfgs', maxiter=50, offset_test_args=None, seasonal_test_args=None, suppress_warnings=False, error_action='warn', trace=False, random=False, random_state=None, n_fits=10, return_valid_fits=False, out_of_sample_size=0, scoring='mse', scoring_args=None, with_intercept=True, sarimax_kwargs=None, **fit_args)\n",
      "    Automatically discover the optimal order for an ARIMA model.\n",
      "    \n",
      "    The auto-ARIMA process seeks to identify the most optimal\n",
      "    parameters for an ``ARIMA`` model, settling on a single fitted ARIMA model.\n",
      "    This process is based on the commonly-used R function,\n",
      "    ``forecast::auto.arima`` [3].\n",
      "    \n",
      "    Auto-ARIMA works by conducting differencing tests (i.e.,\n",
      "    Kwiatkowski–Phillips–Schmidt–Shin, Augmented Dickey-Fuller or\n",
      "    Phillips–Perron) to determine the order of differencing, ``d``, and then\n",
      "    fitting models within ranges of defined ``start_p``, ``max_p``,\n",
      "    ``start_q``, ``max_q`` ranges. If the ``seasonal`` optional is enabled,\n",
      "    auto-ARIMA also seeks to identify the optimal ``P`` and ``Q`` hyper-\n",
      "    parameters after conducting the Canova-Hansen to determine the optimal\n",
      "    order of seasonal differencing, ``D``.\n",
      "    \n",
      "    In order to find the best model, auto-ARIMA optimizes for a given\n",
      "    ``information_criterion``, one of ('aic', 'aicc', 'bic', 'hqic', 'oob')\n",
      "    (Akaike Information Criterion, Corrected Akaike Information Criterion,\n",
      "    Bayesian Information Criterion, Hannan-Quinn Information Criterion, or\n",
      "    \"out of bag\"--for validation scoring--respectively) and returns the ARIMA\n",
      "    which minimizes the value.\n",
      "    \n",
      "    Note that due to stationarity issues, auto-ARIMA might not find a\n",
      "    suitable model that will converge. If this is the case, a ``ValueError``\n",
      "    will be thrown suggesting stationarity-inducing measures be taken prior\n",
      "    to re-fitting or that a new range of ``order`` values be selected. Non-\n",
      "    stepwise (i.e., essentially a grid search) selection can be slow,\n",
      "    especially for seasonal data. Stepwise algorithm is outlined in Hyndman and\n",
      "    Khandakar (2008).\n",
      "    \n",
      "    Parameters\n",
      "    ----------\n",
      "    y : array-like or iterable, shape=(n_samples,)\n",
      "        The time-series to which to fit the ``ARIMA`` estimator. This may\n",
      "        either be a Pandas ``Series`` object (statsmodels can internally\n",
      "        use the dates in the index), or a numpy array. This should be a\n",
      "        one-dimensional array of floats, and should not contain any\n",
      "        ``np.nan`` or ``np.inf`` values.\n",
      "    \n",
      "    exogenous : array-like, shape=[n_obs, n_vars], optional (default=None)\n",
      "        An optional 2-d array of exogenous variables. If provided, these\n",
      "        variables are used as additional features in the regression\n",
      "        operation. This should not include a constant or trend. Note that\n",
      "        if an ``ARIMA`` is fit on exogenous features, it must be provided\n",
      "        exogenous features for making predictions.\n",
      "    \n",
      "    start_p : int, optional (default=2)\n",
      "        The starting value of ``p``, the order (or number of time lags)\n",
      "        of the auto-regressive (\"AR\") model. Must be a positive integer.\n",
      "    \n",
      "    d : int, optional (default=None)\n",
      "        The order of first-differencing. If None (by default), the value\n",
      "        will automatically be selected based on the results of the ``test``\n",
      "        (i.e., either the Kwiatkowski–Phillips–Schmidt–Shin, Augmented\n",
      "        Dickey-Fuller or the Phillips–Perron test will be conducted to find\n",
      "        the most probable value). Must be a positive integer or None. Note\n",
      "        that if ``d`` is None, the runtime could be significantly longer.\n",
      "    \n",
      "    start_q : int, optional (default=2)\n",
      "        The starting value of ``q``, the order of the moving-average\n",
      "        (\"MA\") model. Must be a positive integer.\n",
      "    \n",
      "    max_p : int, optional (default=5)\n",
      "        The maximum value of ``p``, inclusive. Must be a positive integer\n",
      "        greater than or equal to ``start_p``.\n",
      "    \n",
      "    max_d : int, optional (default=2)\n",
      "        The maximum value of ``d``, or the maximum number of non-seasonal\n",
      "        differences. Must be a positive integer greater than or equal to ``d``.\n",
      "    \n",
      "    max_q : int, optional (default=5)\n",
      "        The maximum value of ``q``, inclusive. Must be a positive integer\n",
      "        greater than ``start_q``.\n",
      "    \n",
      "    start_P : int, optional (default=1)\n",
      "        The starting value of ``P``, the order of the auto-regressive portion\n",
      "        of the seasonal model.\n",
      "    \n",
      "    D : int, optional (default=None)\n",
      "        The order of the seasonal differencing. If None (by default, the value\n",
      "        will automatically be selected based on the results of the\n",
      "        ``seasonal_test``. Must be a positive integer or None.\n",
      "    \n",
      "    start_Q : int, optional (default=1)\n",
      "        The starting value of ``Q``, the order of the moving-average portion\n",
      "        of the seasonal model.\n",
      "    \n",
      "    max_P : int, optional (default=2)\n",
      "        The maximum value of ``P``, inclusive. Must be a positive integer\n",
      "        greater than ``start_P``.\n",
      "    \n",
      "    max_D : int, optional (default=1)\n",
      "        The maximum value of ``D``. Must be a positive integer greater\n",
      "        than ``D``.\n",
      "    \n",
      "    max_Q : int, optional (default=2)\n",
      "        The maximum value of ``Q``, inclusive. Must be a positive integer\n",
      "        greater than ``start_Q``.\n",
      "    \n",
      "    max_order : int, optional (default=5)\n",
      "        Maximum value of p+q+P+Q if model selection is not stepwise.\n",
      "        If the sum of ``p`` and ``q`` is >= ``max_order``, a model will\n",
      "        *not* be fit with those parameters, but will progress to the next\n",
      "        combination. Default is 5. If ``max_order`` is None, it means there\n",
      "        are no constraints on maximum order.\n",
      "    \n",
      "    m : int, optional (default=1)\n",
      "        The period for seasonal differencing, ``m`` refers to the number of\n",
      "        periods in each season. For example, ``m`` is 4 for quarterly data, 12\n",
      "        for monthly data, or 1 for annual (non-seasonal) data. Default is 1.\n",
      "        Note that if ``m`` == 1 (i.e., is non-seasonal), ``seasonal`` will be\n",
      "        set to False. For more information on setting this parameter, see\n",
      "        :ref:`period`.\n",
      "    \n",
      "    seasonal : bool, optional (default=True)\n",
      "        Whether to fit a seasonal ARIMA. Default is True. Note that if\n",
      "        ``seasonal`` is True and ``m`` == 1, ``seasonal`` will be set to False.\n",
      "    \n",
      "    stationary : bool, optional (default=False)\n",
      "        Whether the time-series is stationary and ``d`` should be set to zero.\n",
      "    \n",
      "    information_criterion : str, optional (default='aic')\n",
      "        The information criterion used to select the best ARIMA model. One of\n",
      "        ``pmdarima.arima.auto_arima.VALID_CRITERIA``, ('aic', 'bic', 'hqic',\n",
      "        'oob').\n",
      "    \n",
      "    alpha : float, optional (default=0.05)\n",
      "        Level of the test for testing significance.\n",
      "    \n",
      "    test : str, optional (default='kpss')\n",
      "        Type of unit root test to use in order to detect stationarity if\n",
      "        ``stationary`` is False and ``d`` is None. Default is 'kpss'\n",
      "        (Kwiatkowski–Phillips–Schmidt–Shin).\n",
      "    \n",
      "    seasonal_test : str, optional (default='ocsb')\n",
      "        This determines which seasonal unit root test is used if ``seasonal``\n",
      "        is True and ``D`` is None. Default is 'OCSB'.\n",
      "    \n",
      "    stepwise : bool, optional (default=True)\n",
      "        Whether to use the stepwise algorithm outlined in Hyndman and Khandakar\n",
      "        (2008) to identify the optimal model parameters. The stepwise algorithm\n",
      "        can be significantly faster than fitting all (or a ``random`` subset\n",
      "        of) hyper-parameter combinations and is less likely to over-fit\n",
      "        the model.\n",
      "    \n",
      "    n_jobs : int, optional (default=1)\n",
      "        The number of models to fit in parallel in the case of a grid search\n",
      "        (``stepwise=False``). Default is 1, but -1 can be used to designate\n",
      "        \"as many as possible\".\n",
      "    \n",
      "    start_params : array-like, optional (default=None)\n",
      "        Starting parameters for ``ARMA(p,q)``.  If None, the default is given\n",
      "        by ``ARMA._fit_start_params``.\n",
      "    \n",
      "    method : str, optional (default='lbfgs')\n",
      "        The ``method`` determines which solver from ``scipy.optimize``\n",
      "        is used, and it can be chosen from among the following strings:\n",
      "    \n",
      "        - 'newton' for Newton-Raphson\n",
      "        - 'nm' for Nelder-Mead\n",
      "        - 'bfgs' for Broyden-Fletcher-Goldfarb-Shanno (BFGS)\n",
      "        - 'lbfgs' for limited-memory BFGS with optional box constraints\n",
      "        - 'powell' for modified Powell's method\n",
      "        - 'cg' for conjugate gradient\n",
      "        - 'ncg' for Newton-conjugate gradient\n",
      "        - 'basinhopping' for global basin-hopping solver\n",
      "    \n",
      "        The explicit arguments in ``fit`` are passed to the solver,\n",
      "        with the exception of the basin-hopping solver. Each\n",
      "        solver has several optional arguments that are not the same across\n",
      "        solvers. These can be passed as **fit_kwargs\n",
      "    \n",
      "    trend : str or None, optional (default=None)\n",
      "        The trend parameter. If ``with_intercept`` is True, ``trend`` will be\n",
      "        used. If ``with_intercept`` is False, the trend will be set to a no-\n",
      "        intercept value.\n",
      "    \n",
      "    maxiter : int, optional (default=50)\n",
      "        The maximum number of function evaluations. Default is 50.\n",
      "    \n",
      "    offset_test_args : dict, optional (default=None)\n",
      "        The args to pass to the constructor of the offset (``d``) test. See\n",
      "        ``pmdarima.arima.stationarity`` for more details.\n",
      "    \n",
      "    seasonal_test_args : dict, optional (default=None)\n",
      "        The args to pass to the constructor of the seasonal offset (``D``)\n",
      "        test. See ``pmdarima.arima.seasonality`` for more details.\n",
      "    \n",
      "    suppress_warnings : bool, optional (default=False)\n",
      "        Many warnings might be thrown inside of statsmodels. If\n",
      "        ``suppress_warnings`` is True, all of the warnings coming from\n",
      "        ``ARIMA`` will be squelched.\n",
      "    \n",
      "    error_action : str, optional (default='warn')\n",
      "        If unable to fit an ``ARIMA`` due to stationarity issues, whether to\n",
      "        warn ('warn'), raise the ``ValueError`` ('raise') or ignore ('ignore').\n",
      "        Note that the default behavior is to warn, and fits that fail will be\n",
      "        returned as None. This is the recommended behavior, as statsmodels\n",
      "        ARIMA and SARIMAX models hit bugs periodically that can cause\n",
      "        an otherwise healthy parameter combination to fail for reasons not\n",
      "        related to pmdarima.\n",
      "    \n",
      "    trace : bool or int, optional (default=False)\n",
      "        Whether to print status on the fits. A value of False will print no\n",
      "        debugging information. A value of True will print some. Integer values\n",
      "        exceeding 1 will print increasing amounts of debug information at each\n",
      "        fit.\n",
      "    \n",
      "    random : bool, optional (default=False)\n",
      "        Similar to grid searches, ``auto_arima`` provides the capability to\n",
      "        perform a \"random search\" over a hyper-parameter space. If ``random``\n",
      "        is True, rather than perform an exhaustive search or ``stepwise``\n",
      "        search, only ``n_fits`` ARIMA models will be fit (``stepwise`` must be\n",
      "        False for this option to do anything).\n",
      "    \n",
      "    random_state : int, long or numpy ``RandomState``, optional (default=None)\n",
      "        The PRNG for when ``random=True``. Ensures replicable testing and\n",
      "        results.\n",
      "    \n",
      "    n_fits : int, optional (default=10)\n",
      "        If ``random`` is True and a \"random search\" is going to be performed,\n",
      "        ``n_iter`` is the number of ARIMA models to be fit.\n",
      "    \n",
      "    return_valid_fits : bool, optional (default=False)\n",
      "        If True, will return all valid ARIMA fits in a list. If False (by\n",
      "        default), will only return the best fit.\n",
      "    \n",
      "    out_of_sample_size : int, optional (default=0)\n",
      "        The ``ARIMA`` class can fit only a portion of the data if specified,\n",
      "        in order to retain an \"out of bag\" sample score. This is the\n",
      "        number of examples from the tail of the time series to hold out\n",
      "        and use as validation examples. The model will not be fit on these\n",
      "        samples, but the observations will be added into the model's ``endog``\n",
      "        and ``exog`` arrays so that future forecast values originate from the\n",
      "        end of the endogenous vector.\n",
      "    \n",
      "        For instance::\n",
      "    \n",
      "            y = [0, 1, 2, 3, 4, 5, 6]\n",
      "            out_of_sample_size = 2\n",
      "    \n",
      "            > Fit on: [0, 1, 2, 3, 4]\n",
      "            > Score on: [5, 6]\n",
      "            > Append [5, 6] to end of self.arima_res_.data.endog values\n",
      "    \n",
      "    scoring : str, optional (default='mse')\n",
      "        If performing validation (i.e., if ``out_of_sample_size`` > 0), the\n",
      "        metric to use for scoring the out-of-sample data. One of ('mse', 'mae')\n",
      "    \n",
      "    scoring_args : dict, optional (default=None)\n",
      "        A dictionary of key-word arguments to be passed to the ``scoring``\n",
      "        metric.\n",
      "    \n",
      "    with_intercept : bool, optional (default=True)\n",
      "        Whether to include an intercept term. Default is True.\n",
      "    \n",
      "    \n",
      "    sarimax_kwargs : dict or None, optional (default=None)\n",
      "        Keyword arguments to pass to the ARIMA constructor.\n",
      "    \n",
      "    \n",
      "    **fit_args : dict, optional (default=None)\n",
      "        A dictionary of keyword arguments to pass to the :func:`ARIMA.fit`\n",
      "        method.\n",
      "    \n",
      "    See Also\n",
      "    --------\n",
      "    :func:`pmdarima.arima.ARIMA`\n",
      "    \n",
      "    Notes\n",
      "    -----\n",
      "    * Fitting with `stepwise=False` can prove slower, especially when\n",
      "      `seasonal=True`.\n",
      "    \n",
      "    References\n",
      "    ----------\n",
      "    .. [1] https://wikipedia.org/wiki/Autoregressive_integrated_moving_average\n",
      "    .. [2] R's auto-arima source code: https://github.com/robjhyndman/forecast/blob/master/R/arima.R  # noqa\n",
      "    .. [3] R's auto-arima documentation: https://www.rdocumentation.org/packages/forecast  # noqa\n",
      "\n"
     ]
    }
   ],
   "source": [
    "help(auto_arima)"
   ]
  },
  {
   "cell_type": "code",
   "execution_count": 4,
   "metadata": {},
   "outputs": [
    {
     "data": {
      "text/plain": [
       "Date\n",
       "1959-01-01    35\n",
       "1959-01-02    32\n",
       "1959-01-03    30\n",
       "1959-01-04    31\n",
       "1959-01-05    44\n",
       "              ..\n",
       "1959-12-27    37\n",
       "1959-12-28    52\n",
       "1959-12-29    48\n",
       "1959-12-30    55\n",
       "1959-12-31    50\n",
       "Freq: D, Name: Births, Length: 365, dtype: int64"
      ]
     },
     "execution_count": 4,
     "metadata": {},
     "output_type": "execute_result"
    }
   ],
   "source": [
    "df2['Births']"
   ]
  },
  {
   "cell_type": "markdown",
   "metadata": {},
   "source": [
    "##### Optimal values of (p,d,q) for stationary dataset i.e. FemaleBirth"
   ]
  },
  {
   "cell_type": "code",
   "execution_count": 5,
   "metadata": {},
   "outputs": [
    {
     "name": "stdout",
     "output_type": "stream",
     "text": [
      "Performing stepwise search to minimize aic\n",
      "Fit ARIMA: (0, 1, 0)x(0, 0, 0, 0) (constant=True); AIC=2650.760, BIC=2658.555, Time=0.068 seconds\n",
      "Fit ARIMA: (1, 1, 0)x(0, 0, 0, 0) (constant=True); AIC=2565.234, BIC=2576.925, Time=0.104 seconds\n",
      "Fit ARIMA: (0, 1, 1)x(0, 0, 0, 0) (constant=True); AIC=2463.584, BIC=2475.275, Time=0.121 seconds\n",
      "Fit ARIMA: (0, 1, 0)x(0, 0, 0, 0) (constant=False); AIC=2648.768, BIC=2652.665, Time=0.012 seconds\n",
      "Fit ARIMA: (1, 1, 1)x(0, 0, 0, 0) (constant=True); AIC=2460.154, BIC=2475.743, Time=0.195 seconds\n",
      "Fit ARIMA: (2, 1, 1)x(0, 0, 0, 0) (constant=True); AIC=2461.271, BIC=2480.757, Time=0.283 seconds\n"
     ]
    },
    {
     "name": "stderr",
     "output_type": "stream",
     "text": [
      "C:\\Users\\Admin\\AppData\\Roaming\\Python\\Python37\\site-packages\\statsmodels\\tsa\\statespace\\sarimax.py:963: UserWarning: Non-stationary starting autoregressive parameters found. Using zeros as starting parameters.\n",
      "  warn('Non-stationary starting autoregressive parameters'\n",
      "C:\\Users\\Admin\\AppData\\Roaming\\Python\\Python37\\site-packages\\statsmodels\\tsa\\statespace\\sarimax.py:975: UserWarning: Non-invertible starting MA parameters found. Using zeros as starting parameters.\n",
      "  warn('Non-invertible starting MA parameters found.'\n",
      "C:\\Users\\Admin\\AppData\\Roaming\\Python\\Python37\\site-packages\\statsmodels\\base\\model.py:568: ConvergenceWarning: Maximum Likelihood optimization failed to converge. Check mle_retvals\n",
      "  \"Check mle_retvals\", ConvergenceWarning)\n"
     ]
    },
    {
     "name": "stdout",
     "output_type": "stream",
     "text": [
      "Fit ARIMA: (1, 1, 2)x(0, 0, 0, 0) (constant=True); AIC=2460.751, BIC=2480.237, Time=0.652 seconds\n",
      "Near non-invertible roots for order (1, 1, 2)(0, 0, 0, 0); setting score to inf (at least one inverse root too close to the border of the unit circle: 0.996)\n",
      "Fit ARIMA: (0, 1, 2)x(0, 0, 0, 0) (constant=True); AIC=2460.722, BIC=2476.311, Time=0.263 seconds\n",
      "Fit ARIMA: (2, 1, 0)x(0, 0, 0, 0) (constant=True); AIC=2536.154, BIC=2551.742, Time=0.135 seconds\n"
     ]
    },
    {
     "name": "stderr",
     "output_type": "stream",
     "text": [
      "C:\\Users\\Admin\\AppData\\Roaming\\Python\\Python37\\site-packages\\statsmodels\\tsa\\statespace\\sarimax.py:963: UserWarning: Non-stationary starting autoregressive parameters found. Using zeros as starting parameters.\n",
      "  warn('Non-stationary starting autoregressive parameters'\n",
      "C:\\Users\\Admin\\AppData\\Roaming\\Python\\Python37\\site-packages\\statsmodels\\tsa\\statespace\\sarimax.py:975: UserWarning: Non-invertible starting MA parameters found. Using zeros as starting parameters.\n",
      "  warn('Non-invertible starting MA parameters found.'\n"
     ]
    },
    {
     "name": "stdout",
     "output_type": "stream",
     "text": [
      "Fit ARIMA: (2, 1, 2)x(0, 0, 0, 0) (constant=True); AIC=2463.066, BIC=2486.449, Time=0.819 seconds\n",
      "Total fit time: 2.668 seconds\n"
     ]
    },
    {
     "name": "stderr",
     "output_type": "stream",
     "text": [
      "C:\\Users\\Admin\\AppData\\Roaming\\Python\\Python37\\site-packages\\statsmodels\\base\\model.py:568: ConvergenceWarning: Maximum Likelihood optimization failed to converge. Check mle_retvals\n",
      "  \"Check mle_retvals\", ConvergenceWarning)\n"
     ]
    }
   ],
   "source": [
    "stepwise_fit = auto_arima(df2['Births'],start_p=0,max_p=6, start_q=0, max_q=3, seasonal=False,trace=True)"
   ]
  },
  {
   "cell_type": "code",
   "execution_count": 6,
   "metadata": {},
   "outputs": [
    {
     "data": {
      "text/html": [
       "<table class=\"simpletable\">\n",
       "<caption>SARIMAX Results</caption>\n",
       "<tr>\n",
       "  <th>Dep. Variable:</th>           <td>y</td>        <th>  No. Observations:  </th>    <td>365</td>   \n",
       "</tr>\n",
       "<tr>\n",
       "  <th>Model:</th>           <td>SARIMAX(1, 1, 1)</td> <th>  Log Likelihood     </th> <td>-1226.077</td>\n",
       "</tr>\n",
       "<tr>\n",
       "  <th>Date:</th>            <td>Tue, 18 Feb 2020</td> <th>  AIC                </th> <td>2460.154</td> \n",
       "</tr>\n",
       "<tr>\n",
       "  <th>Time:</th>                <td>00:17:44</td>     <th>  BIC                </th> <td>2475.743</td> \n",
       "</tr>\n",
       "<tr>\n",
       "  <th>Sample:</th>                  <td>0</td>        <th>  HQIC               </th> <td>2466.350</td> \n",
       "</tr>\n",
       "<tr>\n",
       "  <th></th>                      <td> - 365</td>      <th>                     </th>     <td> </td>    \n",
       "</tr>\n",
       "<tr>\n",
       "  <th>Covariance Type:</th>        <td>opg</td>       <th>                     </th>     <td> </td>    \n",
       "</tr>\n",
       "</table>\n",
       "<table class=\"simpletable\">\n",
       "<tr>\n",
       "      <td></td>         <th>coef</th>     <th>std err</th>      <th>z</th>      <th>P>|z|</th>  <th>[0.025</th>    <th>0.975]</th>  \n",
       "</tr>\n",
       "<tr>\n",
       "  <th>intercept</th> <td>    0.0132</td> <td>    0.014</td> <td>    0.975</td> <td> 0.330</td> <td>   -0.013</td> <td>    0.040</td>\n",
       "</tr>\n",
       "<tr>\n",
       "  <th>ar.L1</th>     <td>    0.1299</td> <td>    0.059</td> <td>    2.217</td> <td> 0.027</td> <td>    0.015</td> <td>    0.245</td>\n",
       "</tr>\n",
       "<tr>\n",
       "  <th>ma.L1</th>     <td>   -0.9694</td> <td>    0.016</td> <td>  -62.235</td> <td> 0.000</td> <td>   -1.000</td> <td>   -0.939</td>\n",
       "</tr>\n",
       "<tr>\n",
       "  <th>sigma2</th>    <td>   48.9989</td> <td>    3.432</td> <td>   14.279</td> <td> 0.000</td> <td>   42.273</td> <td>   55.725</td>\n",
       "</tr>\n",
       "</table>\n",
       "<table class=\"simpletable\">\n",
       "<tr>\n",
       "  <th>Ljung-Box (Q):</th>          <td>36.69</td> <th>  Jarque-Bera (JB):  </th> <td>26.17</td>\n",
       "</tr>\n",
       "<tr>\n",
       "  <th>Prob(Q):</th>                <td>0.62</td>  <th>  Prob(JB):          </th> <td>0.00</td> \n",
       "</tr>\n",
       "<tr>\n",
       "  <th>Heteroskedasticity (H):</th> <td>0.97</td>  <th>  Skew:              </th> <td>0.58</td> \n",
       "</tr>\n",
       "<tr>\n",
       "  <th>Prob(H) (two-sided):</th>    <td>0.85</td>  <th>  Kurtosis:          </th> <td>3.62</td> \n",
       "</tr>\n",
       "</table><br/><br/>Warnings:<br/>[1] Covariance matrix calculated using the outer product of gradients (complex-step)."
      ],
      "text/plain": [
       "<class 'statsmodels.iolib.summary.Summary'>\n",
       "\"\"\"\n",
       "                               SARIMAX Results                                \n",
       "==============================================================================\n",
       "Dep. Variable:                      y   No. Observations:                  365\n",
       "Model:               SARIMAX(1, 1, 1)   Log Likelihood               -1226.077\n",
       "Date:                Tue, 18 Feb 2020   AIC                           2460.154\n",
       "Time:                        00:17:44   BIC                           2475.743\n",
       "Sample:                             0   HQIC                          2466.350\n",
       "                                - 365                                         \n",
       "Covariance Type:                  opg                                         \n",
       "==============================================================================\n",
       "                 coef    std err          z      P>|z|      [0.025      0.975]\n",
       "------------------------------------------------------------------------------\n",
       "intercept      0.0132      0.014      0.975      0.330      -0.013       0.040\n",
       "ar.L1          0.1299      0.059      2.217      0.027       0.015       0.245\n",
       "ma.L1         -0.9694      0.016    -62.235      0.000      -1.000      -0.939\n",
       "sigma2        48.9989      3.432     14.279      0.000      42.273      55.725\n",
       "===================================================================================\n",
       "Ljung-Box (Q):                       36.69   Jarque-Bera (JB):                26.17\n",
       "Prob(Q):                              0.62   Prob(JB):                         0.00\n",
       "Heteroskedasticity (H):               0.97   Skew:                             0.58\n",
       "Prob(H) (two-sided):                  0.85   Kurtosis:                         3.62\n",
       "===================================================================================\n",
       "\n",
       "Warnings:\n",
       "[1] Covariance matrix calculated using the outer product of gradients (complex-step).\n",
       "\"\"\""
      ]
     },
     "execution_count": 6,
     "metadata": {},
     "output_type": "execute_result"
    }
   ],
   "source": [
    "stepwise_fit.summary()"
   ]
  },
  {
   "cell_type": "raw",
   "metadata": {},
   "source": [
    "Now we can now create an ARIMA model for stationary data (i.e FemaleBirth) using stats models with (p,d,q) = (1,1,1) respectively.!"
   ]
  },
  {
   "cell_type": "markdown",
   "metadata": {},
   "source": [
    "##### Firstly, lets check Optimal values of (p,d,q) for non-stationary dataset i.e. Airline"
   ]
  },
  {
   "cell_type": "code",
   "execution_count": 7,
   "metadata": {},
   "outputs": [],
   "source": [
    "from pmdarima import auto_arima"
   ]
  },
  {
   "cell_type": "code",
   "execution_count": 8,
   "metadata": {},
   "outputs": [
    {
     "name": "stdout",
     "output_type": "stream",
     "text": [
      "Performing stepwise search to minimize aic\n",
      "Fit ARIMA: (0, 1, 0)x(1, 1, 1, 12) (constant=True); AIC=1034.075, BIC=1045.576, Time=0.529 seconds\n",
      "Fit ARIMA: (0, 1, 0)x(0, 1, 0, 12) (constant=True); AIC=1033.479, BIC=1039.229, Time=0.020 seconds\n",
      "Fit ARIMA: (1, 1, 0)x(1, 1, 0, 12) (constant=True); AIC=1022.316, BIC=1033.817, Time=0.406 seconds\n",
      "Fit ARIMA: (0, 1, 1)x(0, 1, 1, 12) (constant=True); AIC=1022.904, BIC=1034.405, Time=0.470 seconds\n",
      "Fit ARIMA: (0, 1, 0)x(0, 1, 0, 12) (constant=False); AIC=1031.508, BIC=1034.383, Time=0.019 seconds\n",
      "Fit ARIMA: (1, 1, 0)x(0, 1, 0, 12) (constant=True); AIC=1022.343, BIC=1030.968, Time=0.119 seconds\n",
      "Fit ARIMA: (1, 1, 0)x(2, 1, 0, 12) (constant=True); AIC=1021.137, BIC=1035.513, Time=1.318 seconds\n",
      "Fit ARIMA: (1, 1, 0)x(2, 1, 1, 12) (constant=True); AIC=1017.164, BIC=1034.415, Time=4.734 seconds\n",
      "Near non-invertible roots for order (1, 1, 0)(2, 1, 1, 12); setting score to inf (at least one inverse root too close to the border of the unit circle: 0.998)\n",
      "Fit ARIMA: (1, 1, 0)x(1, 1, 1, 12) (constant=True); AIC=1022.410, BIC=1036.786, Time=0.902 seconds\n",
      "Fit ARIMA: (0, 1, 0)x(2, 1, 0, 12) (constant=True); AIC=1034.067, BIC=1045.568, Time=0.887 seconds\n",
      "Fit ARIMA: (2, 1, 0)x(2, 1, 0, 12) (constant=True); AIC=1023.007, BIC=1040.258, Time=1.658 seconds\n",
      "Fit ARIMA: (1, 1, 1)x(2, 1, 0, 12) (constant=True); AIC=1022.905, BIC=1040.156, Time=1.537 seconds\n",
      "Fit ARIMA: (0, 1, 1)x(2, 1, 0, 12) (constant=True); AIC=1021.017, BIC=1035.393, Time=0.861 seconds\n",
      "Fit ARIMA: (0, 1, 1)x(1, 1, 0, 12) (constant=True); AIC=1022.314, BIC=1033.815, Time=0.290 seconds\n"
     ]
    },
    {
     "name": "stderr",
     "output_type": "stream",
     "text": [
      "C:\\Users\\Admin\\AppData\\Roaming\\Python\\Python37\\site-packages\\statsmodels\\base\\model.py:568: ConvergenceWarning: Maximum Likelihood optimization failed to converge. Check mle_retvals\n",
      "  \"Check mle_retvals\", ConvergenceWarning)\n"
     ]
    },
    {
     "name": "stdout",
     "output_type": "stream",
     "text": [
      "Fit ARIMA: (0, 1, 1)x(2, 1, 1, 12) (constant=True); AIC=1015.841, BIC=1033.092, Time=3.736 seconds\n",
      "Near non-invertible roots for order (0, 1, 1)(2, 1, 1, 12); setting score to inf (at least one inverse root too close to the border of the unit circle: 0.998)\n",
      "Fit ARIMA: (0, 1, 1)x(1, 1, 1, 12) (constant=True); AIC=1022.207, BIC=1036.583, Time=0.959 seconds\n",
      "Fit ARIMA: (0, 1, 2)x(2, 1, 0, 12) (constant=True); AIC=1022.996, BIC=1040.247, Time=1.352 seconds\n",
      "Fit ARIMA: (1, 1, 2)x(2, 1, 0, 12) (constant=True); AIC=1024.668, BIC=1044.795, Time=2.595 seconds\n",
      "Total fit time: 22.449 seconds\n"
     ]
    }
   ],
   "source": [
    "stepwise_fit = auto_arima(df1['Passengers'],start_p=0,max_p=6,start_q=0,max_q=3,seasonal=True,m=12,trace=True)"
   ]
  },
  {
   "cell_type": "code",
   "execution_count": 9,
   "metadata": {},
   "outputs": [
    {
     "data": {
      "text/html": [
       "<table class=\"simpletable\">\n",
       "<caption>SARIMAX Results</caption>\n",
       "<tr>\n",
       "  <th>Dep. Variable:</th>                  <td>y</td>               <th>  No. Observations:  </th>    <td>144</td>  \n",
       "</tr>\n",
       "<tr>\n",
       "  <th>Model:</th>           <td>SARIMAX(0, 1, 1)x(2, 1, 1, 12)</td> <th>  Log Likelihood     </th> <td>-501.921</td>\n",
       "</tr>\n",
       "<tr>\n",
       "  <th>Date:</th>                   <td>Tue, 18 Feb 2020</td>        <th>  AIC                </th> <td>1015.841</td>\n",
       "</tr>\n",
       "<tr>\n",
       "  <th>Time:</th>                       <td>00:21:59</td>            <th>  BIC                </th> <td>1033.092</td>\n",
       "</tr>\n",
       "<tr>\n",
       "  <th>Sample:</th>                         <td>0</td>               <th>  HQIC               </th> <td>1022.851</td>\n",
       "</tr>\n",
       "<tr>\n",
       "  <th></th>                             <td> - 144</td>             <th>                     </th>     <td> </td>   \n",
       "</tr>\n",
       "<tr>\n",
       "  <th>Covariance Type:</th>               <td>opg</td>              <th>                     </th>     <td> </td>   \n",
       "</tr>\n",
       "</table>\n",
       "<table class=\"simpletable\">\n",
       "<tr>\n",
       "      <td></td>         <th>coef</th>     <th>std err</th>      <th>z</th>      <th>P>|z|</th>  <th>[0.025</th>    <th>0.975]</th>  \n",
       "</tr>\n",
       "<tr>\n",
       "  <th>intercept</th> <td>    0.0002</td> <td>    0.033</td> <td>    0.007</td> <td> 0.994</td> <td>   -0.064</td> <td>    0.065</td>\n",
       "</tr>\n",
       "<tr>\n",
       "  <th>ma.L1</th>     <td>   -0.4261</td> <td>    0.068</td> <td>   -6.255</td> <td> 0.000</td> <td>   -0.560</td> <td>   -0.293</td>\n",
       "</tr>\n",
       "<tr>\n",
       "  <th>ar.S.L12</th>  <td>    0.6722</td> <td>    0.162</td> <td>    4.155</td> <td> 0.000</td> <td>    0.355</td> <td>    0.989</td>\n",
       "</tr>\n",
       "<tr>\n",
       "  <th>ar.S.L24</th>  <td>    0.3268</td> <td>    0.094</td> <td>    3.481</td> <td> 0.000</td> <td>    0.143</td> <td>    0.511</td>\n",
       "</tr>\n",
       "<tr>\n",
       "  <th>ma.S.L12</th>  <td>   -0.9788</td> <td>    1.478</td> <td>   -0.662</td> <td> 0.508</td> <td>   -3.876</td> <td>    1.918</td>\n",
       "</tr>\n",
       "<tr>\n",
       "  <th>sigma2</th>    <td>  110.3866</td> <td>  139.923</td> <td>    0.789</td> <td> 0.430</td> <td> -163.858</td> <td>  384.631</td>\n",
       "</tr>\n",
       "</table>\n",
       "<table class=\"simpletable\">\n",
       "<tr>\n",
       "  <th>Ljung-Box (Q):</th>          <td>52.79</td> <th>  Jarque-Bera (JB):  </th> <td>7.34</td>\n",
       "</tr>\n",
       "<tr>\n",
       "  <th>Prob(Q):</th>                <td>0.08</td>  <th>  Prob(JB):          </th> <td>0.03</td>\n",
       "</tr>\n",
       "<tr>\n",
       "  <th>Heteroskedasticity (H):</th> <td>2.81</td>  <th>  Skew:              </th> <td>0.10</td>\n",
       "</tr>\n",
       "<tr>\n",
       "  <th>Prob(H) (two-sided):</th>    <td>0.00</td>  <th>  Kurtosis:          </th> <td>4.14</td>\n",
       "</tr>\n",
       "</table><br/><br/>Warnings:<br/>[1] Covariance matrix calculated using the outer product of gradients (complex-step)."
      ],
      "text/plain": [
       "<class 'statsmodels.iolib.summary.Summary'>\n",
       "\"\"\"\n",
       "                                     SARIMAX Results                                      \n",
       "==========================================================================================\n",
       "Dep. Variable:                                  y   No. Observations:                  144\n",
       "Model:             SARIMAX(0, 1, 1)x(2, 1, 1, 12)   Log Likelihood                -501.921\n",
       "Date:                            Tue, 18 Feb 2020   AIC                           1015.841\n",
       "Time:                                    00:21:59   BIC                           1033.092\n",
       "Sample:                                         0   HQIC                          1022.851\n",
       "                                            - 144                                         \n",
       "Covariance Type:                              opg                                         \n",
       "==============================================================================\n",
       "                 coef    std err          z      P>|z|      [0.025      0.975]\n",
       "------------------------------------------------------------------------------\n",
       "intercept      0.0002      0.033      0.007      0.994      -0.064       0.065\n",
       "ma.L1         -0.4261      0.068     -6.255      0.000      -0.560      -0.293\n",
       "ar.S.L12       0.6722      0.162      4.155      0.000       0.355       0.989\n",
       "ar.S.L24       0.3268      0.094      3.481      0.000       0.143       0.511\n",
       "ma.S.L12      -0.9788      1.478     -0.662      0.508      -3.876       1.918\n",
       "sigma2       110.3866    139.923      0.789      0.430    -163.858     384.631\n",
       "===================================================================================\n",
       "Ljung-Box (Q):                       52.79   Jarque-Bera (JB):                 7.34\n",
       "Prob(Q):                              0.08   Prob(JB):                         0.03\n",
       "Heteroskedasticity (H):               2.81   Skew:                             0.10\n",
       "Prob(H) (two-sided):                  0.00   Kurtosis:                         4.14\n",
       "===================================================================================\n",
       "\n",
       "Warnings:\n",
       "[1] Covariance matrix calculated using the outer product of gradients (complex-step).\n",
       "\"\"\""
      ]
     },
     "execution_count": 9,
     "metadata": {},
     "output_type": "execute_result"
    }
   ],
   "source": [
    "stepwise_fit.summary()"
   ]
  },
  {
   "cell_type": "raw",
   "metadata": {},
   "source": [
    "Now we can now create an ARIMA model for non-stationary data i.e. Airlines using stats models with (p,d,q) = (0,1,1) and (P,D,Q) = (2,1,1) respectively.!"
   ]
  },
  {
   "cell_type": "code",
   "execution_count": null,
   "metadata": {},
   "outputs": [],
   "source": []
  }
 ],
 "metadata": {
  "kernelspec": {
   "display_name": "Python 3",
   "language": "python",
   "name": "python3"
  },
  "language_info": {
   "codemirror_mode": {
    "name": "ipython",
    "version": 3
   },
   "file_extension": ".py",
   "mimetype": "text/x-python",
   "name": "python",
   "nbconvert_exporter": "python",
   "pygments_lexer": "ipython3",
   "version": "3.7.6"
  }
 },
 "nbformat": 4,
 "nbformat_minor": 2
}
