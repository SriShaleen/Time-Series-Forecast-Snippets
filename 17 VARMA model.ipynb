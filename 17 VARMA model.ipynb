{
 "cells": [
  {
   "cell_type": "raw",
   "metadata": {},
   "source": [
    "Good thing with the VARMA model is that we can use auto_arima for optimum AR and MA term of the model."
   ]
  },
  {
   "cell_type": "markdown",
   "metadata": {},
   "source": [
    "### VARMA(p,q) : Vector Auto Regression Moving Average models!"
   ]
  },
  {
   "cell_type": "code",
   "execution_count": 1,
   "metadata": {},
   "outputs": [],
   "source": [
    "import pandas as pd\n",
    "import numpy as np\n",
    "%matplotlib inline\n",
    "\n",
    "from statsmodels.tsa.statespace.varmax import VARMAX, VARMAXResults\n",
    "from statsmodels.tsa.stattools import adfuller\n",
    "from pmdarima import auto_arima\n",
    "from statsmodels.tools.eval_measures import rmse\n",
    "\n",
    "import warnings\n",
    "warnings.filterwarnings(\"ignore\")\n",
    "\n",
    "df = pd.read_csv(\"C:\\\\Users\\\\shaleens\\\\Desktop\\\\Projects\\\\TimeSeriesUdacity\\\\TS Udemy Vids\\\\Time Series 2\\\\VAR model dataset\\\\M2.csv\", index_col=0, parse_dates=True)\n",
    "df.index.freq = 'MS'\n",
    "\n",
    "sp = pd.read_csv(\"C:\\\\Users\\\\shaleens\\\\Desktop\\\\Projects\\\\TimeSeriesUdacity\\\\TS Udemy Vids\\\\Time Series 2\\\\VAR model dataset\\\\PCE.csv\", index_col=0, parse_dates=True)\n",
    "sp.index.freq = 'MS'"
   ]
  },
  {
   "cell_type": "code",
   "execution_count": 2,
   "metadata": {},
   "outputs": [],
   "source": [
    "df.rename(columns={'M2NS':'Money'}, inplace=True)"
   ]
  },
  {
   "cell_type": "code",
   "execution_count": 3,
   "metadata": {},
   "outputs": [],
   "source": [
    "sp.rename(columns={'PCE':'Spend'}, inplace=True)"
   ]
  },
  {
   "cell_type": "code",
   "execution_count": 4,
   "metadata": {},
   "outputs": [],
   "source": [
    "# Lets go ahead and combines the 2 dataframes:\n",
    "\n",
    "df = pd.merge(df, sp, how='inner', on='DATE')"
   ]
  },
  {
   "cell_type": "code",
   "execution_count": 5,
   "metadata": {},
   "outputs": [
    {
     "data": {
      "text/html": [
       "<div>\n",
       "<style scoped>\n",
       "    .dataframe tbody tr th:only-of-type {\n",
       "        vertical-align: middle;\n",
       "    }\n",
       "\n",
       "    .dataframe tbody tr th {\n",
       "        vertical-align: top;\n",
       "    }\n",
       "\n",
       "    .dataframe thead th {\n",
       "        text-align: right;\n",
       "    }\n",
       "</style>\n",
       "<table border=\"1\" class=\"dataframe\">\n",
       "  <thead>\n",
       "    <tr style=\"text-align: right;\">\n",
       "      <th></th>\n",
       "      <th>Money</th>\n",
       "      <th>Spend</th>\n",
       "    </tr>\n",
       "    <tr>\n",
       "      <th>DATE</th>\n",
       "      <th></th>\n",
       "      <th></th>\n",
       "    </tr>\n",
       "  </thead>\n",
       "  <tbody>\n",
       "    <tr>\n",
       "      <td>1995-01-01</td>\n",
       "      <td>3495.3</td>\n",
       "      <td>4851.2</td>\n",
       "    </tr>\n",
       "    <tr>\n",
       "      <td>1995-02-01</td>\n",
       "      <td>3474.9</td>\n",
       "      <td>4850.8</td>\n",
       "    </tr>\n",
       "    <tr>\n",
       "      <td>1995-03-01</td>\n",
       "      <td>3491.7</td>\n",
       "      <td>4885.4</td>\n",
       "    </tr>\n",
       "    <tr>\n",
       "      <td>1995-04-01</td>\n",
       "      <td>3522.4</td>\n",
       "      <td>4890.2</td>\n",
       "    </tr>\n",
       "    <tr>\n",
       "      <td>1995-05-01</td>\n",
       "      <td>3506.7</td>\n",
       "      <td>4933.1</td>\n",
       "    </tr>\n",
       "  </tbody>\n",
       "</table>\n",
       "</div>"
      ],
      "text/plain": [
       "             Money   Spend\n",
       "DATE                      \n",
       "1995-01-01  3495.3  4851.2\n",
       "1995-02-01  3474.9  4850.8\n",
       "1995-03-01  3491.7  4885.4\n",
       "1995-04-01  3522.4  4890.2\n",
       "1995-05-01  3506.7  4933.1"
      ]
     },
     "execution_count": 5,
     "metadata": {},
     "output_type": "execute_result"
    }
   ],
   "source": [
    "df.head()"
   ]
  },
  {
   "cell_type": "code",
   "execution_count": 6,
   "metadata": {},
   "outputs": [
    {
     "data": {
      "text/plain": [
       "(300, 2)"
      ]
     },
     "execution_count": 6,
     "metadata": {},
     "output_type": "execute_result"
    }
   ],
   "source": [
    "df.shape"
   ]
  },
  {
   "cell_type": "code",
   "execution_count": 7,
   "metadata": {},
   "outputs": [
    {
     "data": {
      "text/plain": [
       "(300, 2)"
      ]
     },
     "execution_count": 7,
     "metadata": {},
     "output_type": "execute_result"
    }
   ],
   "source": [
    "df.dropna().shape \n",
    "# This confirms that there is no null value to be treated"
   ]
  },
  {
   "cell_type": "code",
   "execution_count": 8,
   "metadata": {},
   "outputs": [],
   "source": [
    "df = df.iloc[:252]"
   ]
  },
  {
   "cell_type": "code",
   "execution_count": 9,
   "metadata": {},
   "outputs": [
    {
     "data": {
      "text/html": [
       "<div>\n",
       "<style scoped>\n",
       "    .dataframe tbody tr th:only-of-type {\n",
       "        vertical-align: middle;\n",
       "    }\n",
       "\n",
       "    .dataframe tbody tr th {\n",
       "        vertical-align: top;\n",
       "    }\n",
       "\n",
       "    .dataframe thead th {\n",
       "        text-align: right;\n",
       "    }\n",
       "</style>\n",
       "<table border=\"1\" class=\"dataframe\">\n",
       "  <thead>\n",
       "    <tr style=\"text-align: right;\">\n",
       "      <th></th>\n",
       "      <th>Money</th>\n",
       "      <th>Spend</th>\n",
       "    </tr>\n",
       "    <tr>\n",
       "      <th>DATE</th>\n",
       "      <th></th>\n",
       "      <th></th>\n",
       "    </tr>\n",
       "  </thead>\n",
       "  <tbody>\n",
       "    <tr>\n",
       "      <td>2015-08-01</td>\n",
       "      <td>12058.7</td>\n",
       "      <td>12387.0</td>\n",
       "    </tr>\n",
       "    <tr>\n",
       "      <td>2015-09-01</td>\n",
       "      <td>12126.3</td>\n",
       "      <td>12384.5</td>\n",
       "    </tr>\n",
       "    <tr>\n",
       "      <td>2015-10-01</td>\n",
       "      <td>12159.8</td>\n",
       "      <td>12387.3</td>\n",
       "    </tr>\n",
       "    <tr>\n",
       "      <td>2015-11-01</td>\n",
       "      <td>12286.2</td>\n",
       "      <td>12422.8</td>\n",
       "    </tr>\n",
       "    <tr>\n",
       "      <td>2015-12-01</td>\n",
       "      <td>12416.1</td>\n",
       "      <td>12453.8</td>\n",
       "    </tr>\n",
       "  </tbody>\n",
       "</table>\n",
       "</div>"
      ],
      "text/plain": [
       "              Money    Spend\n",
       "DATE                        \n",
       "2015-08-01  12058.7  12387.0\n",
       "2015-09-01  12126.3  12384.5\n",
       "2015-10-01  12159.8  12387.3\n",
       "2015-11-01  12286.2  12422.8\n",
       "2015-12-01  12416.1  12453.8"
      ]
     },
     "execution_count": 9,
     "metadata": {},
     "output_type": "execute_result"
    }
   ],
   "source": [
    "df.tail()"
   ]
  },
  {
   "cell_type": "code",
   "execution_count": 10,
   "metadata": {},
   "outputs": [
    {
     "data": {
      "text/plain": [
       "<matplotlib.axes._subplots.AxesSubplot at 0x1b89e5b7688>"
      ]
     },
     "execution_count": 10,
     "metadata": {},
     "output_type": "execute_result"
    },
    {
     "data": {
      "image/png": "[encoded data removed]",
      "text/plain": [
       "<Figure size 864x576 with 1 Axes>"
      ]
     },
     "metadata": {
      "needs_background": "light"
     },
     "output_type": "display_data"
    }
   ],
   "source": [
    "df.plot(figsize=(12,8))"
   ]
  },
  {
   "cell_type": "markdown",
   "metadata": {},
   "source": [
    "##### Now, we will perform auto_arima prediction to identify optimal p and q orders:"
   ]
  },
  {
   "cell_type": "code",
   "execution_count": 11,
   "metadata": {},
   "outputs": [
    {
     "data": {
      "text/plain": [
       "ARIMA(maxiter=1000, method='lbfgs', order=(2, 2, 3), out_of_sample_size=0,\n",
       "      scoring='mse', scoring_args=None, seasonal_order=(0, 0, 0, 0),\n",
       "      start_params=None, suppress_warnings=False, trend=None,\n",
       "      with_intercept=True)"
      ]
     },
     "execution_count": 11,
     "metadata": {},
     "output_type": "execute_result"
    }
   ],
   "source": [
    "auto_arima(df['Money'], maxiter=1000)"
   ]
  },
  {
   "cell_type": "code",
   "execution_count": 12,
   "metadata": {},
   "outputs": [
    {
     "data": {
      "text/plain": [
       "ARIMA(maxiter=1000, method='lbfgs', order=(1, 1, 2), out_of_sample_size=0,\n",
       "      scoring='mse', scoring_args=None, seasonal_order=(0, 0, 0, 0),\n",
       "      start_params=None, suppress_warnings=False, trend=None,\n",
       "      with_intercept=True)"
      ]
     },
     "execution_count": 12,
     "metadata": {},
     "output_type": "execute_result"
    }
   ],
   "source": [
    "auto_arima(df['Spend'], maxiter=1000)"
   ]
  },
  {
   "cell_type": "markdown",
   "metadata": {},
   "source": [
    "##### Since, auto_arima already informed us abt stationarity of series, we dont need to run Dickey-fuller!\n",
    "##### Rather directly diff the series to majke it Stationary!"
   ]
  },
  {
   "cell_type": "code",
   "execution_count": 16,
   "metadata": {},
   "outputs": [
    {
     "data": {
      "text/html": [
       "<div>\n",
       "<style scoped>\n",
       "    .dataframe tbody tr th:only-of-type {\n",
       "        vertical-align: middle;\n",
       "    }\n",
       "\n",
       "    .dataframe tbody tr th {\n",
       "        vertical-align: top;\n",
       "    }\n",
       "\n",
       "    .dataframe thead th {\n",
       "        text-align: right;\n",
       "    }\n",
       "</style>\n",
       "<table border=\"1\" class=\"dataframe\">\n",
       "  <thead>\n",
       "    <tr style=\"text-align: right;\">\n",
       "      <th></th>\n",
       "      <th>Money</th>\n",
       "      <th>Spend</th>\n",
       "    </tr>\n",
       "    <tr>\n",
       "      <th>DATE</th>\n",
       "      <th></th>\n",
       "      <th></th>\n",
       "    </tr>\n",
       "  </thead>\n",
       "  <tbody>\n",
       "    <tr>\n",
       "      <td>1995-03-01</td>\n",
       "      <td>37.2</td>\n",
       "      <td>35.0</td>\n",
       "    </tr>\n",
       "    <tr>\n",
       "      <td>1995-04-01</td>\n",
       "      <td>13.9</td>\n",
       "      <td>-29.8</td>\n",
       "    </tr>\n",
       "    <tr>\n",
       "      <td>1995-05-01</td>\n",
       "      <td>-46.4</td>\n",
       "      <td>38.1</td>\n",
       "    </tr>\n",
       "    <tr>\n",
       "      <td>1995-06-01</td>\n",
       "      <td>54.5</td>\n",
       "      <td>1.5</td>\n",
       "    </tr>\n",
       "    <tr>\n",
       "      <td>1995-07-01</td>\n",
       "      <td>-14.6</td>\n",
       "      <td>-51.7</td>\n",
       "    </tr>\n",
       "  </tbody>\n",
       "</table>\n",
       "</div>"
      ],
      "text/plain": [
       "            Money  Spend\n",
       "DATE                    \n",
       "1995-03-01   37.2   35.0\n",
       "1995-04-01   13.9  -29.8\n",
       "1995-05-01  -46.4   38.1\n",
       "1995-06-01   54.5    1.5\n",
       "1995-07-01  -14.6  -51.7"
      ]
     },
     "execution_count": 16,
     "metadata": {},
     "output_type": "execute_result"
    }
   ],
   "source": [
    "# Using inbuilt function of pandas dataframe for differencing the series:\n",
    "\n",
    "df_transformed = df.diff().diff()\n",
    "df_transformed = df_transformed.dropna()\n",
    "df_transformed.head()"
   ]
  },
  {
   "cell_type": "markdown",
   "metadata": {},
   "source": [
    "##### Notice that we have performed doubke differencing as suggested by auto_arima and we can see we have lost 2 rows of data i.e for Jan month and Feb month!"
   ]
  },
  {
   "cell_type": "markdown",
   "metadata": {},
   "source": [
    "##### Now the columns in dataframe are completely stationary!"
   ]
  },
  {
   "cell_type": "code",
   "execution_count": 17,
   "metadata": {},
   "outputs": [
    {
     "data": {
      "text/plain": [
       "(250, 2)"
      ]
     },
     "execution_count": 17,
     "metadata": {},
     "output_type": "execute_result"
    }
   ],
   "source": [
    "df_transformed.shape"
   ]
  },
  {
   "cell_type": "markdown",
   "metadata": {},
   "source": [
    "##### Train-test split:"
   ]
  },
  {
   "cell_type": "code",
   "execution_count": 18,
   "metadata": {},
   "outputs": [],
   "source": [
    "n_obs = 12\n",
    "\n",
    "train = df_transformed[:-n_obs]\n",
    "test = df_transformed[-n_obs:]"
   ]
  },
  {
   "cell_type": "code",
   "execution_count": 19,
   "metadata": {},
   "outputs": [
    {
     "data": {
      "text/plain": [
       "((238, 2), (12, 2))"
      ]
     },
     "execution_count": 19,
     "metadata": {},
     "output_type": "execute_result"
    }
   ],
   "source": [
    "train.shape, test.shape"
   ]
  },
  {
   "cell_type": "markdown",
   "metadata": {},
   "source": [
    "##### Fit the VARMA model:"
   ]
  },
  {
   "cell_type": "raw",
   "metadata": {},
   "source": [
    "auto_arima for 2 series were suggesting (1,2) and (2,3) for val of (p,q). So, i tried both and used one which is giving leser AIC!"
   ]
  },
  {
   "cell_type": "code",
   "execution_count": 26,
   "metadata": {},
   "outputs": [],
   "source": [
    "model = VARMAX(train, order=(1,2), trend='c')"
   ]
  },
  {
   "cell_type": "code",
   "execution_count": 27,
   "metadata": {},
   "outputs": [],
   "source": [
    "results = model.fit(maxiter=1000, disp=False) #disp is display"
   ]
  },
  {
   "cell_type": "code",
   "execution_count": 28,
   "metadata": {},
   "outputs": [
    {
     "data": {
      "text/html": [
       "<table class=\"simpletable\">\n",
       "<caption>Statespace Model Results</caption>\n",
       "<tr>\n",
       "  <th>Dep. Variable:</th>   <td>['Money', 'Spend']</td> <th>  No. Observations:  </th>    <td>238</td>   \n",
       "</tr>\n",
       "<tr>\n",
       "  <th>Model:</th>               <td>VARMA(1,2)</td>     <th>  Log Likelihood     </th> <td>-2389.242</td>\n",
       "</tr>\n",
       "<tr>\n",
       "  <th></th>                     <td>+ intercept</td>    <th>  AIC                </th> <td>4812.484</td> \n",
       "</tr>\n",
       "<tr>\n",
       "  <th>Date:</th>             <td>Mon, 02 Mar 2020</td>  <th>  BIC                </th> <td>4871.512</td> \n",
       "</tr>\n",
       "<tr>\n",
       "  <th>Time:</th>                 <td>23:09:55</td>      <th>  HQIC               </th> <td>4836.273</td> \n",
       "</tr>\n",
       "<tr>\n",
       "  <th>Sample:</th>              <td>03-01-1995</td>     <th>                     </th>     <td> </td>    \n",
       "</tr>\n",
       "<tr>\n",
       "  <th></th>                    <td>- 12-01-2014</td>    <th>                     </th>     <td> </td>    \n",
       "</tr>\n",
       "<tr>\n",
       "  <th>Covariance Type:</th>         <td>opg</td>        <th>                     </th>     <td> </td>    \n",
       "</tr>\n",
       "</table>\n",
       "<table class=\"simpletable\">\n",
       "<tr>\n",
       "  <th>Ljung-Box (Q):</th>          <td>320.40, 32.04</td> <th>  Jarque-Bera (JB):  </th> <td>4.15, 72.57</td>\n",
       "</tr>\n",
       "<tr>\n",
       "  <th>Prob(Q):</th>                 <td>0.00, 0.81</td>   <th>  Prob(JB):          </th> <td>0.13, 0.00</td> \n",
       "</tr>\n",
       "<tr>\n",
       "  <th>Heteroskedasticity (H):</th>  <td>3.76, 2.46</td>   <th>  Skew:              </th> <td>0.10, -0.15</td>\n",
       "</tr>\n",
       "<tr>\n",
       "  <th>Prob(H) (two-sided):</th>     <td>0.00, 0.00</td>   <th>  Kurtosis:          </th> <td>3.62, 5.69</td> \n",
       "</tr>\n",
       "</table>\n",
       "<table class=\"simpletable\">\n",
       "<caption>Results for equation Money</caption>\n",
       "<tr>\n",
       "       <td></td>          <th>coef</th>     <th>std err</th>      <th>z</th>      <th>P>|z|</th>  <th>[0.025</th>    <th>0.975]</th>  \n",
       "</tr>\n",
       "<tr>\n",
       "  <th>intercept</th>   <td>    0.3147</td> <td>    0.150</td> <td>    2.092</td> <td> 0.036</td> <td>    0.020</td> <td>    0.609</td>\n",
       "</tr>\n",
       "<tr>\n",
       "  <th>L1.Money</th>    <td>   -0.4227</td> <td>    0.124</td> <td>   -3.419</td> <td> 0.001</td> <td>   -0.665</td> <td>   -0.180</td>\n",
       "</tr>\n",
       "<tr>\n",
       "  <th>L1.Spend</th>    <td>   -0.7996</td> <td>    0.376</td> <td>   -2.128</td> <td> 0.033</td> <td>   -1.536</td> <td>   -0.063</td>\n",
       "</tr>\n",
       "<tr>\n",
       "  <th>L1.e(Money)</th> <td>   -0.1771</td> <td>    5.063</td> <td>   -0.035</td> <td> 0.972</td> <td>  -10.100</td> <td>    9.746</td>\n",
       "</tr>\n",
       "<tr>\n",
       "  <th>L1.e(Spend)</th> <td>    0.8396</td> <td>    2.836</td> <td>    0.296</td> <td> 0.767</td> <td>   -4.719</td> <td>    6.398</td>\n",
       "</tr>\n",
       "<tr>\n",
       "  <th>L2.e(Money)</th> <td>   -0.8314</td> <td>    4.987</td> <td>   -0.167</td> <td> 0.868</td> <td>  -10.606</td> <td>    8.943</td>\n",
       "</tr>\n",
       "<tr>\n",
       "  <th>L2.e(Spend)</th> <td>   -0.7936</td> <td>    2.698</td> <td>   -0.294</td> <td> 0.769</td> <td>   -6.081</td> <td>    4.494</td>\n",
       "</tr>\n",
       "</table>\n",
       "<table class=\"simpletable\">\n",
       "<caption>Results for equation Spend</caption>\n",
       "<tr>\n",
       "       <td></td>          <th>coef</th>     <th>std err</th>      <th>z</th>      <th>P>|z|</th>  <th>[0.025</th>    <th>0.975]</th>  \n",
       "</tr>\n",
       "<tr>\n",
       "  <th>intercept</th>   <td>    0.1467</td> <td>    0.499</td> <td>    0.294</td> <td> 0.769</td> <td>   -0.831</td> <td>    1.124</td>\n",
       "</tr>\n",
       "<tr>\n",
       "  <th>L1.Money</th>    <td>    0.0635</td> <td>    0.081</td> <td>    0.786</td> <td> 0.432</td> <td>   -0.095</td> <td>    0.222</td>\n",
       "</tr>\n",
       "<tr>\n",
       "  <th>L1.Spend</th>    <td>   -1.0875</td> <td>    0.121</td> <td>   -8.967</td> <td> 0.000</td> <td>   -1.325</td> <td>   -0.850</td>\n",
       "</tr>\n",
       "<tr>\n",
       "  <th>L1.e(Money)</th> <td>   -0.0406</td> <td>    0.938</td> <td>   -0.043</td> <td> 0.965</td> <td>   -1.879</td> <td>    1.798</td>\n",
       "</tr>\n",
       "<tr>\n",
       "  <th>L1.e(Spend)</th> <td>    0.1779</td> <td>    0.547</td> <td>    0.325</td> <td> 0.745</td> <td>   -0.895</td> <td>    1.251</td>\n",
       "</tr>\n",
       "<tr>\n",
       "  <th>L2.e(Money)</th> <td>    0.0082</td> <td>    0.909</td> <td>    0.009</td> <td> 0.993</td> <td>   -1.773</td> <td>    1.790</td>\n",
       "</tr>\n",
       "<tr>\n",
       "  <th>L2.e(Spend)</th> <td>   -1.0045</td> <td>    0.497</td> <td>   -2.022</td> <td> 0.043</td> <td>   -1.978</td> <td>   -0.031</td>\n",
       "</tr>\n",
       "</table>\n",
       "<table class=\"simpletable\">\n",
       "<caption>Error covariance matrix</caption>\n",
       "<tr>\n",
       "            <td></td>              <th>coef</th>     <th>std err</th>      <th>z</th>      <th>P>|z|</th>  <th>[0.025</th>    <th>0.975]</th>  \n",
       "</tr>\n",
       "<tr>\n",
       "  <th>sqrt.var.Money</th>       <td>   39.6062</td> <td>   87.619</td> <td>    0.452</td> <td> 0.651</td> <td> -132.124</td> <td>  211.336</td>\n",
       "</tr>\n",
       "<tr>\n",
       "  <th>sqrt.cov.Money.Spend</th> <td>   -9.5400</td> <td>   53.948</td> <td>   -0.177</td> <td> 0.860</td> <td> -115.277</td> <td>   96.197</td>\n",
       "</tr>\n",
       "<tr>\n",
       "  <th>sqrt.var.Spend</th>       <td>   32.6334</td> <td>   19.575</td> <td>    1.667</td> <td> 0.095</td> <td>   -5.733</td> <td>   71.000</td>\n",
       "</tr>\n",
       "</table><br/><br/>Warnings:<br/>[1] Covariance matrix calculated using the outer product of gradients (complex-step)."
      ],
      "text/plain": [
       "<class 'statsmodels.iolib.summary.Summary'>\n",
       "\"\"\"\n",
       "                           Statespace Model Results                           \n",
       "==============================================================================\n",
       "Dep. Variable:     ['Money', 'Spend']   No. Observations:                  238\n",
       "Model:                     VARMA(1,2)   Log Likelihood               -2389.242\n",
       "                          + intercept   AIC                           4812.484\n",
       "Date:                Mon, 02 Mar 2020   BIC                           4871.512\n",
       "Time:                        23:09:55   HQIC                          4836.273\n",
       "Sample:                    03-01-1995                                         \n",
       "                         - 12-01-2014                                         \n",
       "Covariance Type:                  opg                                         \n",
       "===================================================================================\n",
       "Ljung-Box (Q):               320.40, 32.04   Jarque-Bera (JB):          4.15, 72.57\n",
       "Prob(Q):                        0.00, 0.81   Prob(JB):                   0.13, 0.00\n",
       "Heteroskedasticity (H):         3.76, 2.46   Skew:                      0.10, -0.15\n",
       "Prob(H) (two-sided):            0.00, 0.00   Kurtosis:                   3.62, 5.69\n",
       "                           Results for equation Money                          \n",
       "===============================================================================\n",
       "                  coef    std err          z      P>|z|      [0.025      0.975]\n",
       "-------------------------------------------------------------------------------\n",
       "intercept       0.3147      0.150      2.092      0.036       0.020       0.609\n",
       "L1.Money       -0.4227      0.124     -3.419      0.001      -0.665      -0.180\n",
       "L1.Spend       -0.7996      0.376     -2.128      0.033      -1.536      -0.063\n",
       "L1.e(Money)    -0.1771      5.063     -0.035      0.972     -10.100       9.746\n",
       "L1.e(Spend)     0.8396      2.836      0.296      0.767      -4.719       6.398\n",
       "L2.e(Money)    -0.8314      4.987     -0.167      0.868     -10.606       8.943\n",
       "L2.e(Spend)    -0.7936      2.698     -0.294      0.769      -6.081       4.494\n",
       "                           Results for equation Spend                          \n",
       "===============================================================================\n",
       "                  coef    std err          z      P>|z|      [0.025      0.975]\n",
       "-------------------------------------------------------------------------------\n",
       "intercept       0.1467      0.499      0.294      0.769      -0.831       1.124\n",
       "L1.Money        0.0635      0.081      0.786      0.432      -0.095       0.222\n",
       "L1.Spend       -1.0875      0.121     -8.967      0.000      -1.325      -0.850\n",
       "L1.e(Money)    -0.0406      0.938     -0.043      0.965      -1.879       1.798\n",
       "L1.e(Spend)     0.1779      0.547      0.325      0.745      -0.895       1.251\n",
       "L2.e(Money)     0.0082      0.909      0.009      0.993      -1.773       1.790\n",
       "L2.e(Spend)    -1.0045      0.497     -2.022      0.043      -1.978      -0.031\n",
       "                                Error covariance matrix                                 \n",
       "========================================================================================\n",
       "                           coef    std err          z      P>|z|      [0.025      0.975]\n",
       "----------------------------------------------------------------------------------------\n",
       "sqrt.var.Money          39.6062     87.619      0.452      0.651    -132.124     211.336\n",
       "sqrt.cov.Money.Spend    -9.5400     53.948     -0.177      0.860    -115.277      96.197\n",
       "sqrt.var.Spend          32.6334     19.575      1.667      0.095      -5.733      71.000\n",
       "========================================================================================\n",
       "\n",
       "Warnings:\n",
       "[1] Covariance matrix calculated using the outer product of gradients (complex-step).\n",
       "\"\"\""
      ]
     },
     "execution_count": 28,
     "metadata": {},
     "output_type": "execute_result"
    }
   ],
   "source": [
    "results.summary()"
   ]
  },
  {
   "cell_type": "raw",
   "metadata": {},
   "source": [
    "VARMAX forecast() function wont require to pass in a number of previous obs in form of ndarray or something. It directly forecasts output!"
   ]
  },
  {
   "cell_type": "code",
   "execution_count": 30,
   "metadata": {},
   "outputs": [],
   "source": [
    "df_forecast = results.forecast(12) # steps is number of periods to predict."
   ]
  },
  {
   "cell_type": "code",
   "execution_count": 31,
   "metadata": {},
   "outputs": [
    {
     "data": {
      "text/html": [
       "<div>\n",
       "<style scoped>\n",
       "    .dataframe tbody tr th:only-of-type {\n",
       "        vertical-align: middle;\n",
       "    }\n",
       "\n",
       "    .dataframe tbody tr th {\n",
       "        vertical-align: top;\n",
       "    }\n",
       "\n",
       "    .dataframe thead th {\n",
       "        text-align: right;\n",
       "    }\n",
       "</style>\n",
       "<table border=\"1\" class=\"dataframe\">\n",
       "  <thead>\n",
       "    <tr style=\"text-align: right;\">\n",
       "      <th></th>\n",
       "      <th>Money</th>\n",
       "      <th>Spend</th>\n",
       "    </tr>\n",
       "  </thead>\n",
       "  <tbody>\n",
       "    <tr>\n",
       "      <td>2015-01-01</td>\n",
       "      <td>-80.624140</td>\n",
       "      <td>16.801971</td>\n",
       "    </tr>\n",
       "    <tr>\n",
       "      <td>2015-02-01</td>\n",
       "      <td>-5.900099</td>\n",
       "      <td>16.418502</td>\n",
       "    </tr>\n",
       "    <tr>\n",
       "      <td>2015-03-01</td>\n",
       "      <td>-10.320018</td>\n",
       "      <td>-18.082846</td>\n",
       "    </tr>\n",
       "    <tr>\n",
       "      <td>2015-04-01</td>\n",
       "      <td>19.136004</td>\n",
       "      <td>19.155494</td>\n",
       "    </tr>\n",
       "    <tr>\n",
       "      <td>2015-05-01</td>\n",
       "      <td>-23.090683</td>\n",
       "      <td>-19.468230</td>\n",
       "    </tr>\n",
       "    <tr>\n",
       "      <td>2015-06-01</td>\n",
       "      <td>25.641614</td>\n",
       "      <td>19.850498</td>\n",
       "    </tr>\n",
       "    <tr>\n",
       "      <td>2015-07-01</td>\n",
       "      <td>-26.396176</td>\n",
       "      <td>-19.810603</td>\n",
       "    </tr>\n",
       "    <tr>\n",
       "      <td>2015-08-01</td>\n",
       "      <td>27.312529</td>\n",
       "      <td>20.012759</td>\n",
       "    </tr>\n",
       "    <tr>\n",
       "      <td>2015-09-01</td>\n",
       "      <td>-27.232175</td>\n",
       "      <td>-19.880872</td>\n",
       "    </tr>\n",
       "    <tr>\n",
       "      <td>2015-10-01</td>\n",
       "      <td>27.722073</td>\n",
       "      <td>20.036047</td>\n",
       "    </tr>\n",
       "    <tr>\n",
       "      <td>2015-11-01</td>\n",
       "      <td>-27.423901</td>\n",
       "      <td>-19.880172</td>\n",
       "    </tr>\n",
       "    <tr>\n",
       "      <td>2015-12-01</td>\n",
       "      <td>27.802550</td>\n",
       "      <td>20.023102</td>\n",
       "    </tr>\n",
       "  </tbody>\n",
       "</table>\n",
       "</div>"
      ],
      "text/plain": [
       "                Money      Spend\n",
       "2015-01-01 -80.624140  16.801971\n",
       "2015-02-01  -5.900099  16.418502\n",
       "2015-03-01 -10.320018 -18.082846\n",
       "2015-04-01  19.136004  19.155494\n",
       "2015-05-01 -23.090683 -19.468230\n",
       "2015-06-01  25.641614  19.850498\n",
       "2015-07-01 -26.396176 -19.810603\n",
       "2015-08-01  27.312529  20.012759\n",
       "2015-09-01 -27.232175 -19.880872\n",
       "2015-10-01  27.722073  20.036047\n",
       "2015-11-01 -27.423901 -19.880172\n",
       "2015-12-01  27.802550  20.023102"
      ]
     },
     "execution_count": 31,
     "metadata": {},
     "output_type": "execute_result"
    }
   ],
   "source": [
    "df_forecast"
   ]
  },
  {
   "cell_type": "raw",
   "metadata": {},
   "source": [
    "But, remember the pred value received is in the 2nd difference!\n",
    "We need to get the original data and then plot out how well we are performing!\n",
    "For this we need to essentially reverse the second difference and then reverse the 1st difference!\n",
    "i.e. Inverting the transformation!"
   ]
  },
  {
   "cell_type": "markdown",
   "metadata": {},
   "source": [
    "##### Inverting the Transformation:"
   ]
  },
  {
   "cell_type": "code",
   "execution_count": 33,
   "metadata": {},
   "outputs": [
    {
     "data": {
      "text/plain": [
       "Index(['Money', 'Spend'], dtype='object')"
      ]
     },
     "execution_count": 33,
     "metadata": {},
     "output_type": "execute_result"
    }
   ],
   "source": [
    "df_forecast.columns"
   ]
  },
  {
   "cell_type": "code",
   "execution_count": 34,
   "metadata": {},
   "outputs": [],
   "source": [
    "df_forecast['Money_1d'] = (df['Money'].iloc[-n_obs-1] - df['Money'].iloc[-n_obs-2]) + df_forecast['Money'].cumsum()\n",
    "\n",
    "df_forecast['MoneyForecast'] = df['Money'].iloc[-n_obs-1] + df_forecast['Money_1d'].cumsum()"
   ]
  },
  {
   "cell_type": "code",
   "execution_count": 35,
   "metadata": {},
   "outputs": [
    {
     "data": {
      "text/plain": [
       "<matplotlib.axes._subplots.AxesSubplot at 0x1b8a1fdb388>"
      ]
     },
     "execution_count": 35,
     "metadata": {},
     "output_type": "execute_result"
    },
    {
     "data": {
      "image/png": "[encoded data removed]",
      "text/plain": [
       "<Figure size 432x288 with 1 Axes>"
      ]
     },
     "metadata": {
      "needs_background": "light"
     },
     "output_type": "display_data"
    }
   ],
   "source": [
    "df_forecast['MoneyForecast'].plot()"
   ]
  },
  {
   "cell_type": "code",
   "execution_count": 36,
   "metadata": {},
   "outputs": [],
   "source": [
    "df_forecast['Spend_1d'] = (df['Spend'].iloc[-n_obs-1] - df['Spend'].iloc[-n_obs-2]) + df_forecast['Spend'].cumsum()\n",
    "\n",
    "df_forecast['SpendForecast'] = df['Spend'].iloc[-n_obs-1] + df_forecast['Spend_1d'].cumsum()"
   ]
  },
  {
   "cell_type": "code",
   "execution_count": 38,
   "metadata": {},
   "outputs": [
    {
     "data": {
      "text/plain": [
       "<matplotlib.axes._subplots.AxesSubplot at 0x1b8a359cfc8>"
      ]
     },
     "execution_count": 38,
     "metadata": {},
     "output_type": "execute_result"
    },
    {
     "data": {
      "image/png": "[encoded data removed]",
      "text/plain": [
       "<Figure size 432x288 with 1 Axes>"
      ]
     },
     "metadata": {
      "needs_background": "light"
     },
     "output_type": "display_data"
    }
   ],
   "source": [
    "df_forecast['SpendForecast'].plot()"
   ]
  },
  {
   "cell_type": "code",
   "execution_count": 39,
   "metadata": {},
   "outputs": [
    {
     "data": {
      "text/html": [
       "<div>\n",
       "<style scoped>\n",
       "    .dataframe tbody tr th:only-of-type {\n",
       "        vertical-align: middle;\n",
       "    }\n",
       "\n",
       "    .dataframe tbody tr th {\n",
       "        vertical-align: top;\n",
       "    }\n",
       "\n",
       "    .dataframe thead th {\n",
       "        text-align: right;\n",
       "    }\n",
       "</style>\n",
       "<table border=\"1\" class=\"dataframe\">\n",
       "  <thead>\n",
       "    <tr style=\"text-align: right;\">\n",
       "      <th></th>\n",
       "      <th>Money</th>\n",
       "      <th>Spend</th>\n",
       "      <th>Money_1d</th>\n",
       "      <th>MoneyForecast</th>\n",
       "      <th>Spend_1d</th>\n",
       "      <th>SpendForecast</th>\n",
       "    </tr>\n",
       "  </thead>\n",
       "  <tbody>\n",
       "    <tr>\n",
       "      <td>2015-01-01</td>\n",
       "      <td>-80.624140</td>\n",
       "      <td>16.801971</td>\n",
       "      <td>64.475860</td>\n",
       "      <td>11812.375860</td>\n",
       "      <td>31.601971</td>\n",
       "      <td>12096.601971</td>\n",
       "    </tr>\n",
       "    <tr>\n",
       "      <td>2015-02-01</td>\n",
       "      <td>-5.900099</td>\n",
       "      <td>16.418502</td>\n",
       "      <td>58.575761</td>\n",
       "      <td>11870.951621</td>\n",
       "      <td>48.020473</td>\n",
       "      <td>12144.622444</td>\n",
       "    </tr>\n",
       "    <tr>\n",
       "      <td>2015-03-01</td>\n",
       "      <td>-10.320018</td>\n",
       "      <td>-18.082846</td>\n",
       "      <td>48.255743</td>\n",
       "      <td>11919.207363</td>\n",
       "      <td>29.937628</td>\n",
       "      <td>12174.560072</td>\n",
       "    </tr>\n",
       "    <tr>\n",
       "      <td>2015-04-01</td>\n",
       "      <td>19.136004</td>\n",
       "      <td>19.155494</td>\n",
       "      <td>67.391747</td>\n",
       "      <td>11986.599110</td>\n",
       "      <td>49.093121</td>\n",
       "      <td>12223.653193</td>\n",
       "    </tr>\n",
       "    <tr>\n",
       "      <td>2015-05-01</td>\n",
       "      <td>-23.090683</td>\n",
       "      <td>-19.468230</td>\n",
       "      <td>44.301063</td>\n",
       "      <td>12030.900174</td>\n",
       "      <td>29.624892</td>\n",
       "      <td>12253.278085</td>\n",
       "    </tr>\n",
       "  </tbody>\n",
       "</table>\n",
       "</div>"
      ],
      "text/plain": [
       "                Money      Spend   Money_1d  MoneyForecast   Spend_1d  \\\n",
       "2015-01-01 -80.624140  16.801971  64.475860   11812.375860  31.601971   \n",
       "2015-02-01  -5.900099  16.418502  58.575761   11870.951621  48.020473   \n",
       "2015-03-01 -10.320018 -18.082846  48.255743   11919.207363  29.937628   \n",
       "2015-04-01  19.136004  19.155494  67.391747   11986.599110  49.093121   \n",
       "2015-05-01 -23.090683 -19.468230  44.301063   12030.900174  29.624892   \n",
       "\n",
       "            SpendForecast  \n",
       "2015-01-01   12096.601971  \n",
       "2015-02-01   12144.622444  \n",
       "2015-03-01   12174.560072  \n",
       "2015-04-01   12223.653193  \n",
       "2015-05-01   12253.278085  "
      ]
     },
     "execution_count": 39,
     "metadata": {},
     "output_type": "execute_result"
    }
   ],
   "source": [
    "df_forecast.head()"
   ]
  },
  {
   "cell_type": "code",
   "execution_count": 41,
   "metadata": {},
   "outputs": [
    {
     "data": {
      "text/html": [
       "<div>\n",
       "<style scoped>\n",
       "    .dataframe tbody tr th:only-of-type {\n",
       "        vertical-align: middle;\n",
       "    }\n",
       "\n",
       "    .dataframe tbody tr th {\n",
       "        vertical-align: top;\n",
       "    }\n",
       "\n",
       "    .dataframe thead th {\n",
       "        text-align: right;\n",
       "    }\n",
       "</style>\n",
       "<table border=\"1\" class=\"dataframe\">\n",
       "  <thead>\n",
       "    <tr style=\"text-align: right;\">\n",
       "      <th></th>\n",
       "      <th>Money</th>\n",
       "      <th>Spend</th>\n",
       "      <th>MoneyForecast</th>\n",
       "      <th>SpendForecast</th>\n",
       "    </tr>\n",
       "  </thead>\n",
       "  <tbody>\n",
       "    <tr>\n",
       "      <td>2015-01-01</td>\n",
       "      <td>11746.9</td>\n",
       "      <td>12039.9</td>\n",
       "      <td>11812.375860</td>\n",
       "      <td>12096.601971</td>\n",
       "    </tr>\n",
       "    <tr>\n",
       "      <td>2015-02-01</td>\n",
       "      <td>11835.1</td>\n",
       "      <td>12089.1</td>\n",
       "      <td>11870.951621</td>\n",
       "      <td>12144.622444</td>\n",
       "    </tr>\n",
       "    <tr>\n",
       "      <td>2015-03-01</td>\n",
       "      <td>11944.9</td>\n",
       "      <td>12145.7</td>\n",
       "      <td>11919.207363</td>\n",
       "      <td>12174.560072</td>\n",
       "    </tr>\n",
       "    <tr>\n",
       "      <td>2015-04-01</td>\n",
       "      <td>11992.7</td>\n",
       "      <td>12187.4</td>\n",
       "      <td>11986.599110</td>\n",
       "      <td>12223.653193</td>\n",
       "    </tr>\n",
       "    <tr>\n",
       "      <td>2015-05-01</td>\n",
       "      <td>11896.1</td>\n",
       "      <td>12261.1</td>\n",
       "      <td>12030.900174</td>\n",
       "      <td>12253.278085</td>\n",
       "    </tr>\n",
       "    <tr>\n",
       "      <td>2015-06-01</td>\n",
       "      <td>11950.7</td>\n",
       "      <td>12295.6</td>\n",
       "      <td>12100.842851</td>\n",
       "      <td>12302.753475</td>\n",
       "    </tr>\n",
       "    <tr>\n",
       "      <td>2015-07-01</td>\n",
       "      <td>12001.3</td>\n",
       "      <td>12357.1</td>\n",
       "      <td>12144.389353</td>\n",
       "      <td>12332.418262</td>\n",
       "    </tr>\n",
       "    <tr>\n",
       "      <td>2015-08-01</td>\n",
       "      <td>12058.7</td>\n",
       "      <td>12387.0</td>\n",
       "      <td>12215.248384</td>\n",
       "      <td>12382.095807</td>\n",
       "    </tr>\n",
       "    <tr>\n",
       "      <td>2015-09-01</td>\n",
       "      <td>12126.3</td>\n",
       "      <td>12384.5</td>\n",
       "      <td>12258.875239</td>\n",
       "      <td>12411.892481</td>\n",
       "    </tr>\n",
       "    <tr>\n",
       "      <td>2015-10-01</td>\n",
       "      <td>12159.8</td>\n",
       "      <td>12387.3</td>\n",
       "      <td>12330.224168</td>\n",
       "      <td>12461.725202</td>\n",
       "    </tr>\n",
       "    <tr>\n",
       "      <td>2015-11-01</td>\n",
       "      <td>12286.2</td>\n",
       "      <td>12422.8</td>\n",
       "      <td>12374.149195</td>\n",
       "      <td>12491.677752</td>\n",
       "    </tr>\n",
       "    <tr>\n",
       "      <td>2015-12-01</td>\n",
       "      <td>12416.1</td>\n",
       "      <td>12453.8</td>\n",
       "      <td>12445.876773</td>\n",
       "      <td>12541.653403</td>\n",
       "    </tr>\n",
       "  </tbody>\n",
       "</table>\n",
       "</div>"
      ],
      "text/plain": [
       "              Money    Spend  MoneyForecast  SpendForecast\n",
       "2015-01-01  11746.9  12039.9   11812.375860   12096.601971\n",
       "2015-02-01  11835.1  12089.1   11870.951621   12144.622444\n",
       "2015-03-01  11944.9  12145.7   11919.207363   12174.560072\n",
       "2015-04-01  11992.7  12187.4   11986.599110   12223.653193\n",
       "2015-05-01  11896.1  12261.1   12030.900174   12253.278085\n",
       "2015-06-01  11950.7  12295.6   12100.842851   12302.753475\n",
       "2015-07-01  12001.3  12357.1   12144.389353   12332.418262\n",
       "2015-08-01  12058.7  12387.0   12215.248384   12382.095807\n",
       "2015-09-01  12126.3  12384.5   12258.875239   12411.892481\n",
       "2015-10-01  12159.8  12387.3   12330.224168   12461.725202\n",
       "2015-11-01  12286.2  12422.8   12374.149195   12491.677752\n",
       "2015-12-01  12416.1  12453.8   12445.876773   12541.653403"
      ]
     },
     "execution_count": 41,
     "metadata": {},
     "output_type": "execute_result"
    }
   ],
   "source": [
    "pd.concat([df.iloc[-12:], df_forecast[['MoneyForecast','SpendForecast']]], axis=1)"
   ]
  },
  {
   "cell_type": "code",
   "execution_count": 43,
   "metadata": {},
   "outputs": [
    {
     "data": {
      "text/plain": [
       "<matplotlib.axes._subplots.AxesSubplot at 0x1b8a8628508>"
      ]
     },
     "execution_count": 43,
     "metadata": {},
     "output_type": "execute_result"
    },
    {
     "data": {
      "image/png": "[encoded data removed]",
      "text/plain": [
       "<Figure size 864x360 with 1 Axes>"
      ]
     },
     "metadata": {
      "needs_background": "light"
     },
     "output_type": "display_data"
    }
   ],
   "source": [
    "df['Money'][-n_obs:].plot(figsize=(12,5), legend=True)\n",
    "df_forecast['MoneyForecast'].plot(legend=True)"
   ]
  },
  {
   "cell_type": "code",
   "execution_count": 45,
   "metadata": {},
   "outputs": [
    {
     "data": {
      "text/plain": [
       "<matplotlib.axes._subplots.AxesSubplot at 0x1b8a866e188>"
      ]
     },
     "execution_count": 45,
     "metadata": {},
     "output_type": "execute_result"
    },
    {
     "data": {
      "image/png": "[encoded data removed]",
      "text/plain": [
       "<Figure size 864x360 with 1 Axes>"
      ]
     },
     "metadata": {
      "needs_background": "light"
     },
     "output_type": "display_data"
    }
   ],
   "source": [
    "df['Spend'][-n_obs:].plot(figsize=(12,5),legend=True)\n",
    "df_forecast['SpendForecast'].plot(legend=True)"
   ]
  },
  {
   "cell_type": "code",
   "execution_count": 46,
   "metadata": {},
   "outputs": [
    {
     "data": {
      "text/plain": [
       "<matplotlib.axes._subplots.AxesSubplot at 0x1b8a77ee0c8>"
      ]
     },
     "execution_count": 46,
     "metadata": {},
     "output_type": "execute_result"
    },
    {
     "data": {
      "image/png": "[encoded data removed]",
      "text/plain": [
       "<Figure size 1152x864 with 1 Axes>"
      ]
     },
     "metadata": {
      "needs_background": "light"
     },
     "output_type": "display_data"
    }
   ],
   "source": [
    "df_forecast['MoneyForecast'].rename('forecast money').plot(legend=True, figsize=(16,12))\n",
    "df_forecast['SpendForecast'].rename('forecast spend').plot(legend=True)"
   ]
  },
  {
   "cell_type": "code",
   "execution_count": 47,
   "metadata": {},
   "outputs": [
    {
     "data": {
      "text/plain": [
       "110.75799042535651"
      ]
     },
     "execution_count": 47,
     "metadata": {},
     "output_type": "execute_result"
    }
   ],
   "source": [
    "rmse(df['Money'][-n_obs:], df_forecast['MoneyForecast'])"
   ]
  },
  {
   "cell_type": "code",
   "execution_count": 48,
   "metadata": {},
   "outputs": [
    {
     "data": {
      "text/plain": [
       "12034.566666666668"
      ]
     },
     "execution_count": 48,
     "metadata": {},
     "output_type": "execute_result"
    }
   ],
   "source": [
    "df['Money'][-n_obs:].mean()"
   ]
  },
  {
   "cell_type": "code",
   "execution_count": 49,
   "metadata": {},
   "outputs": [
    {
     "data": {
      "text/plain": [
       "48.254940064250626"
      ]
     },
     "execution_count": 49,
     "metadata": {},
     "output_type": "execute_result"
    }
   ],
   "source": [
    "rmse(df['Spend'][-n_obs:], df_forecast['SpendForecast'])"
   ]
  },
  {
   "cell_type": "markdown",
   "metadata": {},
   "source": [
    "##### We can see we managed to reduce the error in the Money column upto great extent! However, there is a very very slight increase in error of Spend as compared to VAR model!"
   ]
  },
  {
   "cell_type": "markdown",
   "metadata": {},
   "source": [
    "Still, we can say VARMA is performing pretty decent on our dataset"
   ]
  },
  {
   "cell_type": "markdown",
   "metadata": {},
   "source": [
    "---------"
   ]
  },
  {
   "cell_type": "markdown",
   "metadata": {},
   "source": [
    "##### Lets try and compare these results to individual ARMA(1,2) model\n",
    "##### i.e. we are assuming no relationship between the two series!"
   ]
  },
  {
   "cell_type": "code",
   "execution_count": 51,
   "metadata": {},
   "outputs": [],
   "source": [
    "from statsmodels.tsa.arima_model import ARMA, ARMAResults"
   ]
  },
  {
   "cell_type": "markdown",
   "metadata": {},
   "source": [
    "##### Money:"
   ]
  },
  {
   "cell_type": "code",
   "execution_count": 52,
   "metadata": {},
   "outputs": [
    {
     "data": {
      "text/html": [
       "<table class=\"simpletable\">\n",
       "<caption>ARMA Model Results</caption>\n",
       "<tr>\n",
       "  <th>Dep. Variable:</th>       <td>Money</td>      <th>  No. Observations:  </th>    <td>238</td>   \n",
       "</tr>\n",
       "<tr>\n",
       "  <th>Model:</th>            <td>ARMA(1, 2)</td>    <th>  Log Likelihood     </th> <td>-1234.869</td>\n",
       "</tr>\n",
       "<tr>\n",
       "  <th>Method:</th>             <td>css-mle</td>     <th>  S.D. of innovations</th>  <td>42.880</td>  \n",
       "</tr>\n",
       "<tr>\n",
       "  <th>Date:</th>          <td>Mon, 02 Mar 2020</td> <th>  AIC                </th> <td>2479.738</td> \n",
       "</tr>\n",
       "<tr>\n",
       "  <th>Time:</th>              <td>23:36:50</td>     <th>  BIC                </th> <td>2497.099</td> \n",
       "</tr>\n",
       "<tr>\n",
       "  <th>Sample:</th>           <td>03-01-1995</td>    <th>  HQIC               </th> <td>2486.735</td> \n",
       "</tr>\n",
       "<tr>\n",
       "  <th></th>                 <td>- 12-01-2014</td>   <th>                     </th>     <td> </td>    \n",
       "</tr>\n",
       "</table>\n",
       "<table class=\"simpletable\">\n",
       "<tr>\n",
       "       <td></td>          <th>coef</th>     <th>std err</th>      <th>z</th>      <th>P>|z|</th>  <th>[0.025</th>    <th>0.975]</th>  \n",
       "</tr>\n",
       "<tr>\n",
       "  <th>const</th>       <td>    0.1902</td> <td>    0.045</td> <td>    4.266</td> <td> 0.000</td> <td>    0.103</td> <td>    0.278</td>\n",
       "</tr>\n",
       "<tr>\n",
       "  <th>ar.L1.Money</th> <td>   -0.4459</td> <td>    0.129</td> <td>   -3.465</td> <td> 0.001</td> <td>   -0.698</td> <td>   -0.194</td>\n",
       "</tr>\n",
       "<tr>\n",
       "  <th>ma.L1.Money</th> <td>   -0.3950</td> <td>    0.105</td> <td>   -3.754</td> <td> 0.000</td> <td>   -0.601</td> <td>   -0.189</td>\n",
       "</tr>\n",
       "<tr>\n",
       "  <th>ma.L2.Money</th> <td>   -0.6050</td> <td>    0.105</td> <td>   -5.775</td> <td> 0.000</td> <td>   -0.810</td> <td>   -0.400</td>\n",
       "</tr>\n",
       "</table>\n",
       "<table class=\"simpletable\">\n",
       "<caption>Roots</caption>\n",
       "<tr>\n",
       "    <td></td>   <th>            Real</th>  <th>         Imaginary</th> <th>         Modulus</th>  <th>        Frequency</th>\n",
       "</tr>\n",
       "<tr>\n",
       "  <th>AR.1</th> <td>          -2.2426</td> <td>          +0.0000j</td> <td>           2.2426</td> <td>           0.5000</td>\n",
       "</tr>\n",
       "<tr>\n",
       "  <th>MA.1</th> <td>           1.0000</td> <td>          +0.0000j</td> <td>           1.0000</td> <td>           0.0000</td>\n",
       "</tr>\n",
       "<tr>\n",
       "  <th>MA.2</th> <td>          -1.6528</td> <td>          +0.0000j</td> <td>           1.6528</td> <td>           0.5000</td>\n",
       "</tr>\n",
       "</table>"
      ],
      "text/plain": [
       "<class 'statsmodels.iolib.summary.Summary'>\n",
       "\"\"\"\n",
       "                              ARMA Model Results                              \n",
       "==============================================================================\n",
       "Dep. Variable:                  Money   No. Observations:                  238\n",
       "Model:                     ARMA(1, 2)   Log Likelihood               -1234.869\n",
       "Method:                       css-mle   S.D. of innovations             42.880\n",
       "Date:                Mon, 02 Mar 2020   AIC                           2479.738\n",
       "Time:                        23:36:50   BIC                           2497.099\n",
       "Sample:                    03-01-1995   HQIC                          2486.735\n",
       "                         - 12-01-2014                                         \n",
       "===============================================================================\n",
       "                  coef    std err          z      P>|z|      [0.025      0.975]\n",
       "-------------------------------------------------------------------------------\n",
       "const           0.1902      0.045      4.266      0.000       0.103       0.278\n",
       "ar.L1.Money    -0.4459      0.129     -3.465      0.001      -0.698      -0.194\n",
       "ma.L1.Money    -0.3950      0.105     -3.754      0.000      -0.601      -0.189\n",
       "ma.L2.Money    -0.6050      0.105     -5.775      0.000      -0.810      -0.400\n",
       "                                    Roots                                    \n",
       "=============================================================================\n",
       "                  Real          Imaginary           Modulus         Frequency\n",
       "-----------------------------------------------------------------------------\n",
       "AR.1           -2.2426           +0.0000j            2.2426            0.5000\n",
       "MA.1            1.0000           +0.0000j            1.0000            0.0000\n",
       "MA.2           -1.6528           +0.0000j            1.6528            0.5000\n",
       "-----------------------------------------------------------------------------\n",
       "\"\"\""
      ]
     },
     "execution_count": 52,
     "metadata": {},
     "output_type": "execute_result"
    }
   ],
   "source": [
    "model = ARMA(train['Money'], order=(1,2))\n",
    "results = model.fit()\n",
    "results.summary()"
   ]
  },
  {
   "cell_type": "code",
   "execution_count": 53,
   "metadata": {},
   "outputs": [],
   "source": [
    "start = len(train)\n",
    "end = len(train) + len(test) - 1\n",
    "\n",
    "z1 = results.predict(start=start, end=end).rename('Money')\n",
    "z1 = pd.DataFrame(z1)"
   ]
  },
  {
   "cell_type": "code",
   "execution_count": 54,
   "metadata": {},
   "outputs": [
    {
     "data": {
      "text/html": [
       "<div>\n",
       "<style scoped>\n",
       "    .dataframe tbody tr th:only-of-type {\n",
       "        vertical-align: middle;\n",
       "    }\n",
       "\n",
       "    .dataframe tbody tr th {\n",
       "        vertical-align: top;\n",
       "    }\n",
       "\n",
       "    .dataframe thead th {\n",
       "        text-align: right;\n",
       "    }\n",
       "</style>\n",
       "<table border=\"1\" class=\"dataframe\">\n",
       "  <thead>\n",
       "    <tr style=\"text-align: right;\">\n",
       "      <th></th>\n",
       "      <th>Money</th>\n",
       "    </tr>\n",
       "  </thead>\n",
       "  <tbody>\n",
       "    <tr>\n",
       "      <td>2015-01-01</td>\n",
       "      <td>-75.021344</td>\n",
       "    </tr>\n",
       "    <tr>\n",
       "      <td>2015-02-01</td>\n",
       "      <td>-18.790995</td>\n",
       "    </tr>\n",
       "    <tr>\n",
       "      <td>2015-03-01</td>\n",
       "      <td>8.653972</td>\n",
       "    </tr>\n",
       "    <tr>\n",
       "      <td>2015-04-01</td>\n",
       "      <td>-3.583805</td>\n",
       "    </tr>\n",
       "    <tr>\n",
       "      <td>2015-05-01</td>\n",
       "      <td>1.873049</td>\n",
       "    </tr>\n",
       "    <tr>\n",
       "      <td>2015-06-01</td>\n",
       "      <td>-0.560175</td>\n",
       "    </tr>\n",
       "    <tr>\n",
       "      <td>2015-07-01</td>\n",
       "      <td>0.524805</td>\n",
       "    </tr>\n",
       "    <tr>\n",
       "      <td>2015-08-01</td>\n",
       "      <td>0.041010</td>\n",
       "    </tr>\n",
       "    <tr>\n",
       "      <td>2015-09-01</td>\n",
       "      <td>0.256736</td>\n",
       "    </tr>\n",
       "    <tr>\n",
       "      <td>2015-10-01</td>\n",
       "      <td>0.160543</td>\n",
       "    </tr>\n",
       "    <tr>\n",
       "      <td>2015-11-01</td>\n",
       "      <td>0.203436</td>\n",
       "    </tr>\n",
       "    <tr>\n",
       "      <td>2015-12-01</td>\n",
       "      <td>0.184310</td>\n",
       "    </tr>\n",
       "  </tbody>\n",
       "</table>\n",
       "</div>"
      ],
      "text/plain": [
       "                Money\n",
       "2015-01-01 -75.021344\n",
       "2015-02-01 -18.790995\n",
       "2015-03-01   8.653972\n",
       "2015-04-01  -3.583805\n",
       "2015-05-01   1.873049\n",
       "2015-06-01  -0.560175\n",
       "2015-07-01   0.524805\n",
       "2015-08-01   0.041010\n",
       "2015-09-01   0.256736\n",
       "2015-10-01   0.160543\n",
       "2015-11-01   0.203436\n",
       "2015-12-01   0.184310"
      ]
     },
     "execution_count": 54,
     "metadata": {},
     "output_type": "execute_result"
    }
   ],
   "source": [
    "z1"
   ]
  },
  {
   "cell_type": "code",
   "execution_count": 55,
   "metadata": {},
   "outputs": [],
   "source": [
    "z1['Money1d'] = (df['Money'].iloc[-n_obs-1] - df['Money'].iloc[-n_obs-2]) + z1['Money'].cumsum()\n",
    "\n",
    "z1['MoneyForecast'] = df['Money'].iloc[-n_obs-1] + z1['Money1d'].cumsum()"
   ]
  },
  {
   "cell_type": "code",
   "execution_count": 56,
   "metadata": {},
   "outputs": [
    {
     "data": {
      "text/html": [
       "<div>\n",
       "<style scoped>\n",
       "    .dataframe tbody tr th:only-of-type {\n",
       "        vertical-align: middle;\n",
       "    }\n",
       "\n",
       "    .dataframe tbody tr th {\n",
       "        vertical-align: top;\n",
       "    }\n",
       "\n",
       "    .dataframe thead th {\n",
       "        text-align: right;\n",
       "    }\n",
       "</style>\n",
       "<table border=\"1\" class=\"dataframe\">\n",
       "  <thead>\n",
       "    <tr style=\"text-align: right;\">\n",
       "      <th></th>\n",
       "      <th>Money</th>\n",
       "      <th>Money1d</th>\n",
       "      <th>MoneyForecast</th>\n",
       "    </tr>\n",
       "  </thead>\n",
       "  <tbody>\n",
       "    <tr>\n",
       "      <td>2015-01-01</td>\n",
       "      <td>-75.021344</td>\n",
       "      <td>70.078656</td>\n",
       "      <td>11817.978656</td>\n",
       "    </tr>\n",
       "    <tr>\n",
       "      <td>2015-02-01</td>\n",
       "      <td>-18.790995</td>\n",
       "      <td>51.287662</td>\n",
       "      <td>11869.266318</td>\n",
       "    </tr>\n",
       "    <tr>\n",
       "      <td>2015-03-01</td>\n",
       "      <td>8.653972</td>\n",
       "      <td>59.941633</td>\n",
       "      <td>11929.207951</td>\n",
       "    </tr>\n",
       "    <tr>\n",
       "      <td>2015-04-01</td>\n",
       "      <td>-3.583805</td>\n",
       "      <td>56.357829</td>\n",
       "      <td>11985.565780</td>\n",
       "    </tr>\n",
       "    <tr>\n",
       "      <td>2015-05-01</td>\n",
       "      <td>1.873049</td>\n",
       "      <td>58.230878</td>\n",
       "      <td>12043.796658</td>\n",
       "    </tr>\n",
       "    <tr>\n",
       "      <td>2015-06-01</td>\n",
       "      <td>-0.560175</td>\n",
       "      <td>57.670703</td>\n",
       "      <td>12101.467361</td>\n",
       "    </tr>\n",
       "    <tr>\n",
       "      <td>2015-07-01</td>\n",
       "      <td>0.524805</td>\n",
       "      <td>58.195508</td>\n",
       "      <td>12159.662869</td>\n",
       "    </tr>\n",
       "    <tr>\n",
       "      <td>2015-08-01</td>\n",
       "      <td>0.041010</td>\n",
       "      <td>58.236518</td>\n",
       "      <td>12217.899387</td>\n",
       "    </tr>\n",
       "    <tr>\n",
       "      <td>2015-09-01</td>\n",
       "      <td>0.256736</td>\n",
       "      <td>58.493254</td>\n",
       "      <td>12276.392641</td>\n",
       "    </tr>\n",
       "    <tr>\n",
       "      <td>2015-10-01</td>\n",
       "      <td>0.160543</td>\n",
       "      <td>58.653797</td>\n",
       "      <td>12335.046438</td>\n",
       "    </tr>\n",
       "    <tr>\n",
       "      <td>2015-11-01</td>\n",
       "      <td>0.203436</td>\n",
       "      <td>58.857232</td>\n",
       "      <td>12393.903670</td>\n",
       "    </tr>\n",
       "    <tr>\n",
       "      <td>2015-12-01</td>\n",
       "      <td>0.184310</td>\n",
       "      <td>59.041542</td>\n",
       "      <td>12452.945213</td>\n",
       "    </tr>\n",
       "  </tbody>\n",
       "</table>\n",
       "</div>"
      ],
      "text/plain": [
       "                Money    Money1d  MoneyForecast\n",
       "2015-01-01 -75.021344  70.078656   11817.978656\n",
       "2015-02-01 -18.790995  51.287662   11869.266318\n",
       "2015-03-01   8.653972  59.941633   11929.207951\n",
       "2015-04-01  -3.583805  56.357829   11985.565780\n",
       "2015-05-01   1.873049  58.230878   12043.796658\n",
       "2015-06-01  -0.560175  57.670703   12101.467361\n",
       "2015-07-01   0.524805  58.195508   12159.662869\n",
       "2015-08-01   0.041010  58.236518   12217.899387\n",
       "2015-09-01   0.256736  58.493254   12276.392641\n",
       "2015-10-01   0.160543  58.653797   12335.046438\n",
       "2015-11-01   0.203436  58.857232   12393.903670\n",
       "2015-12-01   0.184310  59.041542   12452.945213"
      ]
     },
     "execution_count": 56,
     "metadata": {},
     "output_type": "execute_result"
    }
   ],
   "source": [
    "z1"
   ]
  },
  {
   "cell_type": "code",
   "execution_count": 57,
   "metadata": {},
   "outputs": [
    {
     "data": {
      "text/plain": [
       "118.20947449892496"
      ]
     },
     "execution_count": 57,
     "metadata": {},
     "output_type": "execute_result"
    }
   ],
   "source": [
    "rmse(df['Money'][-n_obs:], z1['MoneyForecast'])"
   ]
  },
  {
   "cell_type": "markdown",
   "metadata": {},
   "source": [
    "##### Now, for Spend column:"
   ]
  },
  {
   "cell_type": "code",
   "execution_count": 59,
   "metadata": {},
   "outputs": [
    {
     "data": {
      "text/html": [
       "<table class=\"simpletable\">\n",
       "<caption>ARMA Model Results</caption>\n",
       "<tr>\n",
       "  <th>Dep. Variable:</th>       <td>Spend</td>      <th>  No. Observations:  </th>    <td>238</td>   \n",
       "</tr>\n",
       "<tr>\n",
       "  <th>Model:</th>            <td>ARMA(1, 2)</td>    <th>  Log Likelihood     </th> <td>-1182.737</td>\n",
       "</tr>\n",
       "<tr>\n",
       "  <th>Method:</th>             <td>css-mle</td>     <th>  S.D. of innovations</th>  <td>34.709</td>  \n",
       "</tr>\n",
       "<tr>\n",
       "  <th>Date:</th>          <td>Mon, 02 Mar 2020</td> <th>  AIC                </th> <td>2375.474</td> \n",
       "</tr>\n",
       "<tr>\n",
       "  <th>Time:</th>              <td>23:43:28</td>     <th>  BIC                </th> <td>2392.835</td> \n",
       "</tr>\n",
       "<tr>\n",
       "  <th>Sample:</th>           <td>03-01-1995</td>    <th>  HQIC               </th> <td>2382.471</td> \n",
       "</tr>\n",
       "<tr>\n",
       "  <th></th>                 <td>- 12-01-2014</td>   <th>                     </th>     <td> </td>    \n",
       "</tr>\n",
       "</table>\n",
       "<table class=\"simpletable\">\n",
       "<tr>\n",
       "       <td></td>          <th>coef</th>     <th>std err</th>      <th>z</th>      <th>P>|z|</th>  <th>[0.025</th>    <th>0.975]</th>  \n",
       "</tr>\n",
       "<tr>\n",
       "  <th>const</th>       <td>    0.0881</td> <td>    0.245</td> <td>    0.359</td> <td> 0.720</td> <td>   -0.393</td> <td>    0.569</td>\n",
       "</tr>\n",
       "<tr>\n",
       "  <th>ar.L1.Spend</th> <td>   -0.3246</td> <td>    0.501</td> <td>   -0.648</td> <td> 0.517</td> <td>   -1.307</td> <td>    0.657</td>\n",
       "</tr>\n",
       "<tr>\n",
       "  <th>ma.L1.Spend</th> <td>   -0.6638</td> <td>    0.511</td> <td>   -1.300</td> <td> 0.194</td> <td>   -1.665</td> <td>    0.337</td>\n",
       "</tr>\n",
       "<tr>\n",
       "  <th>ma.L2.Spend</th> <td>   -0.1966</td> <td>    0.475</td> <td>   -0.414</td> <td> 0.679</td> <td>   -1.128</td> <td>    0.735</td>\n",
       "</tr>\n",
       "</table>\n",
       "<table class=\"simpletable\">\n",
       "<caption>Roots</caption>\n",
       "<tr>\n",
       "    <td></td>   <th>            Real</th>  <th>         Imaginary</th> <th>         Modulus</th>  <th>        Frequency</th>\n",
       "</tr>\n",
       "<tr>\n",
       "  <th>AR.1</th> <td>          -3.0809</td> <td>          +0.0000j</td> <td>           3.0809</td> <td>           0.5000</td>\n",
       "</tr>\n",
       "<tr>\n",
       "  <th>MA.1</th> <td>           1.1290</td> <td>          +0.0000j</td> <td>           1.1290</td> <td>           0.0000</td>\n",
       "</tr>\n",
       "<tr>\n",
       "  <th>MA.2</th> <td>          -4.5046</td> <td>          +0.0000j</td> <td>           4.5046</td> <td>           0.5000</td>\n",
       "</tr>\n",
       "</table>"
      ],
      "text/plain": [
       "<class 'statsmodels.iolib.summary.Summary'>\n",
       "\"\"\"\n",
       "                              ARMA Model Results                              \n",
       "==============================================================================\n",
       "Dep. Variable:                  Spend   No. Observations:                  238\n",
       "Model:                     ARMA(1, 2)   Log Likelihood               -1182.737\n",
       "Method:                       css-mle   S.D. of innovations             34.709\n",
       "Date:                Mon, 02 Mar 2020   AIC                           2375.474\n",
       "Time:                        23:43:28   BIC                           2392.835\n",
       "Sample:                    03-01-1995   HQIC                          2382.471\n",
       "                         - 12-01-2014                                         \n",
       "===============================================================================\n",
       "                  coef    std err          z      P>|z|      [0.025      0.975]\n",
       "-------------------------------------------------------------------------------\n",
       "const           0.0881      0.245      0.359      0.720      -0.393       0.569\n",
       "ar.L1.Spend    -0.3246      0.501     -0.648      0.517      -1.307       0.657\n",
       "ma.L1.Spend    -0.6638      0.511     -1.300      0.194      -1.665       0.337\n",
       "ma.L2.Spend    -0.1966      0.475     -0.414      0.679      -1.128       0.735\n",
       "                                    Roots                                    \n",
       "=============================================================================\n",
       "                  Real          Imaginary           Modulus         Frequency\n",
       "-----------------------------------------------------------------------------\n",
       "AR.1           -3.0809           +0.0000j            3.0809            0.5000\n",
       "MA.1            1.1290           +0.0000j            1.1290            0.0000\n",
       "MA.2           -4.5046           +0.0000j            4.5046            0.5000\n",
       "-----------------------------------------------------------------------------\n",
       "\"\"\""
      ]
     },
     "execution_count": 59,
     "metadata": {},
     "output_type": "execute_result"
    }
   ],
   "source": [
    "model = ARMA(train['Spend'], order=(1,2))\n",
    "results = model.fit()\n",
    "results.summary()"
   ]
  },
  {
   "cell_type": "code",
   "execution_count": 60,
   "metadata": {},
   "outputs": [
    {
     "data": {
      "text/html": [
       "<div>\n",
       "<style scoped>\n",
       "    .dataframe tbody tr th:only-of-type {\n",
       "        vertical-align: middle;\n",
       "    }\n",
       "\n",
       "    .dataframe tbody tr th {\n",
       "        vertical-align: top;\n",
       "    }\n",
       "\n",
       "    .dataframe thead th {\n",
       "        text-align: right;\n",
       "    }\n",
       "</style>\n",
       "<table border=\"1\" class=\"dataframe\">\n",
       "  <thead>\n",
       "    <tr style=\"text-align: right;\">\n",
       "      <th></th>\n",
       "      <th>Spend</th>\n",
       "    </tr>\n",
       "  </thead>\n",
       "  <tbody>\n",
       "    <tr>\n",
       "      <td>2015-01-01</td>\n",
       "      <td>29.743269</td>\n",
       "    </tr>\n",
       "    <tr>\n",
       "      <td>2015-02-01</td>\n",
       "      <td>-3.064423</td>\n",
       "    </tr>\n",
       "    <tr>\n",
       "      <td>2015-03-01</td>\n",
       "      <td>1.111292</td>\n",
       "    </tr>\n",
       "    <tr>\n",
       "      <td>2015-04-01</td>\n",
       "      <td>-0.244044</td>\n",
       "    </tr>\n",
       "    <tr>\n",
       "      <td>2015-05-01</td>\n",
       "      <td>0.195865</td>\n",
       "    </tr>\n",
       "    <tr>\n",
       "      <td>2015-06-01</td>\n",
       "      <td>0.053081</td>\n",
       "    </tr>\n",
       "    <tr>\n",
       "      <td>2015-07-01</td>\n",
       "      <td>0.099425</td>\n",
       "    </tr>\n",
       "    <tr>\n",
       "      <td>2015-08-01</td>\n",
       "      <td>0.084383</td>\n",
       "    </tr>\n",
       "    <tr>\n",
       "      <td>2015-09-01</td>\n",
       "      <td>0.089265</td>\n",
       "    </tr>\n",
       "    <tr>\n",
       "      <td>2015-10-01</td>\n",
       "      <td>0.087681</td>\n",
       "    </tr>\n",
       "    <tr>\n",
       "      <td>2015-11-01</td>\n",
       "      <td>0.088195</td>\n",
       "    </tr>\n",
       "    <tr>\n",
       "      <td>2015-12-01</td>\n",
       "      <td>0.088028</td>\n",
       "    </tr>\n",
       "  </tbody>\n",
       "</table>\n",
       "</div>"
      ],
      "text/plain": [
       "                Spend\n",
       "2015-01-01  29.743269\n",
       "2015-02-01  -3.064423\n",
       "2015-03-01   1.111292\n",
       "2015-04-01  -0.244044\n",
       "2015-05-01   0.195865\n",
       "2015-06-01   0.053081\n",
       "2015-07-01   0.099425\n",
       "2015-08-01   0.084383\n",
       "2015-09-01   0.089265\n",
       "2015-10-01   0.087681\n",
       "2015-11-01   0.088195\n",
       "2015-12-01   0.088028"
      ]
     },
     "execution_count": 60,
     "metadata": {},
     "output_type": "execute_result"
    }
   ],
   "source": [
    "start = len(train)\n",
    "end = len(train) + len(test) - 1\n",
    "\n",
    "z2 = results.predict(start=start, end=end).rename('Spend')\n",
    "z2 = pd.DataFrame(z2)\n",
    "z2"
   ]
  },
  {
   "cell_type": "code",
   "execution_count": 62,
   "metadata": {},
   "outputs": [
    {
     "data": {
      "text/plain": [
       "Index(['Money', 'Spend'], dtype='object')"
      ]
     },
     "execution_count": 62,
     "metadata": {},
     "output_type": "execute_result"
    }
   ],
   "source": [
    "df.columns"
   ]
  },
  {
   "cell_type": "code",
   "execution_count": 65,
   "metadata": {},
   "outputs": [],
   "source": [
    "z2['Spend1d'] = (df['Spend'].iloc[-n_obs-1] - df['Spend'].iloc[-n_obs-2]) + z2['Spend'].cumsum()\n",
    "z2['SpendForecast'] = df['Spend'].iloc[-n_obs-1] + z2['Spend1d'].cumsum()"
   ]
  },
  {
   "cell_type": "code",
   "execution_count": 66,
   "metadata": {},
   "outputs": [
    {
     "data": {
      "text/html": [
       "<div>\n",
       "<style scoped>\n",
       "    .dataframe tbody tr th:only-of-type {\n",
       "        vertical-align: middle;\n",
       "    }\n",
       "\n",
       "    .dataframe tbody tr th {\n",
       "        vertical-align: top;\n",
       "    }\n",
       "\n",
       "    .dataframe thead th {\n",
       "        text-align: right;\n",
       "    }\n",
       "</style>\n",
       "<table border=\"1\" class=\"dataframe\">\n",
       "  <thead>\n",
       "    <tr style=\"text-align: right;\">\n",
       "      <th></th>\n",
       "      <th>Spend</th>\n",
       "      <th>Spend1d</th>\n",
       "      <th>SpendForecast</th>\n",
       "    </tr>\n",
       "  </thead>\n",
       "  <tbody>\n",
       "    <tr>\n",
       "      <td>2015-01-01</td>\n",
       "      <td>29.743269</td>\n",
       "      <td>44.543269</td>\n",
       "      <td>12109.543269</td>\n",
       "    </tr>\n",
       "    <tr>\n",
       "      <td>2015-02-01</td>\n",
       "      <td>-3.064423</td>\n",
       "      <td>41.478846</td>\n",
       "      <td>12151.022115</td>\n",
       "    </tr>\n",
       "    <tr>\n",
       "      <td>2015-03-01</td>\n",
       "      <td>1.111292</td>\n",
       "      <td>42.590138</td>\n",
       "      <td>12193.612253</td>\n",
       "    </tr>\n",
       "    <tr>\n",
       "      <td>2015-04-01</td>\n",
       "      <td>-0.244044</td>\n",
       "      <td>42.346093</td>\n",
       "      <td>12235.958346</td>\n",
       "    </tr>\n",
       "    <tr>\n",
       "      <td>2015-05-01</td>\n",
       "      <td>0.195865</td>\n",
       "      <td>42.541959</td>\n",
       "      <td>12278.500305</td>\n",
       "    </tr>\n",
       "    <tr>\n",
       "      <td>2015-06-01</td>\n",
       "      <td>0.053081</td>\n",
       "      <td>42.595040</td>\n",
       "      <td>12321.095345</td>\n",
       "    </tr>\n",
       "    <tr>\n",
       "      <td>2015-07-01</td>\n",
       "      <td>0.099425</td>\n",
       "      <td>42.694465</td>\n",
       "      <td>12363.789810</td>\n",
       "    </tr>\n",
       "    <tr>\n",
       "      <td>2015-08-01</td>\n",
       "      <td>0.084383</td>\n",
       "      <td>42.778848</td>\n",
       "      <td>12406.568658</td>\n",
       "    </tr>\n",
       "    <tr>\n",
       "      <td>2015-09-01</td>\n",
       "      <td>0.089265</td>\n",
       "      <td>42.868114</td>\n",
       "      <td>12449.436772</td>\n",
       "    </tr>\n",
       "    <tr>\n",
       "      <td>2015-10-01</td>\n",
       "      <td>0.087681</td>\n",
       "      <td>42.955795</td>\n",
       "      <td>12492.392566</td>\n",
       "    </tr>\n",
       "    <tr>\n",
       "      <td>2015-11-01</td>\n",
       "      <td>0.088195</td>\n",
       "      <td>43.043990</td>\n",
       "      <td>12535.436556</td>\n",
       "    </tr>\n",
       "    <tr>\n",
       "      <td>2015-12-01</td>\n",
       "      <td>0.088028</td>\n",
       "      <td>43.132018</td>\n",
       "      <td>12578.568574</td>\n",
       "    </tr>\n",
       "  </tbody>\n",
       "</table>\n",
       "</div>"
      ],
      "text/plain": [
       "                Spend    Spend1d  SpendForecast\n",
       "2015-01-01  29.743269  44.543269   12109.543269\n",
       "2015-02-01  -3.064423  41.478846   12151.022115\n",
       "2015-03-01   1.111292  42.590138   12193.612253\n",
       "2015-04-01  -0.244044  42.346093   12235.958346\n",
       "2015-05-01   0.195865  42.541959   12278.500305\n",
       "2015-06-01   0.053081  42.595040   12321.095345\n",
       "2015-07-01   0.099425  42.694465   12363.789810\n",
       "2015-08-01   0.084383  42.778848   12406.568658\n",
       "2015-09-01   0.089265  42.868114   12449.436772\n",
       "2015-10-01   0.087681  42.955795   12492.392566\n",
       "2015-11-01   0.088195  43.043990   12535.436556\n",
       "2015-12-01   0.088028  43.132018   12578.568574"
      ]
     },
     "execution_count": 66,
     "metadata": {},
     "output_type": "execute_result"
    }
   ],
   "source": [
    "z2"
   ]
  },
  {
   "cell_type": "code",
   "execution_count": 67,
   "metadata": {},
   "outputs": [
    {
     "data": {
      "text/plain": [
       "69.66223388702355"
      ]
     },
     "execution_count": 67,
     "metadata": {},
     "output_type": "execute_result"
    }
   ],
   "source": [
    "rmse(df['Spend'][-n_obs:], z2['SpendForecast'])"
   ]
  },
  {
   "cell_type": "markdown",
   "metadata": {},
   "source": [
    "##### We can see that our VARMA is performing better than ARMA! which also indicates some relation between variables!"
   ]
  },
  {
   "cell_type": "markdown",
   "metadata": {},
   "source": [
    "###### But one thing to observe is:\n",
    "\n",
    "There is not a very heavy dependency between money and consumption because the results obtained from ARMA and VARMA are similar (with VARMA performing slightly better). SO, there is a slight dependency between them atleast for the dataset we investigated!"
   ]
  },
  {
   "cell_type": "markdown",
   "metadata": {},
   "source": [
    "##### Advice for future:\n",
    "\n",
    "Its always good to run simpler models like ARMA before moving to complex models like VARMA."
   ]
  }
 ],
 "metadata": {
  "kernelspec": {
   "display_name": "Python 3",
   "language": "python",
   "name": "python3"
  },
  "language_info": {
   "codemirror_mode": {
    "name": "ipython",
    "version": 3
   },
   "file_extension": ".py",
   "mimetype": "text/x-python",
   "name": "python",
   "nbconvert_exporter": "python",
   "pygments_lexer": "ipython3",
   "version": "3.7.4"
  }
 },
 "nbformat": 4,
 "nbformat_minor": 2
}
