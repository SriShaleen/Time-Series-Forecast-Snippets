{
 "cells": [
  {
   "cell_type": "markdown",
   "metadata": {},
   "source": [
    "### VAR : Vector Auto Regression models!"
   ]
  },
  {
   "cell_type": "raw",
   "metadata": {},
   "source": [
    "We know in our SARIMAX model, the exogeneous variable affected the target_variable, but not vice versa.\n",
    "Example: Restaurant footfall may depend on whether or not there is a holiday, but restaurant footfall doesnt effects whether or not the holiday will happen!\n",
    "i.e. With SARIMAX, the influence goes one way!"
   ]
  },
  {
   "cell_type": "markdown",
   "metadata": {},
   "source": [
    "##### However, there are some cases where variables affect each other i.e. exogeneous variables are also affected by some other variable!\n",
    "##### In such cases , we can attempt to use Vector AutoRegression model."
   ]
  },
  {
   "cell_type": "raw",
   "metadata": {},
   "source": [
    "The only prior knowledge required in case of VAR is a list of variables which can be hypothesized to affect each other intertemporally.!\n",
    "Example: Changes in personal consumption expenditure C_t were forecast based on changes in personal disposable income I_t."
   ]
  },
  {
   "cell_type": "raw",
   "metadata": {},
   "source": [
    "A k-dimensional VAR model of order p, denoted VAR(p), considers each variable y_k in the system i.e k is basically how many variables are you looking at."
   ]
  },
  {
   "cell_type": "markdown",
   "metadata": {},
   "source": [
    "##### General steps involved in building VAR model:"
   ]
  },
  {
   "cell_type": "raw",
   "metadata": {},
   "source": [
    "- Examine the data(should have domain knowledge for interdependence determination)\n",
    "- Visualize the data\n",
    "- Test for Stationarity\n",
    "- Select apporiate order 'p' depending on result of stationarity.\n",
    "- Instantiate model and fit to training set\n",
    "- If necessary, invert the earlier transform to make stationary\n",
    "- Evaluate model pred.\n",
    "- Forecast future.!"
   ]
  },
  {
   "cell_type": "raw",
   "metadata": {},
   "source": [
    "We will be using \"M2 money stock\" dataset and \"Personal Consumption\" dataset from FRED.\n",
    "We believe there is some sort of interaction term between these 2 datasets that could go both ways.\n",
    "\n",
    "# Note: \n",
    "M2 money stock dataset basically has info of how much people have like savings deposit, mutual funds etc.\n",
    "Personal consumption tells us how much people are consuming!\n",
    "\n",
    "Interaction maybe like: if ppl spend more, then probably they have less money.\n",
    "OR\n",
    "Ppl if have more money and they probably like to spend more.\n",
    "\n",
    "So, there is some sort of relationship that goes both ways in this time series."
   ]
  },
  {
   "cell_type": "raw",
   "metadata": {},
   "source": [
    "So, here:\n",
    "\n",
    "    Y1 = Personal Consumption Expenditure\n",
    "    Y2 = M2 Money Stock\n",
    "    \n",
    "We need to figure our optimal order (p) for our VAR model!\n",
    "\n",
    "Note that: Pyramid Auto Arima wont help us do the grid search here!\n",
    "    We need to run various p values through a loop and then check which model has the best AIC!\n",
    "    ALSO, we need to manually check for stationarity and difference the time series if they are not stationary coz we are not dealing with ARIMA which had the 'I' term which differenced the series for us, this is just a simple VAR model.!"
   ]
  },
  {
   "cell_type": "code",
   "execution_count": 1,
   "metadata": {},
   "outputs": [],
   "source": [
    "import pandas as pd\n",
    "import numpy as np\n",
    "%matplotlib inline\n",
    "\n",
    "from statsmodels.tsa.api import VAR\n",
    "from statsmodels.tsa.stattools import adfuller\n",
    "from statsmodels.tools.eval_measures import rmse\n",
    "\n",
    "import warnings\n",
    "warnings.filterwarnings(\"ignore\")\n",
    "\n",
    "df = pd.read_csv(\"C:\\\\Users\\\\shaleens\\\\Desktop\\\\Projects\\\\TimeSeriesUdacity\\\\TS Udemy Vids\\\\Time Series 2\\\\VAR model dataset\\\\M2.csv\", index_col=0, parse_dates=True)\n",
    "df.index.freq = 'MS'\n",
    "\n",
    "sp = pd.read_csv(\"C:\\\\Users\\\\shaleens\\\\Desktop\\\\Projects\\\\TimeSeriesUdacity\\\\TS Udemy Vids\\\\Time Series 2\\\\VAR model dataset\\\\PCE.csv\", index_col=0, parse_dates=True)\n",
    "sp.index.freq = 'MS'"
   ]
  },
  {
   "cell_type": "code",
   "execution_count": 2,
   "metadata": {},
   "outputs": [],
   "source": [
    "df.rename(columns={'M2NS':'Money'}, inplace=True)"
   ]
  },
  {
   "cell_type": "code",
   "execution_count": 3,
   "metadata": {},
   "outputs": [],
   "source": [
    "sp.rename(columns={'PCE':'Spend'}, inplace=True)"
   ]
  },
  {
   "cell_type": "code",
   "execution_count": 4,
   "metadata": {},
   "outputs": [],
   "source": [
    "# Lets go ahead and combines the 2 dataframes:\n",
    "\n",
    "df = pd.merge(df, sp, how='inner', on='DATE')"
   ]
  },
  {
   "cell_type": "code",
   "execution_count": 5,
   "metadata": {},
   "outputs": [
    {
     "data": {
      "text/html": [
       "<div>\n",
       "<style scoped>\n",
       "    .dataframe tbody tr th:only-of-type {\n",
       "        vertical-align: middle;\n",
       "    }\n",
       "\n",
       "    .dataframe tbody tr th {\n",
       "        vertical-align: top;\n",
       "    }\n",
       "\n",
       "    .dataframe thead th {\n",
       "        text-align: right;\n",
       "    }\n",
       "</style>\n",
       "<table border=\"1\" class=\"dataframe\">\n",
       "  <thead>\n",
       "    <tr style=\"text-align: right;\">\n",
       "      <th></th>\n",
       "      <th>Money</th>\n",
       "      <th>Spend</th>\n",
       "    </tr>\n",
       "    <tr>\n",
       "      <th>DATE</th>\n",
       "      <th></th>\n",
       "      <th></th>\n",
       "    </tr>\n",
       "  </thead>\n",
       "  <tbody>\n",
       "    <tr>\n",
       "      <td>1995-01-01</td>\n",
       "      <td>3495.3</td>\n",
       "      <td>4851.2</td>\n",
       "    </tr>\n",
       "    <tr>\n",
       "      <td>1995-02-01</td>\n",
       "      <td>3474.9</td>\n",
       "      <td>4850.8</td>\n",
       "    </tr>\n",
       "    <tr>\n",
       "      <td>1995-03-01</td>\n",
       "      <td>3491.7</td>\n",
       "      <td>4885.4</td>\n",
       "    </tr>\n",
       "    <tr>\n",
       "      <td>1995-04-01</td>\n",
       "      <td>3522.4</td>\n",
       "      <td>4890.2</td>\n",
       "    </tr>\n",
       "    <tr>\n",
       "      <td>1995-05-01</td>\n",
       "      <td>3506.7</td>\n",
       "      <td>4933.1</td>\n",
       "    </tr>\n",
       "  </tbody>\n",
       "</table>\n",
       "</div>"
      ],
      "text/plain": [
       "             Money   Spend\n",
       "DATE                      \n",
       "1995-01-01  3495.3  4851.2\n",
       "1995-02-01  3474.9  4850.8\n",
       "1995-03-01  3491.7  4885.4\n",
       "1995-04-01  3522.4  4890.2\n",
       "1995-05-01  3506.7  4933.1"
      ]
     },
     "execution_count": 5,
     "metadata": {},
     "output_type": "execute_result"
    }
   ],
   "source": [
    "df.head()"
   ]
  },
  {
   "cell_type": "code",
   "execution_count": 6,
   "metadata": {},
   "outputs": [
    {
     "data": {
      "text/plain": [
       "(300, 2)"
      ]
     },
     "execution_count": 6,
     "metadata": {},
     "output_type": "execute_result"
    }
   ],
   "source": [
    "df.shape"
   ]
  },
  {
   "cell_type": "code",
   "execution_count": 7,
   "metadata": {},
   "outputs": [
    {
     "data": {
      "text/plain": [
       "(300, 2)"
      ]
     },
     "execution_count": 7,
     "metadata": {},
     "output_type": "execute_result"
    }
   ],
   "source": [
    "df.dropna().shape \n",
    "# This confirms that there is no null value to be treated"
   ]
  },
  {
   "cell_type": "code",
   "execution_count": 8,
   "metadata": {},
   "outputs": [],
   "source": [
    "df = df.iloc[:252]"
   ]
  },
  {
   "cell_type": "code",
   "execution_count": 9,
   "metadata": {},
   "outputs": [
    {
     "data": {
      "text/html": [
       "<div>\n",
       "<style scoped>\n",
       "    .dataframe tbody tr th:only-of-type {\n",
       "        vertical-align: middle;\n",
       "    }\n",
       "\n",
       "    .dataframe tbody tr th {\n",
       "        vertical-align: top;\n",
       "    }\n",
       "\n",
       "    .dataframe thead th {\n",
       "        text-align: right;\n",
       "    }\n",
       "</style>\n",
       "<table border=\"1\" class=\"dataframe\">\n",
       "  <thead>\n",
       "    <tr style=\"text-align: right;\">\n",
       "      <th></th>\n",
       "      <th>Money</th>\n",
       "      <th>Spend</th>\n",
       "    </tr>\n",
       "    <tr>\n",
       "      <th>DATE</th>\n",
       "      <th></th>\n",
       "      <th></th>\n",
       "    </tr>\n",
       "  </thead>\n",
       "  <tbody>\n",
       "    <tr>\n",
       "      <td>2015-08-01</td>\n",
       "      <td>12058.7</td>\n",
       "      <td>12387.0</td>\n",
       "    </tr>\n",
       "    <tr>\n",
       "      <td>2015-09-01</td>\n",
       "      <td>12126.3</td>\n",
       "      <td>12384.5</td>\n",
       "    </tr>\n",
       "    <tr>\n",
       "      <td>2015-10-01</td>\n",
       "      <td>12159.8</td>\n",
       "      <td>12387.3</td>\n",
       "    </tr>\n",
       "    <tr>\n",
       "      <td>2015-11-01</td>\n",
       "      <td>12286.2</td>\n",
       "      <td>12422.8</td>\n",
       "    </tr>\n",
       "    <tr>\n",
       "      <td>2015-12-01</td>\n",
       "      <td>12416.1</td>\n",
       "      <td>12453.8</td>\n",
       "    </tr>\n",
       "  </tbody>\n",
       "</table>\n",
       "</div>"
      ],
      "text/plain": [
       "              Money    Spend\n",
       "DATE                        \n",
       "2015-08-01  12058.7  12387.0\n",
       "2015-09-01  12126.3  12384.5\n",
       "2015-10-01  12159.8  12387.3\n",
       "2015-11-01  12286.2  12422.8\n",
       "2015-12-01  12416.1  12453.8"
      ]
     },
     "execution_count": 9,
     "metadata": {},
     "output_type": "execute_result"
    }
   ],
   "source": [
    "df.tail()"
   ]
  },
  {
   "cell_type": "code",
   "execution_count": 10,
   "metadata": {},
   "outputs": [
    {
     "data": {
      "text/plain": [
       "<matplotlib.axes._subplots.AxesSubplot at 0x1c372dd3748>"
      ]
     },
     "execution_count": 10,
     "metadata": {},
     "output_type": "execute_result"
    },
    {
     "data": {
      "image/png": "[encoded data removed]",
      "text/plain": [
       "<Figure size 864x576 with 1 Axes>"
      ]
     },
     "metadata": {
      "needs_background": "light"
     },
     "output_type": "display_data"
    }
   ],
   "source": [
    "df.plot(figsize=(12,8))"
   ]
  },
  {
   "cell_type": "markdown",
   "metadata": {},
   "source": [
    "##### Test for Stationarity:"
   ]
  },
  {
   "cell_type": "code",
   "execution_count": 11,
   "metadata": {},
   "outputs": [],
   "source": [
    "from statsmodels.tsa.stattools import adfuller\n",
    "\n",
    "def adf_test(series, title=''):\n",
    "    '''\n",
    "    Pass in a time series and an optional title, function returns an ADF report\n",
    "    '''\n",
    "    print(f'Augmented Dickey-fuller test: {title}')\n",
    "    result = adfuller(series.dropna(), autolag='AIC') # dropna() handles differenced data\n",
    "    \n",
    "    labels = ['adf test stats','p-value', '# of lags', '# of observations']\n",
    "    out = pd.Series(result[0:4], index=labels)\n",
    "    \n",
    "    for key,val in result[4].items():\n",
    "        out[f'critical value ({key})'] = val\n",
    "    \n",
    "    print(out.to_string())\n",
    "    \n",
    "    if result[1] <= 0.05:\n",
    "        print(\"Null Hypothesis rejected! Time series is stationary!\")\n",
    "    else:\n",
    "        print(\"Failed to reject Null Hypothesis! Time Series is not stationary!\")"
   ]
  },
  {
   "cell_type": "code",
   "execution_count": 12,
   "metadata": {},
   "outputs": [
    {
     "name": "stdout",
     "output_type": "stream",
     "text": [
      "Augmented Dickey-fuller test: \n",
      "adf test stats            2.360455\n",
      "p-value                   0.998990\n",
      "# of lags                16.000000\n",
      "# of observations       235.000000\n",
      "critical value (1%)      -3.458487\n",
      "critical value (5%)      -2.873919\n",
      "critical value (10%)     -2.573367\n",
      "Failed to reject Null Hypothesis! Time Series is not stationary!\n"
     ]
    }
   ],
   "source": [
    "adf_test(df['Money'])"
   ]
  },
  {
   "cell_type": "code",
   "execution_count": 13,
   "metadata": {},
   "outputs": [
    {
     "name": "stdout",
     "output_type": "stream",
     "text": [
      "Augmented Dickey-fuller test: \n",
      "adf test stats            0.124119\n",
      "p-value                   0.967670\n",
      "# of lags                 3.000000\n",
      "# of observations       248.000000\n",
      "critical value (1%)      -3.456996\n",
      "critical value (5%)      -2.873266\n",
      "critical value (10%)     -2.573019\n",
      "Failed to reject Null Hypothesis! Time Series is not stationary!\n"
     ]
    }
   ],
   "source": [
    "adf_test(df['Spend'])"
   ]
  },
  {
   "cell_type": "markdown",
   "metadata": {},
   "source": [
    "##### Since we are working on VAR model and here we need to difference the series manually for making it stationary:"
   ]
  },
  {
   "cell_type": "code",
   "execution_count": 14,
   "metadata": {},
   "outputs": [],
   "source": [
    "# Using inbuilt function of pandas dataframe for differencing the series:\n",
    "\n",
    "df_transformed = df.diff()"
   ]
  },
  {
   "cell_type": "code",
   "execution_count": 15,
   "metadata": {},
   "outputs": [
    {
     "data": {
      "text/html": [
       "<div>\n",
       "<style scoped>\n",
       "    .dataframe tbody tr th:only-of-type {\n",
       "        vertical-align: middle;\n",
       "    }\n",
       "\n",
       "    .dataframe tbody tr th {\n",
       "        vertical-align: top;\n",
       "    }\n",
       "\n",
       "    .dataframe thead th {\n",
       "        text-align: right;\n",
       "    }\n",
       "</style>\n",
       "<table border=\"1\" class=\"dataframe\">\n",
       "  <thead>\n",
       "    <tr style=\"text-align: right;\">\n",
       "      <th></th>\n",
       "      <th>Money</th>\n",
       "      <th>Spend</th>\n",
       "    </tr>\n",
       "    <tr>\n",
       "      <th>DATE</th>\n",
       "      <th></th>\n",
       "      <th></th>\n",
       "    </tr>\n",
       "  </thead>\n",
       "  <tbody>\n",
       "    <tr>\n",
       "      <td>1995-01-01</td>\n",
       "      <td>NaN</td>\n",
       "      <td>NaN</td>\n",
       "    </tr>\n",
       "    <tr>\n",
       "      <td>1995-02-01</td>\n",
       "      <td>-20.4</td>\n",
       "      <td>-0.4</td>\n",
       "    </tr>\n",
       "    <tr>\n",
       "      <td>1995-03-01</td>\n",
       "      <td>16.8</td>\n",
       "      <td>34.6</td>\n",
       "    </tr>\n",
       "    <tr>\n",
       "      <td>1995-04-01</td>\n",
       "      <td>30.7</td>\n",
       "      <td>4.8</td>\n",
       "    </tr>\n",
       "    <tr>\n",
       "      <td>1995-05-01</td>\n",
       "      <td>-15.7</td>\n",
       "      <td>42.9</td>\n",
       "    </tr>\n",
       "    <tr>\n",
       "      <td>...</td>\n",
       "      <td>...</td>\n",
       "      <td>...</td>\n",
       "    </tr>\n",
       "    <tr>\n",
       "      <td>2015-08-01</td>\n",
       "      <td>57.4</td>\n",
       "      <td>29.9</td>\n",
       "    </tr>\n",
       "    <tr>\n",
       "      <td>2015-09-01</td>\n",
       "      <td>67.6</td>\n",
       "      <td>-2.5</td>\n",
       "    </tr>\n",
       "    <tr>\n",
       "      <td>2015-10-01</td>\n",
       "      <td>33.5</td>\n",
       "      <td>2.8</td>\n",
       "    </tr>\n",
       "    <tr>\n",
       "      <td>2015-11-01</td>\n",
       "      <td>126.4</td>\n",
       "      <td>35.5</td>\n",
       "    </tr>\n",
       "    <tr>\n",
       "      <td>2015-12-01</td>\n",
       "      <td>129.9</td>\n",
       "      <td>31.0</td>\n",
       "    </tr>\n",
       "  </tbody>\n",
       "</table>\n",
       "<p>252 rows × 2 columns</p>\n",
       "</div>"
      ],
      "text/plain": [
       "            Money  Spend\n",
       "DATE                    \n",
       "1995-01-01    NaN    NaN\n",
       "1995-02-01  -20.4   -0.4\n",
       "1995-03-01   16.8   34.6\n",
       "1995-04-01   30.7    4.8\n",
       "1995-05-01  -15.7   42.9\n",
       "...           ...    ...\n",
       "2015-08-01   57.4   29.9\n",
       "2015-09-01   67.6   -2.5\n",
       "2015-10-01   33.5    2.8\n",
       "2015-11-01  126.4   35.5\n",
       "2015-12-01  129.9   31.0\n",
       "\n",
       "[252 rows x 2 columns]"
      ]
     },
     "execution_count": 15,
     "metadata": {},
     "output_type": "execute_result"
    }
   ],
   "source": [
    "df_transformed"
   ]
  },
  {
   "cell_type": "code",
   "execution_count": 16,
   "metadata": {},
   "outputs": [
    {
     "name": "stdout",
     "output_type": "stream",
     "text": [
      "Augmented Dickey-fuller test: \n",
      "adf test stats           -2.236522\n",
      "p-value                   0.193258\n",
      "# of lags                16.000000\n",
      "# of observations       234.000000\n",
      "critical value (1%)      -3.458608\n",
      "critical value (5%)      -2.873972\n",
      "critical value (10%)     -2.573396\n",
      "Failed to reject Null Hypothesis! Time Series is not stationary!\n"
     ]
    }
   ],
   "source": [
    "### Lets check again if the data columns are stationary now:\n",
    "\n",
    "adf_test(df_transformed['Money'])"
   ]
  },
  {
   "cell_type": "code",
   "execution_count": 17,
   "metadata": {},
   "outputs": [
    {
     "name": "stdout",
     "output_type": "stream",
     "text": [
      "Augmented Dickey-fuller test: \n",
      "adf test stats         -7.289192e+00\n",
      "p-value                 1.432037e-10\n",
      "# of lags               2.000000e+00\n",
      "# of observations       2.480000e+02\n",
      "critical value (1%)    -3.456996e+00\n",
      "critical value (5%)    -2.873266e+00\n",
      "critical value (10%)   -2.573019e+00\n",
      "Null Hypothesis rejected! Time series is stationary!\n"
     ]
    }
   ],
   "source": [
    "adf_test(df_transformed['Spend'])"
   ]
  },
  {
   "cell_type": "markdown",
   "metadata": {},
   "source": [
    "##### Money column is still non-stationary, whereas Spend column has become stationary! In such scenarios, we may need to apply differencing again to both the series coz we want the data in same number of rows in both the columns!"
   ]
  },
  {
   "cell_type": "markdown",
   "metadata": {},
   "source": [
    "##### Because if you observe closely, each time you are differencing the dataframe you are losing one row of data!!\n"
   ]
  },
  {
   "cell_type": "code",
   "execution_count": 18,
   "metadata": {},
   "outputs": [],
   "source": [
    "df_transformed = df_transformed.diff().dropna()"
   ]
  },
  {
   "cell_type": "code",
   "execution_count": 19,
   "metadata": {},
   "outputs": [
    {
     "data": {
      "text/html": [
       "<div>\n",
       "<style scoped>\n",
       "    .dataframe tbody tr th:only-of-type {\n",
       "        vertical-align: middle;\n",
       "    }\n",
       "\n",
       "    .dataframe tbody tr th {\n",
       "        vertical-align: top;\n",
       "    }\n",
       "\n",
       "    .dataframe thead th {\n",
       "        text-align: right;\n",
       "    }\n",
       "</style>\n",
       "<table border=\"1\" class=\"dataframe\">\n",
       "  <thead>\n",
       "    <tr style=\"text-align: right;\">\n",
       "      <th></th>\n",
       "      <th>Money</th>\n",
       "      <th>Spend</th>\n",
       "    </tr>\n",
       "    <tr>\n",
       "      <th>DATE</th>\n",
       "      <th></th>\n",
       "      <th></th>\n",
       "    </tr>\n",
       "  </thead>\n",
       "  <tbody>\n",
       "    <tr>\n",
       "      <td>1995-03-01</td>\n",
       "      <td>37.2</td>\n",
       "      <td>35.0</td>\n",
       "    </tr>\n",
       "    <tr>\n",
       "      <td>1995-04-01</td>\n",
       "      <td>13.9</td>\n",
       "      <td>-29.8</td>\n",
       "    </tr>\n",
       "    <tr>\n",
       "      <td>1995-05-01</td>\n",
       "      <td>-46.4</td>\n",
       "      <td>38.1</td>\n",
       "    </tr>\n",
       "    <tr>\n",
       "      <td>1995-06-01</td>\n",
       "      <td>54.5</td>\n",
       "      <td>1.5</td>\n",
       "    </tr>\n",
       "    <tr>\n",
       "      <td>1995-07-01</td>\n",
       "      <td>-14.6</td>\n",
       "      <td>-51.7</td>\n",
       "    </tr>\n",
       "  </tbody>\n",
       "</table>\n",
       "</div>"
      ],
      "text/plain": [
       "            Money  Spend\n",
       "DATE                    \n",
       "1995-03-01   37.2   35.0\n",
       "1995-04-01   13.9  -29.8\n",
       "1995-05-01  -46.4   38.1\n",
       "1995-06-01   54.5    1.5\n",
       "1995-07-01  -14.6  -51.7"
      ]
     },
     "execution_count": 19,
     "metadata": {},
     "output_type": "execute_result"
    }
   ],
   "source": [
    "df_transformed.head()"
   ]
  },
  {
   "cell_type": "markdown",
   "metadata": {},
   "source": [
    "##### Notice that we have lost 2 rows of data i.e for Jan month and Feb month!"
   ]
  },
  {
   "cell_type": "code",
   "execution_count": 20,
   "metadata": {},
   "outputs": [
    {
     "name": "stdout",
     "output_type": "stream",
     "text": [
      "Augmented Dickey-fuller test: \n",
      "adf test stats         -5.855014e+00\n",
      "p-value                 3.516701e-07\n",
      "# of lags               1.500000e+01\n",
      "# of observations       2.340000e+02\n",
      "critical value (1%)    -3.458608e+00\n",
      "critical value (5%)    -2.873972e+00\n",
      "critical value (10%)   -2.573396e+00\n",
      "Null Hypothesis rejected! Time series is stationary!\n"
     ]
    }
   ],
   "source": [
    "# Lets check for stataionarity again:\n",
    "\n",
    "adf_test(df_transformed['Money'])"
   ]
  },
  {
   "cell_type": "code",
   "execution_count": 21,
   "metadata": {},
   "outputs": [
    {
     "name": "stdout",
     "output_type": "stream",
     "text": [
      "Augmented Dickey-fuller test: \n",
      "adf test stats         -8.757023e+00\n",
      "p-value                 2.737843e-14\n",
      "# of lags               8.000000e+00\n",
      "# of observations       2.410000e+02\n",
      "critical value (1%)    -3.457779e+00\n",
      "critical value (5%)    -2.873609e+00\n",
      "critical value (10%)   -2.573202e+00\n",
      "Null Hypothesis rejected! Time series is stationary!\n"
     ]
    }
   ],
   "source": [
    "adf_test(df_transformed['Spend'])"
   ]
  },
  {
   "cell_type": "markdown",
   "metadata": {},
   "source": [
    "##### Now the columns in dataframe are completely stationary!"
   ]
  },
  {
   "cell_type": "code",
   "execution_count": 22,
   "metadata": {},
   "outputs": [
    {
     "data": {
      "text/plain": [
       "(250, 2)"
      ]
     },
     "execution_count": 22,
     "metadata": {},
     "output_type": "execute_result"
    }
   ],
   "source": [
    "df_transformed.shape"
   ]
  },
  {
   "cell_type": "markdown",
   "metadata": {},
   "source": [
    "##### Train-test split:"
   ]
  },
  {
   "cell_type": "code",
   "execution_count": 23,
   "metadata": {},
   "outputs": [],
   "source": [
    "n_obs = 12\n",
    "\n",
    "train = df_transformed[:-n_obs]\n",
    "test = df_transformed[-n_obs:]"
   ]
  },
  {
   "cell_type": "code",
   "execution_count": 24,
   "metadata": {},
   "outputs": [
    {
     "data": {
      "text/html": [
       "<div>\n",
       "<style scoped>\n",
       "    .dataframe tbody tr th:only-of-type {\n",
       "        vertical-align: middle;\n",
       "    }\n",
       "\n",
       "    .dataframe tbody tr th {\n",
       "        vertical-align: top;\n",
       "    }\n",
       "\n",
       "    .dataframe thead th {\n",
       "        text-align: right;\n",
       "    }\n",
       "</style>\n",
       "<table border=\"1\" class=\"dataframe\">\n",
       "  <thead>\n",
       "    <tr style=\"text-align: right;\">\n",
       "      <th></th>\n",
       "      <th>Money</th>\n",
       "      <th>Spend</th>\n",
       "    </tr>\n",
       "    <tr>\n",
       "      <th>DATE</th>\n",
       "      <th></th>\n",
       "      <th></th>\n",
       "    </tr>\n",
       "  </thead>\n",
       "  <tbody>\n",
       "    <tr>\n",
       "      <td>2014-08-01</td>\n",
       "      <td>-24.0</td>\n",
       "      <td>35.6</td>\n",
       "    </tr>\n",
       "    <tr>\n",
       "      <td>2014-09-01</td>\n",
       "      <td>16.9</td>\n",
       "      <td>-71.3</td>\n",
       "    </tr>\n",
       "    <tr>\n",
       "      <td>2014-10-01</td>\n",
       "      <td>19.8</td>\n",
       "      <td>59.9</td>\n",
       "    </tr>\n",
       "    <tr>\n",
       "      <td>2014-11-01</td>\n",
       "      <td>8.2</td>\n",
       "      <td>-37.8</td>\n",
       "    </tr>\n",
       "    <tr>\n",
       "      <td>2014-12-01</td>\n",
       "      <td>69.1</td>\n",
       "      <td>-17.0</td>\n",
       "    </tr>\n",
       "  </tbody>\n",
       "</table>\n",
       "</div>"
      ],
      "text/plain": [
       "            Money  Spend\n",
       "DATE                    \n",
       "2014-08-01  -24.0   35.6\n",
       "2014-09-01   16.9  -71.3\n",
       "2014-10-01   19.8   59.9\n",
       "2014-11-01    8.2  -37.8\n",
       "2014-12-01   69.1  -17.0"
      ]
     },
     "execution_count": 24,
     "metadata": {},
     "output_type": "execute_result"
    }
   ],
   "source": [
    "train.tail()"
   ]
  },
  {
   "cell_type": "code",
   "execution_count": 25,
   "metadata": {},
   "outputs": [
    {
     "data": {
      "text/html": [
       "<div>\n",
       "<style scoped>\n",
       "    .dataframe tbody tr th:only-of-type {\n",
       "        vertical-align: middle;\n",
       "    }\n",
       "\n",
       "    .dataframe tbody tr th {\n",
       "        vertical-align: top;\n",
       "    }\n",
       "\n",
       "    .dataframe thead th {\n",
       "        text-align: right;\n",
       "    }\n",
       "</style>\n",
       "<table border=\"1\" class=\"dataframe\">\n",
       "  <thead>\n",
       "    <tr style=\"text-align: right;\">\n",
       "      <th></th>\n",
       "      <th>Money</th>\n",
       "      <th>Spend</th>\n",
       "    </tr>\n",
       "    <tr>\n",
       "      <th>DATE</th>\n",
       "      <th></th>\n",
       "      <th></th>\n",
       "    </tr>\n",
       "  </thead>\n",
       "  <tbody>\n",
       "    <tr>\n",
       "      <td>2015-01-01</td>\n",
       "      <td>-146.1</td>\n",
       "      <td>-39.9</td>\n",
       "    </tr>\n",
       "    <tr>\n",
       "      <td>2015-02-01</td>\n",
       "      <td>89.2</td>\n",
       "      <td>74.3</td>\n",
       "    </tr>\n",
       "    <tr>\n",
       "      <td>2015-03-01</td>\n",
       "      <td>21.6</td>\n",
       "      <td>7.4</td>\n",
       "    </tr>\n",
       "    <tr>\n",
       "      <td>2015-04-01</td>\n",
       "      <td>-62.0</td>\n",
       "      <td>-14.9</td>\n",
       "    </tr>\n",
       "    <tr>\n",
       "      <td>2015-05-01</td>\n",
       "      <td>-144.4</td>\n",
       "      <td>32.0</td>\n",
       "    </tr>\n",
       "  </tbody>\n",
       "</table>\n",
       "</div>"
      ],
      "text/plain": [
       "            Money  Spend\n",
       "DATE                    \n",
       "2015-01-01 -146.1  -39.9\n",
       "2015-02-01   89.2   74.3\n",
       "2015-03-01   21.6    7.4\n",
       "2015-04-01  -62.0  -14.9\n",
       "2015-05-01 -144.4   32.0"
      ]
     },
     "execution_count": 25,
     "metadata": {},
     "output_type": "execute_result"
    }
   ],
   "source": [
    "test.head()"
   ]
  },
  {
   "cell_type": "code",
   "execution_count": 26,
   "metadata": {},
   "outputs": [
    {
     "data": {
      "text/plain": [
       "((238, 2), (12, 2))"
      ]
     },
     "execution_count": 26,
     "metadata": {},
     "output_type": "execute_result"
    }
   ],
   "source": [
    "train.shape, test.shape"
   ]
  },
  {
   "cell_type": "markdown",
   "metadata": {},
   "source": [
    "##### Choosing the order 'p' (i.e. lag of auto-regressor) of VAR regression model using GRID Search:"
   ]
  },
  {
   "cell_type": "code",
   "execution_count": 27,
   "metadata": {},
   "outputs": [
    {
     "name": "stdout",
     "output_type": "stream",
     "text": [
      "ORDER 0\n",
      "AIC:15.977435427374134\n",
      "\n",
      "\n",
      "ORDER 1\n",
      "AIC:15.477298931033475\n",
      "\n",
      "\n",
      "ORDER 2\n",
      "AIC:15.002894527933922\n",
      "\n",
      "\n",
      "ORDER 3\n",
      "AIC:14.856950442433046\n",
      "\n",
      "\n",
      "ORDER 4\n",
      "AIC:14.868520739397717\n",
      "\n",
      "\n",
      "ORDER 5\n",
      "AIC:14.855560641510024\n",
      "\n",
      "\n",
      "ORDER 6\n",
      "AIC:14.87381216589233\n",
      "\n",
      "\n",
      "ORDER 7\n",
      "AIC:14.69511933970116\n",
      "\n",
      "\n",
      "ORDER 8\n",
      "AIC:14.613709516286049\n",
      "\n",
      "\n",
      "ORDER 9\n",
      "AIC:14.645458094165294\n",
      "\n",
      "\n"
     ]
    }
   ],
   "source": [
    "model = VAR(train)\n",
    "\n",
    "for p in range(10):\n",
    "    results = model.fit(p)\n",
    "    print(f'ORDER {p}')\n",
    "    print(f'AIC:{results.aic}')\n",
    "    print('\\n')"
   ]
  },
  {
   "cell_type": "markdown",
   "metadata": {},
   "source": [
    "##### Order 5 looks to have fairly small AIC"
   ]
  },
  {
   "cell_type": "code",
   "execution_count": 28,
   "metadata": {},
   "outputs": [],
   "source": [
    "results = model.fit(5)"
   ]
  },
  {
   "cell_type": "code",
   "execution_count": 29,
   "metadata": {},
   "outputs": [
    {
     "data": {
      "text/plain": [
       "  Summary of Regression Results   \n",
       "==================================\n",
       "Model:                         VAR\n",
       "Method:                        OLS\n",
       "Date:           Sun, 01, Mar, 2020\n",
       "Time:                     19:07:49\n",
       "--------------------------------------------------------------------\n",
       "No. of Equations:         2.00000    BIC:                    15.1814\n",
       "Nobs:                     233.000    HQIC:                   14.9870\n",
       "Log likelihood:          -2369.90    FPE:                2.82976e+06\n",
       "AIC:                      14.8556    Det(Omega_mle):     2.58037e+06\n",
       "--------------------------------------------------------------------\n",
       "Results for equation Money\n",
       "===========================================================================\n",
       "              coefficient       std. error           t-stat            prob\n",
       "---------------------------------------------------------------------------\n",
       "const            1.086035         2.938108            0.370           0.712\n",
       "L1.Money        -0.749197         0.067960          -11.024           0.000\n",
       "L1.Spend        -0.077878         0.082506           -0.944           0.345\n",
       "L2.Money        -0.821979         0.084111           -9.773           0.000\n",
       "L2.Spend        -0.237925         0.110464           -2.154           0.031\n",
       "L3.Money        -0.419984         0.095370           -4.404           0.000\n",
       "L3.Spend        -0.344642         0.118882           -2.899           0.004\n",
       "L4.Money        -0.170534         0.083051           -2.053           0.040\n",
       "L4.Spend        -0.110129         0.112730           -0.977           0.329\n",
       "L5.Money        -0.127003         0.066446           -1.911           0.056\n",
       "L5.Spend        -0.091212         0.083832           -1.088           0.277\n",
       "===========================================================================\n",
       "\n",
       "Results for equation Spend\n",
       "===========================================================================\n",
       "              coefficient       std. error           t-stat            prob\n",
       "---------------------------------------------------------------------------\n",
       "const            0.220974         2.391361            0.092           0.926\n",
       "L1.Money         0.030660         0.055313            0.554           0.579\n",
       "L1.Spend        -0.906439         0.067152          -13.498           0.000\n",
       "L2.Money        -0.008305         0.068459           -0.121           0.903\n",
       "L2.Spend        -0.673779         0.089908           -7.494           0.000\n",
       "L3.Money        -0.036361         0.077622           -0.468           0.639\n",
       "L3.Spend        -0.460127         0.096759           -4.755           0.000\n",
       "L4.Money         0.008254         0.067596            0.122           0.903\n",
       "L4.Spend        -0.271409         0.091753           -2.958           0.003\n",
       "L5.Money        -0.002328         0.054081           -0.043           0.966\n",
       "L5.Spend        -0.168787         0.068232           -2.474           0.013\n",
       "===========================================================================\n",
       "\n",
       "Correlation matrix of residuals\n",
       "            Money     Spend\n",
       "Money    1.000000 -0.189091\n",
       "Spend   -0.189091  1.000000\n",
       "\n"
      ]
     },
     "execution_count": 29,
     "metadata": {},
     "output_type": "execute_result"
    }
   ],
   "source": [
    "results.summary()"
   ]
  },
  {
   "cell_type": "raw",
   "metadata": {},
   "source": [
    "Signature: results.forecast(y, steps, exog_future=None)\n",
    "Docstring:\n",
    "Produce linear minimum MSE forecasts for desired number of steps\n",
    "ahead, using prior values y\n",
    "\n",
    "Parameters\n",
    "----------\n",
    "y : ndarray (p x k)\n",
    "steps : int\n",
    "\n",
    "Returns\n",
    "-------\n",
    "forecasts : ndarray (steps x neqs)\n",
    "\n",
    "\n",
    "So, the forecast method req"
   ]
  },
  {
   "cell_type": "code",
   "execution_count": 30,
   "metadata": {},
   "outputs": [
    {
     "data": {
      "text/plain": [
       "(5, 2)"
      ]
     },
     "execution_count": 30,
     "metadata": {},
     "output_type": "execute_result"
    }
   ],
   "source": [
    "# p is the number of lagged values to be grabbed, k is number of variables and y needs an ndarray of 5*2 dimension\n",
    "# So, we need to grab the last p values from the train, just before the test set starts!\n",
    "# We need to pass numpy array of it!.values\n",
    "\n",
    "lagged_vals = train[-5:].values\n",
    "lagged_vals.shape"
   ]
  },
  {
   "cell_type": "code",
   "execution_count": 31,
   "metadata": {},
   "outputs": [],
   "source": [
    "df_forecast = results.forecast(y=lagged_vals, steps = 12) # steps is number of periods to predict."
   ]
  },
  {
   "cell_type": "code",
   "execution_count": 32,
   "metadata": {},
   "outputs": [
    {
     "data": {
      "text/plain": [
       "array([[-71.29482311,  28.40627812],\n",
       "       [  3.5010023 ,  -3.8373162 ],\n",
       "       [ 22.23050851,  -9.26069847],\n",
       "       [ -4.16519208,  12.9204468 ],\n",
       "       [-11.21264583,  -9.51456587],\n",
       "       [ 10.72150132,  -0.27487544],\n",
       "       [ -1.01418791,   4.8455572 ],\n",
       "       [ -1.98197513,  -1.35031698],\n",
       "       [  0.25918625,  -1.81690257],\n",
       "       [  2.23350228,   2.40454145],\n",
       "       [ -0.95482263,  -1.27675505],\n",
       "       [  0.18368543,   0.07152578]])"
      ]
     },
     "execution_count": 32,
     "metadata": {},
     "output_type": "execute_result"
    }
   ],
   "source": [
    "df_forecast"
   ]
  },
  {
   "cell_type": "code",
   "execution_count": 33,
   "metadata": {},
   "outputs": [],
   "source": [
    "idx = pd.date_range('2015-01-01','2015-12-01',freq='MS')"
   ]
  },
  {
   "cell_type": "code",
   "execution_count": 34,
   "metadata": {},
   "outputs": [],
   "source": [
    "df_forecast = pd.DataFrame(data=df_forecast, index=idx, columns=['Money_2d','Spend_2d'])"
   ]
  },
  {
   "cell_type": "code",
   "execution_count": 35,
   "metadata": {},
   "outputs": [
    {
     "data": {
      "text/html": [
       "<div>\n",
       "<style scoped>\n",
       "    .dataframe tbody tr th:only-of-type {\n",
       "        vertical-align: middle;\n",
       "    }\n",
       "\n",
       "    .dataframe tbody tr th {\n",
       "        vertical-align: top;\n",
       "    }\n",
       "\n",
       "    .dataframe thead th {\n",
       "        text-align: right;\n",
       "    }\n",
       "</style>\n",
       "<table border=\"1\" class=\"dataframe\">\n",
       "  <thead>\n",
       "    <tr style=\"text-align: right;\">\n",
       "      <th></th>\n",
       "      <th>Money_2d</th>\n",
       "      <th>Spend_2d</th>\n",
       "    </tr>\n",
       "  </thead>\n",
       "  <tbody>\n",
       "    <tr>\n",
       "      <td>2015-01-01</td>\n",
       "      <td>-71.294823</td>\n",
       "      <td>28.406278</td>\n",
       "    </tr>\n",
       "    <tr>\n",
       "      <td>2015-02-01</td>\n",
       "      <td>3.501002</td>\n",
       "      <td>-3.837316</td>\n",
       "    </tr>\n",
       "    <tr>\n",
       "      <td>2015-03-01</td>\n",
       "      <td>22.230509</td>\n",
       "      <td>-9.260698</td>\n",
       "    </tr>\n",
       "    <tr>\n",
       "      <td>2015-04-01</td>\n",
       "      <td>-4.165192</td>\n",
       "      <td>12.920447</td>\n",
       "    </tr>\n",
       "    <tr>\n",
       "      <td>2015-05-01</td>\n",
       "      <td>-11.212646</td>\n",
       "      <td>-9.514566</td>\n",
       "    </tr>\n",
       "    <tr>\n",
       "      <td>2015-06-01</td>\n",
       "      <td>10.721501</td>\n",
       "      <td>-0.274875</td>\n",
       "    </tr>\n",
       "    <tr>\n",
       "      <td>2015-07-01</td>\n",
       "      <td>-1.014188</td>\n",
       "      <td>4.845557</td>\n",
       "    </tr>\n",
       "    <tr>\n",
       "      <td>2015-08-01</td>\n",
       "      <td>-1.981975</td>\n",
       "      <td>-1.350317</td>\n",
       "    </tr>\n",
       "    <tr>\n",
       "      <td>2015-09-01</td>\n",
       "      <td>0.259186</td>\n",
       "      <td>-1.816903</td>\n",
       "    </tr>\n",
       "    <tr>\n",
       "      <td>2015-10-01</td>\n",
       "      <td>2.233502</td>\n",
       "      <td>2.404541</td>\n",
       "    </tr>\n",
       "    <tr>\n",
       "      <td>2015-11-01</td>\n",
       "      <td>-0.954823</td>\n",
       "      <td>-1.276755</td>\n",
       "    </tr>\n",
       "    <tr>\n",
       "      <td>2015-12-01</td>\n",
       "      <td>0.183685</td>\n",
       "      <td>0.071526</td>\n",
       "    </tr>\n",
       "  </tbody>\n",
       "</table>\n",
       "</div>"
      ],
      "text/plain": [
       "             Money_2d   Spend_2d\n",
       "2015-01-01 -71.294823  28.406278\n",
       "2015-02-01   3.501002  -3.837316\n",
       "2015-03-01  22.230509  -9.260698\n",
       "2015-04-01  -4.165192  12.920447\n",
       "2015-05-01 -11.212646  -9.514566\n",
       "2015-06-01  10.721501  -0.274875\n",
       "2015-07-01  -1.014188   4.845557\n",
       "2015-08-01  -1.981975  -1.350317\n",
       "2015-09-01   0.259186  -1.816903\n",
       "2015-10-01   2.233502   2.404541\n",
       "2015-11-01  -0.954823  -1.276755\n",
       "2015-12-01   0.183685   0.071526"
      ]
     },
     "execution_count": 35,
     "metadata": {},
     "output_type": "execute_result"
    }
   ],
   "source": [
    "df_forecast"
   ]
  },
  {
   "cell_type": "raw",
   "metadata": {},
   "source": [
    "But, remember the pred value received is in the 2nd difference!\n",
    "We need to get the original data and then plot out how well we are performing!\n",
    "For this we need to essentially reverse the second difference and then reverse the 1st difference!\n",
    "i.e. Inverting the transformation!"
   ]
  },
  {
   "cell_type": "markdown",
   "metadata": {},
   "source": [
    "##### Inverting the Transformation:"
   ]
  },
  {
   "cell_type": "code",
   "execution_count": 36,
   "metadata": {},
   "outputs": [
    {
     "data": {
      "text/plain": [
       "(252, 2)"
      ]
     },
     "execution_count": 36,
     "metadata": {},
     "output_type": "execute_result"
    }
   ],
   "source": [
    "df.shape"
   ]
  },
  {
   "cell_type": "code",
   "execution_count": 37,
   "metadata": {},
   "outputs": [
    {
     "data": {
      "text/plain": [
       "11747.9"
      ]
     },
     "execution_count": 37,
     "metadata": {},
     "output_type": "execute_result"
    }
   ],
   "source": [
    "df['Money'].iloc[-n_obs-1]"
   ]
  },
  {
   "cell_type": "code",
   "execution_count": 38,
   "metadata": {},
   "outputs": [
    {
     "data": {
      "text/plain": [
       "11602.8"
      ]
     },
     "execution_count": 38,
     "metadata": {},
     "output_type": "execute_result"
    }
   ],
   "source": [
    "df['Money'].iloc[-n_obs-2]"
   ]
  },
  {
   "cell_type": "code",
   "execution_count": 39,
   "metadata": {},
   "outputs": [
    {
     "data": {
      "text/plain": [
       "2015-01-01   -71.294823\n",
       "2015-02-01   -67.793821\n",
       "2015-03-01   -45.563312\n",
       "2015-04-01   -49.728504\n",
       "2015-05-01   -60.941150\n",
       "2015-06-01   -50.219649\n",
       "2015-07-01   -51.233837\n",
       "2015-08-01   -53.215812\n",
       "2015-09-01   -52.956626\n",
       "2015-10-01   -50.723123\n",
       "2015-11-01   -51.677946\n",
       "2015-12-01   -51.494261\n",
       "Freq: MS, Name: Money_2d, dtype: float64"
      ]
     },
     "execution_count": 39,
     "metadata": {},
     "output_type": "execute_result"
    }
   ],
   "source": [
    "df_forecast['Money_2d'].cumsum()"
   ]
  },
  {
   "cell_type": "code",
   "execution_count": 40,
   "metadata": {},
   "outputs": [
    {
     "data": {
      "text/plain": [
       "11747.9"
      ]
     },
     "execution_count": 40,
     "metadata": {},
     "output_type": "execute_result"
    }
   ],
   "source": [
    "df['Money'].iloc[-13]"
   ]
  },
  {
   "cell_type": "code",
   "execution_count": 41,
   "metadata": {},
   "outputs": [],
   "source": [
    "df_forecast['Money_1d'] = (df['Money'].iloc[-n_obs-1] - df['Money'].iloc[-n_obs-2]) + df_forecast['Money_2d'].cumsum()\n",
    "\n",
    "df_forecast['MoneyForecast'] = df['Money'].iloc[-n_obs-1] + df_forecast['Money_1d'].cumsum()"
   ]
  },
  {
   "cell_type": "code",
   "execution_count": 42,
   "metadata": {},
   "outputs": [
    {
     "data": {
      "text/plain": [
       "<matplotlib.axes._subplots.AxesSubplot at 0x1c374ec5e48>"
      ]
     },
     "execution_count": 42,
     "metadata": {},
     "output_type": "execute_result"
    },
    {
     "data": {
      "image/png": "[encoded data removed]",
      "text/plain": [
       "<Figure size 432x288 with 1 Axes>"
      ]
     },
     "metadata": {
      "needs_background": "light"
     },
     "output_type": "display_data"
    }
   ],
   "source": [
    "df_forecast['MoneyForecast'].plot()"
   ]
  },
  {
   "cell_type": "code",
   "execution_count": 43,
   "metadata": {},
   "outputs": [],
   "source": [
    "df_forecast['Spend_1d'] = (df['Spend'].iloc[-n_obs-1] - df['Spend'].iloc[-n_obs-2]) + df_forecast['Spend_2d'].cumsum()\n",
    "\n",
    "df_forecast['SpendForecast'] = df['Spend'].iloc[-n_obs-1] + df_forecast['Spend_1d'].cumsum()"
   ]
  },
  {
   "cell_type": "code",
   "execution_count": 44,
   "metadata": {},
   "outputs": [
    {
     "data": {
      "text/plain": [
       "2015-01-01    12108.206278\n",
       "2015-02-01    12147.575240\n",
       "2015-03-01    12177.683503\n",
       "2015-04-01    12220.712214\n",
       "2015-05-01    12254.226358\n",
       "2015-06-01    12287.465627\n",
       "2015-07-01    12325.550453\n",
       "2015-08-01    12362.284962\n",
       "2015-09-01    12397.202569\n",
       "2015-10-01    12434.524717\n",
       "2015-11-01    12470.570110\n",
       "2015-12-01    12506.687029\n",
       "Freq: MS, Name: SpendForecast, dtype: float64"
      ]
     },
     "execution_count": 44,
     "metadata": {},
     "output_type": "execute_result"
    }
   ],
   "source": [
    "df_forecast['SpendForecast']"
   ]
  },
  {
   "cell_type": "code",
   "execution_count": 50,
   "metadata": {},
   "outputs": [
    {
     "data": {
      "text/html": [
       "<div>\n",
       "<style scoped>\n",
       "    .dataframe tbody tr th:only-of-type {\n",
       "        vertical-align: middle;\n",
       "    }\n",
       "\n",
       "    .dataframe tbody tr th {\n",
       "        vertical-align: top;\n",
       "    }\n",
       "\n",
       "    .dataframe thead th {\n",
       "        text-align: right;\n",
       "    }\n",
       "</style>\n",
       "<table border=\"1\" class=\"dataframe\">\n",
       "  <thead>\n",
       "    <tr style=\"text-align: right;\">\n",
       "      <th></th>\n",
       "      <th>Money_2d</th>\n",
       "      <th>Spend_2d</th>\n",
       "      <th>Money_1d</th>\n",
       "      <th>MoneyForecast</th>\n",
       "      <th>Spend_1d</th>\n",
       "      <th>SpendForecast</th>\n",
       "    </tr>\n",
       "  </thead>\n",
       "  <tbody>\n",
       "    <tr>\n",
       "      <td>2015-01-01</td>\n",
       "      <td>-71.294823</td>\n",
       "      <td>28.406278</td>\n",
       "      <td>73.805177</td>\n",
       "      <td>11821.705177</td>\n",
       "      <td>43.206278</td>\n",
       "      <td>12108.206278</td>\n",
       "    </tr>\n",
       "    <tr>\n",
       "      <td>2015-02-01</td>\n",
       "      <td>3.501002</td>\n",
       "      <td>-3.837316</td>\n",
       "      <td>77.306179</td>\n",
       "      <td>11899.011356</td>\n",
       "      <td>39.368962</td>\n",
       "      <td>12147.575240</td>\n",
       "    </tr>\n",
       "    <tr>\n",
       "      <td>2015-03-01</td>\n",
       "      <td>22.230509</td>\n",
       "      <td>-9.260698</td>\n",
       "      <td>99.536688</td>\n",
       "      <td>11998.548044</td>\n",
       "      <td>30.108263</td>\n",
       "      <td>12177.683503</td>\n",
       "    </tr>\n",
       "    <tr>\n",
       "      <td>2015-04-01</td>\n",
       "      <td>-4.165192</td>\n",
       "      <td>12.920447</td>\n",
       "      <td>95.371496</td>\n",
       "      <td>12093.919539</td>\n",
       "      <td>43.028710</td>\n",
       "      <td>12220.712214</td>\n",
       "    </tr>\n",
       "    <tr>\n",
       "      <td>2015-05-01</td>\n",
       "      <td>-11.212646</td>\n",
       "      <td>-9.514566</td>\n",
       "      <td>84.158850</td>\n",
       "      <td>12178.078389</td>\n",
       "      <td>33.514144</td>\n",
       "      <td>12254.226358</td>\n",
       "    </tr>\n",
       "  </tbody>\n",
       "</table>\n",
       "</div>"
      ],
      "text/plain": [
       "             Money_2d   Spend_2d   Money_1d  MoneyForecast   Spend_1d  \\\n",
       "2015-01-01 -71.294823  28.406278  73.805177   11821.705177  43.206278   \n",
       "2015-02-01   3.501002  -3.837316  77.306179   11899.011356  39.368962   \n",
       "2015-03-01  22.230509  -9.260698  99.536688   11998.548044  30.108263   \n",
       "2015-04-01  -4.165192  12.920447  95.371496   12093.919539  43.028710   \n",
       "2015-05-01 -11.212646  -9.514566  84.158850   12178.078389  33.514144   \n",
       "\n",
       "            SpendForecast  \n",
       "2015-01-01   12108.206278  \n",
       "2015-02-01   12147.575240  \n",
       "2015-03-01   12177.683503  \n",
       "2015-04-01   12220.712214  \n",
       "2015-05-01   12254.226358  "
      ]
     },
     "execution_count": 50,
     "metadata": {},
     "output_type": "execute_result"
    }
   ],
   "source": [
    "df_forecast.head()"
   ]
  },
  {
   "cell_type": "code",
   "execution_count": 53,
   "metadata": {},
   "outputs": [],
   "source": [
    "test_range = df[-n_obs:]"
   ]
  },
  {
   "cell_type": "code",
   "execution_count": 54,
   "metadata": {},
   "outputs": [
    {
     "data": {
      "text/plain": [
       "<matplotlib.axes._subplots.AxesSubplot at 0x1c3776ece88>"
      ]
     },
     "execution_count": 54,
     "metadata": {},
     "output_type": "execute_result"
    },
    {
     "data": {
      "image/png": "[encoded data removed]",
      "text/plain": [
       "<Figure size 432x288 with 1 Axes>"
      ]
     },
     "metadata": {
      "needs_background": "light"
     },
     "output_type": "display_data"
    }
   ],
   "source": [
    "test_range.plot()"
   ]
  },
  {
   "cell_type": "code",
   "execution_count": 55,
   "metadata": {},
   "outputs": [
    {
     "data": {
      "text/plain": [
       "<matplotlib.axes._subplots.AxesSubplot at 0x1c376cdf8c8>"
      ]
     },
     "execution_count": 55,
     "metadata": {},
     "output_type": "execute_result"
    },
    {
     "data": {
      "image/png": "[encoded data removed]",
      "text/plain": [
       "<Figure size 1152x864 with 1 Axes>"
      ]
     },
     "metadata": {
      "needs_background": "light"
     },
     "output_type": "display_data"
    }
   ],
   "source": [
    "df['Money']['2014-01-01':].rename('test set money').plot(figsize=(16,12), legend=True)\n",
    "df['Spend']['2014-01-01':].rename('test set spend').plot(legend=True)"
   ]
  },
  {
   "cell_type": "code",
   "execution_count": 57,
   "metadata": {},
   "outputs": [
    {
     "data": {
      "text/plain": [
       "<matplotlib.axes._subplots.AxesSubplot at 0x1c377049488>"
      ]
     },
     "execution_count": 57,
     "metadata": {},
     "output_type": "execute_result"
    },
    {
     "data": {
      "image/png": "[encoded data removed]",
      "text/plain": [
       "<Figure size 1152x864 with 1 Axes>"
      ]
     },
     "metadata": {
      "needs_background": "light"
     },
     "output_type": "display_data"
    }
   ],
   "source": [
    "df_forecast['MoneyForecast'].rename('forecast money').plot(legend=True, figsize=(16,12))\n",
    "df_forecast['SpendForecast'].rename('forecast spend').plot(legend=True)"
   ]
  },
  {
   "cell_type": "code",
   "execution_count": 60,
   "metadata": {},
   "outputs": [
    {
     "data": {
      "text/plain": [
       "<matplotlib.axes._subplots.AxesSubplot at 0x1c377487908>"
      ]
     },
     "execution_count": 60,
     "metadata": {},
     "output_type": "execute_result"
    },
    {
     "data": {
      "image/png": "[encoded data removed]",
      "text/plain": [
       "<Figure size 1152x864 with 1 Axes>"
      ]
     },
     "metadata": {
      "needs_background": "light"
     },
     "output_type": "display_data"
    }
   ],
   "source": [
    "test_range['Money'].plot(figsize=(16,12), legend=True)\n",
    "df_forecast['MoneyForecast'].rename('forecast money').plot(legend=True, figsize=(16,12))"
   ]
  },
  {
   "cell_type": "code",
   "execution_count": 63,
   "metadata": {},
   "outputs": [
    {
     "data": {
      "text/plain": [
       "<matplotlib.axes._subplots.AxesSubplot at 0x1c377779748>"
      ]
     },
     "execution_count": 63,
     "metadata": {},
     "output_type": "execute_result"
    },
    {
     "data": {
      "image/png": "[encoded data removed]",
      "text/plain": [
       "<Figure size 1152x864 with 1 Axes>"
      ]
     },
     "metadata": {
      "needs_background": "light"
     },
     "output_type": "display_data"
    }
   ],
   "source": [
    "test_range['Spend'].rename('test set spend').plot(legend=True, figsize=(16,12))\n",
    "df_forecast['SpendForecast'].rename('forecast spend').plot(legend=True)"
   ]
  },
  {
   "cell_type": "code",
   "execution_count": 64,
   "metadata": {},
   "outputs": [
    {
     "data": {
      "text/plain": [
       "328.3250029111213"
      ]
     },
     "execution_count": 64,
     "metadata": {},
     "output_type": "execute_result"
    }
   ],
   "source": [
    "rmse(test_range['Money'], df_forecast['MoneyForecast'])"
   ]
  },
  {
   "cell_type": "code",
   "execution_count": 65,
   "metadata": {},
   "outputs": [
    {
     "data": {
      "text/plain": [
       "12034.566666666668"
      ]
     },
     "execution_count": 65,
     "metadata": {},
     "output_type": "execute_result"
    }
   ],
   "source": [
    "test_range['Money'].mean()"
   ]
  },
  {
   "cell_type": "code",
   "execution_count": 66,
   "metadata": {},
   "outputs": [
    {
     "data": {
      "text/plain": [
       "40.216001906433675"
      ]
     },
     "execution_count": 66,
     "metadata": {},
     "output_type": "execute_result"
    }
   ],
   "source": [
    "rmse(test_range['Spend'], df_forecast['SpendForecast'])"
   ]
  },
  {
   "cell_type": "code",
   "execution_count": 67,
   "metadata": {},
   "outputs": [
    {
     "data": {
      "text/plain": [
       "12284.275"
      ]
     },
     "execution_count": 67,
     "metadata": {},
     "output_type": "execute_result"
    }
   ],
   "source": [
    "test_range['Spend'].mean()"
   ]
  },
  {
   "cell_type": "code",
   "execution_count": null,
   "metadata": {},
   "outputs": [],
   "source": []
  }
 ],
 "metadata": {
  "kernelspec": {
   "display_name": "Python 3",
   "language": "python",
   "name": "python3"
  },
  "language_info": {
   "codemirror_mode": {
    "name": "ipython",
    "version": 3
   },
   "file_extension": ".py",
   "mimetype": "text/x-python",
   "name": "python",
   "nbconvert_exporter": "python",
   "pygments_lexer": "ipython3",
   "version": "3.7.6"
  }
 },
 "nbformat": 4,
 "nbformat_minor": 2
}
