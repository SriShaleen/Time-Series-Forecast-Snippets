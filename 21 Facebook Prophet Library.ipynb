{
 "cells": [
  {
   "cell_type": "code",
   "execution_count": 1,
   "metadata": {},
   "outputs": [
    {
     "name": "stderr",
     "output_type": "stream",
     "text": [
      "Importing plotly failed. Interactive plots will not work.\n"
     ]
    }
   ],
   "source": [
    "import pandas as pd\n",
    "from fbprophet import Prophet"
   ]
  },
  {
   "cell_type": "code",
   "execution_count": 2,
   "metadata": {},
   "outputs": [],
   "source": [
    "df = pd.read_csv(\"C:\\\\Users\\\\Admin\\\\Desktop\\\\Udacity Time Series Analysis in Python\\\\Time Series contd\\\\BeerWineLiquor.csv\")"
   ]
  },
  {
   "cell_type": "code",
   "execution_count": 3,
   "metadata": {},
   "outputs": [
    {
     "data": {
      "text/html": [
       "<div>\n",
       "<style scoped>\n",
       "    .dataframe tbody tr th:only-of-type {\n",
       "        vertical-align: middle;\n",
       "    }\n",
       "\n",
       "    .dataframe tbody tr th {\n",
       "        vertical-align: top;\n",
       "    }\n",
       "\n",
       "    .dataframe thead th {\n",
       "        text-align: right;\n",
       "    }\n",
       "</style>\n",
       "<table border=\"1\" class=\"dataframe\">\n",
       "  <thead>\n",
       "    <tr style=\"text-align: right;\">\n",
       "      <th></th>\n",
       "      <th>DATE</th>\n",
       "      <th>MRTSSM4453USN</th>\n",
       "    </tr>\n",
       "  </thead>\n",
       "  <tbody>\n",
       "    <tr>\n",
       "      <td>0</td>\n",
       "      <td>1992-01-01</td>\n",
       "      <td>1509</td>\n",
       "    </tr>\n",
       "    <tr>\n",
       "      <td>1</td>\n",
       "      <td>1992-02-01</td>\n",
       "      <td>1541</td>\n",
       "    </tr>\n",
       "    <tr>\n",
       "      <td>2</td>\n",
       "      <td>1992-03-01</td>\n",
       "      <td>1597</td>\n",
       "    </tr>\n",
       "    <tr>\n",
       "      <td>3</td>\n",
       "      <td>1992-04-01</td>\n",
       "      <td>1675</td>\n",
       "    </tr>\n",
       "    <tr>\n",
       "      <td>4</td>\n",
       "      <td>1992-05-01</td>\n",
       "      <td>1822</td>\n",
       "    </tr>\n",
       "  </tbody>\n",
       "</table>\n",
       "</div>"
      ],
      "text/plain": [
       "         DATE  MRTSSM4453USN\n",
       "0  1992-01-01           1509\n",
       "1  1992-02-01           1541\n",
       "2  1992-03-01           1597\n",
       "3  1992-04-01           1675\n",
       "4  1992-05-01           1822"
      ]
     },
     "execution_count": 3,
     "metadata": {},
     "output_type": "execute_result"
    }
   ],
   "source": [
    "df.head()"
   ]
  },
  {
   "cell_type": "markdown",
   "metadata": {},
   "source": [
    "##### Facebook's prophet library requires data in very specific format! the columns of the dataset should be called 'ds'(independent) and 'y'(dependent )"
   ]
  },
  {
   "cell_type": "code",
   "execution_count": 4,
   "metadata": {},
   "outputs": [
    {
     "name": "stdout",
     "output_type": "stream",
     "text": [
      "<class 'pandas.core.frame.DataFrame'>\n",
      "RangeIndex: 336 entries, 0 to 335\n",
      "Data columns (total 2 columns):\n",
      "DATE             336 non-null object\n",
      "MRTSSM4453USN    336 non-null int64\n",
      "dtypes: int64(1), object(1)\n",
      "memory usage: 5.4+ KB\n"
     ]
    }
   ],
   "source": [
    "df.info()"
   ]
  },
  {
   "cell_type": "code",
   "execution_count": 5,
   "metadata": {},
   "outputs": [],
   "source": [
    "df.columns = ['ds','y'] # This is required by facebook's prophet!"
   ]
  },
  {
   "cell_type": "code",
   "execution_count": 6,
   "metadata": {},
   "outputs": [
    {
     "data": {
      "text/html": [
       "<div>\n",
       "<style scoped>\n",
       "    .dataframe tbody tr th:only-of-type {\n",
       "        vertical-align: middle;\n",
       "    }\n",
       "\n",
       "    .dataframe tbody tr th {\n",
       "        vertical-align: top;\n",
       "    }\n",
       "\n",
       "    .dataframe thead th {\n",
       "        text-align: right;\n",
       "    }\n",
       "</style>\n",
       "<table border=\"1\" class=\"dataframe\">\n",
       "  <thead>\n",
       "    <tr style=\"text-align: right;\">\n",
       "      <th></th>\n",
       "      <th>ds</th>\n",
       "      <th>y</th>\n",
       "    </tr>\n",
       "  </thead>\n",
       "  <tbody>\n",
       "    <tr>\n",
       "      <td>0</td>\n",
       "      <td>1992-01-01</td>\n",
       "      <td>1509</td>\n",
       "    </tr>\n",
       "    <tr>\n",
       "      <td>1</td>\n",
       "      <td>1992-02-01</td>\n",
       "      <td>1541</td>\n",
       "    </tr>\n",
       "    <tr>\n",
       "      <td>2</td>\n",
       "      <td>1992-03-01</td>\n",
       "      <td>1597</td>\n",
       "    </tr>\n",
       "    <tr>\n",
       "      <td>3</td>\n",
       "      <td>1992-04-01</td>\n",
       "      <td>1675</td>\n",
       "    </tr>\n",
       "    <tr>\n",
       "      <td>4</td>\n",
       "      <td>1992-05-01</td>\n",
       "      <td>1822</td>\n",
       "    </tr>\n",
       "  </tbody>\n",
       "</table>\n",
       "</div>"
      ],
      "text/plain": [
       "           ds     y\n",
       "0  1992-01-01  1509\n",
       "1  1992-02-01  1541\n",
       "2  1992-03-01  1597\n",
       "3  1992-04-01  1675\n",
       "4  1992-05-01  1822"
      ]
     },
     "execution_count": 6,
     "metadata": {},
     "output_type": "execute_result"
    }
   ],
   "source": [
    "df.head()"
   ]
  },
  {
   "cell_type": "code",
   "execution_count": 7,
   "metadata": {},
   "outputs": [],
   "source": [
    "df['ds'] = pd.to_datetime(df['ds'])"
   ]
  },
  {
   "cell_type": "code",
   "execution_count": 8,
   "metadata": {},
   "outputs": [
    {
     "name": "stdout",
     "output_type": "stream",
     "text": [
      "<class 'pandas.core.frame.DataFrame'>\n",
      "RangeIndex: 336 entries, 0 to 335\n",
      "Data columns (total 2 columns):\n",
      "ds    336 non-null datetime64[ns]\n",
      "y     336 non-null int64\n",
      "dtypes: datetime64[ns](1), int64(1)\n",
      "memory usage: 5.4 KB\n"
     ]
    }
   ],
   "source": [
    "df.info()"
   ]
  },
  {
   "cell_type": "code",
   "execution_count": 9,
   "metadata": {},
   "outputs": [
    {
     "data": {
      "text/plain": [
       "336"
      ]
     },
     "execution_count": 9,
     "metadata": {},
     "output_type": "execute_result"
    }
   ],
   "source": [
    "len(df)"
   ]
  },
  {
   "cell_type": "code",
   "execution_count": 10,
   "metadata": {},
   "outputs": [],
   "source": [
    "train = df.iloc[:324]\n",
    "test = df.iloc[324:]"
   ]
  },
  {
   "cell_type": "code",
   "execution_count": 11,
   "metadata": {},
   "outputs": [
    {
     "name": "stderr",
     "output_type": "stream",
     "text": [
      "INFO:numexpr.utils:NumExpr defaulting to 4 threads.\n",
      "INFO:fbprophet:Disabling weekly seasonality. Run prophet with weekly_seasonality=True to override this.\n",
      "INFO:fbprophet:Disabling daily seasonality. Run prophet with daily_seasonality=True to override this.\n"
     ]
    },
    {
     "data": {
      "text/plain": [
       "<fbprophet.forecaster.Prophet at 0x19be5a8d208>"
      ]
     },
     "execution_count": 11,
     "metadata": {},
     "output_type": "execute_result"
    }
   ],
   "source": [
    "m = Prophet()\n",
    "m.fit(train)"
   ]
  },
  {
   "cell_type": "code",
   "execution_count": 12,
   "metadata": {},
   "outputs": [],
   "source": [
    "# Placeholder to hold future predictions:\n",
    "\n",
    "future = m.make_future_dataframe(periods=12, freq='MS')"
   ]
  },
  {
   "cell_type": "code",
   "execution_count": 13,
   "metadata": {},
   "outputs": [
    {
     "data": {
      "text/html": [
       "<div>\n",
       "<style scoped>\n",
       "    .dataframe tbody tr th:only-of-type {\n",
       "        vertical-align: middle;\n",
       "    }\n",
       "\n",
       "    .dataframe tbody tr th {\n",
       "        vertical-align: top;\n",
       "    }\n",
       "\n",
       "    .dataframe thead th {\n",
       "        text-align: right;\n",
       "    }\n",
       "</style>\n",
       "<table border=\"1\" class=\"dataframe\">\n",
       "  <thead>\n",
       "    <tr style=\"text-align: right;\">\n",
       "      <th></th>\n",
       "      <th>ds</th>\n",
       "    </tr>\n",
       "  </thead>\n",
       "  <tbody>\n",
       "    <tr>\n",
       "      <td>0</td>\n",
       "      <td>1992-01-01</td>\n",
       "    </tr>\n",
       "    <tr>\n",
       "      <td>1</td>\n",
       "      <td>1992-02-01</td>\n",
       "    </tr>\n",
       "    <tr>\n",
       "      <td>2</td>\n",
       "      <td>1992-03-01</td>\n",
       "    </tr>\n",
       "    <tr>\n",
       "      <td>3</td>\n",
       "      <td>1992-04-01</td>\n",
       "    </tr>\n",
       "    <tr>\n",
       "      <td>4</td>\n",
       "      <td>1992-05-01</td>\n",
       "    </tr>\n",
       "    <tr>\n",
       "      <td>...</td>\n",
       "      <td>...</td>\n",
       "    </tr>\n",
       "    <tr>\n",
       "      <td>331</td>\n",
       "      <td>2019-08-01</td>\n",
       "    </tr>\n",
       "    <tr>\n",
       "      <td>332</td>\n",
       "      <td>2019-09-01</td>\n",
       "    </tr>\n",
       "    <tr>\n",
       "      <td>333</td>\n",
       "      <td>2019-10-01</td>\n",
       "    </tr>\n",
       "    <tr>\n",
       "      <td>334</td>\n",
       "      <td>2019-11-01</td>\n",
       "    </tr>\n",
       "    <tr>\n",
       "      <td>335</td>\n",
       "      <td>2019-12-01</td>\n",
       "    </tr>\n",
       "  </tbody>\n",
       "</table>\n",
       "<p>336 rows × 1 columns</p>\n",
       "</div>"
      ],
      "text/plain": [
       "            ds\n",
       "0   1992-01-01\n",
       "1   1992-02-01\n",
       "2   1992-03-01\n",
       "3   1992-04-01\n",
       "4   1992-05-01\n",
       "..         ...\n",
       "331 2019-08-01\n",
       "332 2019-09-01\n",
       "333 2019-10-01\n",
       "334 2019-11-01\n",
       "335 2019-12-01\n",
       "\n",
       "[336 rows x 1 columns]"
      ]
     },
     "execution_count": 13,
     "metadata": {},
     "output_type": "execute_result"
    }
   ],
   "source": [
    "future"
   ]
  },
  {
   "cell_type": "code",
   "execution_count": 14,
   "metadata": {},
   "outputs": [
    {
     "data": {
      "text/plain": [
       "(324, 336)"
      ]
     },
     "execution_count": 14,
     "metadata": {},
     "output_type": "execute_result"
    }
   ],
   "source": [
    "len(train), len(future)"
   ]
  },
  {
   "cell_type": "code",
   "execution_count": 15,
   "metadata": {},
   "outputs": [],
   "source": [
    "forecast = m.predict(future)"
   ]
  },
  {
   "cell_type": "code",
   "execution_count": 16,
   "metadata": {},
   "outputs": [
    {
     "data": {
      "text/plain": [
       "Index(['ds', 'trend', 'yhat_lower', 'yhat_upper', 'trend_lower', 'trend_upper',\n",
       "       'additive_terms', 'additive_terms_lower', 'additive_terms_upper',\n",
       "       'yearly', 'yearly_lower', 'yearly_upper', 'multiplicative_terms',\n",
       "       'multiplicative_terms_lower', 'multiplicative_terms_upper', 'yhat'],\n",
       "      dtype='object')"
      ]
     },
     "execution_count": 16,
     "metadata": {},
     "output_type": "execute_result"
    }
   ],
   "source": [
    "forecast.columns"
   ]
  },
  {
   "cell_type": "code",
   "execution_count": 17,
   "metadata": {},
   "outputs": [
    {
     "data": {
      "text/html": [
       "<div>\n",
       "<style scoped>\n",
       "    .dataframe tbody tr th:only-of-type {\n",
       "        vertical-align: middle;\n",
       "    }\n",
       "\n",
       "    .dataframe tbody tr th {\n",
       "        vertical-align: top;\n",
       "    }\n",
       "\n",
       "    .dataframe thead th {\n",
       "        text-align: right;\n",
       "    }\n",
       "</style>\n",
       "<table border=\"1\" class=\"dataframe\">\n",
       "  <thead>\n",
       "    <tr style=\"text-align: right;\">\n",
       "      <th></th>\n",
       "      <th>ds</th>\n",
       "      <th>yhat_lower</th>\n",
       "      <th>yhat_upper</th>\n",
       "      <th>yhat</th>\n",
       "    </tr>\n",
       "  </thead>\n",
       "  <tbody>\n",
       "    <tr>\n",
       "      <td>324</td>\n",
       "      <td>2019-01-01</td>\n",
       "      <td>4321.226567</td>\n",
       "      <td>4642.139706</td>\n",
       "      <td>4477.613780</td>\n",
       "    </tr>\n",
       "    <tr>\n",
       "      <td>325</td>\n",
       "      <td>2019-02-01</td>\n",
       "      <td>4328.948131</td>\n",
       "      <td>4669.331838</td>\n",
       "      <td>4502.608874</td>\n",
       "    </tr>\n",
       "    <tr>\n",
       "      <td>326</td>\n",
       "      <td>2019-03-01</td>\n",
       "      <td>4581.525986</td>\n",
       "      <td>4909.813442</td>\n",
       "      <td>4745.927678</td>\n",
       "    </tr>\n",
       "    <tr>\n",
       "      <td>327</td>\n",
       "      <td>2019-04-01</td>\n",
       "      <td>4603.493815</td>\n",
       "      <td>4931.138635</td>\n",
       "      <td>4769.052274</td>\n",
       "    </tr>\n",
       "    <tr>\n",
       "      <td>328</td>\n",
       "      <td>2019-05-01</td>\n",
       "      <td>4876.804997</td>\n",
       "      <td>5199.584750</td>\n",
       "      <td>5041.150368</td>\n",
       "    </tr>\n",
       "    <tr>\n",
       "      <td>329</td>\n",
       "      <td>2019-06-01</td>\n",
       "      <td>4860.648489</td>\n",
       "      <td>5191.794209</td>\n",
       "      <td>5030.891080</td>\n",
       "    </tr>\n",
       "    <tr>\n",
       "      <td>330</td>\n",
       "      <td>2019-07-01</td>\n",
       "      <td>5006.260500</td>\n",
       "      <td>5339.196599</td>\n",
       "      <td>5177.163855</td>\n",
       "    </tr>\n",
       "    <tr>\n",
       "      <td>331</td>\n",
       "      <td>2019-08-01</td>\n",
       "      <td>4923.447591</td>\n",
       "      <td>5245.626793</td>\n",
       "      <td>5086.040833</td>\n",
       "    </tr>\n",
       "    <tr>\n",
       "      <td>332</td>\n",
       "      <td>2019-09-01</td>\n",
       "      <td>4781.580000</td>\n",
       "      <td>5115.362524</td>\n",
       "      <td>4946.292277</td>\n",
       "    </tr>\n",
       "    <tr>\n",
       "      <td>333</td>\n",
       "      <td>2019-10-01</td>\n",
       "      <td>4876.451525</td>\n",
       "      <td>5202.487238</td>\n",
       "      <td>5029.139255</td>\n",
       "    </tr>\n",
       "    <tr>\n",
       "      <td>334</td>\n",
       "      <td>2019-11-01</td>\n",
       "      <td>4961.658716</td>\n",
       "      <td>5297.053978</td>\n",
       "      <td>5127.358348</td>\n",
       "    </tr>\n",
       "    <tr>\n",
       "      <td>335</td>\n",
       "      <td>2019-12-01</td>\n",
       "      <td>6072.613812</td>\n",
       "      <td>6408.467765</td>\n",
       "      <td>6237.250692</td>\n",
       "    </tr>\n",
       "  </tbody>\n",
       "</table>\n",
       "</div>"
      ],
      "text/plain": [
       "            ds   yhat_lower   yhat_upper         yhat\n",
       "324 2019-01-01  4321.226567  4642.139706  4477.613780\n",
       "325 2019-02-01  4328.948131  4669.331838  4502.608874\n",
       "326 2019-03-01  4581.525986  4909.813442  4745.927678\n",
       "327 2019-04-01  4603.493815  4931.138635  4769.052274\n",
       "328 2019-05-01  4876.804997  5199.584750  5041.150368\n",
       "329 2019-06-01  4860.648489  5191.794209  5030.891080\n",
       "330 2019-07-01  5006.260500  5339.196599  5177.163855\n",
       "331 2019-08-01  4923.447591  5245.626793  5086.040833\n",
       "332 2019-09-01  4781.580000  5115.362524  4946.292277\n",
       "333 2019-10-01  4876.451525  5202.487238  5029.139255\n",
       "334 2019-11-01  4961.658716  5297.053978  5127.358348\n",
       "335 2019-12-01  6072.613812  6408.467765  6237.250692"
      ]
     },
     "execution_count": 17,
     "metadata": {},
     "output_type": "execute_result"
    }
   ],
   "source": [
    "forecast[['ds','yhat_lower', 'yhat_upper','yhat']].tail(12)"
   ]
  },
  {
   "cell_type": "code",
   "execution_count": 24,
   "metadata": {},
   "outputs": [
    {
     "data": {
      "text/plain": [
       "<matplotlib.axes._subplots.AxesSubplot at 0x19bebe8a588>"
      ]
     },
     "execution_count": 24,
     "metadata": {},
     "output_type": "execute_result"
    },
    {
     "data": {
      "image/png": "[encoded data removed]",
      "text/plain": [
       "<Figure size 864x576 with 1 Axes>"
      ]
     },
     "metadata": {
      "needs_background": "light"
     },
     "output_type": "display_data"
    }
   ],
   "source": [
    "ax = forecast.plot(y='yhat', label='Predictions', legend=True, figsize=(12,8))\n",
    "test.plot(y='y', label='Test data', legend=True, ax=ax)"
   ]
  },
  {
   "cell_type": "code",
   "execution_count": 32,
   "metadata": {},
   "outputs": [],
   "source": [
    "pred = forecast.iloc[-12:]['yhat']"
   ]
  },
  {
   "cell_type": "code",
   "execution_count": 33,
   "metadata": {},
   "outputs": [
    {
     "data": {
      "text/plain": [
       "324    4477.613780\n",
       "325    4502.608874\n",
       "326    4745.927678\n",
       "327    4769.052274\n",
       "328    5041.150368\n",
       "329    5030.891080\n",
       "330    5177.163855\n",
       "331    5086.040833\n",
       "332    4946.292277\n",
       "333    5029.139255\n",
       "334    5127.358348\n",
       "335    6237.250692\n",
       "Name: yhat, dtype: float64"
      ]
     },
     "execution_count": 33,
     "metadata": {},
     "output_type": "execute_result"
    }
   ],
   "source": [
    "pred"
   ]
  },
  {
   "cell_type": "code",
   "execution_count": 34,
   "metadata": {},
   "outputs": [
    {
     "data": {
      "text/plain": [
       "324    4135\n",
       "325    4117\n",
       "326    4674\n",
       "327    4582\n",
       "328    5107\n",
       "329    5006\n",
       "330    5241\n",
       "331    5268\n",
       "332    4677\n",
       "333    4913\n",
       "334    5298\n",
       "335    6624\n",
       "Name: y, dtype: int64"
      ]
     },
     "execution_count": 34,
     "metadata": {},
     "output_type": "execute_result"
    }
   ],
   "source": [
    "test['y']"
   ]
  },
  {
   "cell_type": "code",
   "execution_count": 35,
   "metadata": {},
   "outputs": [],
   "source": [
    "from statsmodels.tools.eval_measures import rmse"
   ]
  },
  {
   "cell_type": "code",
   "execution_count": 36,
   "metadata": {},
   "outputs": [],
   "source": [
    "rmse = rmse(pred,test['y'])"
   ]
  },
  {
   "cell_type": "code",
   "execution_count": 37,
   "metadata": {},
   "outputs": [
    {
     "data": {
      "text/plain": [
       "226.03110769312613"
      ]
     },
     "execution_count": 37,
     "metadata": {},
     "output_type": "execute_result"
    }
   ],
   "source": [
    "rmse"
   ]
  },
  {
   "cell_type": "code",
   "execution_count": 38,
   "metadata": {},
   "outputs": [
    {
     "data": {
      "text/plain": [
       "y    4970.166667\n",
       "dtype: float64"
      ]
     },
     "execution_count": 38,
     "metadata": {},
     "output_type": "execute_result"
    }
   ],
   "source": [
    "test.mean()"
   ]
  },
  {
   "cell_type": "code",
   "execution_count": 51,
   "metadata": {},
   "outputs": [
    {
     "data": {
      "image/png": "[encoded data removed]",
      "text/plain": [
       "<Figure size 648x432 with 2 Axes>"
      ]
     },
     "metadata": {},
     "output_type": "display_data"
    }
   ],
   "source": [
    "m.plot_components(forecast);"
   ]
  },
  {
   "cell_type": "markdown",
   "metadata": {},
   "source": [
    "##### More diagnostics of Prophet using cross validation on several sections of the dataset."
   ]
  },
  {
   "cell_type": "code",
   "execution_count": 39,
   "metadata": {},
   "outputs": [],
   "source": [
    "from fbprophet.diagnostics import cross_validation, performance_metrics\n",
    "from fbprophet.plot import plot_cross_validation_metric"
   ]
  },
  {
   "cell_type": "code",
   "execution_count": 43,
   "metadata": {},
   "outputs": [],
   "source": [
    "# initial training period\n",
    "initial = 5*365\n",
    "initial = str(initial) + ' days'\n",
    "\n",
    "# period length we will be performing cross validation for!\n",
    "period = 5 * 365\n",
    "period = str(period) + ' days'\n",
    "\n",
    "# horizon of prediction for each fold!\n",
    "horizon = 365\n",
    "horizon = str(horizon) + ' days'"
   ]
  },
  {
   "cell_type": "code",
   "execution_count": 44,
   "metadata": {},
   "outputs": [
    {
     "data": {
      "text/plain": [
       "('1825 days', '1825 days', '365 days')"
      ]
     },
     "execution_count": 44,
     "metadata": {},
     "output_type": "execute_result"
    }
   ],
   "source": [
    "initial, period, horizon"
   ]
  },
  {
   "cell_type": "code",
   "execution_count": 45,
   "metadata": {},
   "outputs": [
    {
     "name": "stderr",
     "output_type": "stream",
     "text": [
      "INFO:fbprophet:Making 5 forecasts with cutoffs between 1997-12-06 00:00:00 and 2017-12-01 00:00:00\n"
     ]
    }
   ],
   "source": [
    "df_cv = cross_validation(m, initial=initial, period=period, horizon=horizon)"
   ]
  },
  {
   "cell_type": "code",
   "execution_count": 46,
   "metadata": {},
   "outputs": [
    {
     "data": {
      "text/html": [
       "<div>\n",
       "<style scoped>\n",
       "    .dataframe tbody tr th:only-of-type {\n",
       "        vertical-align: middle;\n",
       "    }\n",
       "\n",
       "    .dataframe tbody tr th {\n",
       "        vertical-align: top;\n",
       "    }\n",
       "\n",
       "    .dataframe thead th {\n",
       "        text-align: right;\n",
       "    }\n",
       "</style>\n",
       "<table border=\"1\" class=\"dataframe\">\n",
       "  <thead>\n",
       "    <tr style=\"text-align: right;\">\n",
       "      <th></th>\n",
       "      <th>ds</th>\n",
       "      <th>yhat</th>\n",
       "      <th>yhat_lower</th>\n",
       "      <th>yhat_upper</th>\n",
       "      <th>y</th>\n",
       "      <th>cutoff</th>\n",
       "    </tr>\n",
       "  </thead>\n",
       "  <tbody>\n",
       "    <tr>\n",
       "      <td>0</td>\n",
       "      <td>1998-01-01</td>\n",
       "      <td>1812.534919</td>\n",
       "      <td>1764.489261</td>\n",
       "      <td>1863.557716</td>\n",
       "      <td>1846</td>\n",
       "      <td>1997-12-06</td>\n",
       "    </tr>\n",
       "    <tr>\n",
       "      <td>1</td>\n",
       "      <td>1998-02-01</td>\n",
       "      <td>1759.795736</td>\n",
       "      <td>1706.479291</td>\n",
       "      <td>1812.389812</td>\n",
       "      <td>1768</td>\n",
       "      <td>1997-12-06</td>\n",
       "    </tr>\n",
       "    <tr>\n",
       "      <td>2</td>\n",
       "      <td>1998-03-01</td>\n",
       "      <td>1946.273212</td>\n",
       "      <td>1897.070624</td>\n",
       "      <td>1995.755143</td>\n",
       "      <td>1894</td>\n",
       "      <td>1997-12-06</td>\n",
       "    </tr>\n",
       "    <tr>\n",
       "      <td>3</td>\n",
       "      <td>1998-04-01</td>\n",
       "      <td>1958.983869</td>\n",
       "      <td>1907.604212</td>\n",
       "      <td>2009.399398</td>\n",
       "      <td>1963</td>\n",
       "      <td>1997-12-06</td>\n",
       "    </tr>\n",
       "    <tr>\n",
       "      <td>4</td>\n",
       "      <td>1998-05-01</td>\n",
       "      <td>2085.448964</td>\n",
       "      <td>2034.092319</td>\n",
       "      <td>2135.004318</td>\n",
       "      <td>2140</td>\n",
       "      <td>1997-12-06</td>\n",
       "    </tr>\n",
       "  </tbody>\n",
       "</table>\n",
       "</div>"
      ],
      "text/plain": [
       "          ds         yhat   yhat_lower   yhat_upper     y     cutoff\n",
       "0 1998-01-01  1812.534919  1764.489261  1863.557716  1846 1997-12-06\n",
       "1 1998-02-01  1759.795736  1706.479291  1812.389812  1768 1997-12-06\n",
       "2 1998-03-01  1946.273212  1897.070624  1995.755143  1894 1997-12-06\n",
       "3 1998-04-01  1958.983869  1907.604212  2009.399398  1963 1997-12-06\n",
       "4 1998-05-01  2085.448964  2034.092319  2135.004318  2140 1997-12-06"
      ]
     },
     "execution_count": 46,
     "metadata": {},
     "output_type": "execute_result"
    }
   ],
   "source": [
    "df_cv.head()"
   ]
  },
  {
   "cell_type": "code",
   "execution_count": 47,
   "metadata": {},
   "outputs": [
    {
     "data": {
      "text/plain": [
       "60"
      ]
     },
     "execution_count": 47,
     "metadata": {},
     "output_type": "execute_result"
    }
   ],
   "source": [
    "len(df_cv)"
   ]
  },
  {
   "cell_type": "code",
   "execution_count": 48,
   "metadata": {
    "scrolled": true
   },
   "outputs": [
    {
     "data": {
      "text/html": [
       "<div>\n",
       "<style scoped>\n",
       "    .dataframe tbody tr th:only-of-type {\n",
       "        vertical-align: middle;\n",
       "    }\n",
       "\n",
       "    .dataframe tbody tr th {\n",
       "        vertical-align: top;\n",
       "    }\n",
       "\n",
       "    .dataframe thead th {\n",
       "        text-align: right;\n",
       "    }\n",
       "</style>\n",
       "<table border=\"1\" class=\"dataframe\">\n",
       "  <thead>\n",
       "    <tr style=\"text-align: right;\">\n",
       "      <th></th>\n",
       "      <th>horizon</th>\n",
       "      <th>mse</th>\n",
       "      <th>rmse</th>\n",
       "      <th>mae</th>\n",
       "      <th>mape</th>\n",
       "      <th>mdape</th>\n",
       "      <th>coverage</th>\n",
       "    </tr>\n",
       "  </thead>\n",
       "  <tbody>\n",
       "    <tr>\n",
       "      <td>0</td>\n",
       "      <td>57 days</td>\n",
       "      <td>38394.662777</td>\n",
       "      <td>195.945561</td>\n",
       "      <td>164.297639</td>\n",
       "      <td>0.057399</td>\n",
       "      <td>0.073177</td>\n",
       "      <td>0.333333</td>\n",
       "    </tr>\n",
       "    <tr>\n",
       "      <td>1</td>\n",
       "      <td>58 days</td>\n",
       "      <td>46689.735085</td>\n",
       "      <td>216.078076</td>\n",
       "      <td>196.318273</td>\n",
       "      <td>0.072754</td>\n",
       "      <td>0.078679</td>\n",
       "      <td>0.166667</td>\n",
       "    </tr>\n",
       "    <tr>\n",
       "      <td>2</td>\n",
       "      <td>59 days</td>\n",
       "      <td>44360.061291</td>\n",
       "      <td>210.618283</td>\n",
       "      <td>188.364709</td>\n",
       "      <td>0.066653</td>\n",
       "      <td>0.073177</td>\n",
       "      <td>0.166667</td>\n",
       "    </tr>\n",
       "    <tr>\n",
       "      <td>3</td>\n",
       "      <td>61 days</td>\n",
       "      <td>36094.676002</td>\n",
       "      <td>189.985989</td>\n",
       "      <td>166.401705</td>\n",
       "      <td>0.057139</td>\n",
       "      <td>0.056493</td>\n",
       "      <td>0.333333</td>\n",
       "    </tr>\n",
       "    <tr>\n",
       "      <td>4</td>\n",
       "      <td>62 days</td>\n",
       "      <td>38728.147178</td>\n",
       "      <td>196.794683</td>\n",
       "      <td>171.497341</td>\n",
       "      <td>0.055720</td>\n",
       "      <td>0.056116</td>\n",
       "      <td>0.333333</td>\n",
       "    </tr>\n",
       "    <tr>\n",
       "      <td>5</td>\n",
       "      <td>85 days</td>\n",
       "      <td>26429.691445</td>\n",
       "      <td>162.572112</td>\n",
       "      <td>134.104824</td>\n",
       "      <td>0.048770</td>\n",
       "      <td>0.040791</td>\n",
       "      <td>0.333333</td>\n",
       "    </tr>\n",
       "    <tr>\n",
       "      <td>6</td>\n",
       "      <td>86 days</td>\n",
       "      <td>30631.147692</td>\n",
       "      <td>175.017564</td>\n",
       "      <td>159.234851</td>\n",
       "      <td>0.059655</td>\n",
       "      <td>0.056116</td>\n",
       "      <td>0.166667</td>\n",
       "    </tr>\n",
       "    <tr>\n",
       "      <td>7</td>\n",
       "      <td>88 days</td>\n",
       "      <td>26763.473034</td>\n",
       "      <td>163.595455</td>\n",
       "      <td>149.367702</td>\n",
       "      <td>0.050556</td>\n",
       "      <td>0.049678</td>\n",
       "      <td>0.166667</td>\n",
       "    </tr>\n",
       "    <tr>\n",
       "      <td>8</td>\n",
       "      <td>89 days</td>\n",
       "      <td>24382.219654</td>\n",
       "      <td>156.148070</td>\n",
       "      <td>133.474621</td>\n",
       "      <td>0.044527</td>\n",
       "      <td>0.046779</td>\n",
       "      <td>0.333333</td>\n",
       "    </tr>\n",
       "    <tr>\n",
       "      <td>9</td>\n",
       "      <td>90 days</td>\n",
       "      <td>25407.001311</td>\n",
       "      <td>159.395738</td>\n",
       "      <td>137.305054</td>\n",
       "      <td>0.043392</td>\n",
       "      <td>0.043375</td>\n",
       "      <td>0.333333</td>\n",
       "    </tr>\n",
       "    <tr>\n",
       "      <td>10</td>\n",
       "      <td>116 days</td>\n",
       "      <td>12925.185305</td>\n",
       "      <td>113.688985</td>\n",
       "      <td>92.359163</td>\n",
       "      <td>0.032309</td>\n",
       "      <td>0.029342</td>\n",
       "      <td>0.500000</td>\n",
       "    </tr>\n",
       "    <tr>\n",
       "      <td>11</td>\n",
       "      <td>117 days</td>\n",
       "      <td>15949.164292</td>\n",
       "      <td>126.290001</td>\n",
       "      <td>107.728052</td>\n",
       "      <td>0.038031</td>\n",
       "      <td>0.043375</td>\n",
       "      <td>0.500000</td>\n",
       "    </tr>\n",
       "    <tr>\n",
       "      <td>12</td>\n",
       "      <td>119 days</td>\n",
       "      <td>17368.152995</td>\n",
       "      <td>131.788289</td>\n",
       "      <td>111.867399</td>\n",
       "      <td>0.036596</td>\n",
       "      <td>0.043375</td>\n",
       "      <td>0.500000</td>\n",
       "    </tr>\n",
       "    <tr>\n",
       "      <td>13</td>\n",
       "      <td>120 days</td>\n",
       "      <td>15390.138851</td>\n",
       "      <td>124.056998</td>\n",
       "      <td>105.096822</td>\n",
       "      <td>0.033328</td>\n",
       "      <td>0.033570</td>\n",
       "      <td>0.666667</td>\n",
       "    </tr>\n",
       "    <tr>\n",
       "      <td>14</td>\n",
       "      <td>121 days</td>\n",
       "      <td>21469.591508</td>\n",
       "      <td>146.525054</td>\n",
       "      <td>132.711056</td>\n",
       "      <td>0.039443</td>\n",
       "      <td>0.040132</td>\n",
       "      <td>0.500000</td>\n",
       "    </tr>\n",
       "    <tr>\n",
       "      <td>15</td>\n",
       "      <td>146 days</td>\n",
       "      <td>18448.831725</td>\n",
       "      <td>135.826477</td>\n",
       "      <td>117.592949</td>\n",
       "      <td>0.038511</td>\n",
       "      <td>0.040132</td>\n",
       "      <td>0.333333</td>\n",
       "    </tr>\n",
       "    <tr>\n",
       "      <td>16</td>\n",
       "      <td>147 days</td>\n",
       "      <td>18878.100040</td>\n",
       "      <td>137.397598</td>\n",
       "      <td>125.408448</td>\n",
       "      <td>0.041464</td>\n",
       "      <td>0.040132</td>\n",
       "      <td>0.333333</td>\n",
       "    </tr>\n",
       "    <tr>\n",
       "      <td>17</td>\n",
       "      <td>149 days</td>\n",
       "      <td>16555.683199</td>\n",
       "      <td>128.668890</td>\n",
       "      <td>115.213663</td>\n",
       "      <td>0.035202</td>\n",
       "      <td>0.030773</td>\n",
       "      <td>0.500000</td>\n",
       "    </tr>\n",
       "    <tr>\n",
       "      <td>18</td>\n",
       "      <td>150 days</td>\n",
       "      <td>13344.268286</td>\n",
       "      <td>115.517394</td>\n",
       "      <td>104.661102</td>\n",
       "      <td>0.030068</td>\n",
       "      <td>0.028011</td>\n",
       "      <td>0.666667</td>\n",
       "    </tr>\n",
       "    <tr>\n",
       "      <td>19</td>\n",
       "      <td>151 days</td>\n",
       "      <td>14350.973871</td>\n",
       "      <td>119.795550</td>\n",
       "      <td>108.340558</td>\n",
       "      <td>0.029032</td>\n",
       "      <td>0.027664</td>\n",
       "      <td>0.666667</td>\n",
       "    </tr>\n",
       "    <tr>\n",
       "      <td>20</td>\n",
       "      <td>177 days</td>\n",
       "      <td>8607.462942</td>\n",
       "      <td>92.776414</td>\n",
       "      <td>84.938932</td>\n",
       "      <td>0.025914</td>\n",
       "      <td>0.025497</td>\n",
       "      <td>0.833333</td>\n",
       "    </tr>\n",
       "    <tr>\n",
       "      <td>21</td>\n",
       "      <td>178 days</td>\n",
       "      <td>13412.249418</td>\n",
       "      <td>115.811266</td>\n",
       "      <td>105.570135</td>\n",
       "      <td>0.033882</td>\n",
       "      <td>0.027670</td>\n",
       "      <td>0.833333</td>\n",
       "    </tr>\n",
       "    <tr>\n",
       "      <td>22</td>\n",
       "      <td>180 days</td>\n",
       "      <td>13605.910798</td>\n",
       "      <td>116.644377</td>\n",
       "      <td>107.296532</td>\n",
       "      <td>0.033703</td>\n",
       "      <td>0.027670</td>\n",
       "      <td>0.833333</td>\n",
       "    </tr>\n",
       "    <tr>\n",
       "      <td>23</td>\n",
       "      <td>181 days</td>\n",
       "      <td>12449.156310</td>\n",
       "      <td>111.575787</td>\n",
       "      <td>93.602771</td>\n",
       "      <td>0.029693</td>\n",
       "      <td>0.027670</td>\n",
       "      <td>0.833333</td>\n",
       "    </tr>\n",
       "    <tr>\n",
       "      <td>24</td>\n",
       "      <td>182 days</td>\n",
       "      <td>17011.195074</td>\n",
       "      <td>130.426972</td>\n",
       "      <td>107.631840</td>\n",
       "      <td>0.031434</td>\n",
       "      <td>0.027670</td>\n",
       "      <td>0.666667</td>\n",
       "    </tr>\n",
       "    <tr>\n",
       "      <td>25</td>\n",
       "      <td>207 days</td>\n",
       "      <td>13379.044786</td>\n",
       "      <td>115.667821</td>\n",
       "      <td>84.320543</td>\n",
       "      <td>0.027063</td>\n",
       "      <td>0.022094</td>\n",
       "      <td>0.666667</td>\n",
       "    </tr>\n",
       "    <tr>\n",
       "      <td>26</td>\n",
       "      <td>208 days</td>\n",
       "      <td>15377.127154</td>\n",
       "      <td>124.004545</td>\n",
       "      <td>95.807475</td>\n",
       "      <td>0.030564</td>\n",
       "      <td>0.029831</td>\n",
       "      <td>0.500000</td>\n",
       "    </tr>\n",
       "    <tr>\n",
       "      <td>27</td>\n",
       "      <td>210 days</td>\n",
       "      <td>10622.412358</td>\n",
       "      <td>103.065088</td>\n",
       "      <td>75.624181</td>\n",
       "      <td>0.021059</td>\n",
       "      <td>0.017480</td>\n",
       "      <td>0.666667</td>\n",
       "    </tr>\n",
       "    <tr>\n",
       "      <td>28</td>\n",
       "      <td>211 days</td>\n",
       "      <td>12016.090159</td>\n",
       "      <td>109.617928</td>\n",
       "      <td>83.758209</td>\n",
       "      <td>0.022493</td>\n",
       "      <td>0.021780</td>\n",
       "      <td>0.666667</td>\n",
       "    </tr>\n",
       "    <tr>\n",
       "      <td>29</td>\n",
       "      <td>212 days</td>\n",
       "      <td>13043.853109</td>\n",
       "      <td>114.209689</td>\n",
       "      <td>96.655008</td>\n",
       "      <td>0.025052</td>\n",
       "      <td>0.021780</td>\n",
       "      <td>0.666667</td>\n",
       "    </tr>\n",
       "    <tr>\n",
       "      <td>30</td>\n",
       "      <td>238 days</td>\n",
       "      <td>6092.392273</td>\n",
       "      <td>78.053778</td>\n",
       "      <td>64.808401</td>\n",
       "      <td>0.019293</td>\n",
       "      <td>0.015966</td>\n",
       "      <td>0.833333</td>\n",
       "    </tr>\n",
       "    <tr>\n",
       "      <td>31</td>\n",
       "      <td>239 days</td>\n",
       "      <td>6231.062535</td>\n",
       "      <td>78.937080</td>\n",
       "      <td>68.467489</td>\n",
       "      <td>0.020566</td>\n",
       "      <td>0.015966</td>\n",
       "      <td>0.833333</td>\n",
       "    </tr>\n",
       "    <tr>\n",
       "      <td>32</td>\n",
       "      <td>241 days</td>\n",
       "      <td>4837.660260</td>\n",
       "      <td>69.553291</td>\n",
       "      <td>61.546920</td>\n",
       "      <td>0.016651</td>\n",
       "      <td>0.015966</td>\n",
       "      <td>1.000000</td>\n",
       "    </tr>\n",
       "    <tr>\n",
       "      <td>33</td>\n",
       "      <td>242 days</td>\n",
       "      <td>14614.191056</td>\n",
       "      <td>120.889168</td>\n",
       "      <td>93.485220</td>\n",
       "      <td>0.024055</td>\n",
       "      <td>0.019336</td>\n",
       "      <td>0.833333</td>\n",
       "    </tr>\n",
       "    <tr>\n",
       "      <td>34</td>\n",
       "      <td>243 days</td>\n",
       "      <td>14230.561728</td>\n",
       "      <td>119.291918</td>\n",
       "      <td>91.650878</td>\n",
       "      <td>0.022842</td>\n",
       "      <td>0.017833</td>\n",
       "      <td>0.833333</td>\n",
       "    </tr>\n",
       "    <tr>\n",
       "      <td>35</td>\n",
       "      <td>269 days</td>\n",
       "      <td>13464.937410</td>\n",
       "      <td>116.038517</td>\n",
       "      <td>85.174163</td>\n",
       "      <td>0.023488</td>\n",
       "      <td>0.019772</td>\n",
       "      <td>0.833333</td>\n",
       "    </tr>\n",
       "    <tr>\n",
       "      <td>36</td>\n",
       "      <td>270 days</td>\n",
       "      <td>15150.863537</td>\n",
       "      <td>123.088844</td>\n",
       "      <td>99.822752</td>\n",
       "      <td>0.029292</td>\n",
       "      <td>0.021512</td>\n",
       "      <td>0.666667</td>\n",
       "    </tr>\n",
       "    <tr>\n",
       "      <td>37</td>\n",
       "      <td>272 days</td>\n",
       "      <td>18375.364126</td>\n",
       "      <td>135.555760</td>\n",
       "      <td>118.547814</td>\n",
       "      <td>0.034942</td>\n",
       "      <td>0.032128</td>\n",
       "      <td>0.500000</td>\n",
       "    </tr>\n",
       "    <tr>\n",
       "      <td>38</td>\n",
       "      <td>273 days</td>\n",
       "      <td>18548.979295</td>\n",
       "      <td>136.194638</td>\n",
       "      <td>119.593119</td>\n",
       "      <td>0.035062</td>\n",
       "      <td>0.032487</td>\n",
       "      <td>0.500000</td>\n",
       "    </tr>\n",
       "    <tr>\n",
       "      <td>39</td>\n",
       "      <td>274 days</td>\n",
       "      <td>8996.391967</td>\n",
       "      <td>94.849312</td>\n",
       "      <td>89.443384</td>\n",
       "      <td>0.027384</td>\n",
       "      <td>0.021872</td>\n",
       "      <td>0.666667</td>\n",
       "    </tr>\n",
       "    <tr>\n",
       "      <td>40</td>\n",
       "      <td>299 days</td>\n",
       "      <td>8555.548615</td>\n",
       "      <td>92.496209</td>\n",
       "      <td>87.044044</td>\n",
       "      <td>0.030573</td>\n",
       "      <td>0.031440</td>\n",
       "      <td>0.500000</td>\n",
       "    </tr>\n",
       "    <tr>\n",
       "      <td>41</td>\n",
       "      <td>300 days</td>\n",
       "      <td>8583.606971</td>\n",
       "      <td>92.647758</td>\n",
       "      <td>87.388659</td>\n",
       "      <td>0.029951</td>\n",
       "      <td>0.031440</td>\n",
       "      <td>0.500000</td>\n",
       "    </tr>\n",
       "    <tr>\n",
       "      <td>42</td>\n",
       "      <td>302 days</td>\n",
       "      <td>7022.215328</td>\n",
       "      <td>83.798659</td>\n",
       "      <td>75.561980</td>\n",
       "      <td>0.024596</td>\n",
       "      <td>0.019770</td>\n",
       "      <td>0.666667</td>\n",
       "    </tr>\n",
       "    <tr>\n",
       "      <td>43</td>\n",
       "      <td>303 days</td>\n",
       "      <td>3701.745993</td>\n",
       "      <td>60.841976</td>\n",
       "      <td>54.829525</td>\n",
       "      <td>0.017858</td>\n",
       "      <td>0.015218</td>\n",
       "      <td>0.833333</td>\n",
       "    </tr>\n",
       "    <tr>\n",
       "      <td>44</td>\n",
       "      <td>304 days</td>\n",
       "      <td>2506.303197</td>\n",
       "      <td>50.062992</td>\n",
       "      <td>43.125044</td>\n",
       "      <td>0.014458</td>\n",
       "      <td>0.011870</td>\n",
       "      <td>0.833333</td>\n",
       "    </tr>\n",
       "    <tr>\n",
       "      <td>45</td>\n",
       "      <td>330 days</td>\n",
       "      <td>1811.584526</td>\n",
       "      <td>42.562713</td>\n",
       "      <td>35.338520</td>\n",
       "      <td>0.013664</td>\n",
       "      <td>0.009488</td>\n",
       "      <td>0.833333</td>\n",
       "    </tr>\n",
       "    <tr>\n",
       "      <td>46</td>\n",
       "      <td>331 days</td>\n",
       "      <td>616.761836</td>\n",
       "      <td>24.834690</td>\n",
       "      <td>21.234502</td>\n",
       "      <td>0.007143</td>\n",
       "      <td>0.006916</td>\n",
       "      <td>1.000000</td>\n",
       "    </tr>\n",
       "    <tr>\n",
       "      <td>47</td>\n",
       "      <td>333 days</td>\n",
       "      <td>2001.302110</td>\n",
       "      <td>44.735915</td>\n",
       "      <td>30.985339</td>\n",
       "      <td>0.009443</td>\n",
       "      <td>0.006916</td>\n",
       "      <td>1.000000</td>\n",
       "    </tr>\n",
       "    <tr>\n",
       "      <td>48</td>\n",
       "      <td>334 days</td>\n",
       "      <td>6182.955599</td>\n",
       "      <td>78.631772</td>\n",
       "      <td>52.782381</td>\n",
       "      <td>0.014548</td>\n",
       "      <td>0.007294</td>\n",
       "      <td>0.833333</td>\n",
       "    </tr>\n",
       "    <tr>\n",
       "      <td>49</td>\n",
       "      <td>335 days</td>\n",
       "      <td>19096.873273</td>\n",
       "      <td>138.191437</td>\n",
       "      <td>96.290831</td>\n",
       "      <td>0.022734</td>\n",
       "      <td>0.019736</td>\n",
       "      <td>0.666667</td>\n",
       "    </tr>\n",
       "    <tr>\n",
       "      <td>50</td>\n",
       "      <td>360 days</td>\n",
       "      <td>25251.288603</td>\n",
       "      <td>158.906540</td>\n",
       "      <td>125.769087</td>\n",
       "      <td>0.032760</td>\n",
       "      <td>0.034674</td>\n",
       "      <td>0.500000</td>\n",
       "    </tr>\n",
       "    <tr>\n",
       "      <td>51</td>\n",
       "      <td>361 days</td>\n",
       "      <td>27966.145413</td>\n",
       "      <td>167.230815</td>\n",
       "      <td>143.791627</td>\n",
       "      <td>0.037017</td>\n",
       "      <td>0.037576</td>\n",
       "      <td>0.333333</td>\n",
       "    </tr>\n",
       "    <tr>\n",
       "      <td>52</td>\n",
       "      <td>363 days</td>\n",
       "      <td>32550.716607</td>\n",
       "      <td>180.418171</td>\n",
       "      <td>171.426322</td>\n",
       "      <td>0.043211</td>\n",
       "      <td>0.038460</td>\n",
       "      <td>0.166667</td>\n",
       "    </tr>\n",
       "    <tr>\n",
       "      <td>53</td>\n",
       "      <td>364 days</td>\n",
       "      <td>54114.860459</td>\n",
       "      <td>232.626010</td>\n",
       "      <td>216.953151</td>\n",
       "      <td>0.050210</td>\n",
       "      <td>0.046790</td>\n",
       "      <td>0.000000</td>\n",
       "    </tr>\n",
       "    <tr>\n",
       "      <td>54</td>\n",
       "      <td>365 days</td>\n",
       "      <td>88090.532883</td>\n",
       "      <td>296.800493</td>\n",
       "      <td>269.976543</td>\n",
       "      <td>0.055983</td>\n",
       "      <td>0.058665</td>\n",
       "      <td>0.000000</td>\n",
       "    </tr>\n",
       "  </tbody>\n",
       "</table>\n",
       "</div>"
      ],
      "text/plain": [
       "    horizon           mse        rmse         mae      mape     mdape  \\\n",
       "0   57 days  38394.662777  195.945561  164.297639  0.057399  0.073177   \n",
       "1   58 days  46689.735085  216.078076  196.318273  0.072754  0.078679   \n",
       "2   59 days  44360.061291  210.618283  188.364709  0.066653  0.073177   \n",
       "3   61 days  36094.676002  189.985989  166.401705  0.057139  0.056493   \n",
       "4   62 days  38728.147178  196.794683  171.497341  0.055720  0.056116   \n",
       "5   85 days  26429.691445  162.572112  134.104824  0.048770  0.040791   \n",
       "6   86 days  30631.147692  175.017564  159.234851  0.059655  0.056116   \n",
       "7   88 days  26763.473034  163.595455  149.367702  0.050556  0.049678   \n",
       "8   89 days  24382.219654  156.148070  133.474621  0.044527  0.046779   \n",
       "9   90 days  25407.001311  159.395738  137.305054  0.043392  0.043375   \n",
       "10 116 days  12925.185305  113.688985   92.359163  0.032309  0.029342   \n",
       "11 117 days  15949.164292  126.290001  107.728052  0.038031  0.043375   \n",
       "12 119 days  17368.152995  131.788289  111.867399  0.036596  0.043375   \n",
       "13 120 days  15390.138851  124.056998  105.096822  0.033328  0.033570   \n",
       "14 121 days  21469.591508  146.525054  132.711056  0.039443  0.040132   \n",
       "15 146 days  18448.831725  135.826477  117.592949  0.038511  0.040132   \n",
       "16 147 days  18878.100040  137.397598  125.408448  0.041464  0.040132   \n",
       "17 149 days  16555.683199  128.668890  115.213663  0.035202  0.030773   \n",
       "18 150 days  13344.268286  115.517394  104.661102  0.030068  0.028011   \n",
       "19 151 days  14350.973871  119.795550  108.340558  0.029032  0.027664   \n",
       "20 177 days   8607.462942   92.776414   84.938932  0.025914  0.025497   \n",
       "21 178 days  13412.249418  115.811266  105.570135  0.033882  0.027670   \n",
       "22 180 days  13605.910798  116.644377  107.296532  0.033703  0.027670   \n",
       "23 181 days  12449.156310  111.575787   93.602771  0.029693  0.027670   \n",
       "24 182 days  17011.195074  130.426972  107.631840  0.031434  0.027670   \n",
       "25 207 days  13379.044786  115.667821   84.320543  0.027063  0.022094   \n",
       "26 208 days  15377.127154  124.004545   95.807475  0.030564  0.029831   \n",
       "27 210 days  10622.412358  103.065088   75.624181  0.021059  0.017480   \n",
       "28 211 days  12016.090159  109.617928   83.758209  0.022493  0.021780   \n",
       "29 212 days  13043.853109  114.209689   96.655008  0.025052  0.021780   \n",
       "30 238 days   6092.392273   78.053778   64.808401  0.019293  0.015966   \n",
       "31 239 days   6231.062535   78.937080   68.467489  0.020566  0.015966   \n",
       "32 241 days   4837.660260   69.553291   61.546920  0.016651  0.015966   \n",
       "33 242 days  14614.191056  120.889168   93.485220  0.024055  0.019336   \n",
       "34 243 days  14230.561728  119.291918   91.650878  0.022842  0.017833   \n",
       "35 269 days  13464.937410  116.038517   85.174163  0.023488  0.019772   \n",
       "36 270 days  15150.863537  123.088844   99.822752  0.029292  0.021512   \n",
       "37 272 days  18375.364126  135.555760  118.547814  0.034942  0.032128   \n",
       "38 273 days  18548.979295  136.194638  119.593119  0.035062  0.032487   \n",
       "39 274 days   8996.391967   94.849312   89.443384  0.027384  0.021872   \n",
       "40 299 days   8555.548615   92.496209   87.044044  0.030573  0.031440   \n",
       "41 300 days   8583.606971   92.647758   87.388659  0.029951  0.031440   \n",
       "42 302 days   7022.215328   83.798659   75.561980  0.024596  0.019770   \n",
       "43 303 days   3701.745993   60.841976   54.829525  0.017858  0.015218   \n",
       "44 304 days   2506.303197   50.062992   43.125044  0.014458  0.011870   \n",
       "45 330 days   1811.584526   42.562713   35.338520  0.013664  0.009488   \n",
       "46 331 days    616.761836   24.834690   21.234502  0.007143  0.006916   \n",
       "47 333 days   2001.302110   44.735915   30.985339  0.009443  0.006916   \n",
       "48 334 days   6182.955599   78.631772   52.782381  0.014548  0.007294   \n",
       "49 335 days  19096.873273  138.191437   96.290831  0.022734  0.019736   \n",
       "50 360 days  25251.288603  158.906540  125.769087  0.032760  0.034674   \n",
       "51 361 days  27966.145413  167.230815  143.791627  0.037017  0.037576   \n",
       "52 363 days  32550.716607  180.418171  171.426322  0.043211  0.038460   \n",
       "53 364 days  54114.860459  232.626010  216.953151  0.050210  0.046790   \n",
       "54 365 days  88090.532883  296.800493  269.976543  0.055983  0.058665   \n",
       "\n",
       "    coverage  \n",
       "0   0.333333  \n",
       "1   0.166667  \n",
       "2   0.166667  \n",
       "3   0.333333  \n",
       "4   0.333333  \n",
       "5   0.333333  \n",
       "6   0.166667  \n",
       "7   0.166667  \n",
       "8   0.333333  \n",
       "9   0.333333  \n",
       "10  0.500000  \n",
       "11  0.500000  \n",
       "12  0.500000  \n",
       "13  0.666667  \n",
       "14  0.500000  \n",
       "15  0.333333  \n",
       "16  0.333333  \n",
       "17  0.500000  \n",
       "18  0.666667  \n",
       "19  0.666667  \n",
       "20  0.833333  \n",
       "21  0.833333  \n",
       "22  0.833333  \n",
       "23  0.833333  \n",
       "24  0.666667  \n",
       "25  0.666667  \n",
       "26  0.500000  \n",
       "27  0.666667  \n",
       "28  0.666667  \n",
       "29  0.666667  \n",
       "30  0.833333  \n",
       "31  0.833333  \n",
       "32  1.000000  \n",
       "33  0.833333  \n",
       "34  0.833333  \n",
       "35  0.833333  \n",
       "36  0.666667  \n",
       "37  0.500000  \n",
       "38  0.500000  \n",
       "39  0.666667  \n",
       "40  0.500000  \n",
       "41  0.500000  \n",
       "42  0.666667  \n",
       "43  0.833333  \n",
       "44  0.833333  \n",
       "45  0.833333  \n",
       "46  1.000000  \n",
       "47  1.000000  \n",
       "48  0.833333  \n",
       "49  0.666667  \n",
       "50  0.500000  \n",
       "51  0.333333  \n",
       "52  0.166667  \n",
       "53  0.000000  \n",
       "54  0.000000  "
      ]
     },
     "execution_count": 48,
     "metadata": {},
     "output_type": "execute_result"
    }
   ],
   "source": [
    "performance_metrics(df_cv)"
   ]
  },
  {
   "cell_type": "code",
   "execution_count": 50,
   "metadata": {},
   "outputs": [
    {
     "data": {
      "image/png": "[encoded data removed]",
      "text/plain": [
       "<Figure size 720x432 with 1 Axes>"
      ]
     },
     "metadata": {},
     "output_type": "display_data"
    }
   ],
   "source": [
    "plot_cross_validation_metric(df_cv, metric='rmse');"
   ]
  }
 ],
 "metadata": {
  "kernelspec": {
   "display_name": "Python 3",
   "language": "python",
   "name": "python3"
  },
  "language_info": {
   "codemirror_mode": {
    "name": "ipython",
    "version": 3
   },
   "file_extension": ".py",
   "mimetype": "text/x-python",
   "name": "python",
   "nbconvert_exporter": "python",
   "pygments_lexer": "ipython3",
   "version": "3.7.4"
  }
 },
 "nbformat": 4,
 "nbformat_minor": 2
}
