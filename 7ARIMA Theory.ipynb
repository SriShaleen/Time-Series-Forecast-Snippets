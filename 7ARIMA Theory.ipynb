{
 "cells": [
  {
   "cell_type": "markdown",
   "metadata": {},
   "source": [
    "### ARIMA: Auto Regressive Integrated Moving Average"
   ]
  },
  {
   "cell_type": "raw",
   "metadata": {},
   "source": [
    "It has 3 seperate components - AR, I and MA.\n",
    "Note that: ARIMA is not capable of perfectly predicting any time series data.!\n",
    "\n",
    "Beginners often want to apply ARIMA to any data that has time stamp that is not directly a function of time, \n",
    "such as stock data, but it doesnt work that way. Because stock price data has so many other factors which wont be\n",
    "available with just time stamped price information! We will need lot more outside features and factors as well!\n",
    "So,just because your dataset has time stamp, it doesnt mean that ARIMA model will be able to successfully forecast future."
   ]
  },
  {
   "cell_type": "raw",
   "metadata": {},
   "source": [
    "ARIMA excels really well when working with Time Series where the data is directly related to time stamp eg: Airlines data.\n",
    "In Airlines dataset, we can see clear growth and seasonality based on time."
   ]
  },
  {
   "cell_type": "raw",
   "metadata": {},
   "source": [
    "IMP Point to note:\n",
    "\n",
    "ARIMA model alone wouldnt be able to understand any outside factors, such as new development in jet engines, if those \n",
    "effects were not already present in that data.!! \n",
    "So, understanding nature of your data is very imp!"
   ]
  },
  {
   "cell_type": "raw",
   "metadata": {},
   "source": [
    "Different flavours of ARIMA are there including:\n",
    "- Non Seasonal ARIMA\n",
    "- Seasonal ARIMA (SARIMA)\n",
    "- ARIMAX\n",
    "- SARIMAX (SARIMA with exogeneous variables)"
   ]
  },
  {
   "cell_type": "markdown",
   "metadata": {},
   "source": [
    "### Basics of ARIMA model:"
   ]
  },
  {
   "cell_type": "raw",
   "metadata": {},
   "source": [
    "ARIMA model is applied in some cases where data show evidence of non-stationarity , where an initial differencing step(corresponding to the \"integrated\" part of the model) can be applied one or more times to remove non-stationarity."
   ]
  },
  {
   "cell_type": "markdown",
   "metadata": {},
   "source": [
    "### What is differencing the time series means? "
   ]
  },
  {
   "cell_type": "raw",
   "metadata": {},
   "source": [
    "In Python, the differencing can be done using diff() function.\n",
    "\n",
    "The idea behind differencing is to remove trend and seasonality from the series, by taking the differences between values in the series.\n",
    "\n",
    "The key concept in differencing is called the lag.\n",
    "The lag tells us how far apart these 2 values are going to be.\n",
    "\n",
    "- Lag_1 differencing means taking the difference between each two neighbouring values i.e. y(t) - y(t-1), this is useful for removing trend from series since the series of differences or jumps between values and will no longer contain a trend.\n",
    "\n",
    "- Another useful type of differencing is of Lag_M where M is number of seasons in our data.\n",
    "Lag_M differencing (i.e. y(t) - y(t-M) means subtracting the value from the same season in the previous cycle.\n",
    "It is useful for removing seasonality with M seasons. The differenced series will no longer dispplay seasonality.\n",
    "\n",
    "- Another differencing operation is called the 'Double Differencing'.\n",
    "In this we difference the series once, and then we apply differencing to the differenced series by appropriate lag interval. This will be useful if we want to remove both Trend and seasonality!\n",
    "\n",
    "Differencing is gonna be useful if, for example, we want to use MA to forecast series that has trend or seasonality,as we saw MA cant really capture those patterns, so differencing will help us remove these patterns beforehand!\n",
    "\n",
    "\n",
    "REMEMBER: Each differencing step comes with the cost of losing a row of data!"
   ]
  },
  {
   "cell_type": "markdown",
   "metadata": {},
   "source": [
    "### Non Seasonal ARIMA models:"
   ]
  },
  {
   "cell_type": "raw",
   "metadata": {},
   "source": [
    "Non Seasonal ARIMA models are generally denoted as ARIMA(p,d,q) where parameters p,d,q are non-negative integers."
   ]
  },
  {
   "cell_type": "raw",
   "metadata": {},
   "source": [
    "## NEEDS CROSS CHECK:\n",
    "\n",
    "ARIMA has 3 major components: AR(p), I(d), MA(q)\n",
    "\n",
    "AR(p): regression model that utilizes the relationship between current observation and observation over a previous period. \n",
    "\n",
    "I(d): How many times the differencing of observations is done in order to make the TS stationary.\n",
    "\n",
    "MA(q): model that uses dependency between the residual error and the lagged value."
   ]
  },
  {
   "cell_type": "markdown",
   "metadata": {},
   "source": [
    "### What makes data stationary:"
   ]
  },
  {
   "cell_type": "raw",
   "metadata": {},
   "source": [
    "A stationary series has constant mean, variance and covariance over time."
   ]
  },
  {
   "cell_type": "raw",
   "metadata": {},
   "source": [
    "There is a mathematical test to determine if the dataset is stationarity or not.\n",
    "This test is called the Augmented Dickey Fuller Test.\n",
    "We will pass our TS to Dickey Fuller's function and it will report quanatatively if the TS is stationary or not!"
   ]
  },
  {
   "cell_type": "markdown",
   "metadata": {},
   "source": [
    "### Choosing p,d,q terms:"
   ]
  },
  {
   "cell_type": "raw",
   "metadata": {},
   "source": [
    "There atre 2 main ways to choose p,d,q terms:\n",
    "\n",
    "Method 1: Using ACF and PACF plots, we can choose p,d,q terms based on viewing the decay in the plot.\n",
    "However, the best performing p,d,q value can be difficult to read from these plots manually and may differ to the best performing values.\n",
    "\n",
    "Method 2: Grid Search (Easy but takes time)\n",
    "Grid search runs a bunch of ARIMA models of different values p,d,q and compare the model based on some evaluation metric.\n",
    "This helps us get optimum p,d,q terms for us."
   ]
  },
  {
   "cell_type": "raw",
   "metadata": {},
   "source": [
    "Later on, we will discuss SARIMA model, which simply adds another set of parameters(P,D,Q) for the seasonal component."
   ]
  },
  {
   "cell_type": "raw",
   "metadata": {},
   "source": [
    "Lets begin by simple case of ARIMA, where I and MA components are zero, leaving us with a simplified AR model."
   ]
  },
  {
   "cell_type": "code",
   "execution_count": null,
   "metadata": {},
   "outputs": [],
   "source": []
  }
 ],
 "metadata": {
  "kernelspec": {
   "display_name": "Python 3",
   "language": "python",
   "name": "python3"
  },
  "language_info": {
   "codemirror_mode": {
    "name": "ipython",
    "version": 3
   },
   "file_extension": ".py",
   "mimetype": "text/x-python",
   "name": "python",
   "nbconvert_exporter": "python",
   "pygments_lexer": "ipython3",
   "version": "3.7.4"
  }
 },
 "nbformat": 4,
 "nbformat_minor": 2
}
