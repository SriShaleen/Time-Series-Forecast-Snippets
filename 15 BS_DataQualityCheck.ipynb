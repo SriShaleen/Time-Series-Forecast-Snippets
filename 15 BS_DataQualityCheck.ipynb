{
 "cells": [
  {
   "cell_type": "raw",
   "metadata": {},
   "source": [
    "*** Note: The data is still not in a very good condition and has random noise. However, we have tweaked the values of dataset and parameters of model a bit, to get it in a good shape for lesser mape."
   ]
  },
  {
   "cell_type": "code",
   "execution_count": 100,
   "metadata": {},
   "outputs": [],
   "source": [
    "import pandas as pd\n",
    "import numpy as np\n",
    "import matplotlib.pyplot as plt\n",
    "\n",
    "%matplotlib inline"
   ]
  },
  {
   "cell_type": "code",
   "execution_count": 101,
   "metadata": {},
   "outputs": [],
   "source": [
    "data = pd.read_csv(\"C://Users//shaleens//Desktop//QualityCheck.csv\", parse_dates=True, index_col=0)"
   ]
  },
  {
   "cell_type": "code",
   "execution_count": 102,
   "metadata": {},
   "outputs": [
    {
     "data": {
      "text/html": [
       "<div>\n",
       "<style scoped>\n",
       "    .dataframe tbody tr th:only-of-type {\n",
       "        vertical-align: middle;\n",
       "    }\n",
       "\n",
       "    .dataframe tbody tr th {\n",
       "        vertical-align: top;\n",
       "    }\n",
       "\n",
       "    .dataframe thead th {\n",
       "        text-align: right;\n",
       "    }\n",
       "</style>\n",
       "<table border=\"1\" class=\"dataframe\">\n",
       "  <thead>\n",
       "    <tr style=\"text-align: right;\">\n",
       "      <th></th>\n",
       "      <th>Hosp_Price</th>\n",
       "      <th>Quarter_Flag</th>\n",
       "      <th>Winter_Flag</th>\n",
       "      <th>#Representative</th>\n",
       "      <th>#Tier2Dealers</th>\n",
       "      <th>#ListedHospitals</th>\n",
       "      <th>#Working_Days</th>\n",
       "      <th>Rep_Incentive_Pct</th>\n",
       "      <th>Disc_Month</th>\n",
       "      <th>Free_Goods_Month</th>\n",
       "      <th>Sales</th>\n",
       "    </tr>\n",
       "    <tr>\n",
       "      <th>Date</th>\n",
       "      <th></th>\n",
       "      <th></th>\n",
       "      <th></th>\n",
       "      <th></th>\n",
       "      <th></th>\n",
       "      <th></th>\n",
       "      <th></th>\n",
       "      <th></th>\n",
       "      <th></th>\n",
       "      <th></th>\n",
       "      <th></th>\n",
       "    </tr>\n",
       "  </thead>\n",
       "  <tbody>\n",
       "    <tr>\n",
       "      <td>2016-01-01</td>\n",
       "      <td>131669</td>\n",
       "      <td>0</td>\n",
       "      <td>1</td>\n",
       "      <td>20</td>\n",
       "      <td>10</td>\n",
       "      <td>100</td>\n",
       "      <td>22</td>\n",
       "      <td>10</td>\n",
       "      <td>0</td>\n",
       "      <td>0</td>\n",
       "      <td>6547</td>\n",
       "    </tr>\n",
       "    <tr>\n",
       "      <td>2016-02-01</td>\n",
       "      <td>130353</td>\n",
       "      <td>0</td>\n",
       "      <td>0</td>\n",
       "      <td>20</td>\n",
       "      <td>10</td>\n",
       "      <td>104</td>\n",
       "      <td>22</td>\n",
       "      <td>10</td>\n",
       "      <td>0</td>\n",
       "      <td>0</td>\n",
       "      <td>6580</td>\n",
       "    </tr>\n",
       "    <tr>\n",
       "      <td>2016-03-01</td>\n",
       "      <td>129050</td>\n",
       "      <td>1</td>\n",
       "      <td>0</td>\n",
       "      <td>21</td>\n",
       "      <td>11</td>\n",
       "      <td>109</td>\n",
       "      <td>24</td>\n",
       "      <td>10</td>\n",
       "      <td>0</td>\n",
       "      <td>1</td>\n",
       "      <td>7602</td>\n",
       "    </tr>\n",
       "    <tr>\n",
       "      <td>2016-04-01</td>\n",
       "      <td>127760</td>\n",
       "      <td>0</td>\n",
       "      <td>0</td>\n",
       "      <td>23</td>\n",
       "      <td>11</td>\n",
       "      <td>110</td>\n",
       "      <td>21</td>\n",
       "      <td>10</td>\n",
       "      <td>0</td>\n",
       "      <td>0</td>\n",
       "      <td>6847</td>\n",
       "    </tr>\n",
       "    <tr>\n",
       "      <td>2016-05-01</td>\n",
       "      <td>126483</td>\n",
       "      <td>0</td>\n",
       "      <td>0</td>\n",
       "      <td>24</td>\n",
       "      <td>12</td>\n",
       "      <td>110</td>\n",
       "      <td>23</td>\n",
       "      <td>20</td>\n",
       "      <td>0</td>\n",
       "      <td>0</td>\n",
       "      <td>7288</td>\n",
       "    </tr>\n",
       "  </tbody>\n",
       "</table>\n",
       "</div>"
      ],
      "text/plain": [
       "            Hosp_Price  Quarter_Flag  Winter_Flag  #Representative  \\\n",
       "Date                                                                 \n",
       "2016-01-01      131669             0            1               20   \n",
       "2016-02-01      130353             0            0               20   \n",
       "2016-03-01      129050             1            0               21   \n",
       "2016-04-01      127760             0            0               23   \n",
       "2016-05-01      126483             0            0               24   \n",
       "\n",
       "            #Tier2Dealers  #ListedHospitals  #Working_Days  Rep_Incentive_Pct  \\\n",
       "Date                                                                            \n",
       "2016-01-01             10               100             22                 10   \n",
       "2016-02-01             10               104             22                 10   \n",
       "2016-03-01             11               109             24                 10   \n",
       "2016-04-01             11               110             21                 10   \n",
       "2016-05-01             12               110             23                 20   \n",
       "\n",
       "            Disc_Month  Free_Goods_Month  Sales  \n",
       "Date                                             \n",
       "2016-01-01           0                 0   6547  \n",
       "2016-02-01           0                 0   6580  \n",
       "2016-03-01           0                 1   7602  \n",
       "2016-04-01           0                 0   6847  \n",
       "2016-05-01           0                 0   7288  "
      ]
     },
     "execution_count": 102,
     "metadata": {},
     "output_type": "execute_result"
    }
   ],
   "source": [
    "data.head()"
   ]
  },
  {
   "cell_type": "code",
   "execution_count": 103,
   "metadata": {},
   "outputs": [
    {
     "data": {
      "text/html": [
       "<div>\n",
       "<style scoped>\n",
       "    .dataframe tbody tr th:only-of-type {\n",
       "        vertical-align: middle;\n",
       "    }\n",
       "\n",
       "    .dataframe tbody tr th {\n",
       "        vertical-align: top;\n",
       "    }\n",
       "\n",
       "    .dataframe thead th {\n",
       "        text-align: right;\n",
       "    }\n",
       "</style>\n",
       "<table border=\"1\" class=\"dataframe\">\n",
       "  <thead>\n",
       "    <tr style=\"text-align: right;\">\n",
       "      <th></th>\n",
       "      <th>Hosp_Price</th>\n",
       "      <th>Quarter_Flag</th>\n",
       "      <th>Winter_Flag</th>\n",
       "      <th>#Representative</th>\n",
       "      <th>#Tier2Dealers</th>\n",
       "      <th>#ListedHospitals</th>\n",
       "      <th>#Working_Days</th>\n",
       "      <th>Rep_Incentive_Pct</th>\n",
       "      <th>Disc_Month</th>\n",
       "      <th>Free_Goods_Month</th>\n",
       "      <th>Sales</th>\n",
       "    </tr>\n",
       "    <tr>\n",
       "      <th>Date</th>\n",
       "      <th></th>\n",
       "      <th></th>\n",
       "      <th></th>\n",
       "      <th></th>\n",
       "      <th></th>\n",
       "      <th></th>\n",
       "      <th></th>\n",
       "      <th></th>\n",
       "      <th></th>\n",
       "      <th></th>\n",
       "      <th></th>\n",
       "    </tr>\n",
       "  </thead>\n",
       "  <tbody>\n",
       "    <tr>\n",
       "      <td>2018-08-01</td>\n",
       "      <td>96436</td>\n",
       "      <td>0</td>\n",
       "      <td>0</td>\n",
       "      <td>71</td>\n",
       "      <td>101</td>\n",
       "      <td>322</td>\n",
       "      <td>23</td>\n",
       "      <td>10</td>\n",
       "      <td>0</td>\n",
       "      <td>0</td>\n",
       "      <td>13898</td>\n",
       "    </tr>\n",
       "    <tr>\n",
       "      <td>2018-09-01</td>\n",
       "      <td>95472</td>\n",
       "      <td>1</td>\n",
       "      <td>0</td>\n",
       "      <td>76</td>\n",
       "      <td>98</td>\n",
       "      <td>324</td>\n",
       "      <td>21</td>\n",
       "      <td>10</td>\n",
       "      <td>0</td>\n",
       "      <td>0</td>\n",
       "      <td>13717</td>\n",
       "    </tr>\n",
       "    <tr>\n",
       "      <td>2018-10-01</td>\n",
       "      <td>94518</td>\n",
       "      <td>0</td>\n",
       "      <td>0</td>\n",
       "      <td>81</td>\n",
       "      <td>103</td>\n",
       "      <td>342</td>\n",
       "      <td>24</td>\n",
       "      <td>20</td>\n",
       "      <td>1</td>\n",
       "      <td>1</td>\n",
       "      <td>16315</td>\n",
       "    </tr>\n",
       "    <tr>\n",
       "      <td>2018-11-01</td>\n",
       "      <td>93573</td>\n",
       "      <td>0</td>\n",
       "      <td>0</td>\n",
       "      <td>82</td>\n",
       "      <td>115</td>\n",
       "      <td>367</td>\n",
       "      <td>22</td>\n",
       "      <td>10</td>\n",
       "      <td>1</td>\n",
       "      <td>0</td>\n",
       "      <td>15803</td>\n",
       "    </tr>\n",
       "    <tr>\n",
       "      <td>2018-12-01</td>\n",
       "      <td>92638</td>\n",
       "      <td>1</td>\n",
       "      <td>1</td>\n",
       "      <td>83</td>\n",
       "      <td>126</td>\n",
       "      <td>388</td>\n",
       "      <td>21</td>\n",
       "      <td>10</td>\n",
       "      <td>0</td>\n",
       "      <td>0</td>\n",
       "      <td>15714</td>\n",
       "    </tr>\n",
       "  </tbody>\n",
       "</table>\n",
       "</div>"
      ],
      "text/plain": [
       "            Hosp_Price  Quarter_Flag  Winter_Flag  #Representative  \\\n",
       "Date                                                                 \n",
       "2018-08-01       96436             0            0               71   \n",
       "2018-09-01       95472             1            0               76   \n",
       "2018-10-01       94518             0            0               81   \n",
       "2018-11-01       93573             0            0               82   \n",
       "2018-12-01       92638             1            1               83   \n",
       "\n",
       "            #Tier2Dealers  #ListedHospitals  #Working_Days  Rep_Incentive_Pct  \\\n",
       "Date                                                                            \n",
       "2018-08-01            101               322             23                 10   \n",
       "2018-09-01             98               324             21                 10   \n",
       "2018-10-01            103               342             24                 20   \n",
       "2018-11-01            115               367             22                 10   \n",
       "2018-12-01            126               388             21                 10   \n",
       "\n",
       "            Disc_Month  Free_Goods_Month  Sales  \n",
       "Date                                             \n",
       "2018-08-01           0                 0  13898  \n",
       "2018-09-01           0                 0  13717  \n",
       "2018-10-01           1                 1  16315  \n",
       "2018-11-01           1                 0  15803  \n",
       "2018-12-01           0                 0  15714  "
      ]
     },
     "execution_count": 103,
     "metadata": {},
     "output_type": "execute_result"
    }
   ],
   "source": [
    "data.tail()"
   ]
  },
  {
   "cell_type": "code",
   "execution_count": 104,
   "metadata": {},
   "outputs": [],
   "source": [
    "data.index.freq = \"MS\""
   ]
  },
  {
   "cell_type": "code",
   "execution_count": 105,
   "metadata": {},
   "outputs": [
    {
     "data": {
      "text/plain": [
       "DatetimeIndex(['2016-01-01', '2016-02-01', '2016-03-01', '2016-04-01',\n",
       "               '2016-05-01', '2016-06-01', '2016-07-01', '2016-08-01',\n",
       "               '2016-09-01', '2016-10-01', '2016-11-01', '2016-12-01',\n",
       "               '2017-01-01', '2017-02-01', '2017-03-01', '2017-04-01',\n",
       "               '2017-05-01', '2017-06-01', '2017-07-01', '2017-08-01',\n",
       "               '2017-09-01', '2017-10-01', '2017-11-01', '2017-12-01',\n",
       "               '2018-01-01', '2018-02-01', '2018-03-01', '2018-04-01',\n",
       "               '2018-05-01', '2018-06-01', '2018-07-01', '2018-08-01',\n",
       "               '2018-09-01', '2018-10-01', '2018-11-01', '2018-12-01'],\n",
       "              dtype='datetime64[ns]', name='Date', freq='MS')"
      ]
     },
     "execution_count": 105,
     "metadata": {},
     "output_type": "execute_result"
    }
   ],
   "source": [
    "data.index"
   ]
  },
  {
   "cell_type": "code",
   "execution_count": 106,
   "metadata": {},
   "outputs": [
    {
     "data": {
      "text/plain": [
       "Index(['Hosp_Price', 'Quarter_Flag', 'Winter_Flag', '#Representative',\n",
       "       '#Tier2Dealers', '#ListedHospitals', '#Working_Days',\n",
       "       'Rep_Incentive_Pct', 'Disc_Month', 'Free_Goods_Month', 'Sales'],\n",
       "      dtype='object')"
      ]
     },
     "execution_count": 106,
     "metadata": {},
     "output_type": "execute_result"
    }
   ],
   "source": [
    "data.columns"
   ]
  },
  {
   "cell_type": "code",
   "execution_count": 107,
   "metadata": {},
   "outputs": [
    {
     "data": {
      "text/html": [
       "<div>\n",
       "<style scoped>\n",
       "    .dataframe tbody tr th:only-of-type {\n",
       "        vertical-align: middle;\n",
       "    }\n",
       "\n",
       "    .dataframe tbody tr th {\n",
       "        vertical-align: top;\n",
       "    }\n",
       "\n",
       "    .dataframe thead th {\n",
       "        text-align: right;\n",
       "    }\n",
       "</style>\n",
       "<table border=\"1\" class=\"dataframe\">\n",
       "  <thead>\n",
       "    <tr style=\"text-align: right;\">\n",
       "      <th></th>\n",
       "      <th>Hosp_Price</th>\n",
       "      <th>Quarter_Flag</th>\n",
       "      <th>Winter_Flag</th>\n",
       "      <th>#Representative</th>\n",
       "      <th>#Tier2Dealers</th>\n",
       "      <th>#ListedHospitals</th>\n",
       "      <th>#Working_Days</th>\n",
       "      <th>Rep_Incentive_Pct</th>\n",
       "      <th>Disc_Month</th>\n",
       "      <th>Free_Goods_Month</th>\n",
       "      <th>Sales</th>\n",
       "    </tr>\n",
       "  </thead>\n",
       "  <tbody>\n",
       "    <tr>\n",
       "      <td>Hosp_Price</td>\n",
       "      <td>1.000000</td>\n",
       "      <td>-0.068025</td>\n",
       "      <td>0.003970</td>\n",
       "      <td>-0.961669</td>\n",
       "      <td>-0.949793</td>\n",
       "      <td>-0.955820</td>\n",
       "      <td>0.067478</td>\n",
       "      <td>-0.025006</td>\n",
       "      <td>-0.171399</td>\n",
       "      <td>0.000068</td>\n",
       "      <td>-0.944306</td>\n",
       "    </tr>\n",
       "    <tr>\n",
       "      <td>Quarter_Flag</td>\n",
       "      <td>-0.068025</td>\n",
       "      <td>1.000000</td>\n",
       "      <td>0.158114</td>\n",
       "      <td>0.063664</td>\n",
       "      <td>0.054861</td>\n",
       "      <td>0.062591</td>\n",
       "      <td>-0.283981</td>\n",
       "      <td>-0.157378</td>\n",
       "      <td>-0.316228</td>\n",
       "      <td>0.158114</td>\n",
       "      <td>0.042528</td>\n",
       "    </tr>\n",
       "    <tr>\n",
       "      <td>Winter_Flag</td>\n",
       "      <td>0.003970</td>\n",
       "      <td>0.158114</td>\n",
       "      <td>1.000000</td>\n",
       "      <td>-0.006824</td>\n",
       "      <td>0.044803</td>\n",
       "      <td>0.026080</td>\n",
       "      <td>-0.035921</td>\n",
       "      <td>-0.024884</td>\n",
       "      <td>-0.200000</td>\n",
       "      <td>-0.200000</td>\n",
       "      <td>0.068134</td>\n",
       "    </tr>\n",
       "    <tr>\n",
       "      <td>#Representative</td>\n",
       "      <td>-0.961669</td>\n",
       "      <td>0.063664</td>\n",
       "      <td>-0.006824</td>\n",
       "      <td>1.000000</td>\n",
       "      <td>0.958012</td>\n",
       "      <td>0.994899</td>\n",
       "      <td>-0.073788</td>\n",
       "      <td>-0.066059</td>\n",
       "      <td>0.214289</td>\n",
       "      <td>0.001365</td>\n",
       "      <td>0.953098</td>\n",
       "    </tr>\n",
       "    <tr>\n",
       "      <td>#Tier2Dealers</td>\n",
       "      <td>-0.949793</td>\n",
       "      <td>0.054861</td>\n",
       "      <td>0.044803</td>\n",
       "      <td>0.958012</td>\n",
       "      <td>1.000000</td>\n",
       "      <td>0.971839</td>\n",
       "      <td>-0.073389</td>\n",
       "      <td>-0.048744</td>\n",
       "      <td>0.121608</td>\n",
       "      <td>-0.021896</td>\n",
       "      <td>0.946378</td>\n",
       "    </tr>\n",
       "    <tr>\n",
       "      <td>#ListedHospitals</td>\n",
       "      <td>-0.955820</td>\n",
       "      <td>0.062591</td>\n",
       "      <td>0.026080</td>\n",
       "      <td>0.994899</td>\n",
       "      <td>0.971839</td>\n",
       "      <td>1.000000</td>\n",
       "      <td>-0.091006</td>\n",
       "      <td>-0.078804</td>\n",
       "      <td>0.192807</td>\n",
       "      <td>-0.008383</td>\n",
       "      <td>0.953439</td>\n",
       "    </tr>\n",
       "    <tr>\n",
       "      <td>#Working_Days</td>\n",
       "      <td>0.067478</td>\n",
       "      <td>-0.283981</td>\n",
       "      <td>-0.035921</td>\n",
       "      <td>-0.073788</td>\n",
       "      <td>-0.073389</td>\n",
       "      <td>-0.091006</td>\n",
       "      <td>1.000000</td>\n",
       "      <td>0.111731</td>\n",
       "      <td>0.179605</td>\n",
       "      <td>0.251447</td>\n",
       "      <td>0.060247</td>\n",
       "    </tr>\n",
       "    <tr>\n",
       "      <td>Rep_Incentive_Pct</td>\n",
       "      <td>-0.025006</td>\n",
       "      <td>-0.157378</td>\n",
       "      <td>-0.024884</td>\n",
       "      <td>-0.066059</td>\n",
       "      <td>-0.048744</td>\n",
       "      <td>-0.078804</td>\n",
       "      <td>0.111731</td>\n",
       "      <td>1.000000</td>\n",
       "      <td>-0.174185</td>\n",
       "      <td>-0.174185</td>\n",
       "      <td>-0.073661</td>\n",
       "    </tr>\n",
       "    <tr>\n",
       "      <td>Disc_Month</td>\n",
       "      <td>-0.171399</td>\n",
       "      <td>-0.316228</td>\n",
       "      <td>-0.200000</td>\n",
       "      <td>0.214289</td>\n",
       "      <td>0.121608</td>\n",
       "      <td>0.192807</td>\n",
       "      <td>0.179605</td>\n",
       "      <td>-0.174185</td>\n",
       "      <td>1.000000</td>\n",
       "      <td>0.400000</td>\n",
       "      <td>0.326828</td>\n",
       "    </tr>\n",
       "    <tr>\n",
       "      <td>Free_Goods_Month</td>\n",
       "      <td>0.000068</td>\n",
       "      <td>0.158114</td>\n",
       "      <td>-0.200000</td>\n",
       "      <td>0.001365</td>\n",
       "      <td>-0.021896</td>\n",
       "      <td>-0.008383</td>\n",
       "      <td>0.251447</td>\n",
       "      <td>-0.174185</td>\n",
       "      <td>0.400000</td>\n",
       "      <td>1.000000</td>\n",
       "      <td>0.134592</td>\n",
       "    </tr>\n",
       "    <tr>\n",
       "      <td>Sales</td>\n",
       "      <td>-0.944306</td>\n",
       "      <td>0.042528</td>\n",
       "      <td>0.068134</td>\n",
       "      <td>0.953098</td>\n",
       "      <td>0.946378</td>\n",
       "      <td>0.953439</td>\n",
       "      <td>0.060247</td>\n",
       "      <td>-0.073661</td>\n",
       "      <td>0.326828</td>\n",
       "      <td>0.134592</td>\n",
       "      <td>1.000000</td>\n",
       "    </tr>\n",
       "  </tbody>\n",
       "</table>\n",
       "</div>"
      ],
      "text/plain": [
       "                   Hosp_Price  Quarter_Flag  Winter_Flag  #Representative  \\\n",
       "Hosp_Price           1.000000     -0.068025     0.003970        -0.961669   \n",
       "Quarter_Flag        -0.068025      1.000000     0.158114         0.063664   \n",
       "Winter_Flag          0.003970      0.158114     1.000000        -0.006824   \n",
       "#Representative     -0.961669      0.063664    -0.006824         1.000000   \n",
       "#Tier2Dealers       -0.949793      0.054861     0.044803         0.958012   \n",
       "#ListedHospitals    -0.955820      0.062591     0.026080         0.994899   \n",
       "#Working_Days        0.067478     -0.283981    -0.035921        -0.073788   \n",
       "Rep_Incentive_Pct   -0.025006     -0.157378    -0.024884        -0.066059   \n",
       "Disc_Month          -0.171399     -0.316228    -0.200000         0.214289   \n",
       "Free_Goods_Month     0.000068      0.158114    -0.200000         0.001365   \n",
       "Sales               -0.944306      0.042528     0.068134         0.953098   \n",
       "\n",
       "                   #Tier2Dealers  #ListedHospitals  #Working_Days  \\\n",
       "Hosp_Price             -0.949793         -0.955820       0.067478   \n",
       "Quarter_Flag            0.054861          0.062591      -0.283981   \n",
       "Winter_Flag             0.044803          0.026080      -0.035921   \n",
       "#Representative         0.958012          0.994899      -0.073788   \n",
       "#Tier2Dealers           1.000000          0.971839      -0.073389   \n",
       "#ListedHospitals        0.971839          1.000000      -0.091006   \n",
       "#Working_Days          -0.073389         -0.091006       1.000000   \n",
       "Rep_Incentive_Pct      -0.048744         -0.078804       0.111731   \n",
       "Disc_Month              0.121608          0.192807       0.179605   \n",
       "Free_Goods_Month       -0.021896         -0.008383       0.251447   \n",
       "Sales                   0.946378          0.953439       0.060247   \n",
       "\n",
       "                   Rep_Incentive_Pct  Disc_Month  Free_Goods_Month     Sales  \n",
       "Hosp_Price                 -0.025006   -0.171399          0.000068 -0.944306  \n",
       "Quarter_Flag               -0.157378   -0.316228          0.158114  0.042528  \n",
       "Winter_Flag                -0.024884   -0.200000         -0.200000  0.068134  \n",
       "#Representative            -0.066059    0.214289          0.001365  0.953098  \n",
       "#Tier2Dealers              -0.048744    0.121608         -0.021896  0.946378  \n",
       "#ListedHospitals           -0.078804    0.192807         -0.008383  0.953439  \n",
       "#Working_Days               0.111731    0.179605          0.251447  0.060247  \n",
       "Rep_Incentive_Pct           1.000000   -0.174185         -0.174185 -0.073661  \n",
       "Disc_Month                 -0.174185    1.000000          0.400000  0.326828  \n",
       "Free_Goods_Month           -0.174185    0.400000          1.000000  0.134592  \n",
       "Sales                      -0.073661    0.326828          0.134592  1.000000  "
      ]
     },
     "execution_count": 107,
     "metadata": {},
     "output_type": "execute_result"
    }
   ],
   "source": [
    "data.corr()"
   ]
  },
  {
   "cell_type": "code",
   "execution_count": 108,
   "metadata": {},
   "outputs": [
    {
     "data": {
      "text/plain": [
       "<matplotlib.axes._subplots.AxesSubplot at 0x1b9b4f33ec8>"
      ]
     },
     "execution_count": 108,
     "metadata": {},
     "output_type": "execute_result"
    },
    {
     "data": {
      "image/png": "[encoded data removed]",
      "text/plain": [
       "<Figure size 864x576 with 1 Axes>"
      ]
     },
     "metadata": {
      "needs_background": "light"
     },
     "output_type": "display_data"
    }
   ],
   "source": [
    "data['Sales'].plot(figsize=(12,8))"
   ]
  },
  {
   "cell_type": "markdown",
   "metadata": {},
   "source": [
    "### Test for Stationarity:"
   ]
  },
  {
   "cell_type": "code",
   "execution_count": 109,
   "metadata": {},
   "outputs": [],
   "source": [
    "from statsmodels.tsa.stattools import adfuller\n",
    "\n",
    "def adf_test(series, title=''):\n",
    "    '''\n",
    "    Pass in a time series and an optional title, function returns an ADF report\n",
    "    '''\n",
    "    print(f'Augmented Dickey-fuller test: {title}')\n",
    "    result = adfuller(series.dropna(), autolag='AIC') # dropna() handles differenced data\n",
    "    \n",
    "    labels = ['adf test stats','p-value', '# of lags', '# of observations']\n",
    "    out = pd.Series(result[0:4], index=labels)\n",
    "    \n",
    "    for key,val in result[4].items():\n",
    "        out[f'critical value ({key})'] = val\n",
    "    \n",
    "    print(out.to_string())\n",
    "    \n",
    "    if result[1] <= 0.05:\n",
    "        print(\"Null Hypothesis rejected! Time series is stationary!\")\n",
    "    else:\n",
    "        print(\"Failed to reject Null Hypothesis! Time Series is not stationary!\")"
   ]
  },
  {
   "cell_type": "code",
   "execution_count": 110,
   "metadata": {},
   "outputs": [
    {
     "name": "stdout",
     "output_type": "stream",
     "text": [
      "Augmented Dickey-fuller test: \n",
      "adf test stats           0.889641\n",
      "p-value                  0.992954\n",
      "# of lags                9.000000\n",
      "# of observations       26.000000\n",
      "critical value (1%)     -3.711212\n",
      "critical value (5%)     -2.981247\n",
      "critical value (10%)    -2.630095\n",
      "Failed to reject Null Hypothesis! Time Series is not stationary!\n"
     ]
    }
   ],
   "source": [
    "adf_test(data['Sales'])"
   ]
  },
  {
   "cell_type": "code",
   "execution_count": 111,
   "metadata": {},
   "outputs": [
    {
     "data": {
      "text/plain": [
       "36"
      ]
     },
     "execution_count": 111,
     "metadata": {},
     "output_type": "execute_result"
    }
   ],
   "source": [
    "len(data)"
   ]
  },
  {
   "cell_type": "code",
   "execution_count": 112,
   "metadata": {},
   "outputs": [
    {
     "data": {
      "text/plain": [
       "<matplotlib.axes._subplots.AxesSubplot at 0x1b9b4fa9d48>"
      ]
     },
     "execution_count": 112,
     "metadata": {},
     "output_type": "execute_result"
    },
    {
     "data": {
      "image/png": "[encoded data removed]",
      "text/plain": [
       "<Figure size 432x288 with 1 Axes>"
      ]
     },
     "metadata": {
      "needs_background": "light"
     },
     "output_type": "display_data"
    }
   ],
   "source": [
    "data['Sales'].plot()"
   ]
  },
  {
   "cell_type": "code",
   "execution_count": 113,
   "metadata": {},
   "outputs": [
    {
     "data": {
      "image/png": "[encoded data removed]",
      "text/plain": [
       "<Figure size 864x576 with 4 Axes>"
      ]
     },
     "metadata": {
      "needs_background": "light"
     },
     "output_type": "display_data"
    }
   ],
   "source": [
    "# ETS Decomposition:\n",
    "\n",
    "from statsmodels.tsa.seasonal import seasonal_decompose\n",
    "\n",
    "result = seasonal_decompose(data['Sales'])\n",
    "\n",
    "from pylab import rcParams\n",
    "rcParams['figure.figsize'] = 12,8\n",
    "result.plot();"
   ]
  },
  {
   "cell_type": "code",
   "execution_count": 114,
   "metadata": {},
   "outputs": [
    {
     "data": {
      "text/plain": [
       "<matplotlib.axes._subplots.AxesSubplot at 0x1b9b504cb08>"
      ]
     },
     "execution_count": 114,
     "metadata": {},
     "output_type": "execute_result"
    },
    {
     "data": {
      "image/png": "[encoded data removed]",
      "text/plain": [
       "<Figure size 1296x360 with 1 Axes>"
      ]
     },
     "metadata": {
      "needs_background": "light"
     },
     "output_type": "display_data"
    }
   ],
   "source": [
    "result.seasonal.plot(figsize=(18,5))"
   ]
  },
  {
   "cell_type": "code",
   "execution_count": 115,
   "metadata": {},
   "outputs": [],
   "source": [
    "from pmdarima import auto_arima\n",
    "\n",
    "train = data[:31]\n",
    "test = data[31:]"
   ]
  },
  {
   "cell_type": "code",
   "execution_count": 116,
   "metadata": {},
   "outputs": [
    {
     "data": {
      "text/plain": [
       "Index(['Hosp_Price', 'Quarter_Flag', 'Winter_Flag', '#Representative',\n",
       "       '#Tier2Dealers', '#ListedHospitals', '#Working_Days',\n",
       "       'Rep_Incentive_Pct', 'Disc_Month', 'Free_Goods_Month', 'Sales'],\n",
       "      dtype='object')"
      ]
     },
     "execution_count": 116,
     "metadata": {},
     "output_type": "execute_result"
    }
   ],
   "source": [
    "data.columns"
   ]
  },
  {
   "cell_type": "code",
   "execution_count": 117,
   "metadata": {
    "scrolled": true
   },
   "outputs": [
    {
     "name": "stdout",
     "output_type": "stream",
     "text": [
      "Performing stepwise search to minimize aic\n"
     ]
    },
    {
     "name": "stderr",
     "output_type": "stream",
     "text": [
      "C:\\Users\\shaleens\\AppData\\Roaming\\Python\\Python37\\site-packages\\statsmodels\\tsa\\statespace\\sarimax.py:868: UserWarning: Too few observations to estimate starting parameters for seasonal ARMA. All parameters except for variances will be set to zeros.\n",
      "  ' zeros.' % warning_description)\n"
     ]
    },
    {
     "name": "stdout",
     "output_type": "stream",
     "text": [
      "Fit ARIMA: (2, 0, 2)x(1, 0, 1, 12) (constant=True); AIC=572.064, BIC=600.567, Time=0.966 seconds\n",
      "Fit ARIMA: (0, 0, 0)x(0, 0, 0, 12) (constant=True); AIC=563.306, BIC=582.308, Time=0.055 seconds\n",
      "Fit ARIMA: (1, 0, 0)x(1, 0, 0, 12) (constant=True); AIC=567.026, BIC=589.195, Time=0.189 seconds\n"
     ]
    },
    {
     "name": "stderr",
     "output_type": "stream",
     "text": [
      "C:\\Users\\shaleens\\AppData\\Roaming\\Python\\Python37\\site-packages\\statsmodels\\tsa\\statespace\\sarimax.py:868: UserWarning: Too few observations to estimate starting parameters for seasonal ARMA. All parameters except for variances will be set to zeros.\n",
      "  ' zeros.' % warning_description)\n"
     ]
    },
    {
     "name": "stdout",
     "output_type": "stream",
     "text": [
      "Fit ARIMA: (0, 0, 1)x(0, 0, 1, 12) (constant=True); AIC=567.024, BIC=589.193, Time=0.220 seconds\n",
      "Fit ARIMA: (0, 0, 0)x(0, 0, 0, 12) (constant=False); AIC=655.315, BIC=672.734, Time=0.049 seconds\n",
      "Fit ARIMA: (0, 0, 0)x(1, 0, 0, 12) (constant=True); AIC=565.259, BIC=585.844, Time=0.209 seconds\n",
      "Fit ARIMA: (0, 0, 0)x(0, 0, 1, 12) (constant=True); AIC=565.247, BIC=585.833, Time=0.175 seconds\n"
     ]
    },
    {
     "name": "stderr",
     "output_type": "stream",
     "text": [
      "C:\\Users\\shaleens\\AppData\\Roaming\\Python\\Python37\\site-packages\\statsmodels\\tsa\\statespace\\sarimax.py:868: UserWarning: Too few observations to estimate starting parameters for seasonal ARMA. All parameters except for variances will be set to zeros.\n",
      "  ' zeros.' % warning_description)\n",
      "C:\\Users\\shaleens\\AppData\\Roaming\\Python\\Python37\\site-packages\\statsmodels\\tsa\\statespace\\sarimax.py:868: UserWarning: Too few observations to estimate starting parameters for seasonal ARMA. All parameters except for variances will be set to zeros.\n",
      "  ' zeros.' % warning_description)\n"
     ]
    },
    {
     "name": "stdout",
     "output_type": "stream",
     "text": [
      "Fit ARIMA: (0, 0, 0)x(1, 0, 1, 12) (constant=True); AIC=567.242, BIC=589.411, Time=0.456 seconds\n",
      "Fit ARIMA: (1, 0, 0)x(0, 0, 0, 12) (constant=True); AIC=564.958, BIC=585.543, Time=0.081 seconds\n",
      "Fit ARIMA: (0, 0, 1)x(0, 0, 0, 12) (constant=True); AIC=565.023, BIC=585.609, Time=0.164 seconds\n",
      "Fit ARIMA: (1, 0, 1)x(0, 0, 0, 12) (constant=True); AIC=567.250, BIC=589.419, Time=0.258 seconds\n",
      "Total fit time: 2.840 seconds\n"
     ]
    }
   ],
   "source": [
    "stepwise_fit = auto_arima(data['Sales'], exogenous=data[['Hosp_Price', 'Quarter_Flag', 'Winter_Flag', '#Representative',\n",
    "       '#Tier2Dealers', '#ListedHospitals', '#Working_Days',\n",
    "       'Rep_Incentive_Pct', 'Disc_Month', 'Free_Goods_Month']], seasonal=True, m=12, trace=True)"
   ]
  },
  {
   "cell_type": "code",
   "execution_count": 118,
   "metadata": {},
   "outputs": [],
   "source": [
    "from statsmodels.tsa.statespace.sarimax import SARIMAX"
   ]
  },
  {
   "cell_type": "code",
   "execution_count": 119,
   "metadata": {
    "scrolled": true
   },
   "outputs": [
    {
     "data": {
      "text/plain": [
       "Index(['Hosp_Price', 'Quarter_Flag', 'Winter_Flag', '#Representative',\n",
       "       '#Tier2Dealers', '#ListedHospitals', '#Working_Days',\n",
       "       'Rep_Incentive_Pct', 'Disc_Month', 'Free_Goods_Month', 'Sales'],\n",
       "      dtype='object')"
      ]
     },
     "execution_count": 119,
     "metadata": {},
     "output_type": "execute_result"
    }
   ],
   "source": [
    "data.columns"
   ]
  },
  {
   "cell_type": "code",
   "execution_count": 175,
   "metadata": {},
   "outputs": [],
   "source": [
    "model = SARIMAX(train['Sales'], exog=train[['Hosp_Price', 'Quarter_Flag', 'Winter_Flag', '#Representative',\n",
    "       '#Tier2Dealers', '#ListedHospitals', '#Working_Days',\n",
    "       'Rep_Incentive_Pct', 'Disc_Month', 'Free_Goods_Month']],\n",
    "                order=(1,0,0), enforce_invertibility=False)"
   ]
  },
  {
   "cell_type": "code",
   "execution_count": 176,
   "metadata": {},
   "outputs": [],
   "source": [
    "res = model.fit()"
   ]
  },
  {
   "cell_type": "code",
   "execution_count": 177,
   "metadata": {},
   "outputs": [
    {
     "data": {
      "text/html": [
       "<table class=\"simpletable\">\n",
       "<caption>SARIMAX Results</caption>\n",
       "<tr>\n",
       "  <th>Dep. Variable:</th>         <td>Sales</td>      <th>  No. Observations:  </th>    <td>31</td>   \n",
       "</tr>\n",
       "<tr>\n",
       "  <th>Model:</th>           <td>SARIMAX(1, 0, 0)</td> <th>  Log Likelihood     </th> <td>-233.871</td>\n",
       "</tr>\n",
       "<tr>\n",
       "  <th>Date:</th>            <td>Fri, 28 Feb 2020</td> <th>  AIC                </th>  <td>491.741</td>\n",
       "</tr>\n",
       "<tr>\n",
       "  <th>Time:</th>                <td>12:21:59</td>     <th>  BIC                </th>  <td>508.949</td>\n",
       "</tr>\n",
       "<tr>\n",
       "  <th>Sample:</th>             <td>01-01-2016</td>    <th>  HQIC               </th>  <td>497.351</td>\n",
       "</tr>\n",
       "<tr>\n",
       "  <th></th>                   <td>- 07-01-2018</td>   <th>                     </th>     <td> </td>   \n",
       "</tr>\n",
       "<tr>\n",
       "  <th>Covariance Type:</th>        <td>opg</td>       <th>                     </th>     <td> </td>   \n",
       "</tr>\n",
       "</table>\n",
       "<table class=\"simpletable\">\n",
       "<tr>\n",
       "          <td></td>             <th>coef</th>     <th>std err</th>      <th>z</th>      <th>P>|z|</th>  <th>[0.025</th>    <th>0.975]</th>  \n",
       "</tr>\n",
       "<tr>\n",
       "  <th>Hosp_Price</th>        <td>   -0.0120</td> <td>    0.026</td> <td>   -0.466</td> <td> 0.641</td> <td>   -0.063</td> <td>    0.039</td>\n",
       "</tr>\n",
       "<tr>\n",
       "  <th>Quarter_Flag</th>      <td>  254.4013</td> <td>  331.139</td> <td>    0.768</td> <td> 0.442</td> <td> -394.620</td> <td>  903.423</td>\n",
       "</tr>\n",
       "<tr>\n",
       "  <th>Winter_Flag</th>       <td>  758.9460</td> <td>  311.466</td> <td>    2.437</td> <td> 0.015</td> <td>  148.483</td> <td> 1369.409</td>\n",
       "</tr>\n",
       "<tr>\n",
       "  <th>#Representative</th>   <td>  103.6199</td> <td>  113.709</td> <td>    0.911</td> <td> 0.362</td> <td> -119.246</td> <td>  326.485</td>\n",
       "</tr>\n",
       "<tr>\n",
       "  <th>#Tier2Dealers</th>     <td>   41.4014</td> <td>   11.298</td> <td>    3.664</td> <td> 0.000</td> <td>   19.257</td> <td>   63.545</td>\n",
       "</tr>\n",
       "<tr>\n",
       "  <th>#ListedHospitals</th>  <td>  -11.0697</td> <td>   27.115</td> <td>   -0.408</td> <td> 0.683</td> <td>  -64.214</td> <td>   42.075</td>\n",
       "</tr>\n",
       "<tr>\n",
       "  <th>#Working_Days</th>     <td>  294.7257</td> <td>  167.600</td> <td>    1.759</td> <td> 0.079</td> <td>  -33.764</td> <td>  623.215</td>\n",
       "</tr>\n",
       "<tr>\n",
       "  <th>Rep_Incentive_Pct</th> <td>   10.8606</td> <td>   24.928</td> <td>    0.436</td> <td> 0.663</td> <td>  -37.997</td> <td>   59.718</td>\n",
       "</tr>\n",
       "<tr>\n",
       "  <th>Disc_Month</th>        <td> 1269.9928</td> <td>  367.647</td> <td>    3.454</td> <td> 0.001</td> <td>  549.418</td> <td> 1990.567</td>\n",
       "</tr>\n",
       "<tr>\n",
       "  <th>Free_Goods_Month</th>  <td>  573.5921</td> <td>  399.779</td> <td>    1.435</td> <td> 0.151</td> <td> -209.961</td> <td> 1357.145</td>\n",
       "</tr>\n",
       "<tr>\n",
       "  <th>ar.L1</th>             <td>   -0.1237</td> <td>    0.277</td> <td>   -0.446</td> <td> 0.655</td> <td>   -0.667</td> <td>    0.420</td>\n",
       "</tr>\n",
       "<tr>\n",
       "  <th>sigma2</th>            <td> 2.044e+05</td> <td>    0.796</td> <td> 2.57e+05</td> <td> 0.000</td> <td> 2.04e+05</td> <td> 2.04e+05</td>\n",
       "</tr>\n",
       "</table>\n",
       "<table class=\"simpletable\">\n",
       "<tr>\n",
       "  <th>Ljung-Box (Q):</th>          <td>26.97</td> <th>  Jarque-Bera (JB):  </th> <td>1.68</td> \n",
       "</tr>\n",
       "<tr>\n",
       "  <th>Prob(Q):</th>                <td>0.62</td>  <th>  Prob(JB):          </th> <td>0.43</td> \n",
       "</tr>\n",
       "<tr>\n",
       "  <th>Heteroskedasticity (H):</th> <td>5.02</td>  <th>  Skew:              </th> <td>-0.55</td>\n",
       "</tr>\n",
       "<tr>\n",
       "  <th>Prob(H) (two-sided):</th>    <td>0.02</td>  <th>  Kurtosis:          </th> <td>3.28</td> \n",
       "</tr>\n",
       "</table><br/><br/>Warnings:<br/>[1] Covariance matrix calculated using the outer product of gradients (complex-step).<br/>[2] Covariance matrix is singular or near-singular, with condition number 8.35e+21. Standard errors may be unstable."
      ],
      "text/plain": [
       "<class 'statsmodels.iolib.summary.Summary'>\n",
       "\"\"\"\n",
       "                               SARIMAX Results                                \n",
       "==============================================================================\n",
       "Dep. Variable:                  Sales   No. Observations:                   31\n",
       "Model:               SARIMAX(1, 0, 0)   Log Likelihood                -233.871\n",
       "Date:                Fri, 28 Feb 2020   AIC                            491.741\n",
       "Time:                        12:21:59   BIC                            508.949\n",
       "Sample:                    01-01-2016   HQIC                           497.351\n",
       "                         - 07-01-2018                                         \n",
       "Covariance Type:                  opg                                         \n",
       "=====================================================================================\n",
       "                        coef    std err          z      P>|z|      [0.025      0.975]\n",
       "-------------------------------------------------------------------------------------\n",
       "Hosp_Price           -0.0120      0.026     -0.466      0.641      -0.063       0.039\n",
       "Quarter_Flag        254.4013    331.139      0.768      0.442    -394.620     903.423\n",
       "Winter_Flag         758.9460    311.466      2.437      0.015     148.483    1369.409\n",
       "#Representative     103.6199    113.709      0.911      0.362    -119.246     326.485\n",
       "#Tier2Dealers        41.4014     11.298      3.664      0.000      19.257      63.545\n",
       "#ListedHospitals    -11.0697     27.115     -0.408      0.683     -64.214      42.075\n",
       "#Working_Days       294.7257    167.600      1.759      0.079     -33.764     623.215\n",
       "Rep_Incentive_Pct    10.8606     24.928      0.436      0.663     -37.997      59.718\n",
       "Disc_Month         1269.9928    367.647      3.454      0.001     549.418    1990.567\n",
       "Free_Goods_Month    573.5921    399.779      1.435      0.151    -209.961    1357.145\n",
       "ar.L1                -0.1237      0.277     -0.446      0.655      -0.667       0.420\n",
       "sigma2             2.044e+05      0.796   2.57e+05      0.000    2.04e+05    2.04e+05\n",
       "===================================================================================\n",
       "Ljung-Box (Q):                       26.97   Jarque-Bera (JB):                 1.68\n",
       "Prob(Q):                              0.62   Prob(JB):                         0.43\n",
       "Heteroskedasticity (H):               5.02   Skew:                            -0.55\n",
       "Prob(H) (two-sided):                  0.02   Kurtosis:                         3.28\n",
       "===================================================================================\n",
       "\n",
       "Warnings:\n",
       "[1] Covariance matrix calculated using the outer product of gradients (complex-step).\n",
       "[2] Covariance matrix is singular or near-singular, with condition number 8.35e+21. Standard errors may be unstable.\n",
       "\"\"\""
      ]
     },
     "execution_count": 177,
     "metadata": {},
     "output_type": "execute_result"
    }
   ],
   "source": [
    "res.summary()"
   ]
  },
  {
   "cell_type": "code",
   "execution_count": 178,
   "metadata": {},
   "outputs": [],
   "source": [
    "prediction = res.predict(start=len(train), end=len(train)+len(test)-1, exog=test[['Hosp_Price', 'Quarter_Flag', 'Winter_Flag', '#Representative',\n",
    "       '#Tier2Dealers', '#ListedHospitals', '#Working_Days',\n",
    "       'Rep_Incentive_Pct', 'Disc_Month', 'Free_Goods_Month']], typ='levels').rename('SARIMAX predicting 6 months sales')"
   ]
  },
  {
   "cell_type": "code",
   "execution_count": 179,
   "metadata": {},
   "outputs": [
    {
     "data": {
      "text/plain": [
       "<matplotlib.axes._subplots.AxesSubplot at 0x1b9b4901648>"
      ]
     },
     "execution_count": 179,
     "metadata": {},
     "output_type": "execute_result"
    },
    {
     "data": {
      "image/png": "[encoded data removed]",
      "text/plain": [
       "<Figure size 864x576 with 1 Axes>"
      ]
     },
     "metadata": {
      "needs_background": "light"
     },
     "output_type": "display_data"
    }
   ],
   "source": [
    "train['Sales'].rename('Train data sales').plot(legend=True)\n",
    "test['Sales'].rename('Test data 6 months sales').plot(figsize=(12,8), legend = True)\n",
    "prediction.plot(legend=True)"
   ]
  },
  {
   "cell_type": "code",
   "execution_count": 180,
   "metadata": {},
   "outputs": [
    {
     "data": {
      "text/plain": [
       "2018-08-01    13775.591987\n",
       "2018-09-01    13738.561576\n",
       "2018-10-01    16868.430421\n",
       "2018-11-01    15930.553112\n",
       "2018-12-01    15717.178767\n",
       "Freq: MS, Name: SARIMAX predicting 6 months sales, dtype: float64"
      ]
     },
     "execution_count": 180,
     "metadata": {},
     "output_type": "execute_result"
    }
   ],
   "source": [
    "prediction"
   ]
  },
  {
   "cell_type": "code",
   "execution_count": 181,
   "metadata": {},
   "outputs": [
    {
     "data": {
      "text/html": [
       "<div>\n",
       "<style scoped>\n",
       "    .dataframe tbody tr th:only-of-type {\n",
       "        vertical-align: middle;\n",
       "    }\n",
       "\n",
       "    .dataframe tbody tr th {\n",
       "        vertical-align: top;\n",
       "    }\n",
       "\n",
       "    .dataframe thead th {\n",
       "        text-align: right;\n",
       "    }\n",
       "</style>\n",
       "<table border=\"1\" class=\"dataframe\">\n",
       "  <thead>\n",
       "    <tr style=\"text-align: right;\">\n",
       "      <th></th>\n",
       "      <th>Hosp_Price</th>\n",
       "      <th>Quarter_Flag</th>\n",
       "      <th>Winter_Flag</th>\n",
       "      <th>#Representative</th>\n",
       "      <th>#Tier2Dealers</th>\n",
       "      <th>#ListedHospitals</th>\n",
       "      <th>#Working_Days</th>\n",
       "      <th>Rep_Incentive_Pct</th>\n",
       "      <th>Disc_Month</th>\n",
       "      <th>Free_Goods_Month</th>\n",
       "      <th>Sales</th>\n",
       "    </tr>\n",
       "    <tr>\n",
       "      <th>Date</th>\n",
       "      <th></th>\n",
       "      <th></th>\n",
       "      <th></th>\n",
       "      <th></th>\n",
       "      <th></th>\n",
       "      <th></th>\n",
       "      <th></th>\n",
       "      <th></th>\n",
       "      <th></th>\n",
       "      <th></th>\n",
       "      <th></th>\n",
       "    </tr>\n",
       "  </thead>\n",
       "  <tbody>\n",
       "    <tr>\n",
       "      <td>2018-08-01</td>\n",
       "      <td>96436</td>\n",
       "      <td>0</td>\n",
       "      <td>0</td>\n",
       "      <td>71</td>\n",
       "      <td>101</td>\n",
       "      <td>322</td>\n",
       "      <td>23</td>\n",
       "      <td>10</td>\n",
       "      <td>0</td>\n",
       "      <td>0</td>\n",
       "      <td>13898</td>\n",
       "    </tr>\n",
       "    <tr>\n",
       "      <td>2018-09-01</td>\n",
       "      <td>95472</td>\n",
       "      <td>1</td>\n",
       "      <td>0</td>\n",
       "      <td>76</td>\n",
       "      <td>98</td>\n",
       "      <td>324</td>\n",
       "      <td>21</td>\n",
       "      <td>10</td>\n",
       "      <td>0</td>\n",
       "      <td>0</td>\n",
       "      <td>13717</td>\n",
       "    </tr>\n",
       "    <tr>\n",
       "      <td>2018-10-01</td>\n",
       "      <td>94518</td>\n",
       "      <td>0</td>\n",
       "      <td>0</td>\n",
       "      <td>81</td>\n",
       "      <td>103</td>\n",
       "      <td>342</td>\n",
       "      <td>24</td>\n",
       "      <td>20</td>\n",
       "      <td>1</td>\n",
       "      <td>1</td>\n",
       "      <td>16315</td>\n",
       "    </tr>\n",
       "    <tr>\n",
       "      <td>2018-11-01</td>\n",
       "      <td>93573</td>\n",
       "      <td>0</td>\n",
       "      <td>0</td>\n",
       "      <td>82</td>\n",
       "      <td>115</td>\n",
       "      <td>367</td>\n",
       "      <td>22</td>\n",
       "      <td>10</td>\n",
       "      <td>1</td>\n",
       "      <td>0</td>\n",
       "      <td>15803</td>\n",
       "    </tr>\n",
       "    <tr>\n",
       "      <td>2018-12-01</td>\n",
       "      <td>92638</td>\n",
       "      <td>1</td>\n",
       "      <td>1</td>\n",
       "      <td>83</td>\n",
       "      <td>126</td>\n",
       "      <td>388</td>\n",
       "      <td>21</td>\n",
       "      <td>10</td>\n",
       "      <td>0</td>\n",
       "      <td>0</td>\n",
       "      <td>15714</td>\n",
       "    </tr>\n",
       "  </tbody>\n",
       "</table>\n",
       "</div>"
      ],
      "text/plain": [
       "            Hosp_Price  Quarter_Flag  Winter_Flag  #Representative  \\\n",
       "Date                                                                 \n",
       "2018-08-01       96436             0            0               71   \n",
       "2018-09-01       95472             1            0               76   \n",
       "2018-10-01       94518             0            0               81   \n",
       "2018-11-01       93573             0            0               82   \n",
       "2018-12-01       92638             1            1               83   \n",
       "\n",
       "            #Tier2Dealers  #ListedHospitals  #Working_Days  Rep_Incentive_Pct  \\\n",
       "Date                                                                            \n",
       "2018-08-01            101               322             23                 10   \n",
       "2018-09-01             98               324             21                 10   \n",
       "2018-10-01            103               342             24                 20   \n",
       "2018-11-01            115               367             22                 10   \n",
       "2018-12-01            126               388             21                 10   \n",
       "\n",
       "            Disc_Month  Free_Goods_Month  Sales  \n",
       "Date                                             \n",
       "2018-08-01           0                 0  13898  \n",
       "2018-09-01           0                 0  13717  \n",
       "2018-10-01           1                 1  16315  \n",
       "2018-11-01           1                 0  15803  \n",
       "2018-12-01           0                 0  15714  "
      ]
     },
     "execution_count": 181,
     "metadata": {},
     "output_type": "execute_result"
    }
   ],
   "source": [
    "test"
   ]
  },
  {
   "cell_type": "code",
   "execution_count": 182,
   "metadata": {},
   "outputs": [
    {
     "data": {
      "text/plain": [
       "(260.00529058527644, 165.62637800202793)"
      ]
     },
     "execution_count": 182,
     "metadata": {},
     "output_type": "execute_result"
    }
   ],
   "source": [
    "from sklearn.metrics import mean_squared_error\n",
    "from sklearn.metrics import mean_absolute_error\n",
    "\n",
    "rmse = np.sqrt(mean_squared_error(test['Sales'],prediction))\n",
    "mae = mean_absolute_error(test['Sales'],prediction)\n",
    "rmse, mae"
   ]
  },
  {
   "cell_type": "code",
   "execution_count": 183,
   "metadata": {},
   "outputs": [
    {
     "data": {
      "text/plain": [
       "0.010113392583512106"
      ]
     },
     "execution_count": 183,
     "metadata": {},
     "output_type": "execute_result"
    }
   ],
   "source": [
    "165/16315"
   ]
  },
  {
   "cell_type": "code",
   "execution_count": 184,
   "metadata": {},
   "outputs": [
    {
     "data": {
      "text/plain": [
       "(15089.4, 15206.063172633027)"
      ]
     },
     "execution_count": 184,
     "metadata": {},
     "output_type": "execute_result"
    }
   ],
   "source": [
    "#Compare means:\n",
    "\n",
    "test['Sales'].mean(), prediction.mean()"
   ]
  },
  {
   "cell_type": "markdown",
   "metadata": {},
   "source": [
    "##### We can still see that the model is performing decently but without \"cannibalization\" factor.!!"
   ]
  },
  {
   "cell_type": "markdown",
   "metadata": {},
   "source": [
    "--------------------"
   ]
  },
  {
   "cell_type": "markdown",
   "metadata": {},
   "source": [
    "### Debugging to reduce error:"
   ]
  },
  {
   "cell_type": "code",
   "execution_count": 185,
   "metadata": {},
   "outputs": [
    {
     "data": {
      "image/png": "[encoded data removed]",
      "text/plain": [
       "<Figure size 864x576 with 1 Axes>"
      ]
     },
     "metadata": {
      "needs_background": "light"
     },
     "output_type": "display_data"
    }
   ],
   "source": [
    "### Plotting Quarter flag and winter flag against Sales\n",
    "\n",
    "ax = data['Sales'].plot(figsize=(20,10))\n",
    "test['Sales'].rename('Actual sales of test data').plot(figsize=(12,8), legend = True)\n",
    "prediction.plot(legend=True)\n",
    "\n",
    "for day in data[data['Winter_Flag']==1].index:\n",
    "    ax.axvline(x=day, color='red', alpha=0.8)\n",
    "    \n",
    "for day in data[data['Quarter_Flag']==1].index:\n",
    "    ax.axvline(x=day, color='yellow', alpha=0.8);"
   ]
  },
  {
   "cell_type": "code",
   "execution_count": null,
   "metadata": {},
   "outputs": [],
   "source": []
  }
 ],
 "metadata": {
  "kernelspec": {
   "display_name": "Python 3",
   "language": "python",
   "name": "python3"
  },
  "language_info": {
   "codemirror_mode": {
    "name": "ipython",
    "version": 3
   },
   "file_extension": ".py",
   "mimetype": "text/x-python",
   "name": "python",
   "nbconvert_exporter": "python",
   "pygments_lexer": "ipython3",
   "version": "3.7.4"
  }
 },
 "nbformat": 4,
 "nbformat_minor": 2
}
